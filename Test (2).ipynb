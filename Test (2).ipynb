{
 "cells": [
  {
   "cell_type": "markdown",
   "id": "b2598581",
   "metadata": {
    "id": "b2598581"
   },
   "source": [
    "# Problem statement"
   ]
  },
  {
   "cell_type": "code",
   "execution_count": 1,
   "id": "xiCa453FyHmj",
   "metadata": {
    "colab": {
     "base_uri": "https://localhost:8080/"
    },
    "executionInfo": {
     "elapsed": 28519,
     "status": "ok",
     "timestamp": 1674522784744,
     "user": {
      "displayName": "GAURAV SINHA",
      "userId": "13858423673435577443"
     },
     "user_tz": -330
    },
    "id": "xiCa453FyHmj",
    "outputId": "ff154f1a-5470-448d-89dc-2582246945a2"
   },
   "outputs": [
    {
     "name": "stdout",
     "output_type": "stream",
     "text": [
      "Mounted at /content/drive\n"
     ]
    }
   ],
   "source": [
    "from google.colab import drive\n",
    "drive.mount('/content/drive')"
   ]
  },
  {
   "cell_type": "markdown",
   "id": "c1aa4be1",
   "metadata": {
    "id": "c1aa4be1"
   },
   "source": [
    "We need to build a model that is able to classify customer complaints based on the products/services. By doing so, you can segregate these tickets into their relevant categories and, therefore, help in the quick resolution of the issue."
   ]
  },
  {
   "cell_type": "markdown",
   "id": "4301218f",
   "metadata": {
    "id": "4301218f"
   },
   "source": [
    "You will be doing topic modelling on the company data. Since this data is not labelled, you need to apply NMF to analyse patterns and classify tickets into the following five clusters based on their products/services\n",
    "\n",
    "Credit card / Prepaid card\n",
    "\n",
    "Bank account services\n",
    "\n",
    "Theft/Dispute reporting\n",
    "\n",
    "Mortgages/loans\n",
    "\n",
    "Others\n",
    "\n",
    "With the help of topic modelling, you will be able to map each ticket onto its respective department/category. You can then use this data to train any supervised model such as logistic regression, decision tree or random forest. Using this trained model, you can classify any new customer complaint support ticket into its relevant department."
   ]
  },
  {
   "cell_type": "code",
   "execution_count": 2,
   "id": "397d7c4f",
   "metadata": {
    "colab": {
     "base_uri": "https://localhost:8080/"
    },
    "executionInfo": {
     "elapsed": 8063,
     "status": "ok",
     "timestamp": 1674522831863,
     "user": {
      "displayName": "GAURAV SINHA",
      "userId": "13858423673435577443"
     },
     "user_tz": -330
    },
    "id": "397d7c4f",
    "outputId": "ada421c9-bda7-421b-8507-fd3da6a43364"
   },
   "outputs": [
    {
     "name": "stderr",
     "output_type": "stream",
     "text": [
      "/usr/local/lib/python3.8/dist-packages/torch/cuda/__init__.py:497: UserWarning: Can't initialize NVML\n",
      "  warnings.warn(\"Can't initialize NVML\")\n"
     ]
    }
   ],
   "source": [
    "import json \n",
    "import numpy as np\n",
    "import pandas as pd\n",
    "import re, nltk, spacy, string"
   ]
  },
  {
   "cell_type": "code",
   "execution_count": 3,
   "id": "16ae1bc5",
   "metadata": {
    "executionInfo": {
     "elapsed": 7,
     "status": "ok",
     "timestamp": 1674513567933,
     "user": {
      "displayName": "GAURAV SINHA",
      "userId": "13858423673435577443"
     },
     "user_tz": -330
    },
    "id": "16ae1bc5"
   },
   "outputs": [],
   "source": [
    "# !pip install en_core_web_sm"
   ]
  },
  {
   "cell_type": "code",
   "execution_count": 3,
   "id": "8c2a6ba9",
   "metadata": {
    "executionInfo": {
     "elapsed": 9,
     "status": "ok",
     "timestamp": 1674522831864,
     "user": {
      "displayName": "GAURAV SINHA",
      "userId": "13858423673435577443"
     },
     "user_tz": -330
    },
    "id": "8c2a6ba9"
   },
   "outputs": [],
   "source": [
    "import en_core_web_sm"
   ]
  },
  {
   "cell_type": "code",
   "execution_count": 4,
   "id": "e0f17d3a",
   "metadata": {
    "executionInfo": {
     "elapsed": 975,
     "status": "ok",
     "timestamp": 1674522832831,
     "user": {
      "displayName": "GAURAV SINHA",
      "userId": "13858423673435577443"
     },
     "user_tz": -330
    },
    "id": "e0f17d3a"
   },
   "outputs": [],
   "source": [
    "nlp = en_core_web_sm.load()"
   ]
  },
  {
   "cell_type": "code",
   "execution_count": 5,
   "id": "28cefda9",
   "metadata": {
    "executionInfo": {
     "elapsed": 7,
     "status": "ok",
     "timestamp": 1674522832832,
     "user": {
      "displayName": "GAURAV SINHA",
      "userId": "13858423673435577443"
     },
     "user_tz": -330
    },
    "id": "28cefda9"
   },
   "outputs": [],
   "source": [
    "#Importing Regular Expressions for String manipulation\n",
    "import re\n",
    "\n",
    "# hide warnings\n",
    "import warnings\n",
    "warnings.filterwarnings('ignore')\n",
    "\n",
    "# set options\n",
    "pd.set_option('display.max_columns', None)\n",
    "pd.set_option('display.max_rows', None)\n",
    "\n",
    "from sklearn.feature_extraction.text import CountVectorizer, TfidfVectorizer\n",
    "from pprint import pprint"
   ]
  },
  {
   "cell_type": "code",
   "execution_count": 6,
   "id": "69e3e306",
   "metadata": {
    "colab": {
     "base_uri": "https://localhost:8080/"
    },
    "executionInfo": {
     "elapsed": 4174,
     "status": "ok",
     "timestamp": 1674522837000,
     "user": {
      "displayName": "GAURAV SINHA",
      "userId": "13858423673435577443"
     },
     "user_tz": -330
    },
    "id": "69e3e306",
    "outputId": "50ab00df-d60d-4a72-a758-74f80677227d"
   },
   "outputs": [
    {
     "name": "stdout",
     "output_type": "stream",
     "text": [
      "Looking in indexes: https://pypi.org/simple, https://us-python.pkg.dev/colab-wheels/public/simple/\n",
      "Requirement already satisfied: plotly in /usr/local/lib/python3.8/dist-packages (5.5.0)\n",
      "Requirement already satisfied: tenacity>=6.2.0 in /usr/local/lib/python3.8/dist-packages (from plotly) (8.1.0)\n",
      "Requirement already satisfied: six in /usr/local/lib/python3.8/dist-packages (from plotly) (1.15.0)\n"
     ]
    }
   ],
   "source": [
    "!pip install plotly"
   ]
  },
  {
   "cell_type": "code",
   "execution_count": 7,
   "id": "bd83156f",
   "metadata": {
    "executionInfo": {
     "elapsed": 16,
     "status": "ok",
     "timestamp": 1674522837001,
     "user": {
      "displayName": "GAURAV SINHA",
      "userId": "13858423673435577443"
     },
     "user_tz": -330
    },
    "id": "bd83156f"
   },
   "outputs": [],
   "source": [
    "import numpy as np\n",
    "import pandas as pd\n",
    "import matplotlib.pyplot as plt\n",
    "import seaborn as sns\n",
    "import os\n",
    "from plotly.offline import plot\n",
    "import plotly.graph_objects as go\n",
    "import plotly.express as px\n",
    "%matplotlib inline"
   ]
  },
  {
   "cell_type": "code",
   "execution_count": 8,
   "id": "15b9f320",
   "metadata": {
    "executionInfo": {
     "elapsed": 16,
     "status": "ok",
     "timestamp": 1674522837002,
     "user": {
      "displayName": "GAURAV SINHA",
      "userId": "13858423673435577443"
     },
     "user_tz": -330
    },
    "id": "15b9f320"
   },
   "outputs": [],
   "source": [
    "root_path = '/content/drive/MyDrive/A-NLP Ticket/Client_data.json'"
   ]
  },
  {
   "cell_type": "code",
   "execution_count": 12,
   "id": "c68723ac",
   "metadata": {
    "executionInfo": {
     "elapsed": 3405,
     "status": "ok",
     "timestamp": 1674522853795,
     "user": {
      "displayName": "GAURAV SINHA",
      "userId": "13858423673435577443"
     },
     "user_tz": -330
    },
    "id": "c68723ac"
   },
   "outputs": [],
   "source": [
    "# Opening JSON file \n",
    "f = open(root_path) \n",
    "\n",
    "# returns JSON object as a dictionary \n",
    "data = json.load(f)"
   ]
  },
  {
   "cell_type": "markdown",
   "id": "63a64856",
   "metadata": {
    "id": "63a64856"
   },
   "source": [
    "# Data preparation"
   ]
  },
  {
   "cell_type": "markdown",
   "id": "264729be",
   "metadata": {
    "id": "264729be"
   },
   "source": [
    "Data cleaning operations like filtering text, removing missing values & renaming column headers."
   ]
  },
  {
   "cell_type": "code",
   "execution_count": 13,
   "id": "51755806",
   "metadata": {
    "executionInfo": {
     "elapsed": 4139,
     "status": "ok",
     "timestamp": 1674522860696,
     "user": {
      "displayName": "GAURAV SINHA",
      "userId": "13858423673435577443"
     },
     "user_tz": -330
    },
    "id": "51755806"
   },
   "outputs": [],
   "source": [
    "df=pd.json_normalize(data)"
   ]
  },
  {
   "cell_type": "code",
   "execution_count": null,
   "id": "dfbfc404",
   "metadata": {
    "id": "dfbfc404"
   },
   "outputs": [],
   "source": [
    "# df.to_excel('client_data.xlsx')"
   ]
  },
  {
   "cell_type": "code",
   "execution_count": 14,
   "id": "bc8eb1f4",
   "metadata": {
    "colab": {
     "base_uri": "https://localhost:8080/",
     "height": 426
    },
    "executionInfo": {
     "elapsed": 1468,
     "status": "ok",
     "timestamp": 1674522865820,
     "user": {
      "displayName": "GAURAV SINHA",
      "userId": "13858423673435577443"
     },
     "user_tz": -330
    },
    "id": "bc8eb1f4",
    "outputId": "846274b0-d7cc-4e5b-845a-9f78dfe184e1"
   },
   "outputs": [
    {
     "data": {
      "text/html": [
       "\n",
       "  <div id=\"df-212722bd-d93e-47de-bf19-53b3d2c49c5b\">\n",
       "    <div class=\"colab-df-container\">\n",
       "      <div>\n",
       "<style scoped>\n",
       "    .dataframe tbody tr th:only-of-type {\n",
       "        vertical-align: middle;\n",
       "    }\n",
       "\n",
       "    .dataframe tbody tr th {\n",
       "        vertical-align: top;\n",
       "    }\n",
       "\n",
       "    .dataframe thead th {\n",
       "        text-align: right;\n",
       "    }\n",
       "</style>\n",
       "<table border=\"1\" class=\"dataframe\">\n",
       "  <thead>\n",
       "    <tr style=\"text-align: right;\">\n",
       "      <th></th>\n",
       "      <th>_index</th>\n",
       "      <th>_type</th>\n",
       "      <th>_id</th>\n",
       "      <th>_score</th>\n",
       "      <th>_source.tags</th>\n",
       "      <th>_source.zip_code</th>\n",
       "      <th>_source.complaint_id</th>\n",
       "      <th>_source.issue</th>\n",
       "      <th>_source.date_received</th>\n",
       "      <th>_source.state</th>\n",
       "      <th>_source.consumer_disputed</th>\n",
       "      <th>_source.product</th>\n",
       "      <th>_source.company_response</th>\n",
       "      <th>_source.company</th>\n",
       "      <th>_source.submitted_via</th>\n",
       "      <th>_source.date_sent_to_company</th>\n",
       "      <th>_source.company_public_response</th>\n",
       "      <th>_source.sub_product</th>\n",
       "      <th>_source.timely</th>\n",
       "      <th>_source.complaint_what_happened</th>\n",
       "      <th>_source.sub_issue</th>\n",
       "      <th>_source.consumer_consent_provided</th>\n",
       "    </tr>\n",
       "  </thead>\n",
       "  <tbody>\n",
       "    <tr>\n",
       "      <th>0</th>\n",
       "      <td>complaint-public-v2</td>\n",
       "      <td>complaint</td>\n",
       "      <td>3211475</td>\n",
       "      <td>0.0</td>\n",
       "      <td>None</td>\n",
       "      <td>90301</td>\n",
       "      <td>3211475</td>\n",
       "      <td>Attempts to collect debt not owed</td>\n",
       "      <td>2019-04-13T12:00:00-05:00</td>\n",
       "      <td>CA</td>\n",
       "      <td>N/A</td>\n",
       "      <td>Debt collection</td>\n",
       "      <td>Closed with explanation</td>\n",
       "      <td>JPMORGAN CHASE &amp; CO.</td>\n",
       "      <td>Web</td>\n",
       "      <td>2019-04-13T12:00:00-05:00</td>\n",
       "      <td>None</td>\n",
       "      <td>Credit card debt</td>\n",
       "      <td>Yes</td>\n",
       "      <td></td>\n",
       "      <td>Debt is not yours</td>\n",
       "      <td>Consent not provided</td>\n",
       "    </tr>\n",
       "    <tr>\n",
       "      <th>1</th>\n",
       "      <td>complaint-public-v2</td>\n",
       "      <td>complaint</td>\n",
       "      <td>3229299</td>\n",
       "      <td>0.0</td>\n",
       "      <td>Servicemember</td>\n",
       "      <td>319XX</td>\n",
       "      <td>3229299</td>\n",
       "      <td>Written notification about debt</td>\n",
       "      <td>2019-05-01T12:00:00-05:00</td>\n",
       "      <td>GA</td>\n",
       "      <td>N/A</td>\n",
       "      <td>Debt collection</td>\n",
       "      <td>Closed with explanation</td>\n",
       "      <td>JPMORGAN CHASE &amp; CO.</td>\n",
       "      <td>Web</td>\n",
       "      <td>2019-05-01T12:00:00-05:00</td>\n",
       "      <td>None</td>\n",
       "      <td>Credit card debt</td>\n",
       "      <td>Yes</td>\n",
       "      <td>Good morning my name is XXXX XXXX and I apprec...</td>\n",
       "      <td>Didn't receive enough information to verify debt</td>\n",
       "      <td>Consent provided</td>\n",
       "    </tr>\n",
       "    <tr>\n",
       "      <th>2</th>\n",
       "      <td>complaint-public-v2</td>\n",
       "      <td>complaint</td>\n",
       "      <td>3199379</td>\n",
       "      <td>0.0</td>\n",
       "      <td>None</td>\n",
       "      <td>77069</td>\n",
       "      <td>3199379</td>\n",
       "      <td>Other features, terms, or problems</td>\n",
       "      <td>2019-04-02T12:00:00-05:00</td>\n",
       "      <td>TX</td>\n",
       "      <td>N/A</td>\n",
       "      <td>Credit card or prepaid card</td>\n",
       "      <td>Closed with explanation</td>\n",
       "      <td>JPMORGAN CHASE &amp; CO.</td>\n",
       "      <td>Web</td>\n",
       "      <td>2019-04-02T12:00:00-05:00</td>\n",
       "      <td>None</td>\n",
       "      <td>General-purpose credit card or charge card</td>\n",
       "      <td>Yes</td>\n",
       "      <td>I upgraded my XXXX XXXX card in XX/XX/2018 and...</td>\n",
       "      <td>Problem with rewards from credit card</td>\n",
       "      <td>Consent provided</td>\n",
       "    </tr>\n",
       "    <tr>\n",
       "      <th>3</th>\n",
       "      <td>complaint-public-v2</td>\n",
       "      <td>complaint</td>\n",
       "      <td>2673060</td>\n",
       "      <td>0.0</td>\n",
       "      <td>None</td>\n",
       "      <td>48066</td>\n",
       "      <td>2673060</td>\n",
       "      <td>Trouble during payment process</td>\n",
       "      <td>2017-09-13T12:00:00-05:00</td>\n",
       "      <td>MI</td>\n",
       "      <td>N/A</td>\n",
       "      <td>Mortgage</td>\n",
       "      <td>Closed with explanation</td>\n",
       "      <td>JPMORGAN CHASE &amp; CO.</td>\n",
       "      <td>Web</td>\n",
       "      <td>2017-09-14T12:00:00-05:00</td>\n",
       "      <td>None</td>\n",
       "      <td>Conventional home mortgage</td>\n",
       "      <td>Yes</td>\n",
       "      <td></td>\n",
       "      <td>None</td>\n",
       "      <td>Consent not provided</td>\n",
       "    </tr>\n",
       "    <tr>\n",
       "      <th>4</th>\n",
       "      <td>complaint-public-v2</td>\n",
       "      <td>complaint</td>\n",
       "      <td>3203545</td>\n",
       "      <td>0.0</td>\n",
       "      <td>None</td>\n",
       "      <td>10473</td>\n",
       "      <td>3203545</td>\n",
       "      <td>Fees or interest</td>\n",
       "      <td>2019-04-05T12:00:00-05:00</td>\n",
       "      <td>NY</td>\n",
       "      <td>N/A</td>\n",
       "      <td>Credit card or prepaid card</td>\n",
       "      <td>Closed with explanation</td>\n",
       "      <td>JPMORGAN CHASE &amp; CO.</td>\n",
       "      <td>Referral</td>\n",
       "      <td>2019-04-05T12:00:00-05:00</td>\n",
       "      <td>None</td>\n",
       "      <td>General-purpose credit card or charge card</td>\n",
       "      <td>Yes</td>\n",
       "      <td></td>\n",
       "      <td>Charged too much interest</td>\n",
       "      <td>N/A</td>\n",
       "    </tr>\n",
       "  </tbody>\n",
       "</table>\n",
       "</div>\n",
       "      <button class=\"colab-df-convert\" onclick=\"convertToInteractive('df-212722bd-d93e-47de-bf19-53b3d2c49c5b')\"\n",
       "              title=\"Convert this dataframe to an interactive table.\"\n",
       "              style=\"display:none;\">\n",
       "        \n",
       "  <svg xmlns=\"http://www.w3.org/2000/svg\" height=\"24px\"viewBox=\"0 0 24 24\"\n",
       "       width=\"24px\">\n",
       "    <path d=\"M0 0h24v24H0V0z\" fill=\"none\"/>\n",
       "    <path d=\"M18.56 5.44l.94 2.06.94-2.06 2.06-.94-2.06-.94-.94-2.06-.94 2.06-2.06.94zm-11 1L8.5 8.5l.94-2.06 2.06-.94-2.06-.94L8.5 2.5l-.94 2.06-2.06.94zm10 10l.94 2.06.94-2.06 2.06-.94-2.06-.94-.94-2.06-.94 2.06-2.06.94z\"/><path d=\"M17.41 7.96l-1.37-1.37c-.4-.4-.92-.59-1.43-.59-.52 0-1.04.2-1.43.59L10.3 9.45l-7.72 7.72c-.78.78-.78 2.05 0 2.83L4 21.41c.39.39.9.59 1.41.59.51 0 1.02-.2 1.41-.59l7.78-7.78 2.81-2.81c.8-.78.8-2.07 0-2.86zM5.41 20L4 18.59l7.72-7.72 1.47 1.35L5.41 20z\"/>\n",
       "  </svg>\n",
       "      </button>\n",
       "      \n",
       "  <style>\n",
       "    .colab-df-container {\n",
       "      display:flex;\n",
       "      flex-wrap:wrap;\n",
       "      gap: 12px;\n",
       "    }\n",
       "\n",
       "    .colab-df-convert {\n",
       "      background-color: #E8F0FE;\n",
       "      border: none;\n",
       "      border-radius: 50%;\n",
       "      cursor: pointer;\n",
       "      display: none;\n",
       "      fill: #1967D2;\n",
       "      height: 32px;\n",
       "      padding: 0 0 0 0;\n",
       "      width: 32px;\n",
       "    }\n",
       "\n",
       "    .colab-df-convert:hover {\n",
       "      background-color: #E2EBFA;\n",
       "      box-shadow: 0px 1px 2px rgba(60, 64, 67, 0.3), 0px 1px 3px 1px rgba(60, 64, 67, 0.15);\n",
       "      fill: #174EA6;\n",
       "    }\n",
       "\n",
       "    [theme=dark] .colab-df-convert {\n",
       "      background-color: #3B4455;\n",
       "      fill: #D2E3FC;\n",
       "    }\n",
       "\n",
       "    [theme=dark] .colab-df-convert:hover {\n",
       "      background-color: #434B5C;\n",
       "      box-shadow: 0px 1px 3px 1px rgba(0, 0, 0, 0.15);\n",
       "      filter: drop-shadow(0px 1px 2px rgba(0, 0, 0, 0.3));\n",
       "      fill: #FFFFFF;\n",
       "    }\n",
       "  </style>\n",
       "\n",
       "      <script>\n",
       "        const buttonEl =\n",
       "          document.querySelector('#df-212722bd-d93e-47de-bf19-53b3d2c49c5b button.colab-df-convert');\n",
       "        buttonEl.style.display =\n",
       "          google.colab.kernel.accessAllowed ? 'block' : 'none';\n",
       "\n",
       "        async function convertToInteractive(key) {\n",
       "          const element = document.querySelector('#df-212722bd-d93e-47de-bf19-53b3d2c49c5b');\n",
       "          const dataTable =\n",
       "            await google.colab.kernel.invokeFunction('convertToInteractive',\n",
       "                                                     [key], {});\n",
       "          if (!dataTable) return;\n",
       "\n",
       "          const docLinkHtml = 'Like what you see? Visit the ' +\n",
       "            '<a target=\"_blank\" href=https://colab.research.google.com/notebooks/data_table.ipynb>data table notebook</a>'\n",
       "            + ' to learn more about interactive tables.';\n",
       "          element.innerHTML = '';\n",
       "          dataTable['output_type'] = 'display_data';\n",
       "          await google.colab.output.renderOutput(dataTable, element);\n",
       "          const docLink = document.createElement('div');\n",
       "          docLink.innerHTML = docLinkHtml;\n",
       "          element.appendChild(docLink);\n",
       "        }\n",
       "      </script>\n",
       "    </div>\n",
       "  </div>\n",
       "  "
      ],
      "text/plain": [
       "                _index      _type      _id  _score   _source.tags  \\\n",
       "0  complaint-public-v2  complaint  3211475     0.0           None   \n",
       "1  complaint-public-v2  complaint  3229299     0.0  Servicemember   \n",
       "2  complaint-public-v2  complaint  3199379     0.0           None   \n",
       "3  complaint-public-v2  complaint  2673060     0.0           None   \n",
       "4  complaint-public-v2  complaint  3203545     0.0           None   \n",
       "\n",
       "  _source.zip_code _source.complaint_id                       _source.issue  \\\n",
       "0            90301              3211475   Attempts to collect debt not owed   \n",
       "1            319XX              3229299     Written notification about debt   \n",
       "2            77069              3199379  Other features, terms, or problems   \n",
       "3            48066              2673060      Trouble during payment process   \n",
       "4            10473              3203545                    Fees or interest   \n",
       "\n",
       "       _source.date_received _source.state _source.consumer_disputed  \\\n",
       "0  2019-04-13T12:00:00-05:00            CA                       N/A   \n",
       "1  2019-05-01T12:00:00-05:00            GA                       N/A   \n",
       "2  2019-04-02T12:00:00-05:00            TX                       N/A   \n",
       "3  2017-09-13T12:00:00-05:00            MI                       N/A   \n",
       "4  2019-04-05T12:00:00-05:00            NY                       N/A   \n",
       "\n",
       "               _source.product _source.company_response       _source.company  \\\n",
       "0              Debt collection  Closed with explanation  JPMORGAN CHASE & CO.   \n",
       "1              Debt collection  Closed with explanation  JPMORGAN CHASE & CO.   \n",
       "2  Credit card or prepaid card  Closed with explanation  JPMORGAN CHASE & CO.   \n",
       "3                     Mortgage  Closed with explanation  JPMORGAN CHASE & CO.   \n",
       "4  Credit card or prepaid card  Closed with explanation  JPMORGAN CHASE & CO.   \n",
       "\n",
       "  _source.submitted_via _source.date_sent_to_company  \\\n",
       "0                   Web    2019-04-13T12:00:00-05:00   \n",
       "1                   Web    2019-05-01T12:00:00-05:00   \n",
       "2                   Web    2019-04-02T12:00:00-05:00   \n",
       "3                   Web    2017-09-14T12:00:00-05:00   \n",
       "4              Referral    2019-04-05T12:00:00-05:00   \n",
       "\n",
       "  _source.company_public_response                         _source.sub_product  \\\n",
       "0                            None                            Credit card debt   \n",
       "1                            None                            Credit card debt   \n",
       "2                            None  General-purpose credit card or charge card   \n",
       "3                            None                  Conventional home mortgage   \n",
       "4                            None  General-purpose credit card or charge card   \n",
       "\n",
       "  _source.timely                    _source.complaint_what_happened  \\\n",
       "0            Yes                                                      \n",
       "1            Yes  Good morning my name is XXXX XXXX and I apprec...   \n",
       "2            Yes  I upgraded my XXXX XXXX card in XX/XX/2018 and...   \n",
       "3            Yes                                                      \n",
       "4            Yes                                                      \n",
       "\n",
       "                                  _source.sub_issue  \\\n",
       "0                                 Debt is not yours   \n",
       "1  Didn't receive enough information to verify debt   \n",
       "2             Problem with rewards from credit card   \n",
       "3                                              None   \n",
       "4                         Charged too much interest   \n",
       "\n",
       "  _source.consumer_consent_provided  \n",
       "0              Consent not provided  \n",
       "1                  Consent provided  \n",
       "2                  Consent provided  \n",
       "3              Consent not provided  \n",
       "4                               N/A  "
      ]
     },
     "execution_count": 14,
     "metadata": {},
     "output_type": "execute_result"
    }
   ],
   "source": [
    "# Inspect the dataframe to understand the given data.\n",
    "df.head(5)"
   ]
  },
  {
   "cell_type": "code",
   "execution_count": 15,
   "id": "6b0cf717",
   "metadata": {
    "colab": {
     "base_uri": "https://localhost:8080/"
    },
    "executionInfo": {
     "elapsed": 7,
     "status": "ok",
     "timestamp": 1674522868872,
     "user": {
      "displayName": "GAURAV SINHA",
      "userId": "13858423673435577443"
     },
     "user_tz": -330
    },
    "id": "6b0cf717",
    "outputId": "b657f3cd-70aa-460d-fff9-2fe1bb549e82"
   },
   "outputs": [
    {
     "data": {
      "text/plain": [
       "Index(['_index', '_type', '_id', '_score', '_source.tags', '_source.zip_code',\n",
       "       '_source.complaint_id', '_source.issue', '_source.date_received',\n",
       "       '_source.state', '_source.consumer_disputed', '_source.product',\n",
       "       '_source.company_response', '_source.company', '_source.submitted_via',\n",
       "       '_source.date_sent_to_company', '_source.company_public_response',\n",
       "       '_source.sub_product', '_source.timely',\n",
       "       '_source.complaint_what_happened', '_source.sub_issue',\n",
       "       '_source.consumer_consent_provided'],\n",
       "      dtype='object')"
      ]
     },
     "execution_count": 15,
     "metadata": {},
     "output_type": "execute_result"
    }
   ],
   "source": [
    "#print the column names\n",
    "df.columns"
   ]
  },
  {
   "cell_type": "code",
   "execution_count": 16,
   "id": "50439f83",
   "metadata": {
    "colab": {
     "base_uri": "https://localhost:8080/",
     "height": 206
    },
    "executionInfo": {
     "elapsed": 8,
     "status": "ok",
     "timestamp": 1674522871775,
     "user": {
      "displayName": "GAURAV SINHA",
      "userId": "13858423673435577443"
     },
     "user_tz": -330
    },
    "id": "50439f83",
    "outputId": "bddc8620-6032-4553-e3c5-3f86432b68ef"
   },
   "outputs": [
    {
     "data": {
      "text/html": [
       "\n",
       "  <div id=\"df-de2934da-e52f-4097-af9f-863c3914d2ca\">\n",
       "    <div class=\"colab-df-container\">\n",
       "      <div>\n",
       "<style scoped>\n",
       "    .dataframe tbody tr th:only-of-type {\n",
       "        vertical-align: middle;\n",
       "    }\n",
       "\n",
       "    .dataframe tbody tr th {\n",
       "        vertical-align: top;\n",
       "    }\n",
       "\n",
       "    .dataframe thead th {\n",
       "        text-align: right;\n",
       "    }\n",
       "</style>\n",
       "<table border=\"1\" class=\"dataframe\">\n",
       "  <thead>\n",
       "    <tr style=\"text-align: right;\">\n",
       "      <th></th>\n",
       "      <th>_source.complaint_what_happened</th>\n",
       "      <th>_source.product</th>\n",
       "      <th>_source.sub_product</th>\n",
       "    </tr>\n",
       "  </thead>\n",
       "  <tbody>\n",
       "    <tr>\n",
       "      <th>0</th>\n",
       "      <td></td>\n",
       "      <td>Debt collection</td>\n",
       "      <td>Credit card debt</td>\n",
       "    </tr>\n",
       "    <tr>\n",
       "      <th>1</th>\n",
       "      <td>Good morning my name is XXXX XXXX and I apprec...</td>\n",
       "      <td>Debt collection</td>\n",
       "      <td>Credit card debt</td>\n",
       "    </tr>\n",
       "    <tr>\n",
       "      <th>2</th>\n",
       "      <td>I upgraded my XXXX XXXX card in XX/XX/2018 and...</td>\n",
       "      <td>Credit card or prepaid card</td>\n",
       "      <td>General-purpose credit card or charge card</td>\n",
       "    </tr>\n",
       "    <tr>\n",
       "      <th>3</th>\n",
       "      <td></td>\n",
       "      <td>Mortgage</td>\n",
       "      <td>Conventional home mortgage</td>\n",
       "    </tr>\n",
       "    <tr>\n",
       "      <th>4</th>\n",
       "      <td></td>\n",
       "      <td>Credit card or prepaid card</td>\n",
       "      <td>General-purpose credit card or charge card</td>\n",
       "    </tr>\n",
       "  </tbody>\n",
       "</table>\n",
       "</div>\n",
       "      <button class=\"colab-df-convert\" onclick=\"convertToInteractive('df-de2934da-e52f-4097-af9f-863c3914d2ca')\"\n",
       "              title=\"Convert this dataframe to an interactive table.\"\n",
       "              style=\"display:none;\">\n",
       "        \n",
       "  <svg xmlns=\"http://www.w3.org/2000/svg\" height=\"24px\"viewBox=\"0 0 24 24\"\n",
       "       width=\"24px\">\n",
       "    <path d=\"M0 0h24v24H0V0z\" fill=\"none\"/>\n",
       "    <path d=\"M18.56 5.44l.94 2.06.94-2.06 2.06-.94-2.06-.94-.94-2.06-.94 2.06-2.06.94zm-11 1L8.5 8.5l.94-2.06 2.06-.94-2.06-.94L8.5 2.5l-.94 2.06-2.06.94zm10 10l.94 2.06.94-2.06 2.06-.94-2.06-.94-.94-2.06-.94 2.06-2.06.94z\"/><path d=\"M17.41 7.96l-1.37-1.37c-.4-.4-.92-.59-1.43-.59-.52 0-1.04.2-1.43.59L10.3 9.45l-7.72 7.72c-.78.78-.78 2.05 0 2.83L4 21.41c.39.39.9.59 1.41.59.51 0 1.02-.2 1.41-.59l7.78-7.78 2.81-2.81c.8-.78.8-2.07 0-2.86zM5.41 20L4 18.59l7.72-7.72 1.47 1.35L5.41 20z\"/>\n",
       "  </svg>\n",
       "      </button>\n",
       "      \n",
       "  <style>\n",
       "    .colab-df-container {\n",
       "      display:flex;\n",
       "      flex-wrap:wrap;\n",
       "      gap: 12px;\n",
       "    }\n",
       "\n",
       "    .colab-df-convert {\n",
       "      background-color: #E8F0FE;\n",
       "      border: none;\n",
       "      border-radius: 50%;\n",
       "      cursor: pointer;\n",
       "      display: none;\n",
       "      fill: #1967D2;\n",
       "      height: 32px;\n",
       "      padding: 0 0 0 0;\n",
       "      width: 32px;\n",
       "    }\n",
       "\n",
       "    .colab-df-convert:hover {\n",
       "      background-color: #E2EBFA;\n",
       "      box-shadow: 0px 1px 2px rgba(60, 64, 67, 0.3), 0px 1px 3px 1px rgba(60, 64, 67, 0.15);\n",
       "      fill: #174EA6;\n",
       "    }\n",
       "\n",
       "    [theme=dark] .colab-df-convert {\n",
       "      background-color: #3B4455;\n",
       "      fill: #D2E3FC;\n",
       "    }\n",
       "\n",
       "    [theme=dark] .colab-df-convert:hover {\n",
       "      background-color: #434B5C;\n",
       "      box-shadow: 0px 1px 3px 1px rgba(0, 0, 0, 0.15);\n",
       "      filter: drop-shadow(0px 1px 2px rgba(0, 0, 0, 0.3));\n",
       "      fill: #FFFFFF;\n",
       "    }\n",
       "  </style>\n",
       "\n",
       "      <script>\n",
       "        const buttonEl =\n",
       "          document.querySelector('#df-de2934da-e52f-4097-af9f-863c3914d2ca button.colab-df-convert');\n",
       "        buttonEl.style.display =\n",
       "          google.colab.kernel.accessAllowed ? 'block' : 'none';\n",
       "\n",
       "        async function convertToInteractive(key) {\n",
       "          const element = document.querySelector('#df-de2934da-e52f-4097-af9f-863c3914d2ca');\n",
       "          const dataTable =\n",
       "            await google.colab.kernel.invokeFunction('convertToInteractive',\n",
       "                                                     [key], {});\n",
       "          if (!dataTable) return;\n",
       "\n",
       "          const docLinkHtml = 'Like what you see? Visit the ' +\n",
       "            '<a target=\"_blank\" href=https://colab.research.google.com/notebooks/data_table.ipynb>data table notebook</a>'\n",
       "            + ' to learn more about interactive tables.';\n",
       "          element.innerHTML = '';\n",
       "          dataTable['output_type'] = 'display_data';\n",
       "          await google.colab.output.renderOutput(dataTable, element);\n",
       "          const docLink = document.createElement('div');\n",
       "          docLink.innerHTML = docLinkHtml;\n",
       "          element.appendChild(docLink);\n",
       "        }\n",
       "      </script>\n",
       "    </div>\n",
       "  </div>\n",
       "  "
      ],
      "text/plain": [
       "                     _source.complaint_what_happened  \\\n",
       "0                                                      \n",
       "1  Good morning my name is XXXX XXXX and I apprec...   \n",
       "2  I upgraded my XXXX XXXX card in XX/XX/2018 and...   \n",
       "3                                                      \n",
       "4                                                      \n",
       "\n",
       "               _source.product                         _source.sub_product  \n",
       "0              Debt collection                            Credit card debt  \n",
       "1              Debt collection                            Credit card debt  \n",
       "2  Credit card or prepaid card  General-purpose credit card or charge card  \n",
       "3                     Mortgage                  Conventional home mortgage  \n",
       "4  Credit card or prepaid card  General-purpose credit card or charge card  "
      ]
     },
     "execution_count": 16,
     "metadata": {},
     "output_type": "execute_result"
    }
   ],
   "source": [
    "#Assign new column names\n",
    "df = df[['_source.complaint_what_happened','_source.product','_source.sub_product',]]\n",
    "df.head()"
   ]
  },
  {
   "cell_type": "code",
   "execution_count": 17,
   "id": "cc5c7b3a",
   "metadata": {
    "colab": {
     "base_uri": "https://localhost:8080/",
     "height": 206
    },
    "executionInfo": {
     "elapsed": 5,
     "status": "ok",
     "timestamp": 1674522875637,
     "user": {
      "displayName": "GAURAV SINHA",
      "userId": "13858423673435577443"
     },
     "user_tz": -330
    },
    "id": "cc5c7b3a",
    "outputId": "dbdd43ed-cc54-40b8-cd7d-841c962e9714"
   },
   "outputs": [
    {
     "data": {
      "text/html": [
       "\n",
       "  <div id=\"df-f821efe3-66a4-413d-8d8b-2e72a126cff5\">\n",
       "    <div class=\"colab-df-container\">\n",
       "      <div>\n",
       "<style scoped>\n",
       "    .dataframe tbody tr th:only-of-type {\n",
       "        vertical-align: middle;\n",
       "    }\n",
       "\n",
       "    .dataframe tbody tr th {\n",
       "        vertical-align: top;\n",
       "    }\n",
       "\n",
       "    .dataframe thead th {\n",
       "        text-align: right;\n",
       "    }\n",
       "</style>\n",
       "<table border=\"1\" class=\"dataframe\">\n",
       "  <thead>\n",
       "    <tr style=\"text-align: right;\">\n",
       "      <th></th>\n",
       "      <th>complaint_text</th>\n",
       "      <th>category</th>\n",
       "      <th>sub_category</th>\n",
       "    </tr>\n",
       "  </thead>\n",
       "  <tbody>\n",
       "    <tr>\n",
       "      <th>0</th>\n",
       "      <td></td>\n",
       "      <td>Debt collection</td>\n",
       "      <td>Credit card debt</td>\n",
       "    </tr>\n",
       "    <tr>\n",
       "      <th>1</th>\n",
       "      <td>Good morning my name is XXXX XXXX and I apprec...</td>\n",
       "      <td>Debt collection</td>\n",
       "      <td>Credit card debt</td>\n",
       "    </tr>\n",
       "    <tr>\n",
       "      <th>2</th>\n",
       "      <td>I upgraded my XXXX XXXX card in XX/XX/2018 and...</td>\n",
       "      <td>Credit card or prepaid card</td>\n",
       "      <td>General-purpose credit card or charge card</td>\n",
       "    </tr>\n",
       "    <tr>\n",
       "      <th>3</th>\n",
       "      <td></td>\n",
       "      <td>Mortgage</td>\n",
       "      <td>Conventional home mortgage</td>\n",
       "    </tr>\n",
       "    <tr>\n",
       "      <th>4</th>\n",
       "      <td></td>\n",
       "      <td>Credit card or prepaid card</td>\n",
       "      <td>General-purpose credit card or charge card</td>\n",
       "    </tr>\n",
       "  </tbody>\n",
       "</table>\n",
       "</div>\n",
       "      <button class=\"colab-df-convert\" onclick=\"convertToInteractive('df-f821efe3-66a4-413d-8d8b-2e72a126cff5')\"\n",
       "              title=\"Convert this dataframe to an interactive table.\"\n",
       "              style=\"display:none;\">\n",
       "        \n",
       "  <svg xmlns=\"http://www.w3.org/2000/svg\" height=\"24px\"viewBox=\"0 0 24 24\"\n",
       "       width=\"24px\">\n",
       "    <path d=\"M0 0h24v24H0V0z\" fill=\"none\"/>\n",
       "    <path d=\"M18.56 5.44l.94 2.06.94-2.06 2.06-.94-2.06-.94-.94-2.06-.94 2.06-2.06.94zm-11 1L8.5 8.5l.94-2.06 2.06-.94-2.06-.94L8.5 2.5l-.94 2.06-2.06.94zm10 10l.94 2.06.94-2.06 2.06-.94-2.06-.94-.94-2.06-.94 2.06-2.06.94z\"/><path d=\"M17.41 7.96l-1.37-1.37c-.4-.4-.92-.59-1.43-.59-.52 0-1.04.2-1.43.59L10.3 9.45l-7.72 7.72c-.78.78-.78 2.05 0 2.83L4 21.41c.39.39.9.59 1.41.59.51 0 1.02-.2 1.41-.59l7.78-7.78 2.81-2.81c.8-.78.8-2.07 0-2.86zM5.41 20L4 18.59l7.72-7.72 1.47 1.35L5.41 20z\"/>\n",
       "  </svg>\n",
       "      </button>\n",
       "      \n",
       "  <style>\n",
       "    .colab-df-container {\n",
       "      display:flex;\n",
       "      flex-wrap:wrap;\n",
       "      gap: 12px;\n",
       "    }\n",
       "\n",
       "    .colab-df-convert {\n",
       "      background-color: #E8F0FE;\n",
       "      border: none;\n",
       "      border-radius: 50%;\n",
       "      cursor: pointer;\n",
       "      display: none;\n",
       "      fill: #1967D2;\n",
       "      height: 32px;\n",
       "      padding: 0 0 0 0;\n",
       "      width: 32px;\n",
       "    }\n",
       "\n",
       "    .colab-df-convert:hover {\n",
       "      background-color: #E2EBFA;\n",
       "      box-shadow: 0px 1px 2px rgba(60, 64, 67, 0.3), 0px 1px 3px 1px rgba(60, 64, 67, 0.15);\n",
       "      fill: #174EA6;\n",
       "    }\n",
       "\n",
       "    [theme=dark] .colab-df-convert {\n",
       "      background-color: #3B4455;\n",
       "      fill: #D2E3FC;\n",
       "    }\n",
       "\n",
       "    [theme=dark] .colab-df-convert:hover {\n",
       "      background-color: #434B5C;\n",
       "      box-shadow: 0px 1px 3px 1px rgba(0, 0, 0, 0.15);\n",
       "      filter: drop-shadow(0px 1px 2px rgba(0, 0, 0, 0.3));\n",
       "      fill: #FFFFFF;\n",
       "    }\n",
       "  </style>\n",
       "\n",
       "      <script>\n",
       "        const buttonEl =\n",
       "          document.querySelector('#df-f821efe3-66a4-413d-8d8b-2e72a126cff5 button.colab-df-convert');\n",
       "        buttonEl.style.display =\n",
       "          google.colab.kernel.accessAllowed ? 'block' : 'none';\n",
       "\n",
       "        async function convertToInteractive(key) {\n",
       "          const element = document.querySelector('#df-f821efe3-66a4-413d-8d8b-2e72a126cff5');\n",
       "          const dataTable =\n",
       "            await google.colab.kernel.invokeFunction('convertToInteractive',\n",
       "                                                     [key], {});\n",
       "          if (!dataTable) return;\n",
       "\n",
       "          const docLinkHtml = 'Like what you see? Visit the ' +\n",
       "            '<a target=\"_blank\" href=https://colab.research.google.com/notebooks/data_table.ipynb>data table notebook</a>'\n",
       "            + ' to learn more about interactive tables.';\n",
       "          element.innerHTML = '';\n",
       "          dataTable['output_type'] = 'display_data';\n",
       "          await google.colab.output.renderOutput(dataTable, element);\n",
       "          const docLink = document.createElement('div');\n",
       "          docLink.innerHTML = docLinkHtml;\n",
       "          element.appendChild(docLink);\n",
       "        }\n",
       "      </script>\n",
       "    </div>\n",
       "  </div>\n",
       "  "
      ],
      "text/plain": [
       "                                      complaint_text  \\\n",
       "0                                                      \n",
       "1  Good morning my name is XXXX XXXX and I apprec...   \n",
       "2  I upgraded my XXXX XXXX card in XX/XX/2018 and...   \n",
       "3                                                      \n",
       "4                                                      \n",
       "\n",
       "                      category                                sub_category  \n",
       "0              Debt collection                            Credit card debt  \n",
       "1              Debt collection                            Credit card debt  \n",
       "2  Credit card or prepaid card  General-purpose credit card or charge card  \n",
       "3                     Mortgage                  Conventional home mortgage  \n",
       "4  Credit card or prepaid card  General-purpose credit card or charge card  "
      ]
     },
     "execution_count": 17,
     "metadata": {},
     "output_type": "execute_result"
    }
   ],
   "source": [
    "# lets rename the column names to be more read friendly\n",
    "# we have retained product and sub_product only for verification purpose ,\n",
    "# these columns will not be used in the Topic modelling\n",
    "df = df.rename(columns={'_source.complaint_what_happened': 'complaint_text', '_source.product': 'category','_source.sub_product': 'sub_category'})\n",
    "df.head()"
   ]
  },
  {
   "cell_type": "code",
   "execution_count": 18,
   "id": "9256242d",
   "metadata": {
    "colab": {
     "base_uri": "https://localhost:8080/",
     "height": 206
    },
    "executionInfo": {
     "elapsed": 1133,
     "status": "ok",
     "timestamp": 1674522879457,
     "user": {
      "displayName": "GAURAV SINHA",
      "userId": "13858423673435577443"
     },
     "user_tz": -330
    },
    "id": "9256242d",
    "outputId": "525057af-e1ae-4a44-b9e5-fd2cef75b2f7"
   },
   "outputs": [
    {
     "data": {
      "text/html": [
       "\n",
       "  <div id=\"df-c2b770b4-9d37-4c44-aeed-1d16207fd60b\">\n",
       "    <div class=\"colab-df-container\">\n",
       "      <div>\n",
       "<style scoped>\n",
       "    .dataframe tbody tr th:only-of-type {\n",
       "        vertical-align: middle;\n",
       "    }\n",
       "\n",
       "    .dataframe tbody tr th {\n",
       "        vertical-align: top;\n",
       "    }\n",
       "\n",
       "    .dataframe thead th {\n",
       "        text-align: right;\n",
       "    }\n",
       "</style>\n",
       "<table border=\"1\" class=\"dataframe\">\n",
       "  <thead>\n",
       "    <tr style=\"text-align: right;\">\n",
       "      <th></th>\n",
       "      <th>complaint_text</th>\n",
       "      <th>category</th>\n",
       "    </tr>\n",
       "  </thead>\n",
       "  <tbody>\n",
       "    <tr>\n",
       "      <th>0</th>\n",
       "      <td></td>\n",
       "      <td>Debt collection+Credit card debt</td>\n",
       "    </tr>\n",
       "    <tr>\n",
       "      <th>1</th>\n",
       "      <td>Good morning my name is XXXX XXXX and I apprec...</td>\n",
       "      <td>Debt collection+Credit card debt</td>\n",
       "    </tr>\n",
       "    <tr>\n",
       "      <th>2</th>\n",
       "      <td>I upgraded my XXXX XXXX card in XX/XX/2018 and...</td>\n",
       "      <td>Credit card or prepaid card+General-purpose cr...</td>\n",
       "    </tr>\n",
       "    <tr>\n",
       "      <th>3</th>\n",
       "      <td></td>\n",
       "      <td>Mortgage+Conventional home mortgage</td>\n",
       "    </tr>\n",
       "    <tr>\n",
       "      <th>4</th>\n",
       "      <td></td>\n",
       "      <td>Credit card or prepaid card+General-purpose cr...</td>\n",
       "    </tr>\n",
       "  </tbody>\n",
       "</table>\n",
       "</div>\n",
       "      <button class=\"colab-df-convert\" onclick=\"convertToInteractive('df-c2b770b4-9d37-4c44-aeed-1d16207fd60b')\"\n",
       "              title=\"Convert this dataframe to an interactive table.\"\n",
       "              style=\"display:none;\">\n",
       "        \n",
       "  <svg xmlns=\"http://www.w3.org/2000/svg\" height=\"24px\"viewBox=\"0 0 24 24\"\n",
       "       width=\"24px\">\n",
       "    <path d=\"M0 0h24v24H0V0z\" fill=\"none\"/>\n",
       "    <path d=\"M18.56 5.44l.94 2.06.94-2.06 2.06-.94-2.06-.94-.94-2.06-.94 2.06-2.06.94zm-11 1L8.5 8.5l.94-2.06 2.06-.94-2.06-.94L8.5 2.5l-.94 2.06-2.06.94zm10 10l.94 2.06.94-2.06 2.06-.94-2.06-.94-.94-2.06-.94 2.06-2.06.94z\"/><path d=\"M17.41 7.96l-1.37-1.37c-.4-.4-.92-.59-1.43-.59-.52 0-1.04.2-1.43.59L10.3 9.45l-7.72 7.72c-.78.78-.78 2.05 0 2.83L4 21.41c.39.39.9.59 1.41.59.51 0 1.02-.2 1.41-.59l7.78-7.78 2.81-2.81c.8-.78.8-2.07 0-2.86zM5.41 20L4 18.59l7.72-7.72 1.47 1.35L5.41 20z\"/>\n",
       "  </svg>\n",
       "      </button>\n",
       "      \n",
       "  <style>\n",
       "    .colab-df-container {\n",
       "      display:flex;\n",
       "      flex-wrap:wrap;\n",
       "      gap: 12px;\n",
       "    }\n",
       "\n",
       "    .colab-df-convert {\n",
       "      background-color: #E8F0FE;\n",
       "      border: none;\n",
       "      border-radius: 50%;\n",
       "      cursor: pointer;\n",
       "      display: none;\n",
       "      fill: #1967D2;\n",
       "      height: 32px;\n",
       "      padding: 0 0 0 0;\n",
       "      width: 32px;\n",
       "    }\n",
       "\n",
       "    .colab-df-convert:hover {\n",
       "      background-color: #E2EBFA;\n",
       "      box-shadow: 0px 1px 2px rgba(60, 64, 67, 0.3), 0px 1px 3px 1px rgba(60, 64, 67, 0.15);\n",
       "      fill: #174EA6;\n",
       "    }\n",
       "\n",
       "    [theme=dark] .colab-df-convert {\n",
       "      background-color: #3B4455;\n",
       "      fill: #D2E3FC;\n",
       "    }\n",
       "\n",
       "    [theme=dark] .colab-df-convert:hover {\n",
       "      background-color: #434B5C;\n",
       "      box-shadow: 0px 1px 3px 1px rgba(0, 0, 0, 0.15);\n",
       "      filter: drop-shadow(0px 1px 2px rgba(0, 0, 0, 0.3));\n",
       "      fill: #FFFFFF;\n",
       "    }\n",
       "  </style>\n",
       "\n",
       "      <script>\n",
       "        const buttonEl =\n",
       "          document.querySelector('#df-c2b770b4-9d37-4c44-aeed-1d16207fd60b button.colab-df-convert');\n",
       "        buttonEl.style.display =\n",
       "          google.colab.kernel.accessAllowed ? 'block' : 'none';\n",
       "\n",
       "        async function convertToInteractive(key) {\n",
       "          const element = document.querySelector('#df-c2b770b4-9d37-4c44-aeed-1d16207fd60b');\n",
       "          const dataTable =\n",
       "            await google.colab.kernel.invokeFunction('convertToInteractive',\n",
       "                                                     [key], {});\n",
       "          if (!dataTable) return;\n",
       "\n",
       "          const docLinkHtml = 'Like what you see? Visit the ' +\n",
       "            '<a target=\"_blank\" href=https://colab.research.google.com/notebooks/data_table.ipynb>data table notebook</a>'\n",
       "            + ' to learn more about interactive tables.';\n",
       "          element.innerHTML = '';\n",
       "          dataTable['output_type'] = 'display_data';\n",
       "          await google.colab.output.renderOutput(dataTable, element);\n",
       "          const docLink = document.createElement('div');\n",
       "          docLink.innerHTML = docLinkHtml;\n",
       "          element.appendChild(docLink);\n",
       "        }\n",
       "      </script>\n",
       "    </div>\n",
       "  </div>\n",
       "  "
      ],
      "text/plain": [
       "                                      complaint_text  \\\n",
       "0                                                      \n",
       "1  Good morning my name is XXXX XXXX and I apprec...   \n",
       "2  I upgraded my XXXX XXXX card in XX/XX/2018 and...   \n",
       "3                                                      \n",
       "4                                                      \n",
       "\n",
       "                                            category  \n",
       "0                   Debt collection+Credit card debt  \n",
       "1                   Debt collection+Credit card debt  \n",
       "2  Credit card or prepaid card+General-purpose cr...  \n",
       "3                Mortgage+Conventional home mortgage  \n",
       "4  Credit card or prepaid card+General-purpose cr...  "
      ]
     },
     "execution_count": 18,
     "metadata": {},
     "output_type": "execute_result"
    }
   ],
   "source": [
    "# lets merge the category and sub-category this will help us in deciding the topics after NMF modelling\n",
    "df['category'] = df['category'] + '+' + df['sub_category']\n",
    "df = df.drop(['sub_category'],axis= 1)\n",
    "df.head()"
   ]
  },
  {
   "cell_type": "code",
   "execution_count": 19,
   "id": "04aadd36",
   "metadata": {
    "colab": {
     "base_uri": "https://localhost:8080/"
    },
    "executionInfo": {
     "elapsed": 14,
     "status": "ok",
     "timestamp": 1674522883826,
     "user": {
      "displayName": "GAURAV SINHA",
      "userId": "13858423673435577443"
     },
     "user_tz": -330
    },
    "id": "04aadd36",
    "outputId": "e1cb206b-6130-495d-f7df-1d46def24810"
   },
   "outputs": [
    {
     "data": {
      "text/plain": [
       "0"
      ]
     },
     "execution_count": 19,
     "metadata": {},
     "output_type": "execute_result"
    }
   ],
   "source": [
    "# lets check the nan complaints\n",
    "df.complaint_text.isnull().sum()"
   ]
  },
  {
   "cell_type": "code",
   "execution_count": 20,
   "id": "55c1e67d",
   "metadata": {
    "colab": {
     "base_uri": "https://localhost:8080/"
    },
    "executionInfo": {
     "elapsed": 13,
     "status": "ok",
     "timestamp": 1674522883827,
     "user": {
      "displayName": "GAURAV SINHA",
      "userId": "13858423673435577443"
     },
     "user_tz": -330
    },
    "id": "55c1e67d",
    "outputId": "43fa1a03-7caa-40e6-d056-b19b70350f5c"
   },
   "outputs": [
    {
     "data": {
      "text/plain": [
       "57241"
      ]
     },
     "execution_count": 20,
     "metadata": {},
     "output_type": "execute_result"
    }
   ],
   "source": [
    "# lets check the empty string complaints\n",
    "len(df[df['complaint_text']==''])"
   ]
  },
  {
   "cell_type": "code",
   "execution_count": 21,
   "id": "94ed50b8",
   "metadata": {
    "colab": {
     "base_uri": "https://localhost:8080/"
    },
    "executionInfo": {
     "elapsed": 4,
     "status": "ok",
     "timestamp": 1674522885911,
     "user": {
      "displayName": "GAURAV SINHA",
      "userId": "13858423673435577443"
     },
     "user_tz": -330
    },
    "id": "94ed50b8",
    "outputId": "4491c63b-6723-4327-d162-5e95f88091c6"
   },
   "outputs": [
    {
     "data": {
      "text/plain": [
       "57241"
      ]
     },
     "execution_count": 21,
     "metadata": {},
     "output_type": "execute_result"
    }
   ],
   "source": [
    "#Assign nan in place of blanks in the complaints column\n",
    "# lets replace empty complain with nan value\n",
    "df[df['complaint_text']==''] = np.nan\n",
    "df.complaint_text.isnull().sum()"
   ]
  },
  {
   "cell_type": "code",
   "execution_count": 22,
   "id": "5728b613",
   "metadata": {
    "colab": {
     "base_uri": "https://localhost:8080/"
    },
    "executionInfo": {
     "elapsed": 8,
     "status": "ok",
     "timestamp": 1674522888167,
     "user": {
      "displayName": "GAURAV SINHA",
      "userId": "13858423673435577443"
     },
     "user_tz": -330
    },
    "id": "5728b613",
    "outputId": "56a05a26-57d0-4f97-9ce4-00454a746a9f"
   },
   "outputs": [
    {
     "data": {
      "text/plain": [
       "Index(['complaint_text', 'category'], dtype='object')"
      ]
     },
     "execution_count": 22,
     "metadata": {},
     "output_type": "execute_result"
    }
   ],
   "source": [
    "df.columns"
   ]
  },
  {
   "cell_type": "code",
   "execution_count": 23,
   "id": "a9881765",
   "metadata": {
    "colab": {
     "base_uri": "https://localhost:8080/"
    },
    "executionInfo": {
     "elapsed": 4,
     "status": "ok",
     "timestamp": 1674522890075,
     "user": {
      "displayName": "GAURAV SINHA",
      "userId": "13858423673435577443"
     },
     "user_tz": -330
    },
    "id": "a9881765",
    "outputId": "e2fbd10f-d50d-4948-eae7-e8878b5bd7e9"
   },
   "outputs": [
    {
     "data": {
      "text/plain": [
       "0"
      ]
     },
     "execution_count": 23,
     "metadata": {},
     "output_type": "execute_result"
    }
   ],
   "source": [
    "#Remove all rows where complaints column is nan\n",
    "# Lets drop all the rows where complaint_text is null\n",
    "df = df[~df['complaint_text'].isnull()]\n",
    "df.complaint_text.isnull().sum()"
   ]
  },
  {
   "cell_type": "markdown",
   "id": "d7aec021",
   "metadata": {
    "id": "d7aec021"
   },
   "source": [
    "# Text Preprocessing"
   ]
  },
  {
   "cell_type": "markdown",
   "id": "05d10e2f",
   "metadata": {
    "id": "05d10e2f"
   },
   "source": [
    "Prepare the text for topic modeling\n",
    "Once you have removed all the blank complaints, you need to:\n",
    "\n",
    "Make the text lowercase\n",
    "Remove text in square brackets\n",
    "Remove punctuation\n",
    "Remove words containing numbers\n",
    "Once you have done these cleaning operations you need to perform the following:\n",
    "\n",
    "Lemmatize the texts\n",
    "Use POS tags to get relevant words from the texts."
   ]
  },
  {
   "cell_type": "code",
   "execution_count": 24,
   "id": "bd2d60cc",
   "metadata": {
    "executionInfo": {
     "elapsed": 3,
     "status": "ok",
     "timestamp": 1674522891957,
     "user": {
      "displayName": "GAURAV SINHA",
      "userId": "13858423673435577443"
     },
     "user_tz": -330
    },
    "id": "bd2d60cc"
   },
   "outputs": [],
   "source": [
    "# Write your function here to clean the text and remove all the unnecessary elements.\n",
    "# Preparing text for Topic modelling\n",
    "def clean_text(text):\n",
    "    text = text.lower()  # Make the text lowercase\n",
    "    text = re.sub('\\[.*\\]','', text).strip() # Remove text in square brackets\n",
    "    text = text.translate(str.maketrans('', '', string.punctuation)) # Remove punctuation\n",
    "    text = re.sub('\\S*\\d\\S*\\s*','', text).strip()  # Remove words containing numbers\n",
    "    return text.strip()"
   ]
  },
  {
   "cell_type": "code",
   "execution_count": 25,
   "id": "9c8f6ad2",
   "metadata": {
    "colab": {
     "base_uri": "https://localhost:8080/"
    },
    "executionInfo": {
     "elapsed": 2611,
     "status": "ok",
     "timestamp": 1674522896489,
     "user": {
      "displayName": "GAURAV SINHA",
      "userId": "13858423673435577443"
     },
     "user_tz": -330
    },
    "id": "9c8f6ad2",
    "outputId": "bbae81fd-a26b-454a-b43e-90882ab0cbc9"
   },
   "outputs": [
    {
     "data": {
      "text/plain": [
       "1     good morning my name is xxxx xxxx and i apprec...\n",
       "2     i upgraded my xxxx xxxx card in and was told b...\n",
       "10    chase card was reported on however fraudulent ...\n",
       "11    on while trying to book a xxxx  xxxx  ticket i...\n",
       "14    my grand son give me check for i deposit it in...\n",
       "Name: complaint_text, dtype: object"
      ]
     },
     "execution_count": 25,
     "metadata": {},
     "output_type": "execute_result"
    }
   ],
   "source": [
    "df.complaint_text = df.complaint_text.apply(lambda x: clean_text(x))\n",
    "df.complaint_text.head()"
   ]
  },
  {
   "cell_type": "code",
   "execution_count": 26,
   "id": "28e8b2f2",
   "metadata": {
    "executionInfo": {
     "elapsed": 6,
     "status": "ok",
     "timestamp": 1674522896489,
     "user": {
      "displayName": "GAURAV SINHA",
      "userId": "13858423673435577443"
     },
     "user_tz": -330
    },
    "id": "28e8b2f2"
   },
   "outputs": [],
   "source": [
    "#Write your function to Lemmatize the texts\n",
    "# lemmatization\n",
    "#Function to Lemmatize the texts\n",
    "stopwords = nlp.Defaults.stop_words\n",
    "def lemmatizer(text):\n",
    "    doc = nlp(text)\n",
    "    sent = [token.lemma_ for token in doc if not token.text in set(stopwords)]\n",
    "    return ' '.join(sent)"
   ]
  },
  {
   "cell_type": "code",
   "execution_count": 25,
   "id": "819eb16c",
   "metadata": {
    "colab": {
     "base_uri": "https://localhost:8080/",
     "height": 206
    },
    "executionInfo": {
     "elapsed": 757546,
     "status": "ok",
     "timestamp": 1674514589990,
     "user": {
      "displayName": "GAURAV SINHA",
      "userId": "13858423673435577443"
     },
     "user_tz": -330
    },
    "id": "819eb16c",
    "outputId": "48895b0d-38e9-45ff-e83a-2c6d4b578de3"
   },
   "outputs": [
    {
     "data": {
      "text/html": [
       "\n",
       "  <div id=\"df-d96ac9b2-1fc0-4c6e-b4f6-5c80089c9d0f\">\n",
       "    <div class=\"colab-df-container\">\n",
       "      <div>\n",
       "<style scoped>\n",
       "    .dataframe tbody tr th:only-of-type {\n",
       "        vertical-align: middle;\n",
       "    }\n",
       "\n",
       "    .dataframe tbody tr th {\n",
       "        vertical-align: top;\n",
       "    }\n",
       "\n",
       "    .dataframe thead th {\n",
       "        text-align: right;\n",
       "    }\n",
       "</style>\n",
       "<table border=\"1\" class=\"dataframe\">\n",
       "  <thead>\n",
       "    <tr style=\"text-align: right;\">\n",
       "      <th></th>\n",
       "      <th>complaint_text</th>\n",
       "      <th>category</th>\n",
       "      <th>lemma</th>\n",
       "    </tr>\n",
       "  </thead>\n",
       "  <tbody>\n",
       "    <tr>\n",
       "      <th>1</th>\n",
       "      <td>good morning my name is xxxx xxxx and i apprec...</td>\n",
       "      <td>Debt collection+Credit card debt</td>\n",
       "      <td>good morning xxxx xxxx appreciate help stop ch...</td>\n",
       "    </tr>\n",
       "    <tr>\n",
       "      <th>2</th>\n",
       "      <td>i upgraded my xxxx xxxx card in and was told b...</td>\n",
       "      <td>Credit card or prepaid card+General-purpose cr...</td>\n",
       "      <td>upgrade xxxx xxxx card tell agent upgrade anni...</td>\n",
       "    </tr>\n",
       "    <tr>\n",
       "      <th>10</th>\n",
       "      <td>chase card was reported on however fraudulent ...</td>\n",
       "      <td>Credit reporting, credit repair services, or o...</td>\n",
       "      <td>chase card report fraudulent application submi...</td>\n",
       "    </tr>\n",
       "    <tr>\n",
       "      <th>11</th>\n",
       "      <td>on while trying to book a xxxx  xxxx  ticket i...</td>\n",
       "      <td>Credit reporting, credit repair services, or o...</td>\n",
       "      <td>try book xxxx   xxxx   ticket come offer apply...</td>\n",
       "    </tr>\n",
       "    <tr>\n",
       "      <th>14</th>\n",
       "      <td>my grand son give me check for i deposit it in...</td>\n",
       "      <td>Checking or savings account+Checking account</td>\n",
       "      <td>grand son check deposit chase account fund cle...</td>\n",
       "    </tr>\n",
       "  </tbody>\n",
       "</table>\n",
       "</div>\n",
       "      <button class=\"colab-df-convert\" onclick=\"convertToInteractive('df-d96ac9b2-1fc0-4c6e-b4f6-5c80089c9d0f')\"\n",
       "              title=\"Convert this dataframe to an interactive table.\"\n",
       "              style=\"display:none;\">\n",
       "        \n",
       "  <svg xmlns=\"http://www.w3.org/2000/svg\" height=\"24px\"viewBox=\"0 0 24 24\"\n",
       "       width=\"24px\">\n",
       "    <path d=\"M0 0h24v24H0V0z\" fill=\"none\"/>\n",
       "    <path d=\"M18.56 5.44l.94 2.06.94-2.06 2.06-.94-2.06-.94-.94-2.06-.94 2.06-2.06.94zm-11 1L8.5 8.5l.94-2.06 2.06-.94-2.06-.94L8.5 2.5l-.94 2.06-2.06.94zm10 10l.94 2.06.94-2.06 2.06-.94-2.06-.94-.94-2.06-.94 2.06-2.06.94z\"/><path d=\"M17.41 7.96l-1.37-1.37c-.4-.4-.92-.59-1.43-.59-.52 0-1.04.2-1.43.59L10.3 9.45l-7.72 7.72c-.78.78-.78 2.05 0 2.83L4 21.41c.39.39.9.59 1.41.59.51 0 1.02-.2 1.41-.59l7.78-7.78 2.81-2.81c.8-.78.8-2.07 0-2.86zM5.41 20L4 18.59l7.72-7.72 1.47 1.35L5.41 20z\"/>\n",
       "  </svg>\n",
       "      </button>\n",
       "      \n",
       "  <style>\n",
       "    .colab-df-container {\n",
       "      display:flex;\n",
       "      flex-wrap:wrap;\n",
       "      gap: 12px;\n",
       "    }\n",
       "\n",
       "    .colab-df-convert {\n",
       "      background-color: #E8F0FE;\n",
       "      border: none;\n",
       "      border-radius: 50%;\n",
       "      cursor: pointer;\n",
       "      display: none;\n",
       "      fill: #1967D2;\n",
       "      height: 32px;\n",
       "      padding: 0 0 0 0;\n",
       "      width: 32px;\n",
       "    }\n",
       "\n",
       "    .colab-df-convert:hover {\n",
       "      background-color: #E2EBFA;\n",
       "      box-shadow: 0px 1px 2px rgba(60, 64, 67, 0.3), 0px 1px 3px 1px rgba(60, 64, 67, 0.15);\n",
       "      fill: #174EA6;\n",
       "    }\n",
       "\n",
       "    [theme=dark] .colab-df-convert {\n",
       "      background-color: #3B4455;\n",
       "      fill: #D2E3FC;\n",
       "    }\n",
       "\n",
       "    [theme=dark] .colab-df-convert:hover {\n",
       "      background-color: #434B5C;\n",
       "      box-shadow: 0px 1px 3px 1px rgba(0, 0, 0, 0.15);\n",
       "      filter: drop-shadow(0px 1px 2px rgba(0, 0, 0, 0.3));\n",
       "      fill: #FFFFFF;\n",
       "    }\n",
       "  </style>\n",
       "\n",
       "      <script>\n",
       "        const buttonEl =\n",
       "          document.querySelector('#df-d96ac9b2-1fc0-4c6e-b4f6-5c80089c9d0f button.colab-df-convert');\n",
       "        buttonEl.style.display =\n",
       "          google.colab.kernel.accessAllowed ? 'block' : 'none';\n",
       "\n",
       "        async function convertToInteractive(key) {\n",
       "          const element = document.querySelector('#df-d96ac9b2-1fc0-4c6e-b4f6-5c80089c9d0f');\n",
       "          const dataTable =\n",
       "            await google.colab.kernel.invokeFunction('convertToInteractive',\n",
       "                                                     [key], {});\n",
       "          if (!dataTable) return;\n",
       "\n",
       "          const docLinkHtml = 'Like what you see? Visit the ' +\n",
       "            '<a target=\"_blank\" href=https://colab.research.google.com/notebooks/data_table.ipynb>data table notebook</a>'\n",
       "            + ' to learn more about interactive tables.';\n",
       "          element.innerHTML = '';\n",
       "          dataTable['output_type'] = 'display_data';\n",
       "          await google.colab.output.renderOutput(dataTable, element);\n",
       "          const docLink = document.createElement('div');\n",
       "          docLink.innerHTML = docLinkHtml;\n",
       "          element.appendChild(docLink);\n",
       "        }\n",
       "      </script>\n",
       "    </div>\n",
       "  </div>\n",
       "  "
      ],
      "text/plain": [
       "                                       complaint_text  \\\n",
       "1   good morning my name is xxxx xxxx and i apprec...   \n",
       "2   i upgraded my xxxx xxxx card in and was told b...   \n",
       "10  chase card was reported on however fraudulent ...   \n",
       "11  on while trying to book a xxxx  xxxx  ticket i...   \n",
       "14  my grand son give me check for i deposit it in...   \n",
       "\n",
       "                                             category  \\\n",
       "1                    Debt collection+Credit card debt   \n",
       "2   Credit card or prepaid card+General-purpose cr...   \n",
       "10  Credit reporting, credit repair services, or o...   \n",
       "11  Credit reporting, credit repair services, or o...   \n",
       "14       Checking or savings account+Checking account   \n",
       "\n",
       "                                                lemma  \n",
       "1   good morning xxxx xxxx appreciate help stop ch...  \n",
       "2   upgrade xxxx xxxx card tell agent upgrade anni...  \n",
       "10  chase card report fraudulent application submi...  \n",
       "11  try book xxxx   xxxx   ticket come offer apply...  \n",
       "14  grand son check deposit chase account fund cle...  "
      ]
     },
     "execution_count": 25,
     "metadata": {},
     "output_type": "execute_result"
    }
   ],
   "source": [
    "# Lemmatize the complaints\n",
    "df['lemma'] =  df.complaint_text.apply(lambda x: lemmatizer(x))\n",
    "# df.head()"
   ]
  },
  {
   "cell_type": "code",
   "execution_count": 26,
   "id": "0925f64e",
   "metadata": {
    "executionInfo": {
     "elapsed": 534,
     "status": "ok",
     "timestamp": 1674514619121,
     "user": {
      "displayName": "GAURAV SINHA",
      "userId": "13858423673435577443"
     },
     "user_tz": -330
    },
    "id": "0925f64e"
   },
   "outputs": [],
   "source": [
    "lemma = df['lemma']"
   ]
  },
  {
   "cell_type": "code",
   "execution_count": 27,
   "id": "2af0f679",
   "metadata": {
    "executionInfo": {
     "elapsed": 2,
     "status": "ok",
     "timestamp": 1674514619669,
     "user": {
      "displayName": "GAURAV SINHA",
      "userId": "13858423673435577443"
     },
     "user_tz": -330
    },
    "id": "2af0f679"
   },
   "outputs": [],
   "source": [
    "import pickle\n",
    "# with open('/content/drive/MyDrive/A-NLP Ticket/complaint.pkl','wb') as f:\n",
    "#     pickle.dump(lemma,f)\n",
    "    "
   ]
  },
  {
   "cell_type": "code",
   "execution_count": 27,
   "id": "vhu9ubKrV91h",
   "metadata": {
    "executionInfo": {
     "elapsed": 925,
     "status": "ok",
     "timestamp": 1674522970452,
     "user": {
      "displayName": "GAURAV SINHA",
      "userId": "13858423673435577443"
     },
     "user_tz": -330
    },
    "id": "vhu9ubKrV91h"
   },
   "outputs": [],
   "source": [
    "import pickle\n",
    "with open('/content/drive/MyDrive/A-NLP Ticket/complaint.pkl','rb') as f:\n",
    "    lemma = pickle.load(f)"
   ]
  },
  {
   "cell_type": "code",
   "execution_count": 29,
   "id": "cvVsW8iSWPgP",
   "metadata": {
    "executionInfo": {
     "elapsed": 1159,
     "status": "ok",
     "timestamp": 1674522997804,
     "user": {
      "displayName": "GAURAV SINHA",
      "userId": "13858423673435577443"
     },
     "user_tz": -330
    },
    "id": "cvVsW8iSWPgP"
   },
   "outputs": [],
   "source": [
    "df['lemma'] = lemma"
   ]
  },
  {
   "cell_type": "code",
   "execution_count": 30,
   "id": "1d22bcc9",
   "metadata": {
    "colab": {
     "base_uri": "https://localhost:8080/",
     "height": 206
    },
    "executionInfo": {
     "elapsed": 4,
     "status": "ok",
     "timestamp": 1674523000919,
     "user": {
      "displayName": "GAURAV SINHA",
      "userId": "13858423673435577443"
     },
     "user_tz": -330
    },
    "id": "1d22bcc9",
    "outputId": "39897f18-66dd-48ba-948a-8ce2d71fde9a"
   },
   "outputs": [
    {
     "data": {
      "text/html": [
       "\n",
       "  <div id=\"df-f91d3594-5cd8-4d33-93ac-2ed63f5dfa5c\">\n",
       "    <div class=\"colab-df-container\">\n",
       "      <div>\n",
       "<style scoped>\n",
       "    .dataframe tbody tr th:only-of-type {\n",
       "        vertical-align: middle;\n",
       "    }\n",
       "\n",
       "    .dataframe tbody tr th {\n",
       "        vertical-align: top;\n",
       "    }\n",
       "\n",
       "    .dataframe thead th {\n",
       "        text-align: right;\n",
       "    }\n",
       "</style>\n",
       "<table border=\"1\" class=\"dataframe\">\n",
       "  <thead>\n",
       "    <tr style=\"text-align: right;\">\n",
       "      <th></th>\n",
       "      <th>complaint_text</th>\n",
       "      <th>lemma</th>\n",
       "      <th>category</th>\n",
       "    </tr>\n",
       "  </thead>\n",
       "  <tbody>\n",
       "    <tr>\n",
       "      <th>1</th>\n",
       "      <td>good morning my name is xxxx xxxx and i apprec...</td>\n",
       "      <td>good morning xxxx xxxx appreciate help stop ch...</td>\n",
       "      <td>Debt collection+Credit card debt</td>\n",
       "    </tr>\n",
       "    <tr>\n",
       "      <th>2</th>\n",
       "      <td>i upgraded my xxxx xxxx card in and was told b...</td>\n",
       "      <td>upgrade xxxx xxxx card tell agent upgrade anni...</td>\n",
       "      <td>Credit card or prepaid card+General-purpose cr...</td>\n",
       "    </tr>\n",
       "    <tr>\n",
       "      <th>10</th>\n",
       "      <td>chase card was reported on however fraudulent ...</td>\n",
       "      <td>chase card report fraudulent application submi...</td>\n",
       "      <td>Credit reporting, credit repair services, or o...</td>\n",
       "    </tr>\n",
       "    <tr>\n",
       "      <th>11</th>\n",
       "      <td>on while trying to book a xxxx  xxxx  ticket i...</td>\n",
       "      <td>try book xxxx   xxxx   ticket come offer apply...</td>\n",
       "      <td>Credit reporting, credit repair services, or o...</td>\n",
       "    </tr>\n",
       "    <tr>\n",
       "      <th>14</th>\n",
       "      <td>my grand son give me check for i deposit it in...</td>\n",
       "      <td>grand son check deposit chase account fund cle...</td>\n",
       "      <td>Checking or savings account+Checking account</td>\n",
       "    </tr>\n",
       "  </tbody>\n",
       "</table>\n",
       "</div>\n",
       "      <button class=\"colab-df-convert\" onclick=\"convertToInteractive('df-f91d3594-5cd8-4d33-93ac-2ed63f5dfa5c')\"\n",
       "              title=\"Convert this dataframe to an interactive table.\"\n",
       "              style=\"display:none;\">\n",
       "        \n",
       "  <svg xmlns=\"http://www.w3.org/2000/svg\" height=\"24px\"viewBox=\"0 0 24 24\"\n",
       "       width=\"24px\">\n",
       "    <path d=\"M0 0h24v24H0V0z\" fill=\"none\"/>\n",
       "    <path d=\"M18.56 5.44l.94 2.06.94-2.06 2.06-.94-2.06-.94-.94-2.06-.94 2.06-2.06.94zm-11 1L8.5 8.5l.94-2.06 2.06-.94-2.06-.94L8.5 2.5l-.94 2.06-2.06.94zm10 10l.94 2.06.94-2.06 2.06-.94-2.06-.94-.94-2.06-.94 2.06-2.06.94z\"/><path d=\"M17.41 7.96l-1.37-1.37c-.4-.4-.92-.59-1.43-.59-.52 0-1.04.2-1.43.59L10.3 9.45l-7.72 7.72c-.78.78-.78 2.05 0 2.83L4 21.41c.39.39.9.59 1.41.59.51 0 1.02-.2 1.41-.59l7.78-7.78 2.81-2.81c.8-.78.8-2.07 0-2.86zM5.41 20L4 18.59l7.72-7.72 1.47 1.35L5.41 20z\"/>\n",
       "  </svg>\n",
       "      </button>\n",
       "      \n",
       "  <style>\n",
       "    .colab-df-container {\n",
       "      display:flex;\n",
       "      flex-wrap:wrap;\n",
       "      gap: 12px;\n",
       "    }\n",
       "\n",
       "    .colab-df-convert {\n",
       "      background-color: #E8F0FE;\n",
       "      border: none;\n",
       "      border-radius: 50%;\n",
       "      cursor: pointer;\n",
       "      display: none;\n",
       "      fill: #1967D2;\n",
       "      height: 32px;\n",
       "      padding: 0 0 0 0;\n",
       "      width: 32px;\n",
       "    }\n",
       "\n",
       "    .colab-df-convert:hover {\n",
       "      background-color: #E2EBFA;\n",
       "      box-shadow: 0px 1px 2px rgba(60, 64, 67, 0.3), 0px 1px 3px 1px rgba(60, 64, 67, 0.15);\n",
       "      fill: #174EA6;\n",
       "    }\n",
       "\n",
       "    [theme=dark] .colab-df-convert {\n",
       "      background-color: #3B4455;\n",
       "      fill: #D2E3FC;\n",
       "    }\n",
       "\n",
       "    [theme=dark] .colab-df-convert:hover {\n",
       "      background-color: #434B5C;\n",
       "      box-shadow: 0px 1px 3px 1px rgba(0, 0, 0, 0.15);\n",
       "      filter: drop-shadow(0px 1px 2px rgba(0, 0, 0, 0.3));\n",
       "      fill: #FFFFFF;\n",
       "    }\n",
       "  </style>\n",
       "\n",
       "      <script>\n",
       "        const buttonEl =\n",
       "          document.querySelector('#df-f91d3594-5cd8-4d33-93ac-2ed63f5dfa5c button.colab-df-convert');\n",
       "        buttonEl.style.display =\n",
       "          google.colab.kernel.accessAllowed ? 'block' : 'none';\n",
       "\n",
       "        async function convertToInteractive(key) {\n",
       "          const element = document.querySelector('#df-f91d3594-5cd8-4d33-93ac-2ed63f5dfa5c');\n",
       "          const dataTable =\n",
       "            await google.colab.kernel.invokeFunction('convertToInteractive',\n",
       "                                                     [key], {});\n",
       "          if (!dataTable) return;\n",
       "\n",
       "          const docLinkHtml = 'Like what you see? Visit the ' +\n",
       "            '<a target=\"_blank\" href=https://colab.research.google.com/notebooks/data_table.ipynb>data table notebook</a>'\n",
       "            + ' to learn more about interactive tables.';\n",
       "          element.innerHTML = '';\n",
       "          dataTable['output_type'] = 'display_data';\n",
       "          await google.colab.output.renderOutput(dataTable, element);\n",
       "          const docLink = document.createElement('div');\n",
       "          docLink.innerHTML = docLinkHtml;\n",
       "          element.appendChild(docLink);\n",
       "        }\n",
       "      </script>\n",
       "    </div>\n",
       "  </div>\n",
       "  "
      ],
      "text/plain": [
       "                                       complaint_text  \\\n",
       "1   good morning my name is xxxx xxxx and i apprec...   \n",
       "2   i upgraded my xxxx xxxx card in and was told b...   \n",
       "10  chase card was reported on however fraudulent ...   \n",
       "11  on while trying to book a xxxx  xxxx  ticket i...   \n",
       "14  my grand son give me check for i deposit it in...   \n",
       "\n",
       "                                                lemma  \\\n",
       "1   good morning xxxx xxxx appreciate help stop ch...   \n",
       "2   upgrade xxxx xxxx card tell agent upgrade anni...   \n",
       "10  chase card report fraudulent application submi...   \n",
       "11  try book xxxx   xxxx   ticket come offer apply...   \n",
       "14  grand son check deposit chase account fund cle...   \n",
       "\n",
       "                                             category  \n",
       "1                    Debt collection+Credit card debt  \n",
       "2   Credit card or prepaid card+General-purpose cr...  \n",
       "10  Credit reporting, credit repair services, or o...  \n",
       "11  Credit reporting, credit repair services, or o...  \n",
       "14       Checking or savings account+Checking account  "
      ]
     },
     "execution_count": 30,
     "metadata": {},
     "output_type": "execute_result"
    }
   ],
   "source": [
    "#Create a dataframe('df_clean') that will have only the complaints and the lemmatized complaints \n",
    "df_clean = df[['complaint_text','lemma','category']]\n",
    "df_clean.head()"
   ]
  },
  {
   "cell_type": "code",
   "execution_count": 29,
   "id": "7e2b9d5f",
   "metadata": {
    "executionInfo": {
     "elapsed": 1337,
     "status": "ok",
     "timestamp": 1674514634690,
     "user": {
      "displayName": "GAURAV SINHA",
      "userId": "13858423673435577443"
     },
     "user_tz": -330
    },
    "id": "7e2b9d5f"
   },
   "outputs": [],
   "source": [
    "#Write your function to extract the POS tags NN\n",
    "def extract_pos_tags(text):\n",
    "    doc = nlp(text)\n",
    "    sent = [token.text for token in doc if token.tag_ == 'NN']\n",
    "    return ' '.join(sent)"
   ]
  },
  {
   "cell_type": "code",
   "execution_count": 30,
   "id": "5c4ebf41",
   "metadata": {
    "colab": {
     "base_uri": "https://localhost:8080/",
     "height": 337
    },
    "executionInfo": {
     "elapsed": 396022,
     "status": "ok",
     "timestamp": 1674515072839,
     "user": {
      "displayName": "GAURAV SINHA",
      "userId": "13858423673435577443"
     },
     "user_tz": -330
    },
    "id": "5c4ebf41",
    "outputId": "9b1fe6c0-6c54-487e-e63e-c6270c64317a"
   },
   "outputs": [
    {
     "data": {
      "text/html": [
       "\n",
       "  <div id=\"df-cf580e0d-ad35-4dc7-9ace-a1313dc9a4fb\">\n",
       "    <div class=\"colab-df-container\">\n",
       "      <div>\n",
       "<style scoped>\n",
       "    .dataframe tbody tr th:only-of-type {\n",
       "        vertical-align: middle;\n",
       "    }\n",
       "\n",
       "    .dataframe tbody tr th {\n",
       "        vertical-align: top;\n",
       "    }\n",
       "\n",
       "    .dataframe thead th {\n",
       "        text-align: right;\n",
       "    }\n",
       "</style>\n",
       "<table border=\"1\" class=\"dataframe\">\n",
       "  <thead>\n",
       "    <tr style=\"text-align: right;\">\n",
       "      <th></th>\n",
       "      <th>complaint_text</th>\n",
       "      <th>lemma</th>\n",
       "      <th>category</th>\n",
       "      <th>complaint_POS_removed</th>\n",
       "    </tr>\n",
       "  </thead>\n",
       "  <tbody>\n",
       "    <tr>\n",
       "      <th>1</th>\n",
       "      <td>good morning my name is xxxx xxxx and i apprec...</td>\n",
       "      <td>good morning xxxx xxxx appreciate help stop ch...</td>\n",
       "      <td>Debt collection+Credit card debt</td>\n",
       "      <td>morning help write chase debt verification sta...</td>\n",
       "    </tr>\n",
       "    <tr>\n",
       "      <th>2</th>\n",
       "      <td>i upgraded my xxxx xxxx card in and was told b...</td>\n",
       "      <td>upgrade xxxx xxxx card tell agent upgrade anni...</td>\n",
       "      <td>Credit card or prepaid card+General-purpose cr...</td>\n",
       "      <td>agent upgrade anniversary date change agent in...</td>\n",
       "    </tr>\n",
       "    <tr>\n",
       "      <th>10</th>\n",
       "      <td>chase card was reported on however fraudulent ...</td>\n",
       "      <td>chase card report fraudulent application submi...</td>\n",
       "      <td>Credit reporting, credit repair services, or o...</td>\n",
       "      <td>chase card report application submit identity ...</td>\n",
       "    </tr>\n",
       "    <tr>\n",
       "      <th>11</th>\n",
       "      <td>on while trying to book a xxxx  xxxx  ticket i...</td>\n",
       "      <td>try book xxxx   xxxx   ticket come offer apply...</td>\n",
       "      <td>Credit reporting, credit repair services, or o...</td>\n",
       "      <td>book ticket ticket reward card information off...</td>\n",
       "    </tr>\n",
       "    <tr>\n",
       "      <th>14</th>\n",
       "      <td>my grand son give me check for i deposit it in...</td>\n",
       "      <td>grand son check deposit chase account fund cle...</td>\n",
       "      <td>Checking or savings account+Checking account</td>\n",
       "      <td>son deposit chase account account pay money sp...</td>\n",
       "    </tr>\n",
       "  </tbody>\n",
       "</table>\n",
       "</div>\n",
       "      <button class=\"colab-df-convert\" onclick=\"convertToInteractive('df-cf580e0d-ad35-4dc7-9ace-a1313dc9a4fb')\"\n",
       "              title=\"Convert this dataframe to an interactive table.\"\n",
       "              style=\"display:none;\">\n",
       "        \n",
       "  <svg xmlns=\"http://www.w3.org/2000/svg\" height=\"24px\"viewBox=\"0 0 24 24\"\n",
       "       width=\"24px\">\n",
       "    <path d=\"M0 0h24v24H0V0z\" fill=\"none\"/>\n",
       "    <path d=\"M18.56 5.44l.94 2.06.94-2.06 2.06-.94-2.06-.94-.94-2.06-.94 2.06-2.06.94zm-11 1L8.5 8.5l.94-2.06 2.06-.94-2.06-.94L8.5 2.5l-.94 2.06-2.06.94zm10 10l.94 2.06.94-2.06 2.06-.94-2.06-.94-.94-2.06-.94 2.06-2.06.94z\"/><path d=\"M17.41 7.96l-1.37-1.37c-.4-.4-.92-.59-1.43-.59-.52 0-1.04.2-1.43.59L10.3 9.45l-7.72 7.72c-.78.78-.78 2.05 0 2.83L4 21.41c.39.39.9.59 1.41.59.51 0 1.02-.2 1.41-.59l7.78-7.78 2.81-2.81c.8-.78.8-2.07 0-2.86zM5.41 20L4 18.59l7.72-7.72 1.47 1.35L5.41 20z\"/>\n",
       "  </svg>\n",
       "      </button>\n",
       "      \n",
       "  <style>\n",
       "    .colab-df-container {\n",
       "      display:flex;\n",
       "      flex-wrap:wrap;\n",
       "      gap: 12px;\n",
       "    }\n",
       "\n",
       "    .colab-df-convert {\n",
       "      background-color: #E8F0FE;\n",
       "      border: none;\n",
       "      border-radius: 50%;\n",
       "      cursor: pointer;\n",
       "      display: none;\n",
       "      fill: #1967D2;\n",
       "      height: 32px;\n",
       "      padding: 0 0 0 0;\n",
       "      width: 32px;\n",
       "    }\n",
       "\n",
       "    .colab-df-convert:hover {\n",
       "      background-color: #E2EBFA;\n",
       "      box-shadow: 0px 1px 2px rgba(60, 64, 67, 0.3), 0px 1px 3px 1px rgba(60, 64, 67, 0.15);\n",
       "      fill: #174EA6;\n",
       "    }\n",
       "\n",
       "    [theme=dark] .colab-df-convert {\n",
       "      background-color: #3B4455;\n",
       "      fill: #D2E3FC;\n",
       "    }\n",
       "\n",
       "    [theme=dark] .colab-df-convert:hover {\n",
       "      background-color: #434B5C;\n",
       "      box-shadow: 0px 1px 3px 1px rgba(0, 0, 0, 0.15);\n",
       "      filter: drop-shadow(0px 1px 2px rgba(0, 0, 0, 0.3));\n",
       "      fill: #FFFFFF;\n",
       "    }\n",
       "  </style>\n",
       "\n",
       "      <script>\n",
       "        const buttonEl =\n",
       "          document.querySelector('#df-cf580e0d-ad35-4dc7-9ace-a1313dc9a4fb button.colab-df-convert');\n",
       "        buttonEl.style.display =\n",
       "          google.colab.kernel.accessAllowed ? 'block' : 'none';\n",
       "\n",
       "        async function convertToInteractive(key) {\n",
       "          const element = document.querySelector('#df-cf580e0d-ad35-4dc7-9ace-a1313dc9a4fb');\n",
       "          const dataTable =\n",
       "            await google.colab.kernel.invokeFunction('convertToInteractive',\n",
       "                                                     [key], {});\n",
       "          if (!dataTable) return;\n",
       "\n",
       "          const docLinkHtml = 'Like what you see? Visit the ' +\n",
       "            '<a target=\"_blank\" href=https://colab.research.google.com/notebooks/data_table.ipynb>data table notebook</a>'\n",
       "            + ' to learn more about interactive tables.';\n",
       "          element.innerHTML = '';\n",
       "          dataTable['output_type'] = 'display_data';\n",
       "          await google.colab.output.renderOutput(dataTable, element);\n",
       "          const docLink = document.createElement('div');\n",
       "          docLink.innerHTML = docLinkHtml;\n",
       "          element.appendChild(docLink);\n",
       "        }\n",
       "      </script>\n",
       "    </div>\n",
       "  </div>\n",
       "  "
      ],
      "text/plain": [
       "                                       complaint_text  \\\n",
       "1   good morning my name is xxxx xxxx and i apprec...   \n",
       "2   i upgraded my xxxx xxxx card in and was told b...   \n",
       "10  chase card was reported on however fraudulent ...   \n",
       "11  on while trying to book a xxxx  xxxx  ticket i...   \n",
       "14  my grand son give me check for i deposit it in...   \n",
       "\n",
       "                                                lemma  \\\n",
       "1   good morning xxxx xxxx appreciate help stop ch...   \n",
       "2   upgrade xxxx xxxx card tell agent upgrade anni...   \n",
       "10  chase card report fraudulent application submi...   \n",
       "11  try book xxxx   xxxx   ticket come offer apply...   \n",
       "14  grand son check deposit chase account fund cle...   \n",
       "\n",
       "                                             category  \\\n",
       "1                    Debt collection+Credit card debt   \n",
       "2   Credit card or prepaid card+General-purpose cr...   \n",
       "10  Credit reporting, credit repair services, or o...   \n",
       "11  Credit reporting, credit repair services, or o...   \n",
       "14       Checking or savings account+Checking account   \n",
       "\n",
       "                                complaint_POS_removed  \n",
       "1   morning help write chase debt verification sta...  \n",
       "2   agent upgrade anniversary date change agent in...  \n",
       "10  chase card report application submit identity ...  \n",
       "11  book ticket ticket reward card information off...  \n",
       "14  son deposit chase account account pay money sp...  "
      ]
     },
     "execution_count": 30,
     "metadata": {},
     "output_type": "execute_result"
    }
   ],
   "source": [
    "#The clean dataframe should now contain the raw complaint, lemmatized complaint and the complaint after removing POS tags.\n",
    "df_clean['complaint_POS_removed'] =  df_clean.lemma.apply(lambda x: extract_pos_tags(x))\n",
    "df_clean.head()"
   ]
  },
  {
   "cell_type": "code",
   "execution_count": 31,
   "id": "984cdc87",
   "metadata": {
    "executionInfo": {
     "elapsed": 846,
     "status": "ok",
     "timestamp": 1674515205528,
     "user": {
      "displayName": "GAURAV SINHA",
      "userId": "13858423673435577443"
     },
     "user_tz": -330
    },
    "id": "984cdc87"
   },
   "outputs": [],
   "source": [
    "# complaint_pos_removed = df_clean['complaint_POS_removed']\n",
    "# with open('/content/drive/MyDrive/A-NLP Ticket/cpos_removed.pkl','wb') as f:\n",
    "#     pickle.dump(complaint_pos_removed, f)"
   ]
  },
  {
   "cell_type": "code",
   "execution_count": 31,
   "id": "rnHg3eFGWcMm",
   "metadata": {
    "executionInfo": {
     "elapsed": 1015,
     "status": "ok",
     "timestamp": 1674523073715,
     "user": {
      "displayName": "GAURAV SINHA",
      "userId": "13858423673435577443"
     },
     "user_tz": -330
    },
    "id": "rnHg3eFGWcMm"
   },
   "outputs": [],
   "source": [
    " with open('/content/drive/MyDrive/A-NLP Ticket/cpos_removed.pkl','rb') as f:\n",
    "    complaint_pos_removed = pickle.load(f)"
   ]
  },
  {
   "cell_type": "code",
   "execution_count": 32,
   "id": "howm6q6_WmM2",
   "metadata": {
    "executionInfo": {
     "elapsed": 595,
     "status": "ok",
     "timestamp": 1674523090822,
     "user": {
      "displayName": "GAURAV SINHA",
      "userId": "13858423673435577443"
     },
     "user_tz": -330
    },
    "id": "howm6q6_WmM2"
   },
   "outputs": [],
   "source": [
    "df_clean['complaint_POS_removed'] = complaint_pos_removed"
   ]
  },
  {
   "cell_type": "code",
   "execution_count": 33,
   "id": "lVdwJ68MWsBG",
   "metadata": {
    "colab": {
     "base_uri": "https://localhost:8080/",
     "height": 337
    },
    "executionInfo": {
     "elapsed": 4,
     "status": "ok",
     "timestamp": 1674523110495,
     "user": {
      "displayName": "GAURAV SINHA",
      "userId": "13858423673435577443"
     },
     "user_tz": -330
    },
    "id": "lVdwJ68MWsBG",
    "outputId": "46785b4c-383c-422c-c4f7-6b52d8aa34cd"
   },
   "outputs": [
    {
     "data": {
      "text/html": [
       "\n",
       "  <div id=\"df-165e50d2-d7f0-4f4a-993c-86722596778a\">\n",
       "    <div class=\"colab-df-container\">\n",
       "      <div>\n",
       "<style scoped>\n",
       "    .dataframe tbody tr th:only-of-type {\n",
       "        vertical-align: middle;\n",
       "    }\n",
       "\n",
       "    .dataframe tbody tr th {\n",
       "        vertical-align: top;\n",
       "    }\n",
       "\n",
       "    .dataframe thead th {\n",
       "        text-align: right;\n",
       "    }\n",
       "</style>\n",
       "<table border=\"1\" class=\"dataframe\">\n",
       "  <thead>\n",
       "    <tr style=\"text-align: right;\">\n",
       "      <th></th>\n",
       "      <th>complaint_text</th>\n",
       "      <th>lemma</th>\n",
       "      <th>category</th>\n",
       "      <th>complaint_POS_removed</th>\n",
       "    </tr>\n",
       "  </thead>\n",
       "  <tbody>\n",
       "    <tr>\n",
       "      <th>1</th>\n",
       "      <td>good morning my name is xxxx xxxx and i apprec...</td>\n",
       "      <td>good morning xxxx xxxx appreciate help stop ch...</td>\n",
       "      <td>Debt collection+Credit card debt</td>\n",
       "      <td>morning help write chase debt verification sta...</td>\n",
       "    </tr>\n",
       "    <tr>\n",
       "      <th>2</th>\n",
       "      <td>i upgraded my xxxx xxxx card in and was told b...</td>\n",
       "      <td>upgrade xxxx xxxx card tell agent upgrade anni...</td>\n",
       "      <td>Credit card or prepaid card+General-purpose cr...</td>\n",
       "      <td>agent upgrade anniversary date change agent in...</td>\n",
       "    </tr>\n",
       "    <tr>\n",
       "      <th>10</th>\n",
       "      <td>chase card was reported on however fraudulent ...</td>\n",
       "      <td>chase card report fraudulent application submi...</td>\n",
       "      <td>Credit reporting, credit repair services, or o...</td>\n",
       "      <td>chase card report application submit identity ...</td>\n",
       "    </tr>\n",
       "    <tr>\n",
       "      <th>11</th>\n",
       "      <td>on while trying to book a xxxx  xxxx  ticket i...</td>\n",
       "      <td>try book xxxx   xxxx   ticket come offer apply...</td>\n",
       "      <td>Credit reporting, credit repair services, or o...</td>\n",
       "      <td>book ticket ticket reward card information off...</td>\n",
       "    </tr>\n",
       "    <tr>\n",
       "      <th>14</th>\n",
       "      <td>my grand son give me check for i deposit it in...</td>\n",
       "      <td>grand son check deposit chase account fund cle...</td>\n",
       "      <td>Checking or savings account+Checking account</td>\n",
       "      <td>son deposit chase account account pay money sp...</td>\n",
       "    </tr>\n",
       "  </tbody>\n",
       "</table>\n",
       "</div>\n",
       "      <button class=\"colab-df-convert\" onclick=\"convertToInteractive('df-165e50d2-d7f0-4f4a-993c-86722596778a')\"\n",
       "              title=\"Convert this dataframe to an interactive table.\"\n",
       "              style=\"display:none;\">\n",
       "        \n",
       "  <svg xmlns=\"http://www.w3.org/2000/svg\" height=\"24px\"viewBox=\"0 0 24 24\"\n",
       "       width=\"24px\">\n",
       "    <path d=\"M0 0h24v24H0V0z\" fill=\"none\"/>\n",
       "    <path d=\"M18.56 5.44l.94 2.06.94-2.06 2.06-.94-2.06-.94-.94-2.06-.94 2.06-2.06.94zm-11 1L8.5 8.5l.94-2.06 2.06-.94-2.06-.94L8.5 2.5l-.94 2.06-2.06.94zm10 10l.94 2.06.94-2.06 2.06-.94-2.06-.94-.94-2.06-.94 2.06-2.06.94z\"/><path d=\"M17.41 7.96l-1.37-1.37c-.4-.4-.92-.59-1.43-.59-.52 0-1.04.2-1.43.59L10.3 9.45l-7.72 7.72c-.78.78-.78 2.05 0 2.83L4 21.41c.39.39.9.59 1.41.59.51 0 1.02-.2 1.41-.59l7.78-7.78 2.81-2.81c.8-.78.8-2.07 0-2.86zM5.41 20L4 18.59l7.72-7.72 1.47 1.35L5.41 20z\"/>\n",
       "  </svg>\n",
       "      </button>\n",
       "      \n",
       "  <style>\n",
       "    .colab-df-container {\n",
       "      display:flex;\n",
       "      flex-wrap:wrap;\n",
       "      gap: 12px;\n",
       "    }\n",
       "\n",
       "    .colab-df-convert {\n",
       "      background-color: #E8F0FE;\n",
       "      border: none;\n",
       "      border-radius: 50%;\n",
       "      cursor: pointer;\n",
       "      display: none;\n",
       "      fill: #1967D2;\n",
       "      height: 32px;\n",
       "      padding: 0 0 0 0;\n",
       "      width: 32px;\n",
       "    }\n",
       "\n",
       "    .colab-df-convert:hover {\n",
       "      background-color: #E2EBFA;\n",
       "      box-shadow: 0px 1px 2px rgba(60, 64, 67, 0.3), 0px 1px 3px 1px rgba(60, 64, 67, 0.15);\n",
       "      fill: #174EA6;\n",
       "    }\n",
       "\n",
       "    [theme=dark] .colab-df-convert {\n",
       "      background-color: #3B4455;\n",
       "      fill: #D2E3FC;\n",
       "    }\n",
       "\n",
       "    [theme=dark] .colab-df-convert:hover {\n",
       "      background-color: #434B5C;\n",
       "      box-shadow: 0px 1px 3px 1px rgba(0, 0, 0, 0.15);\n",
       "      filter: drop-shadow(0px 1px 2px rgba(0, 0, 0, 0.3));\n",
       "      fill: #FFFFFF;\n",
       "    }\n",
       "  </style>\n",
       "\n",
       "      <script>\n",
       "        const buttonEl =\n",
       "          document.querySelector('#df-165e50d2-d7f0-4f4a-993c-86722596778a button.colab-df-convert');\n",
       "        buttonEl.style.display =\n",
       "          google.colab.kernel.accessAllowed ? 'block' : 'none';\n",
       "\n",
       "        async function convertToInteractive(key) {\n",
       "          const element = document.querySelector('#df-165e50d2-d7f0-4f4a-993c-86722596778a');\n",
       "          const dataTable =\n",
       "            await google.colab.kernel.invokeFunction('convertToInteractive',\n",
       "                                                     [key], {});\n",
       "          if (!dataTable) return;\n",
       "\n",
       "          const docLinkHtml = 'Like what you see? Visit the ' +\n",
       "            '<a target=\"_blank\" href=https://colab.research.google.com/notebooks/data_table.ipynb>data table notebook</a>'\n",
       "            + ' to learn more about interactive tables.';\n",
       "          element.innerHTML = '';\n",
       "          dataTable['output_type'] = 'display_data';\n",
       "          await google.colab.output.renderOutput(dataTable, element);\n",
       "          const docLink = document.createElement('div');\n",
       "          docLink.innerHTML = docLinkHtml;\n",
       "          element.appendChild(docLink);\n",
       "        }\n",
       "      </script>\n",
       "    </div>\n",
       "  </div>\n",
       "  "
      ],
      "text/plain": [
       "                                       complaint_text  \\\n",
       "1   good morning my name is xxxx xxxx and i apprec...   \n",
       "2   i upgraded my xxxx xxxx card in and was told b...   \n",
       "10  chase card was reported on however fraudulent ...   \n",
       "11  on while trying to book a xxxx  xxxx  ticket i...   \n",
       "14  my grand son give me check for i deposit it in...   \n",
       "\n",
       "                                                lemma  \\\n",
       "1   good morning xxxx xxxx appreciate help stop ch...   \n",
       "2   upgrade xxxx xxxx card tell agent upgrade anni...   \n",
       "10  chase card report fraudulent application submi...   \n",
       "11  try book xxxx   xxxx   ticket come offer apply...   \n",
       "14  grand son check deposit chase account fund cle...   \n",
       "\n",
       "                                             category  \\\n",
       "1                    Debt collection+Credit card debt   \n",
       "2   Credit card or prepaid card+General-purpose cr...   \n",
       "10  Credit reporting, credit repair services, or o...   \n",
       "11  Credit reporting, credit repair services, or o...   \n",
       "14       Checking or savings account+Checking account   \n",
       "\n",
       "                                complaint_POS_removed  \n",
       "1   morning help write chase debt verification sta...  \n",
       "2   agent upgrade anniversary date change agent in...  \n",
       "10  chase card report application submit identity ...  \n",
       "11  book ticket ticket reward card information off...  \n",
       "14  son deposit chase account account pay money sp...  "
      ]
     },
     "execution_count": 33,
     "metadata": {},
     "output_type": "execute_result"
    }
   ],
   "source": [
    "df_clean.head()"
   ]
  },
  {
   "cell_type": "markdown",
   "id": "2351c83a",
   "metadata": {
    "id": "2351c83a"
   },
   "source": [
    "# Exploratory data analysis (EDA)"
   ]
  },
  {
   "cell_type": "markdown",
   "id": "fc440b91",
   "metadata": {
    "id": "fc440b91"
   },
   "source": [
    "Exploratory data analysis to get familiar with the data.\n",
    "Write the code in this task to perform the following:\n",
    "\n",
    "Visualise the data according to the 'Complaint' character length\n",
    "Using a word cloud find the top 40 words by frequency among all the articles after processing the text\n",
    "Find the top unigrams,bigrams and trigrams by frequency among all the complaints after processing the text. ‘"
   ]
  },
  {
   "cell_type": "code",
   "execution_count": 34,
   "id": "e641a473",
   "metadata": {
    "colab": {
     "base_uri": "https://localhost:8080/",
     "height": 704
    },
    "executionInfo": {
     "elapsed": 585,
     "status": "ok",
     "timestamp": 1674523132546,
     "user": {
      "displayName": "GAURAV SINHA",
      "userId": "13858423673435577443"
     },
     "user_tz": -330
    },
    "id": "e641a473",
    "outputId": "cc107cba-4bad-4638-cdce-4c6ac0cca849"
   },
   "outputs": [
    {
     "data": {
      "text/plain": [
       "(array([9.445e+03, 6.355e+03, 2.632e+03, 1.242e+03, 7.340e+02, 2.560e+02,\n",
       "        1.320e+02, 7.000e+01, 5.400e+01, 4.400e+01, 2.600e+01, 1.300e+01,\n",
       "        6.000e+00, 1.200e+01, 1.200e+01, 5.000e+00, 6.000e+00, 3.000e+00,\n",
       "        4.000e+00, 3.000e+00, 6.000e+00, 0.000e+00, 2.000e+00, 0.000e+00,\n",
       "        0.000e+00, 0.000e+00, 2.000e+00, 1.000e+00, 0.000e+00, 0.000e+00,\n",
       "        1.000e+00, 2.000e+00, 0.000e+00, 1.000e+00, 0.000e+00, 0.000e+00,\n",
       "        0.000e+00, 0.000e+00, 0.000e+00, 0.000e+00, 1.000e+00, 0.000e+00,\n",
       "        0.000e+00, 0.000e+00, 0.000e+00, 0.000e+00, 0.000e+00, 1.000e+00,\n",
       "        0.000e+00, 1.000e+00]),\n",
       " array([    0.  ,   236.44,   472.88,   709.32,   945.76,  1182.2 ,\n",
       "         1418.64,  1655.08,  1891.52,  2127.96,  2364.4 ,  2600.84,\n",
       "         2837.28,  3073.72,  3310.16,  3546.6 ,  3783.04,  4019.48,\n",
       "         4255.92,  4492.36,  4728.8 ,  4965.24,  5201.68,  5438.12,\n",
       "         5674.56,  5911.  ,  6147.44,  6383.88,  6620.32,  6856.76,\n",
       "         7093.2 ,  7329.64,  7566.08,  7802.52,  8038.96,  8275.4 ,\n",
       "         8511.84,  8748.28,  8984.72,  9221.16,  9457.6 ,  9694.04,\n",
       "         9930.48, 10166.92, 10403.36, 10639.8 , 10876.24, 11112.68,\n",
       "        11349.12, 11585.56, 11822.  ]),\n",
       " <a list of 50 Patch objects>)"
      ]
     },
     "execution_count": 34,
     "metadata": {},
     "output_type": "execute_result"
    },
    {
     "data": {
      "image/png": "[encoded data removed]",
      "text/plain": [
       "<Figure size 720x432 with 1 Axes>"
      ]
     },
     "metadata": {
      "needs_background": "light"
     },
     "output_type": "display_data"
    }
   ],
   "source": [
    "# Write your code here to visualise the data according to the 'Complaint' character length\n",
    "\n",
    "plt.figure(figsize=(10,6))\n",
    "doc_lens = [len(d) for d in df_clean.complaint_POS_removed]\n",
    "plt.hist(doc_lens, bins = 50)"
   ]
  },
  {
   "cell_type": "code",
   "execution_count": 35,
   "id": "511906f7",
   "metadata": {
    "colab": {
     "base_uri": "https://localhost:8080/",
     "height": 327
    },
    "executionInfo": {
     "elapsed": 2939,
     "status": "ok",
     "timestamp": 1674523139172,
     "user": {
      "displayName": "GAURAV SINHA",
      "userId": "13858423673435577443"
     },
     "user_tz": -330
    },
    "id": "511906f7",
    "outputId": "e51bd366-cdfa-4a9c-bb1f-b8fc1226e89e"
   },
   "outputs": [
    {
     "name": "stdout",
     "output_type": "stream",
     "text": [
      "<wordcloud.wordcloud.WordCloud object at 0x7f57063df580>\n"
     ]
    },
    {
     "data": {
      "image/png": "[encoded data removed]",
      "text/plain": [
       "<Figure size 720x432 with 1 Axes>"
      ]
     },
     "metadata": {
      "needs_background": "light"
     },
     "output_type": "display_data"
    }
   ],
   "source": [
    "#Using a word cloud find the top 40 words by frequency among all the articles after processing the text\n",
    "\n",
    "from wordcloud import WordCloud\n",
    "\n",
    "wordcloud = WordCloud(stopwords=stopwords,max_words=40).generate(str(df_clean.complaint_POS_removed))\n",
    "\n",
    "print(wordcloud)\n",
    "plt.figure(figsize=(10,6))\n",
    "plt.imshow(wordcloud)\n",
    "plt.axis('off')\n",
    "plt.show()"
   ]
  },
  {
   "cell_type": "code",
   "execution_count": 36,
   "id": "a25e648e",
   "metadata": {
    "executionInfo": {
     "elapsed": 3,
     "status": "ok",
     "timestamp": 1674523139687,
     "user": {
      "displayName": "GAURAV SINHA",
      "userId": "13858423673435577443"
     },
     "user_tz": -330
    },
    "id": "a25e648e"
   },
   "outputs": [],
   "source": [
    "#Removing -PRON- from the text corpus\n",
    "df_clean['Complaint_clean'] = df_clean['complaint_POS_removed'].str.replace('-PRON-', '')\n",
    "df_clean = df_clean.drop(['complaint_POS_removed'],axis = 1)"
   ]
  },
  {
   "cell_type": "markdown",
   "id": "9d27ed94",
   "metadata": {
    "id": "9d27ed94"
   },
   "source": [
    "Find the top unigrams,bigrams and trigrams by frequency among all the complaints after processing the text."
   ]
  },
  {
   "cell_type": "code",
   "execution_count": 37,
   "id": "342430fe",
   "metadata": {
    "executionInfo": {
     "elapsed": 2,
     "status": "ok",
     "timestamp": 1674523140575,
     "user": {
      "displayName": "GAURAV SINHA",
      "userId": "13858423673435577443"
     },
     "user_tz": -330
    },
    "id": "342430fe"
   },
   "outputs": [],
   "source": [
    "# Write your code here to find the top 30 unigram,bigram,trigram frequency \n",
    "# among the complaints in the cleaned datafram(df_clean).\n",
    "\n",
    "def get_top_n_bigram(text, ngram=1, top=None):\n",
    "    vec = CountVectorizer(ngram_range=(ngram, ngram), stop_words='english').fit(text)\n",
    "    bag_of_words = vec.transform(text)\n",
    "\n",
    "    sum_words = bag_of_words.sum(axis=0) \n",
    "    words_freq = [(word, sum_words[0, idx]) for word, idx in vec.vocabulary_.items()]\n",
    "\n",
    "    words_freq =sorted(words_freq, key = lambda x: x[1], reverse=True)\n",
    "    return words_freq[:top]"
   ]
  },
  {
   "cell_type": "code",
   "execution_count": 38,
   "id": "ade37788",
   "metadata": {
    "executionInfo": {
     "elapsed": 17755,
     "status": "ok",
     "timestamp": 1674523159800,
     "user": {
      "displayName": "GAURAV SINHA",
      "userId": "13858423673435577443"
     },
     "user_tz": -330
    },
    "id": "ade37788"
   },
   "outputs": [],
   "source": [
    "top_30_unigrams = get_top_n_bigram(df_clean.Complaint_clean,ngram=1, top=30)\n",
    "top_30_bigrams = get_top_n_bigram(df_clean.Complaint_clean,ngram=2, top=30)\n",
    "top_30_trigrams = get_top_n_bigram(df_clean.Complaint_clean,ngram=3, top=30)"
   ]
  },
  {
   "cell_type": "code",
   "execution_count": 39,
   "id": "d6984fbe",
   "metadata": {
    "colab": {
     "base_uri": "https://localhost:8080/"
    },
    "executionInfo": {
     "elapsed": 19,
     "status": "ok",
     "timestamp": 1674523159801,
     "user": {
      "displayName": "GAURAV SINHA",
      "userId": "13858423673435577443"
     },
     "user_tz": -330
    },
    "id": "d6984fbe",
    "outputId": "000eed99-7e94-4637-cd69-5b6f78633b1e"
   },
   "outputs": [
    {
     "name": "stdout",
     "output_type": "stream",
     "text": [
      "Top 10 unigrams:\n",
      "\n"
     ]
    },
    {
     "data": {
      "text/plain": [
       "[('chase', 55396),\n",
       " ('account', 39603),\n",
       " ('credit', 32425),\n",
       " ('card', 29043),\n",
       " ('payment', 20181),\n",
       " ('charge', 16501),\n",
       " ('time', 15214),\n",
       " ('money', 11665),\n",
       " ('day', 11643),\n",
       " ('bank', 11139)]"
      ]
     },
     "execution_count": 39,
     "metadata": {},
     "output_type": "execute_result"
    }
   ],
   "source": [
    "#Print the top 10 words in the unigram frequency\n",
    "print('Top 10 unigrams:\\n')\n",
    "top_30_unigrams[:10]"
   ]
  },
  {
   "cell_type": "code",
   "execution_count": 40,
   "id": "98706dd7",
   "metadata": {
    "colab": {
     "base_uri": "https://localhost:8080/",
     "height": 437
    },
    "executionInfo": {
     "elapsed": 976,
     "status": "ok",
     "timestamp": 1674523160762,
     "user": {
      "displayName": "GAURAV SINHA",
      "userId": "13858423673435577443"
     },
     "user_tz": -330
    },
    "id": "98706dd7",
    "outputId": "bd263a0b-40fc-4cf2-ffb2-a09619ba406c"
   },
   "outputs": [
    {
     "data": {
      "image/png": "[encoded data removed]",
      "text/plain": [
       "<Figure size 864x432 with 1 Axes>"
      ]
     },
     "metadata": {
      "needs_background": "light"
     },
     "output_type": "display_data"
    }
   ],
   "source": [
    "#Plot graph for the top 30 words in the unigram frequency\n",
    "df1 = pd.DataFrame(top_30_unigrams, columns = ['unigram' , 'count'])\n",
    "plt.figure(figsize=(12,6))\n",
    "fig = sns.barplot(x=df1['unigram'], y=df1['count'])\n",
    "plt.xticks(rotation = 80)\n",
    "plt.show()"
   ]
  },
  {
   "cell_type": "code",
   "execution_count": 41,
   "id": "b336b545",
   "metadata": {
    "colab": {
     "base_uri": "https://localhost:8080/"
    },
    "executionInfo": {
     "elapsed": 14,
     "status": "ok",
     "timestamp": 1674523160763,
     "user": {
      "displayName": "GAURAV SINHA",
      "userId": "13858423673435577443"
     },
     "user_tz": -330
    },
    "id": "b336b545",
    "outputId": "3ff18629-5ff4-461b-d75a-cfa03d93bd3c"
   },
   "outputs": [
    {
     "name": "stdout",
     "output_type": "stream",
     "text": [
      "Top 10 bigrams:\n",
      "\n"
     ]
    },
    {
     "data": {
      "text/plain": [
       "[('credit card', 12171),\n",
       " ('credit report', 3618),\n",
       " ('chase credit', 3135),\n",
       " ('customer service', 2714),\n",
       " ('account chase', 2657),\n",
       " ('chase account', 2181),\n",
       " ('contact chase', 1931),\n",
       " ('debit card', 1909),\n",
       " ('account account', 1837),\n",
       " ('chase bank', 1770)]"
      ]
     },
     "execution_count": 41,
     "metadata": {},
     "output_type": "execute_result"
    }
   ],
   "source": [
    "#Print the top 10 words in the bigram frequency\n",
    "print('Top 10 bigrams:\\n')\n",
    "top_30_bigrams[:10]"
   ]
  },
  {
   "cell_type": "code",
   "execution_count": 42,
   "id": "a1b31218",
   "metadata": {
    "colab": {
     "base_uri": "https://localhost:8080/",
     "height": 470
    },
    "executionInfo": {
     "elapsed": 1941,
     "status": "ok",
     "timestamp": 1674523162698,
     "user": {
      "displayName": "GAURAV SINHA",
      "userId": "13858423673435577443"
     },
     "user_tz": -330
    },
    "id": "a1b31218",
    "outputId": "0565a33d-e67a-42b0-9161-6978136f549f"
   },
   "outputs": [
    {
     "data": {
      "image/png": "[encoded data removed]",
      "text/plain": [
       "<Figure size 864x432 with 1 Axes>"
      ]
     },
     "metadata": {
      "needs_background": "light"
     },
     "output_type": "display_data"
    }
   ],
   "source": [
    "#Plot graph for the top 30 words in the bigram frequency\n",
    "df2 = pd.DataFrame(top_30_bigrams, columns = ['bigram' , 'count'])\n",
    "plt.figure(figsize=(12,6))\n",
    "fig = sns.barplot(x=df2['bigram'], y=df2['count'])\n",
    "plt.xticks(rotation = 80)\n",
    "plt.show()"
   ]
  },
  {
   "cell_type": "code",
   "execution_count": 43,
   "id": "d916a5bb",
   "metadata": {
    "colab": {
     "base_uri": "https://localhost:8080/"
    },
    "executionInfo": {
     "elapsed": 40,
     "status": "ok",
     "timestamp": 1674523162700,
     "user": {
      "displayName": "GAURAV SINHA",
      "userId": "13858423673435577443"
     },
     "user_tz": -330
    },
    "id": "d916a5bb",
    "outputId": "58012719-b644-411c-bdf3-d282382c5d76"
   },
   "outputs": [
    {
     "name": "stdout",
     "output_type": "stream",
     "text": [
      "Top 10 trigrams:\n",
      "\n"
     ]
    },
    {
     "data": {
      "text/plain": [
       "[('chase credit card', 2159),\n",
       " ('credit card account', 986),\n",
       " ('credit card company', 958),\n",
       " ('credit card chase', 815),\n",
       " ('chase customer service', 509),\n",
       " ('charge credit card', 495),\n",
       " ('inquiry credit report', 456),\n",
       " ('credit card credit', 454),\n",
       " ('account credit card', 358),\n",
       " ('credit card charge', 356)]"
      ]
     },
     "execution_count": 43,
     "metadata": {},
     "output_type": "execute_result"
    }
   ],
   "source": [
    "#Print the top 10 words in the trigram frequency\n",
    "print('Top 10 trigrams:\\n')\n",
    "top_30_trigrams[:10]"
   ]
  },
  {
   "cell_type": "code",
   "execution_count": 44,
   "id": "3872dca7",
   "metadata": {
    "colab": {
     "base_uri": "https://localhost:8080/",
     "height": 539
    },
    "executionInfo": {
     "elapsed": 31,
     "status": "ok",
     "timestamp": 1674523162701,
     "user": {
      "displayName": "GAURAV SINHA",
      "userId": "13858423673435577443"
     },
     "user_tz": -330
    },
    "id": "3872dca7",
    "outputId": "edde9858-901e-4b23-c906-0149cb2aced1"
   },
   "outputs": [
    {
     "data": {
      "image/png": "[encoded data removed]",
      "text/plain": [
       "<Figure size 864x432 with 1 Axes>"
      ]
     },
     "metadata": {
      "needs_background": "light"
     },
     "output_type": "display_data"
    }
   ],
   "source": [
    "#Plot graph for the top 30 words in the trigram frequency\n",
    "df3 = pd.DataFrame(top_30_trigrams, columns = ['trigram' , 'count'])\n",
    "plt.figure(figsize=(12,6))\n",
    "fig = sns.barplot(x=df3['trigram'], y=df3['count'])\n",
    "plt.xticks(rotation = 80)\n",
    "plt.show()"
   ]
  },
  {
   "cell_type": "markdown",
   "id": "66ed9bc6",
   "metadata": {
    "id": "66ed9bc6"
   },
   "source": [
    "The personal details of customer has been masked in the dataset with xxxx. Let's remove the masked text as this will be of no use for our analysis"
   ]
  },
  {
   "cell_type": "code",
   "execution_count": 45,
   "id": "aeaa5c53",
   "metadata": {
    "executionInfo": {
     "elapsed": 31,
     "status": "ok",
     "timestamp": 1674523162703,
     "user": {
      "displayName": "GAURAV SINHA",
      "userId": "13858423673435577443"
     },
     "user_tz": -330
    },
    "id": "aeaa5c53"
   },
   "outputs": [],
   "source": [
    "df_clean['Complaint_clean'] = df_clean['Complaint_clean'].str.replace('xxxx','')"
   ]
  },
  {
   "cell_type": "code",
   "execution_count": 46,
   "id": "bad774d1",
   "metadata": {
    "colab": {
     "base_uri": "https://localhost:8080/",
     "height": 337
    },
    "executionInfo": {
     "elapsed": 31,
     "status": "ok",
     "timestamp": 1674523162704,
     "user": {
      "displayName": "GAURAV SINHA",
      "userId": "13858423673435577443"
     },
     "user_tz": -330
    },
    "id": "bad774d1",
    "outputId": "5fa4be76-7bcb-45fb-f959-f32719f870f6"
   },
   "outputs": [
    {
     "data": {
      "text/html": [
       "\n",
       "  <div id=\"df-ddad4619-444c-4637-98fd-eb38713e652b\">\n",
       "    <div class=\"colab-df-container\">\n",
       "      <div>\n",
       "<style scoped>\n",
       "    .dataframe tbody tr th:only-of-type {\n",
       "        vertical-align: middle;\n",
       "    }\n",
       "\n",
       "    .dataframe tbody tr th {\n",
       "        vertical-align: top;\n",
       "    }\n",
       "\n",
       "    .dataframe thead th {\n",
       "        text-align: right;\n",
       "    }\n",
       "</style>\n",
       "<table border=\"1\" class=\"dataframe\">\n",
       "  <thead>\n",
       "    <tr style=\"text-align: right;\">\n",
       "      <th></th>\n",
       "      <th>complaint_text</th>\n",
       "      <th>lemma</th>\n",
       "      <th>category</th>\n",
       "      <th>Complaint_clean</th>\n",
       "    </tr>\n",
       "  </thead>\n",
       "  <tbody>\n",
       "    <tr>\n",
       "      <th>1</th>\n",
       "      <td>good morning my name is xxxx xxxx and i apprec...</td>\n",
       "      <td>good morning xxxx xxxx appreciate help stop ch...</td>\n",
       "      <td>Debt collection+Credit card debt</td>\n",
       "      <td>morning help write chase debt verification sta...</td>\n",
       "    </tr>\n",
       "    <tr>\n",
       "      <th>2</th>\n",
       "      <td>i upgraded my xxxx xxxx card in and was told b...</td>\n",
       "      <td>upgrade xxxx xxxx card tell agent upgrade anni...</td>\n",
       "      <td>Credit card or prepaid card+General-purpose cr...</td>\n",
       "      <td>agent upgrade anniversary date change agent in...</td>\n",
       "    </tr>\n",
       "    <tr>\n",
       "      <th>10</th>\n",
       "      <td>chase card was reported on however fraudulent ...</td>\n",
       "      <td>chase card report fraudulent application submi...</td>\n",
       "      <td>Credit reporting, credit repair services, or o...</td>\n",
       "      <td>chase card report application submit identity ...</td>\n",
       "    </tr>\n",
       "    <tr>\n",
       "      <th>11</th>\n",
       "      <td>on while trying to book a xxxx  xxxx  ticket i...</td>\n",
       "      <td>try book xxxx   xxxx   ticket come offer apply...</td>\n",
       "      <td>Credit reporting, credit repair services, or o...</td>\n",
       "      <td>book ticket ticket reward card information off...</td>\n",
       "    </tr>\n",
       "    <tr>\n",
       "      <th>14</th>\n",
       "      <td>my grand son give me check for i deposit it in...</td>\n",
       "      <td>grand son check deposit chase account fund cle...</td>\n",
       "      <td>Checking or savings account+Checking account</td>\n",
       "      <td>son deposit chase account account pay money sp...</td>\n",
       "    </tr>\n",
       "  </tbody>\n",
       "</table>\n",
       "</div>\n",
       "      <button class=\"colab-df-convert\" onclick=\"convertToInteractive('df-ddad4619-444c-4637-98fd-eb38713e652b')\"\n",
       "              title=\"Convert this dataframe to an interactive table.\"\n",
       "              style=\"display:none;\">\n",
       "        \n",
       "  <svg xmlns=\"http://www.w3.org/2000/svg\" height=\"24px\"viewBox=\"0 0 24 24\"\n",
       "       width=\"24px\">\n",
       "    <path d=\"M0 0h24v24H0V0z\" fill=\"none\"/>\n",
       "    <path d=\"M18.56 5.44l.94 2.06.94-2.06 2.06-.94-2.06-.94-.94-2.06-.94 2.06-2.06.94zm-11 1L8.5 8.5l.94-2.06 2.06-.94-2.06-.94L8.5 2.5l-.94 2.06-2.06.94zm10 10l.94 2.06.94-2.06 2.06-.94-2.06-.94-.94-2.06-.94 2.06-2.06.94z\"/><path d=\"M17.41 7.96l-1.37-1.37c-.4-.4-.92-.59-1.43-.59-.52 0-1.04.2-1.43.59L10.3 9.45l-7.72 7.72c-.78.78-.78 2.05 0 2.83L4 21.41c.39.39.9.59 1.41.59.51 0 1.02-.2 1.41-.59l7.78-7.78 2.81-2.81c.8-.78.8-2.07 0-2.86zM5.41 20L4 18.59l7.72-7.72 1.47 1.35L5.41 20z\"/>\n",
       "  </svg>\n",
       "      </button>\n",
       "      \n",
       "  <style>\n",
       "    .colab-df-container {\n",
       "      display:flex;\n",
       "      flex-wrap:wrap;\n",
       "      gap: 12px;\n",
       "    }\n",
       "\n",
       "    .colab-df-convert {\n",
       "      background-color: #E8F0FE;\n",
       "      border: none;\n",
       "      border-radius: 50%;\n",
       "      cursor: pointer;\n",
       "      display: none;\n",
       "      fill: #1967D2;\n",
       "      height: 32px;\n",
       "      padding: 0 0 0 0;\n",
       "      width: 32px;\n",
       "    }\n",
       "\n",
       "    .colab-df-convert:hover {\n",
       "      background-color: #E2EBFA;\n",
       "      box-shadow: 0px 1px 2px rgba(60, 64, 67, 0.3), 0px 1px 3px 1px rgba(60, 64, 67, 0.15);\n",
       "      fill: #174EA6;\n",
       "    }\n",
       "\n",
       "    [theme=dark] .colab-df-convert {\n",
       "      background-color: #3B4455;\n",
       "      fill: #D2E3FC;\n",
       "    }\n",
       "\n",
       "    [theme=dark] .colab-df-convert:hover {\n",
       "      background-color: #434B5C;\n",
       "      box-shadow: 0px 1px 3px 1px rgba(0, 0, 0, 0.15);\n",
       "      filter: drop-shadow(0px 1px 2px rgba(0, 0, 0, 0.3));\n",
       "      fill: #FFFFFF;\n",
       "    }\n",
       "  </style>\n",
       "\n",
       "      <script>\n",
       "        const buttonEl =\n",
       "          document.querySelector('#df-ddad4619-444c-4637-98fd-eb38713e652b button.colab-df-convert');\n",
       "        buttonEl.style.display =\n",
       "          google.colab.kernel.accessAllowed ? 'block' : 'none';\n",
       "\n",
       "        async function convertToInteractive(key) {\n",
       "          const element = document.querySelector('#df-ddad4619-444c-4637-98fd-eb38713e652b');\n",
       "          const dataTable =\n",
       "            await google.colab.kernel.invokeFunction('convertToInteractive',\n",
       "                                                     [key], {});\n",
       "          if (!dataTable) return;\n",
       "\n",
       "          const docLinkHtml = 'Like what you see? Visit the ' +\n",
       "            '<a target=\"_blank\" href=https://colab.research.google.com/notebooks/data_table.ipynb>data table notebook</a>'\n",
       "            + ' to learn more about interactive tables.';\n",
       "          element.innerHTML = '';\n",
       "          dataTable['output_type'] = 'display_data';\n",
       "          await google.colab.output.renderOutput(dataTable, element);\n",
       "          const docLink = document.createElement('div');\n",
       "          docLink.innerHTML = docLinkHtml;\n",
       "          element.appendChild(docLink);\n",
       "        }\n",
       "      </script>\n",
       "    </div>\n",
       "  </div>\n",
       "  "
      ],
      "text/plain": [
       "                                       complaint_text  \\\n",
       "1   good morning my name is xxxx xxxx and i apprec...   \n",
       "2   i upgraded my xxxx xxxx card in and was told b...   \n",
       "10  chase card was reported on however fraudulent ...   \n",
       "11  on while trying to book a xxxx  xxxx  ticket i...   \n",
       "14  my grand son give me check for i deposit it in...   \n",
       "\n",
       "                                                lemma  \\\n",
       "1   good morning xxxx xxxx appreciate help stop ch...   \n",
       "2   upgrade xxxx xxxx card tell agent upgrade anni...   \n",
       "10  chase card report fraudulent application submi...   \n",
       "11  try book xxxx   xxxx   ticket come offer apply...   \n",
       "14  grand son check deposit chase account fund cle...   \n",
       "\n",
       "                                             category  \\\n",
       "1                    Debt collection+Credit card debt   \n",
       "2   Credit card or prepaid card+General-purpose cr...   \n",
       "10  Credit reporting, credit repair services, or o...   \n",
       "11  Credit reporting, credit repair services, or o...   \n",
       "14       Checking or savings account+Checking account   \n",
       "\n",
       "                                      Complaint_clean  \n",
       "1   morning help write chase debt verification sta...  \n",
       "2   agent upgrade anniversary date change agent in...  \n",
       "10  chase card report application submit identity ...  \n",
       "11  book ticket ticket reward card information off...  \n",
       "14  son deposit chase account account pay money sp...  "
      ]
     },
     "execution_count": 46,
     "metadata": {},
     "output_type": "execute_result"
    }
   ],
   "source": [
    "#All masked texts has been removed\n",
    "df_clean.head()"
   ]
  },
  {
   "cell_type": "markdown",
   "id": "dfa2f769",
   "metadata": {
    "id": "dfa2f769"
   },
   "source": [
    "# Feature Extraction"
   ]
  },
  {
   "cell_type": "markdown",
   "id": "9dcb8698",
   "metadata": {
    "id": "9dcb8698"
   },
   "source": [
    "Convert the raw texts to a matrix of TF-IDF features\n",
    "max_df is used for removing terms that appear too frequently, also known as \"corpus-specific stop words\" max_df = 0.95 means \"ignore terms that appear in more than 95% of the complaints\"\n",
    "\n",
    "min_df is used for removing terms that appear too infrequently min_df = 2 means \"ignore terms that appear in less than 2 complaints\""
   ]
  },
  {
   "cell_type": "code",
   "execution_count": 47,
   "id": "9df80a52",
   "metadata": {
    "executionInfo": {
     "elapsed": 30,
     "status": "ok",
     "timestamp": 1674523162705,
     "user": {
      "displayName": "GAURAV SINHA",
      "userId": "13858423673435577443"
     },
     "user_tz": -330
    },
    "id": "9df80a52"
   },
   "outputs": [],
   "source": [
    "#Write your code here to initialise the TfidfVectorizer \n",
    "tfidf = TfidfVectorizer(min_df=2, max_df=0.95, stop_words='english')"
   ]
  },
  {
   "cell_type": "markdown",
   "id": "e537b82a",
   "metadata": {
    "id": "e537b82a"
   },
   "source": [
    "##Create a document term matrix using fit_transform\n",
    "The contents of a document term matrix are tuples of (complaint_id,token_id) tf-idf score: The tuples that are not there have a tf-idf score of 0"
   ]
  },
  {
   "cell_type": "code",
   "execution_count": 48,
   "id": "770575b5",
   "metadata": {
    "executionInfo": {
     "elapsed": 435,
     "status": "ok",
     "timestamp": 1674523165315,
     "user": {
      "displayName": "GAURAV SINHA",
      "userId": "13858423673435577443"
     },
     "user_tz": -330
    },
    "id": "770575b5"
   },
   "outputs": [],
   "source": [
    "#Write your code here to create the Document Term Matrix by transforming the complaints column present in df_clean.\n",
    "dtm = tfidf.fit_transform(df_clean.Complaint_clean) "
   ]
  },
  {
   "cell_type": "code",
   "execution_count": 49,
   "id": "d95fea26",
   "metadata": {
    "colab": {
     "base_uri": "https://localhost:8080/"
    },
    "executionInfo": {
     "elapsed": 8,
     "status": "ok",
     "timestamp": 1674523165316,
     "user": {
      "displayName": "GAURAV SINHA",
      "userId": "13858423673435577443"
     },
     "user_tz": -330
    },
    "id": "d95fea26",
    "outputId": "9d985373-89b8-4c93-f696-2e23900e3b98"
   },
   "outputs": [
    {
     "data": {
      "text/plain": [
       "['aarp',\n",
       " 'abate',\n",
       " 'abatement',\n",
       " 'abbreviation',\n",
       " 'abet',\n",
       " 'abhorrent',\n",
       " 'abide',\n",
       " 'ability',\n",
       " 'abovereference',\n",
       " 'absence']"
      ]
     },
     "execution_count": 49,
     "metadata": {},
     "output_type": "execute_result"
    }
   ],
   "source": [
    "tfidf.get_feature_names()[:10]"
   ]
  },
  {
   "cell_type": "code",
   "execution_count": 50,
   "id": "eb9a2372",
   "metadata": {
    "colab": {
     "base_uri": "https://localhost:8080/"
    },
    "executionInfo": {
     "elapsed": 4,
     "status": "ok",
     "timestamp": 1674523166892,
     "user": {
      "displayName": "GAURAV SINHA",
      "userId": "13858423673435577443"
     },
     "user_tz": -330
    },
    "id": "eb9a2372",
    "outputId": "a8f21949-5fd5-4b44-8072-cba0b6b31393"
   },
   "outputs": [
    {
     "data": {
      "text/plain": [
       "6116"
      ]
     },
     "execution_count": 50,
     "metadata": {},
     "output_type": "execute_result"
    }
   ],
   "source": [
    "len(tfidf.get_feature_names())"
   ]
  },
  {
   "cell_type": "markdown",
   "id": "bba6aa1f",
   "metadata": {
    "id": "bba6aa1f"
   },
   "source": [
    "# Non Semantic Topic Modelling"
   ]
  },
  {
   "cell_type": "markdown",
   "id": "83a817bf",
   "metadata": {
    "id": "83a817bf"
   },
   "source": [
    "### LDA"
   ]
  },
  {
   "cell_type": "markdown",
   "id": "tf_o7cQB3-71",
   "metadata": {
    "id": "tf_o7cQB3-71"
   },
   "source": [
    "Intuition behind LDA:\n",
    "1. Assign topics randomly to documents.\n",
    "2. Iterate over each document and calculate:\n",
    "      p(topic t | document d): the proportion of words in document d that are assigned to topic t. \n",
    "      p(word w| topic t):Tries to capture how many documents are in topic t because of word w.\n",
    "3. On each iteration update:\n",
    "   p(word w with topic t) = p(topic t | document d) * p(word w | topic t)"
   ]
  },
  {
   "cell_type": "code",
   "execution_count": 51,
   "id": "3cf216f7",
   "metadata": {
    "executionInfo": {
     "elapsed": 4,
     "status": "ok",
     "timestamp": 1674523168482,
     "user": {
      "displayName": "GAURAV SINHA",
      "userId": "13858423673435577443"
     },
     "user_tz": -330
    },
    "id": "3cf216f7"
   },
   "outputs": [],
   "source": [
    "import gensim, spacy, logging, warnings\n",
    "import gensim.corpora as corpora\n",
    "from gensim.utils import lemmatize, simple_preprocess\n",
    "from gensim.models import CoherenceModel\n",
    "import matplotlib.pyplot as plt"
   ]
  },
  {
   "cell_type": "code",
   "execution_count": 52,
   "id": "7514929c",
   "metadata": {
    "colab": {
     "base_uri": "https://localhost:8080/",
     "height": 337
    },
    "executionInfo": {
     "elapsed": 4,
     "status": "ok",
     "timestamp": 1674523170356,
     "user": {
      "displayName": "GAURAV SINHA",
      "userId": "13858423673435577443"
     },
     "user_tz": -330
    },
    "id": "7514929c",
    "outputId": "07cdbb33-4ae6-4313-f62f-5143cd78f516"
   },
   "outputs": [
    {
     "data": {
      "text/html": [
       "\n",
       "  <div id=\"df-8163e607-eb4c-4862-8614-776ee98fe5c0\">\n",
       "    <div class=\"colab-df-container\">\n",
       "      <div>\n",
       "<style scoped>\n",
       "    .dataframe tbody tr th:only-of-type {\n",
       "        vertical-align: middle;\n",
       "    }\n",
       "\n",
       "    .dataframe tbody tr th {\n",
       "        vertical-align: top;\n",
       "    }\n",
       "\n",
       "    .dataframe thead th {\n",
       "        text-align: right;\n",
       "    }\n",
       "</style>\n",
       "<table border=\"1\" class=\"dataframe\">\n",
       "  <thead>\n",
       "    <tr style=\"text-align: right;\">\n",
       "      <th></th>\n",
       "      <th>complaint_text</th>\n",
       "      <th>lemma</th>\n",
       "      <th>category</th>\n",
       "      <th>Complaint_clean</th>\n",
       "    </tr>\n",
       "  </thead>\n",
       "  <tbody>\n",
       "    <tr>\n",
       "      <th>1</th>\n",
       "      <td>good morning my name is xxxx xxxx and i apprec...</td>\n",
       "      <td>good morning xxxx xxxx appreciate help stop ch...</td>\n",
       "      <td>Debt collection+Credit card debt</td>\n",
       "      <td>morning help write chase debt verification sta...</td>\n",
       "    </tr>\n",
       "    <tr>\n",
       "      <th>2</th>\n",
       "      <td>i upgraded my xxxx xxxx card in and was told b...</td>\n",
       "      <td>upgrade xxxx xxxx card tell agent upgrade anni...</td>\n",
       "      <td>Credit card or prepaid card+General-purpose cr...</td>\n",
       "      <td>agent upgrade anniversary date change agent in...</td>\n",
       "    </tr>\n",
       "    <tr>\n",
       "      <th>10</th>\n",
       "      <td>chase card was reported on however fraudulent ...</td>\n",
       "      <td>chase card report fraudulent application submi...</td>\n",
       "      <td>Credit reporting, credit repair services, or o...</td>\n",
       "      <td>chase card report application submit identity ...</td>\n",
       "    </tr>\n",
       "    <tr>\n",
       "      <th>11</th>\n",
       "      <td>on while trying to book a xxxx  xxxx  ticket i...</td>\n",
       "      <td>try book xxxx   xxxx   ticket come offer apply...</td>\n",
       "      <td>Credit reporting, credit repair services, or o...</td>\n",
       "      <td>book ticket ticket reward card information off...</td>\n",
       "    </tr>\n",
       "    <tr>\n",
       "      <th>14</th>\n",
       "      <td>my grand son give me check for i deposit it in...</td>\n",
       "      <td>grand son check deposit chase account fund cle...</td>\n",
       "      <td>Checking or savings account+Checking account</td>\n",
       "      <td>son deposit chase account account pay money sp...</td>\n",
       "    </tr>\n",
       "  </tbody>\n",
       "</table>\n",
       "</div>\n",
       "      <button class=\"colab-df-convert\" onclick=\"convertToInteractive('df-8163e607-eb4c-4862-8614-776ee98fe5c0')\"\n",
       "              title=\"Convert this dataframe to an interactive table.\"\n",
       "              style=\"display:none;\">\n",
       "        \n",
       "  <svg xmlns=\"http://www.w3.org/2000/svg\" height=\"24px\"viewBox=\"0 0 24 24\"\n",
       "       width=\"24px\">\n",
       "    <path d=\"M0 0h24v24H0V0z\" fill=\"none\"/>\n",
       "    <path d=\"M18.56 5.44l.94 2.06.94-2.06 2.06-.94-2.06-.94-.94-2.06-.94 2.06-2.06.94zm-11 1L8.5 8.5l.94-2.06 2.06-.94-2.06-.94L8.5 2.5l-.94 2.06-2.06.94zm10 10l.94 2.06.94-2.06 2.06-.94-2.06-.94-.94-2.06-.94 2.06-2.06.94z\"/><path d=\"M17.41 7.96l-1.37-1.37c-.4-.4-.92-.59-1.43-.59-.52 0-1.04.2-1.43.59L10.3 9.45l-7.72 7.72c-.78.78-.78 2.05 0 2.83L4 21.41c.39.39.9.59 1.41.59.51 0 1.02-.2 1.41-.59l7.78-7.78 2.81-2.81c.8-.78.8-2.07 0-2.86zM5.41 20L4 18.59l7.72-7.72 1.47 1.35L5.41 20z\"/>\n",
       "  </svg>\n",
       "      </button>\n",
       "      \n",
       "  <style>\n",
       "    .colab-df-container {\n",
       "      display:flex;\n",
       "      flex-wrap:wrap;\n",
       "      gap: 12px;\n",
       "    }\n",
       "\n",
       "    .colab-df-convert {\n",
       "      background-color: #E8F0FE;\n",
       "      border: none;\n",
       "      border-radius: 50%;\n",
       "      cursor: pointer;\n",
       "      display: none;\n",
       "      fill: #1967D2;\n",
       "      height: 32px;\n",
       "      padding: 0 0 0 0;\n",
       "      width: 32px;\n",
       "    }\n",
       "\n",
       "    .colab-df-convert:hover {\n",
       "      background-color: #E2EBFA;\n",
       "      box-shadow: 0px 1px 2px rgba(60, 64, 67, 0.3), 0px 1px 3px 1px rgba(60, 64, 67, 0.15);\n",
       "      fill: #174EA6;\n",
       "    }\n",
       "\n",
       "    [theme=dark] .colab-df-convert {\n",
       "      background-color: #3B4455;\n",
       "      fill: #D2E3FC;\n",
       "    }\n",
       "\n",
       "    [theme=dark] .colab-df-convert:hover {\n",
       "      background-color: #434B5C;\n",
       "      box-shadow: 0px 1px 3px 1px rgba(0, 0, 0, 0.15);\n",
       "      filter: drop-shadow(0px 1px 2px rgba(0, 0, 0, 0.3));\n",
       "      fill: #FFFFFF;\n",
       "    }\n",
       "  </style>\n",
       "\n",
       "      <script>\n",
       "        const buttonEl =\n",
       "          document.querySelector('#df-8163e607-eb4c-4862-8614-776ee98fe5c0 button.colab-df-convert');\n",
       "        buttonEl.style.display =\n",
       "          google.colab.kernel.accessAllowed ? 'block' : 'none';\n",
       "\n",
       "        async function convertToInteractive(key) {\n",
       "          const element = document.querySelector('#df-8163e607-eb4c-4862-8614-776ee98fe5c0');\n",
       "          const dataTable =\n",
       "            await google.colab.kernel.invokeFunction('convertToInteractive',\n",
       "                                                     [key], {});\n",
       "          if (!dataTable) return;\n",
       "\n",
       "          const docLinkHtml = 'Like what you see? Visit the ' +\n",
       "            '<a target=\"_blank\" href=https://colab.research.google.com/notebooks/data_table.ipynb>data table notebook</a>'\n",
       "            + ' to learn more about interactive tables.';\n",
       "          element.innerHTML = '';\n",
       "          dataTable['output_type'] = 'display_data';\n",
       "          await google.colab.output.renderOutput(dataTable, element);\n",
       "          const docLink = document.createElement('div');\n",
       "          docLink.innerHTML = docLinkHtml;\n",
       "          element.appendChild(docLink);\n",
       "        }\n",
       "      </script>\n",
       "    </div>\n",
       "  </div>\n",
       "  "
      ],
      "text/plain": [
       "                                       complaint_text  \\\n",
       "1   good morning my name is xxxx xxxx and i apprec...   \n",
       "2   i upgraded my xxxx xxxx card in and was told b...   \n",
       "10  chase card was reported on however fraudulent ...   \n",
       "11  on while trying to book a xxxx  xxxx  ticket i...   \n",
       "14  my grand son give me check for i deposit it in...   \n",
       "\n",
       "                                                lemma  \\\n",
       "1   good morning xxxx xxxx appreciate help stop ch...   \n",
       "2   upgrade xxxx xxxx card tell agent upgrade anni...   \n",
       "10  chase card report fraudulent application submi...   \n",
       "11  try book xxxx   xxxx   ticket come offer apply...   \n",
       "14  grand son check deposit chase account fund cle...   \n",
       "\n",
       "                                             category  \\\n",
       "1                    Debt collection+Credit card debt   \n",
       "2   Credit card or prepaid card+General-purpose cr...   \n",
       "10  Credit reporting, credit repair services, or o...   \n",
       "11  Credit reporting, credit repair services, or o...   \n",
       "14       Checking or savings account+Checking account   \n",
       "\n",
       "                                      Complaint_clean  \n",
       "1   morning help write chase debt verification sta...  \n",
       "2   agent upgrade anniversary date change agent in...  \n",
       "10  chase card report application submit identity ...  \n",
       "11  book ticket ticket reward card information off...  \n",
       "14  son deposit chase account account pay money sp...  "
      ]
     },
     "execution_count": 52,
     "metadata": {},
     "output_type": "execute_result"
    }
   ],
   "source": [
    "df_clean.head()"
   ]
  },
  {
   "cell_type": "code",
   "execution_count": 53,
   "id": "yebnfHLY9_bI",
   "metadata": {
    "executionInfo": {
     "elapsed": 2414,
     "status": "ok",
     "timestamp": 1674523175351,
     "user": {
      "displayName": "GAURAV SINHA",
      "userId": "13858423673435577443"
     },
     "user_tz": -330
    },
    "id": "yebnfHLY9_bI"
   },
   "outputs": [],
   "source": [
    "df_clean['text_for_lda'] = df['complaint_text'].apply(lambda x: clean_text(x))"
   ]
  },
  {
   "cell_type": "code",
   "execution_count": 54,
   "id": "cWhwXo0n-5aH",
   "metadata": {
    "executionInfo": {
     "elapsed": 488,
     "status": "ok",
     "timestamp": 1674523175832,
     "user": {
      "displayName": "GAURAV SINHA",
      "userId": "13858423673435577443"
     },
     "user_tz": -330
    },
    "id": "cWhwXo0n-5aH"
   },
   "outputs": [],
   "source": [
    "df_clean['text_for_lda'] = df_clean['text_for_lda'].str.replace('xxxx','')"
   ]
  },
  {
   "cell_type": "code",
   "execution_count": 55,
   "id": "XWxMCuc6-dCv",
   "metadata": {
    "executionInfo": {
     "elapsed": 5,
     "status": "ok",
     "timestamp": 1674523175833,
     "user": {
      "displayName": "GAURAV SINHA",
      "userId": "13858423673435577443"
     },
     "user_tz": -330
    },
    "id": "XWxMCuc6-dCv"
   },
   "outputs": [],
   "source": [
    "data = df_clean['text_for_lda'].to_list()"
   ]
  },
  {
   "cell_type": "code",
   "execution_count": 56,
   "id": "IcLw55zz-RSW",
   "metadata": {
    "executionInfo": {
     "elapsed": 11982,
     "status": "ok",
     "timestamp": 1674523189267,
     "user": {
      "displayName": "GAURAV SINHA",
      "userId": "13858423673435577443"
     },
     "user_tz": -330
    },
    "id": "IcLw55zz-RSW"
   },
   "outputs": [],
   "source": [
    "def sent_to_words(sentences):\n",
    "  for sentence in sentences:\n",
    "    yield(gensim.utils.simple_preprocess(str(sentence), deacc=True))#deacc=True removes punctuations\n",
    "data_words = list(sent_to_words(data))\n",
    "# print(data_words[:1])"
   ]
  },
  {
   "cell_type": "code",
   "execution_count": 57,
   "id": "QCsrdoRV_w3v",
   "metadata": {
    "executionInfo": {
     "elapsed": 19374,
     "status": "ok",
     "timestamp": 1674523208633,
     "user": {
      "displayName": "GAURAV SINHA",
      "userId": "13858423673435577443"
     },
     "user_tz": -330
    },
    "id": "QCsrdoRV_w3v"
   },
   "outputs": [],
   "source": [
    "bigram = gensim.models.Phrases(data_words, min_count=5, threshold=100) # higher threshold fewer phrases.\n",
    "bigram_mod = gensim.models.phrases.Phraser(bigram)\n"
   ]
  },
  {
   "cell_type": "markdown",
   "id": "MN1rpw7EDZJm",
   "metadata": {
    "id": "MN1rpw7EDZJm"
   },
   "source": [
    "## Note : This gensim bigram model combines the most frequently occuring words with an underscore like if cardmember and services occur frequently together then they will be combined as one token i.e cardmember_services."
   ]
  },
  {
   "cell_type": "code",
   "execution_count": 58,
   "id": "jxFPVr1DF5iF",
   "metadata": {
    "executionInfo": {
     "elapsed": 12,
     "status": "ok",
     "timestamp": 1674523208634,
     "user": {
      "displayName": "GAURAV SINHA",
      "userId": "13858423673435577443"
     },
     "user_tz": -330
    },
    "id": "jxFPVr1DF5iF"
   },
   "outputs": [],
   "source": [
    "def lemmatization(texts, allowed_postags=['NOUN', 'ADJ', 'VERB', 'ADV']):\n",
    "    \"\"\"https://spacy.io/api/annotation\"\"\"\n",
    "    texts_out = []\n",
    "    for sent in texts:\n",
    "        doc = nlp(\" \".join(sent)) \n",
    "        texts_out.append([token.lemma_ for token in doc if token.pos_ in allowed_postags])\n",
    "    return texts_out"
   ]
  },
  {
   "cell_type": "code",
   "execution_count": 59,
   "id": "REY52VUaFIDz",
   "metadata": {
    "colab": {
     "base_uri": "https://localhost:8080/"
    },
    "executionInfo": {
     "elapsed": 12,
     "status": "ok",
     "timestamp": 1674523208635,
     "user": {
      "displayName": "GAURAV SINHA",
      "userId": "13858423673435577443"
     },
     "user_tz": -330
    },
    "id": "REY52VUaFIDz",
    "outputId": "8becad16-aff7-4cde-f760-3812a721b06f"
   },
   "outputs": [
    {
     "name": "stderr",
     "output_type": "stream",
     "text": [
      "[nltk_data] Downloading package stopwords to /root/nltk_data...\n",
      "[nltk_data]   Unzipping corpora/stopwords.zip.\n"
     ]
    },
    {
     "data": {
      "text/plain": [
       "True"
      ]
     },
     "execution_count": 59,
     "metadata": {},
     "output_type": "execute_result"
    }
   ],
   "source": [
    "import nltk \n",
    "nltk.download('stopwords')"
   ]
  },
  {
   "cell_type": "code",
   "execution_count": 60,
   "id": "oc3S_T5BEu4H",
   "metadata": {
    "executionInfo": {
     "elapsed": 7,
     "status": "ok",
     "timestamp": 1674523208636,
     "user": {
      "displayName": "GAURAV SINHA",
      "userId": "13858423673435577443"
     },
     "user_tz": -330
    },
    "id": "oc3S_T5BEu4H"
   },
   "outputs": [],
   "source": [
    "from nltk.corpus import stopwords\n",
    "stop_words = stopwords.words('english')\n",
    "stop_words.extend(['from', 'subject', 're', 'edu', 'use', 'not', 'would', 'say', 'could', '_', 'be', 'know', 'good', 'go', 'get', 'do', 'done', 'try', 'many', 'some', 'nice', 'thank', 'think', 'see', 'rather', 'easy', 'easily', 'lot', 'lack', 'make', 'want', 'seem', 'run', 'need', 'even', 'right', 'line', 'even', 'also', 'may', 'take', 'come'])"
   ]
  },
  {
   "cell_type": "code",
   "execution_count": 61,
   "id": "aReUS3n7EeW2",
   "metadata": {
    "executionInfo": {
     "elapsed": 465048,
     "status": "ok",
     "timestamp": 1674523673677,
     "user": {
      "displayName": "GAURAV SINHA",
      "userId": "13858423673435577443"
     },
     "user_tz": -330
    },
    "id": "aReUS3n7EeW2"
   },
   "outputs": [],
   "source": [
    "#removing stop words\n",
    "data_words_wo_stop = [[word for word in simple_preprocess(str(doc)) if word not in stop_words] for doc in data_words]\n",
    "#make bigrams\n",
    "data_words_bigrams = [bigram_mod[doc] for doc in data_words_wo_stop]\n",
    "#lemmatization\n",
    "data_words_pos = lemmatization(data_words_bigrams, allowed_postags=['NOUN', 'ADJ', 'VERB', 'ADV'])"
   ]
  },
  {
   "cell_type": "code",
   "execution_count": 62,
   "id": "KbDtznwyI2OZ",
   "metadata": {
    "executionInfo": {
     "elapsed": 2989,
     "status": "ok",
     "timestamp": 1674523676608,
     "user": {
      "displayName": "GAURAV SINHA",
      "userId": "13858423673435577443"
     },
     "user_tz": -330
    },
    "id": "KbDtznwyI2OZ"
   },
   "outputs": [],
   "source": [
    "# Create Dictionary \n",
    "id2word = corpora.Dictionary(data_words_pos)  \n",
    "# Create Corpus \n",
    "texts = data_words_pos  \n",
    "# Term Document Frequency \n",
    "corpus = [id2word.doc2bow(text) for text in texts]"
   ]
  },
  {
   "cell_type": "code",
   "execution_count": 63,
   "id": "MZx5uSxYJRey",
   "metadata": {
    "colab": {
     "base_uri": "https://localhost:8080/"
    },
    "executionInfo": {
     "elapsed": 8,
     "status": "ok",
     "timestamp": 1674523676609,
     "user": {
      "displayName": "GAURAV SINHA",
      "userId": "13858423673435577443"
     },
     "user_tz": -330
    },
    "id": "MZx5uSxYJRey",
    "outputId": "686d5bdb-e72e-45ff-adaa-6890e75e8e38"
   },
   "outputs": [
    {
     "data": {
      "text/plain": [
       "[[('acceptable', 1),\n",
       "  ('account', 1),\n",
       "  ('advance', 1),\n",
       "  ('appreciate', 1),\n",
       "  ('ask', 2),\n",
       "  ('attempt', 1),\n",
       "  ('bank', 1),\n",
       "  ('cardmember_service', 1),\n",
       "  ('chase', 3),\n",
       "  ('collect', 1),\n",
       "  ('consumer', 1),\n",
       "  ('debt', 3),\n",
       "  ('help', 2),\n",
       "  ('information', 1),\n",
       "  ('instead', 1),\n",
       "  ('mail', 1),\n",
       "  ('month', 1),\n",
       "  ('morning', 1),\n",
       "  ('name', 1),\n",
       "  ('put', 1),\n",
       "  ('receive', 1),\n",
       "  ('send', 1),\n",
       "  ('statement', 1),\n",
       "  ('stop', 1),\n",
       "  ('thank', 1),\n",
       "  ('validate', 1),\n",
       "  ('verification', 1),\n",
       "  ('write', 1)]]"
      ]
     },
     "execution_count": 63,
     "metadata": {},
     "output_type": "execute_result"
    }
   ],
   "source": [
    "[[(id2word[id], freq) for id, freq in cp] for cp in corpus[:1]]"
   ]
  },
  {
   "cell_type": "markdown",
   "id": "iB2448l8J5DW",
   "metadata": {
    "id": "iB2448l8J5DW"
   },
   "source": [
    "Parameters of LDA"
   ]
  },
  {
   "cell_type": "markdown",
   "id": "UT4c9uvcJxKh",
   "metadata": {
    "id": "UT4c9uvcJxKh"
   },
   "source": [
    "1. Alpha and Beta are Hyperparameters — alpha represents document-topic density and Beta represents topic-word density, chunksize is the number of documents to be used in each training chunk, update_every determines how often the model parameters should be updated and passes is the total number of training passes.\n",
    "2. A measure for best number of topics really depends on kind of corpus you are using, the size of corpus, number of topics you expect to see."
   ]
  },
  {
   "cell_type": "code",
   "execution_count": 67,
   "id": "EIw_-cJkJ8Yw",
   "metadata": {
    "executionInfo": {
     "elapsed": 186239,
     "status": "ok",
     "timestamp": 1674523983110,
     "user": {
      "displayName": "GAURAV SINHA",
      "userId": "13858423673435577443"
     },
     "user_tz": -330
    },
    "id": "EIw_-cJkJ8Yw"
   },
   "outputs": [],
   "source": [
    "lda_model = gensim.models.ldamodel.LdaModel(corpus=corpus,\n",
    "                                           id2word=id2word,\n",
    "                                           num_topics=20, \n",
    "                                           random_state=100,\n",
    "                                           update_every=1,\n",
    "                                           chunksize=100,\n",
    "                                           passes=10,\n",
    "                                           alpha='auto',\n",
    "                                           per_word_topics=True)"
   ]
  },
  {
   "cell_type": "code",
   "execution_count": 64,
   "id": "Va4obbWiLrtR",
   "metadata": {
    "executionInfo": {
     "elapsed": 113920,
     "status": "ok",
     "timestamp": 1674523790524,
     "user": {
      "displayName": "GAURAV SINHA",
      "userId": "13858423673435577443"
     },
     "user_tz": -330
    },
    "id": "Va4obbWiLrtR"
   },
   "outputs": [],
   "source": [
    "lda_model5 = gensim.models.ldamodel.LdaModel(corpus=corpus,\n",
    "                                           id2word=id2word,\n",
    "                                           num_topics=5, \n",
    "                                           random_state=100,\n",
    "                                           update_every=1,\n",
    "                                           chunksize=100,\n",
    "                                           passes=10,\n",
    "                                           alpha='auto',\n",
    "                                           per_word_topics=True)"
   ]
  },
  {
   "cell_type": "code",
   "execution_count": 68,
   "id": "n5uO0i6xMqBm",
   "metadata": {
    "colab": {
     "base_uri": "https://localhost:8080/"
    },
    "executionInfo": {
     "elapsed": 1345,
     "status": "ok",
     "timestamp": 1674524228834,
     "user": {
      "displayName": "GAURAV SINHA",
      "userId": "13858423673435577443"
     },
     "user_tz": -330
    },
    "id": "n5uO0i6xMqBm",
    "outputId": "d87394b4-930f-44c9-c985-68bcab175283"
   },
   "outputs": [
    {
     "name": "stdout",
     "output_type": "stream",
     "text": [
      "[(0,\n",
      "  '0.065*\"payment\" + 0.042*\"chase\" + 0.041*\"pay\" + 0.029*\"loan\" + '\n",
      "  '0.024*\"mortgage\" + 0.022*\"fee\" + 0.019*\"month\" + 0.017*\"year\" + '\n",
      "  '0.015*\"interest\" + 0.015*\"balance\"'),\n",
      " (1,\n",
      "  '0.113*\"credit\" + 0.059*\"card\" + 0.046*\"chase\" + 0.044*\"report\" + '\n",
      "  '0.042*\"account\" + 0.014*\"remove\" + 0.013*\"information\" + 0.012*\"close\" + '\n",
      "  '0.011*\"letter\" + 0.009*\"company\"'),\n",
      " (2,\n",
      "  '0.017*\"request\" + 0.016*\"document\" + 0.015*\"letter\" + 0.011*\"file\" + '\n",
      "  '0.011*\"provide\" + 0.010*\"property\" + 0.010*\"state\" + 0.010*\"send\" + '\n",
      "  '0.008*\"home\" + 0.008*\"chase\"'),\n",
      " (3,\n",
      "  '0.049*\"chase\" + 0.045*\"charge\" + 0.034*\"card\" + 0.017*\"receive\" + '\n",
      "  '0.017*\"transaction\" + 0.016*\"dispute\" + 0.013*\"purchase\" + 0.012*\"claim\" + '\n",
      "  '0.010*\"email\" + 0.010*\"service\"'),\n",
      " (4,\n",
      "  '0.049*\"account\" + 0.032*\"call\" + 0.030*\"chase\" + 0.025*\"tell\" + '\n",
      "  '0.024*\"check\" + 0.021*\"bank\" + 0.019*\"say\" + 0.016*\"money\" + 0.014*\"day\" + '\n",
      "  '0.012*\"ask\"')]\n"
     ]
    }
   ],
   "source": [
    "pprint(lda_model5.print_topics())"
   ]
  },
  {
   "cell_type": "markdown",
   "id": "TQV5kpoSOCHj",
   "metadata": {
    "id": "TQV5kpoSOCHj"
   },
   "source": [
    "## LDA Quantitative analysis"
   ]
  },
  {
   "cell_type": "markdown",
   "id": "mMLBSkhIQcYf",
   "metadata": {
    "id": "mMLBSkhIQcYf"
   },
   "source": [
    "Perplexity measures how well a topic model can predict the topic of a text.\n",
    "It is a normalized log likelihood of a set of words appearing in a topic i.e  as the likelihood of the words appearing in new documents increases, as assessed by the trained LDA model, the perplexity decreases.\n",
    "\n",
    "It is often a useless metric and doesnt comply with the topic coherence."
   ]
  },
  {
   "cell_type": "code",
   "execution_count": 69,
   "id": "x-wg-p1qOH8m",
   "metadata": {
    "colab": {
     "base_uri": "https://localhost:8080/"
    },
    "executionInfo": {
     "elapsed": 10434,
     "status": "ok",
     "timestamp": 1674524241804,
     "user": {
      "displayName": "GAURAV SINHA",
      "userId": "13858423673435577443"
     },
     "user_tz": -330
    },
    "id": "x-wg-p1qOH8m",
    "outputId": "cc7d0d07-b85c-4b8b-fbfe-140b25b88461"
   },
   "outputs": [
    {
     "name": "stdout",
     "output_type": "stream",
     "text": [
      "\n",
      "Perplexity with 20 topics:  -6.842940334915204\n"
     ]
    }
   ],
   "source": [
    "print('\\nPerplexity with 20 topics: ', lda_model.log_perplexity(corpus))  "
   ]
  },
  {
   "cell_type": "markdown",
   "id": "pkeGpSqkTo33",
   "metadata": {
    "id": "pkeGpSqkTo33"
   },
   "source": [
    "Topic Coherence measures score a single topic by measuring the degree of semantic similarity between high scoring words in the topic"
   ]
  },
  {
   "cell_type": "code",
   "execution_count": 70,
   "id": "wtQoQo_LOmfW",
   "metadata": {
    "colab": {
     "base_uri": "https://localhost:8080/"
    },
    "executionInfo": {
     "elapsed": 76588,
     "status": "ok",
     "timestamp": 1674524318388,
     "user": {
      "displayName": "GAURAV SINHA",
      "userId": "13858423673435577443"
     },
     "user_tz": -330
    },
    "id": "wtQoQo_LOmfW",
    "outputId": "7f125d18-8c55-4875-d6f9-890cdb3945a5"
   },
   "outputs": [
    {
     "name": "stdout",
     "output_type": "stream",
     "text": [
      "\n",
      "Coherence Score 20 topics:  0.4358229133096879\n"
     ]
    }
   ],
   "source": [
    "coherence_model_lda = CoherenceModel(model=lda_model, texts=data_words_pos, dictionary=id2word, coherence='c_v')\n",
    "coherence_lda = coherence_model_lda.get_coherence()\n",
    "print('\\nCoherence Score 20 topics: ', coherence_lda)"
   ]
  },
  {
   "cell_type": "code",
   "execution_count": 71,
   "id": "GRjA7TnkOYPJ",
   "metadata": {
    "colab": {
     "base_uri": "https://localhost:8080/"
    },
    "executionInfo": {
     "elapsed": 10289,
     "status": "ok",
     "timestamp": 1674524328660,
     "user": {
      "displayName": "GAURAV SINHA",
      "userId": "13858423673435577443"
     },
     "user_tz": -330
    },
    "id": "GRjA7TnkOYPJ",
    "outputId": "4a808469-9f02-494e-c3b4-d28f6bb07ecb"
   },
   "outputs": [
    {
     "name": "stdout",
     "output_type": "stream",
     "text": [
      "\n",
      "Perplexity with 5 topics:  -6.752489837275625\n"
     ]
    }
   ],
   "source": [
    "print('\\nPerplexity with 5 topics: ', lda_model5.log_perplexity(corpus))  "
   ]
  },
  {
   "cell_type": "code",
   "execution_count": 72,
   "id": "xvfahnG5PMyg",
   "metadata": {
    "colab": {
     "base_uri": "https://localhost:8080/"
    },
    "executionInfo": {
     "elapsed": 24857,
     "status": "ok",
     "timestamp": 1674524353498,
     "user": {
      "displayName": "GAURAV SINHA",
      "userId": "13858423673435577443"
     },
     "user_tz": -330
    },
    "id": "xvfahnG5PMyg",
    "outputId": "41045bcc-4bd8-4aab-faf1-5b70bc11bba3"
   },
   "outputs": [
    {
     "name": "stdout",
     "output_type": "stream",
     "text": [
      "\n",
      "Coherence Score 5 topics:  0.4082476569002159\n"
     ]
    }
   ],
   "source": [
    "coherence_model_lda = CoherenceModel(model=lda_model5, texts=data_words_pos, dictionary=id2word, coherence='c_v')\n",
    "coherence_lda = coherence_model_lda.get_coherence()\n",
    "print('\\nCoherence Score 5 topics: ', coherence_lda)"
   ]
  },
  {
   "cell_type": "markdown",
   "id": "pnhUUwMiUAit",
   "metadata": {
    "id": "pnhUUwMiUAit"
   },
   "source": [
    "## Qualitative Analysis"
   ]
  },
  {
   "cell_type": "code",
   "execution_count": 73,
   "id": "8mgcpNM0TvoX",
   "metadata": {
    "colab": {
     "base_uri": "https://localhost:8080/",
     "height": 363
    },
    "executionInfo": {
     "elapsed": 91626,
     "status": "ok",
     "timestamp": 1674524714893,
     "user": {
      "displayName": "GAURAV SINHA",
      "userId": "13858423673435577443"
     },
     "user_tz": -330
    },
    "id": "8mgcpNM0TvoX",
    "outputId": "48826e5c-2bc4-4a6c-da66-ba98d8a7ee0e"
   },
   "outputs": [
    {
     "data": {
      "text/html": [
       "\n",
       "  <div id=\"df-8a8c23e5-a677-4690-84ef-4950052aa361\">\n",
       "    <div class=\"colab-df-container\">\n",
       "      <div>\n",
       "<style scoped>\n",
       "    .dataframe tbody tr th:only-of-type {\n",
       "        vertical-align: middle;\n",
       "    }\n",
       "\n",
       "    .dataframe tbody tr th {\n",
       "        vertical-align: top;\n",
       "    }\n",
       "\n",
       "    .dataframe thead th {\n",
       "        text-align: right;\n",
       "    }\n",
       "</style>\n",
       "<table border=\"1\" class=\"dataframe\">\n",
       "  <thead>\n",
       "    <tr style=\"text-align: right;\">\n",
       "      <th></th>\n",
       "      <th>Document_No</th>\n",
       "      <th>Dominant_Topic</th>\n",
       "      <th>Topic_Perc_Contrib</th>\n",
       "      <th>Keywords</th>\n",
       "      <th>Text</th>\n",
       "    </tr>\n",
       "  </thead>\n",
       "  <tbody>\n",
       "    <tr>\n",
       "      <th>0</th>\n",
       "      <td>0</td>\n",
       "      <td>4.0</td>\n",
       "      <td>0.4173</td>\n",
       "      <td>account, call, chase, tell, check, bank, say, ...</td>\n",
       "      <td>[morning, name, appreciate, help, put, stop, c...</td>\n",
       "    </tr>\n",
       "    <tr>\n",
       "      <th>1</th>\n",
       "      <td>1</td>\n",
       "      <td>3.0</td>\n",
       "      <td>0.5815</td>\n",
       "      <td>chase, charge, card, receive, transaction, dis...</td>\n",
       "      <td>[upgrade, card, tell, agent, upgrade, annivers...</td>\n",
       "    </tr>\n",
       "    <tr>\n",
       "      <th>2</th>\n",
       "      <td>2</td>\n",
       "      <td>1.0</td>\n",
       "      <td>0.7774</td>\n",
       "      <td>credit, card, chase, report, account, remove, ...</td>\n",
       "      <td>[chase, card, report, however, fraudulent, app...</td>\n",
       "    </tr>\n",
       "    <tr>\n",
       "      <th>3</th>\n",
       "      <td>3</td>\n",
       "      <td>3.0</td>\n",
       "      <td>0.3371</td>\n",
       "      <td>chase, charge, card, receive, transaction, dis...</td>\n",
       "      <td>[try, book, ticket, come, offer, apply, ticket...</td>\n",
       "    </tr>\n",
       "    <tr>\n",
       "      <th>4</th>\n",
       "      <td>4</td>\n",
       "      <td>4.0</td>\n",
       "      <td>0.7919</td>\n",
       "      <td>account, call, chase, tell, check, bank, say, ...</td>\n",
       "      <td>[son, give, check, deposit, chase, account, cl...</td>\n",
       "    </tr>\n",
       "    <tr>\n",
       "      <th>5</th>\n",
       "      <td>5</td>\n",
       "      <td>1.0</td>\n",
       "      <td>0.4343</td>\n",
       "      <td>credit, card, chase, report, account, remove, ...</td>\n",
       "      <td>[remove, inquiry]</td>\n",
       "    </tr>\n",
       "    <tr>\n",
       "      <th>6</th>\n",
       "      <td>6</td>\n",
       "      <td>4.0</td>\n",
       "      <td>0.6969</td>\n",
       "      <td>account, call, chase, tell, check, bank, say, ...</td>\n",
       "      <td>[notice, restrict, account, debit, card, go, b...</td>\n",
       "    </tr>\n",
       "    <tr>\n",
       "      <th>7</th>\n",
       "      <td>7</td>\n",
       "      <td>4.0</td>\n",
       "      <td>0.2567</td>\n",
       "      <td>account, call, chase, tell, check, bank, say, ...</td>\n",
       "      <td>[summer, month, experience, decline, income, d...</td>\n",
       "    </tr>\n",
       "    <tr>\n",
       "      <th>8</th>\n",
       "      <td>8</td>\n",
       "      <td>4.0</td>\n",
       "      <td>0.4893</td>\n",
       "      <td>account, call, chase, tell, check, bank, say, ...</td>\n",
       "      <td>[make, payment, online, retailer, use, chase, ...</td>\n",
       "    </tr>\n",
       "    <tr>\n",
       "      <th>9</th>\n",
       "      <td>9</td>\n",
       "      <td>1.0</td>\n",
       "      <td>0.5267</td>\n",
       "      <td>credit, card, chase, report, account, remove, ...</td>\n",
       "      <td>[chase, credit, card, incorrectly, report, dat...</td>\n",
       "    </tr>\n",
       "  </tbody>\n",
       "</table>\n",
       "</div>\n",
       "      <button class=\"colab-df-convert\" onclick=\"convertToInteractive('df-8a8c23e5-a677-4690-84ef-4950052aa361')\"\n",
       "              title=\"Convert this dataframe to an interactive table.\"\n",
       "              style=\"display:none;\">\n",
       "        \n",
       "  <svg xmlns=\"http://www.w3.org/2000/svg\" height=\"24px\"viewBox=\"0 0 24 24\"\n",
       "       width=\"24px\">\n",
       "    <path d=\"M0 0h24v24H0V0z\" fill=\"none\"/>\n",
       "    <path d=\"M18.56 5.44l.94 2.06.94-2.06 2.06-.94-2.06-.94-.94-2.06-.94 2.06-2.06.94zm-11 1L8.5 8.5l.94-2.06 2.06-.94-2.06-.94L8.5 2.5l-.94 2.06-2.06.94zm10 10l.94 2.06.94-2.06 2.06-.94-2.06-.94-.94-2.06-.94 2.06-2.06.94z\"/><path d=\"M17.41 7.96l-1.37-1.37c-.4-.4-.92-.59-1.43-.59-.52 0-1.04.2-1.43.59L10.3 9.45l-7.72 7.72c-.78.78-.78 2.05 0 2.83L4 21.41c.39.39.9.59 1.41.59.51 0 1.02-.2 1.41-.59l7.78-7.78 2.81-2.81c.8-.78.8-2.07 0-2.86zM5.41 20L4 18.59l7.72-7.72 1.47 1.35L5.41 20z\"/>\n",
       "  </svg>\n",
       "      </button>\n",
       "      \n",
       "  <style>\n",
       "    .colab-df-container {\n",
       "      display:flex;\n",
       "      flex-wrap:wrap;\n",
       "      gap: 12px;\n",
       "    }\n",
       "\n",
       "    .colab-df-convert {\n",
       "      background-color: #E8F0FE;\n",
       "      border: none;\n",
       "      border-radius: 50%;\n",
       "      cursor: pointer;\n",
       "      display: none;\n",
       "      fill: #1967D2;\n",
       "      height: 32px;\n",
       "      padding: 0 0 0 0;\n",
       "      width: 32px;\n",
       "    }\n",
       "\n",
       "    .colab-df-convert:hover {\n",
       "      background-color: #E2EBFA;\n",
       "      box-shadow: 0px 1px 2px rgba(60, 64, 67, 0.3), 0px 1px 3px 1px rgba(60, 64, 67, 0.15);\n",
       "      fill: #174EA6;\n",
       "    }\n",
       "\n",
       "    [theme=dark] .colab-df-convert {\n",
       "      background-color: #3B4455;\n",
       "      fill: #D2E3FC;\n",
       "    }\n",
       "\n",
       "    [theme=dark] .colab-df-convert:hover {\n",
       "      background-color: #434B5C;\n",
       "      box-shadow: 0px 1px 3px 1px rgba(0, 0, 0, 0.15);\n",
       "      filter: drop-shadow(0px 1px 2px rgba(0, 0, 0, 0.3));\n",
       "      fill: #FFFFFF;\n",
       "    }\n",
       "  </style>\n",
       "\n",
       "      <script>\n",
       "        const buttonEl =\n",
       "          document.querySelector('#df-8a8c23e5-a677-4690-84ef-4950052aa361 button.colab-df-convert');\n",
       "        buttonEl.style.display =\n",
       "          google.colab.kernel.accessAllowed ? 'block' : 'none';\n",
       "\n",
       "        async function convertToInteractive(key) {\n",
       "          const element = document.querySelector('#df-8a8c23e5-a677-4690-84ef-4950052aa361');\n",
       "          const dataTable =\n",
       "            await google.colab.kernel.invokeFunction('convertToInteractive',\n",
       "                                                     [key], {});\n",
       "          if (!dataTable) return;\n",
       "\n",
       "          const docLinkHtml = 'Like what you see? Visit the ' +\n",
       "            '<a target=\"_blank\" href=https://colab.research.google.com/notebooks/data_table.ipynb>data table notebook</a>'\n",
       "            + ' to learn more about interactive tables.';\n",
       "          element.innerHTML = '';\n",
       "          dataTable['output_type'] = 'display_data';\n",
       "          await google.colab.output.renderOutput(dataTable, element);\n",
       "          const docLink = document.createElement('div');\n",
       "          docLink.innerHTML = docLinkHtml;\n",
       "          element.appendChild(docLink);\n",
       "        }\n",
       "      </script>\n",
       "    </div>\n",
       "  </div>\n",
       "  "
      ],
      "text/plain": [
       "   Document_No  Dominant_Topic  Topic_Perc_Contrib  \\\n",
       "0            0             4.0              0.4173   \n",
       "1            1             3.0              0.5815   \n",
       "2            2             1.0              0.7774   \n",
       "3            3             3.0              0.3371   \n",
       "4            4             4.0              0.7919   \n",
       "5            5             1.0              0.4343   \n",
       "6            6             4.0              0.6969   \n",
       "7            7             4.0              0.2567   \n",
       "8            8             4.0              0.4893   \n",
       "9            9             1.0              0.5267   \n",
       "\n",
       "                                            Keywords  \\\n",
       "0  account, call, chase, tell, check, bank, say, ...   \n",
       "1  chase, charge, card, receive, transaction, dis...   \n",
       "2  credit, card, chase, report, account, remove, ...   \n",
       "3  chase, charge, card, receive, transaction, dis...   \n",
       "4  account, call, chase, tell, check, bank, say, ...   \n",
       "5  credit, card, chase, report, account, remove, ...   \n",
       "6  account, call, chase, tell, check, bank, say, ...   \n",
       "7  account, call, chase, tell, check, bank, say, ...   \n",
       "8  account, call, chase, tell, check, bank, say, ...   \n",
       "9  credit, card, chase, report, account, remove, ...   \n",
       "\n",
       "                                                Text  \n",
       "0  [morning, name, appreciate, help, put, stop, c...  \n",
       "1  [upgrade, card, tell, agent, upgrade, annivers...  \n",
       "2  [chase, card, report, however, fraudulent, app...  \n",
       "3  [try, book, ticket, come, offer, apply, ticket...  \n",
       "4  [son, give, check, deposit, chase, account, cl...  \n",
       "5                                  [remove, inquiry]  \n",
       "6  [notice, restrict, account, debit, card, go, b...  \n",
       "7  [summer, month, experience, decline, income, d...  \n",
       "8  [make, payment, online, retailer, use, chase, ...  \n",
       "9  [chase, credit, card, incorrectly, report, dat...  "
      ]
     },
     "execution_count": 73,
     "metadata": {},
     "output_type": "execute_result"
    }
   ],
   "source": [
    "def format_topics_sentences(ldamodel=None, corpus=corpus, texts=data):\n",
    "    # Init output\n",
    "    sent_topics_df = pd.DataFrame()\n",
    "\n",
    "    # Get main topic in each document\n",
    "    for i, row_list in enumerate(ldamodel[corpus]):\n",
    "        row = row_list[0] if ldamodel.per_word_topics else row_list            \n",
    "        # print(row)\n",
    "        row = sorted(row, key=lambda x: (x[1]), reverse=True)\n",
    "        # Get the Dominant topic, Perc Contribution and Keywords for each document\n",
    "        for j, (topic_num, prop_topic) in enumerate(row):\n",
    "            if j == 0:  # => dominant topic\n",
    "                wp = ldamodel.show_topic(topic_num)\n",
    "                topic_keywords = \", \".join([word for word, prop in wp])\n",
    "                sent_topics_df = sent_topics_df.append(pd.Series([int(topic_num), round(prop_topic,4), topic_keywords]), ignore_index=True)\n",
    "            else:\n",
    "                break\n",
    "    sent_topics_df.columns = ['Dominant_Topic', 'Perc_Contribution', 'Topic_Keywords']\n",
    "\n",
    "    # Add original text to the end of the output\n",
    "    contents = pd.Series(texts)\n",
    "    sent_topics_df = pd.concat([sent_topics_df, contents], axis=1)\n",
    "    return(sent_topics_df)\n",
    "\n",
    "\n",
    "df_topic_sents_keywords = format_topics_sentences(ldamodel=lda_model5, corpus=corpus, texts=data_words_pos)\n",
    "\n",
    "# Format\n",
    "df_dominant_topic = df_topic_sents_keywords.reset_index()\n",
    "df_dominant_topic.columns = ['Document_No', 'Dominant_Topic', 'Topic_Perc_Contrib', 'Keywords', 'Text']\n",
    "df_dominant_topic.head(10)"
   ]
  },
  {
   "cell_type": "code",
   "execution_count": 80,
   "id": "PC1VrBGXVJ1n",
   "metadata": {
    "executionInfo": {
     "elapsed": 3,
     "status": "ok",
     "timestamp": 1674525298869,
     "user": {
      "displayName": "GAURAV SINHA",
      "userId": "13858423673435577443"
     },
     "user_tz": -330
    },
    "id": "PC1VrBGXVJ1n"
   },
   "outputs": [],
   "source": [
    "df_dominant_topic.reset_index(inplace=True)"
   ]
  },
  {
   "cell_type": "code",
   "execution_count": 81,
   "id": "aTTVfhXEe6u-",
   "metadata": {
    "executionInfo": {
     "elapsed": 2,
     "status": "ok",
     "timestamp": 1674525318305,
     "user": {
      "displayName": "GAURAV SINHA",
      "userId": "13858423673435577443"
     },
     "user_tz": -330
    },
    "id": "aTTVfhXEe6u-"
   },
   "outputs": [],
   "source": [
    "df_clean.reset_index(inplace=True)"
   ]
  },
  {
   "cell_type": "code",
   "execution_count": 85,
   "id": "g9hQtEwTfKjC",
   "metadata": {
    "executionInfo": {
     "elapsed": 436,
     "status": "ok",
     "timestamp": 1674525505898,
     "user": {
      "displayName": "GAURAV SINHA",
      "userId": "13858423673435577443"
     },
     "user_tz": -330
    },
    "id": "g9hQtEwTfKjC"
   },
   "outputs": [],
   "source": [
    "lda_output = pd.concat([df_clean,df_dominant_topic],axis=1)"
   ]
  },
  {
   "cell_type": "code",
   "execution_count": 86,
   "id": "ZmTnOe7bf46l",
   "metadata": {
    "executionInfo": {
     "elapsed": 16076,
     "status": "ok",
     "timestamp": 1674525557881,
     "user": {
      "displayName": "GAURAV SINHA",
      "userId": "13858423673435577443"
     },
     "user_tz": -330
    },
    "id": "ZmTnOe7bf46l"
   },
   "outputs": [],
   "source": [
    "lda_output.to_excel('lda_output.xlsx')"
   ]
  },
  {
   "cell_type": "code",
   "execution_count": 122,
   "id": "VpyBLsMOUrZX",
   "metadata": {
    "colab": {
     "base_uri": "https://localhost:8080/"
    },
    "executionInfo": {
     "elapsed": 542,
     "status": "ok",
     "timestamp": 1674522576571,
     "user": {
      "displayName": "GAURAV SINHA",
      "userId": "13858423673435577443"
     },
     "user_tz": -330
    },
    "id": "VpyBLsMOUrZX",
    "outputId": "a17f54b9-260c-473f-cc2b-00c2e269bde8"
   },
   "outputs": [
    {
     "name": "stdout",
     "output_type": "stream",
     "text": [
      "[(0,\n",
      "  '0.065*\"payment\" + 0.042*\"chase\" + 0.041*\"pay\" + 0.029*\"loan\" + '\n",
      "  '0.024*\"mortgage\" + 0.022*\"fee\" + 0.019*\"month\" + 0.017*\"year\" + '\n",
      "  '0.015*\"interest\" + 0.015*\"balance\"'),\n",
      " (1,\n",
      "  '0.113*\"credit\" + 0.059*\"card\" + 0.046*\"chase\" + 0.044*\"report\" + '\n",
      "  '0.042*\"account\" + 0.014*\"remove\" + 0.013*\"information\" + 0.012*\"close\" + '\n",
      "  '0.011*\"letter\" + 0.009*\"company\"'),\n",
      " (2,\n",
      "  '0.017*\"request\" + 0.016*\"document\" + 0.015*\"letter\" + 0.011*\"file\" + '\n",
      "  '0.011*\"provide\" + 0.010*\"property\" + 0.010*\"state\" + 0.010*\"send\" + '\n",
      "  '0.008*\"home\" + 0.008*\"chase\"'),\n",
      " (3,\n",
      "  '0.049*\"chase\" + 0.045*\"charge\" + 0.034*\"card\" + 0.017*\"receive\" + '\n",
      "  '0.017*\"transaction\" + 0.016*\"dispute\" + 0.013*\"purchase\" + 0.012*\"claim\" + '\n",
      "  '0.010*\"email\" + 0.010*\"service\"'),\n",
      " (4,\n",
      "  '0.049*\"account\" + 0.032*\"call\" + 0.030*\"chase\" + 0.025*\"tell\" + '\n",
      "  '0.024*\"check\" + 0.021*\"bank\" + 0.019*\"say\" + 0.016*\"money\" + 0.014*\"day\" + '\n",
      "  '0.012*\"ask\"')]\n"
     ]
    }
   ],
   "source": [
    "pprint(lda_model5.print_topics())"
   ]
  },
  {
   "cell_type": "markdown",
   "id": "PaFC3kechedn",
   "metadata": {
    "id": "PaFC3kechedn"
   },
   "source": [
    "## Topic wise analysis\n",
    "We will try to use category column for sanity check"
   ]
  },
  {
   "cell_type": "markdown",
   "id": "LRlQODdglv1u",
   "metadata": {
    "id": "LRlQODdglv1u"
   },
   "source": [
    "Analysis on excel:\n",
    "\n",
    "Topic0/complaints regarding mortgage/loan = 51.05 %\n",
    "\n",
    "Topic1/complaints regarding credit or prepaid card = 73.16 %\n",
    "\n",
    "Topic 3/ theft dispute reporting = 62.08 % ---> Most of the fraudaulent keywords appeared in this category\n",
    "\n",
    "Topic 4/ bank account services = 75.9 %\n",
    "\n",
    "Topic 2 : others\n",
    "\n"
   ]
  },
  {
   "cell_type": "code",
   "execution_count": 99,
   "id": "R6IofrL1lu3_",
   "metadata": {
    "executionInfo": {
     "elapsed": 426,
     "status": "ok",
     "timestamp": 1674528120926,
     "user": {
      "displayName": "GAURAV SINHA",
      "userId": "13858423673435577443"
     },
     "user_tz": -330
    },
    "id": "R6IofrL1lu3_"
   },
   "outputs": [],
   "source": [
    "topic_mapping = {\n",
    "    4: 'Bank Account services',\n",
    "    1: 'Credit card or prepaid card',\n",
    "    2: 'Others',\n",
    "    3: 'Theft/Dispute Reporting',\n",
    "    0: 'Mortgage/Loan'\n",
    "}"
   ]
  },
  {
   "cell_type": "code",
   "execution_count": 110,
   "id": "0ij1uz7sqkzt",
   "metadata": {
    "executionInfo": {
     "elapsed": 499,
     "status": "ok",
     "timestamp": 1674529597789,
     "user": {
      "displayName": "GAURAV SINHA",
      "userId": "13858423673435577443"
     },
     "user_tz": -330
    },
    "id": "0ij1uz7sqkzt"
   },
   "outputs": [],
   "source": [
    "# !pip install pyLDAvis"
   ]
  },
  {
   "cell_type": "code",
   "execution_count": 107,
   "id": "bWtAGz4MrM9d",
   "metadata": {
    "executionInfo": {
     "elapsed": 431,
     "status": "ok",
     "timestamp": 1674528481557,
     "user": {
      "displayName": "GAURAV SINHA",
      "userId": "13858423673435577443"
     },
     "user_tz": -330
    },
    "id": "bWtAGz4MrM9d"
   },
   "outputs": [],
   "source": [
    "import pyLDAvis.gensim_models"
   ]
  },
  {
   "cell_type": "code",
   "execution_count": 108,
   "id": "6aeIZJXclXxV",
   "metadata": {
    "colab": {
     "base_uri": "https://localhost:8080/",
     "height": 882
    },
    "executionInfo": {
     "elapsed": 12615,
     "status": "ok",
     "timestamp": 1674528510275,
     "user": {
      "displayName": "GAURAV SINHA",
      "userId": "13858423673435577443"
     },
     "user_tz": -330
    },
    "id": "6aeIZJXclXxV",
    "outputId": "84baae52-e461-4529-b199-5cdaf92d9c0b"
   },
   "outputs": [
    {
     "data": {
      "text/html": [
       "\n",
       "<link rel=\"stylesheet\" type=\"text/css\" href=\"https://cdn.jsdelivr.net/gh/bmabey/pyLDAvis@3.3.1/pyLDAvis/js/ldavis.v1.0.0.css\">\n",
       "\n",
       "\n",
       "<div id=\"ldavis_el246140010728904960337629311\"></div>\n",
       "<script type=\"text/javascript\">\n",
       "\n",
       "var ldavis_el246140010728904960337629311_data = {\"mdsDat\": {\"x\": [-0.11174807305192941, -0.008578871616885881, -0.19607242393007446, 0.02974894303454478, 0.2866504255643448], \"y\": [-0.07055494973681152, -0.07825564459851364, 0.20644727001782964, -0.1885721677271959, 0.13093549204469157], \"topics\": [1, 2, 3, 4, 5], \"cluster\": [1, 1, 1, 1, 1], \"Freq\": [35.77662774216433, 20.112967962665262, 16.455155074735387, 14.076493220882211, 13.578755999552811]}, \"tinfo\": {\"Term\": [\"credit\", \"payment\", \"account\", \"card\", \"charge\", \"report\", \"pay\", \"check\", \"call\", \"loan\", \"mortgage\", \"chase\", \"fee\", \"money\", \"tell\", \"transaction\", \"say\", \"interest\", \"dispute\", \"bank\", \"year\", \"month\", \"close\", \"document\", \"balance\", \"fund\", \"remove\", \"letter\", \"purchase\", \"request\", \"check\", \"money\", \"fund\", \"deposit\", \"branch\", \"checking\", \"cash\", \"access\", \"talk\", \"withdraw\", \"atm\", \"saving\", \"banker\", \"wire\", \"daughter\", \"social_security\", \"withdrawal\", \"block\", \"son\", \"permission\", \"story\", \"cashier\", \"app\", \"teller\", \"freeze\", \"machine\", \"restrict\", \"lock\", \"cell\", \"identification\", \"manager\", \"rep\", \"tell\", \"wait\", \"bank\", \"say\", \"call\", \"go\", \"hold\", \"direct\", \"back\", \"happen\", \"banking\", \"speak\", \"account\", \"phone\", \"ask\", \"day\", \"transfer\", \"give\", \"number\", \"get\", \"person\", \"put\", \"business\", \"help\", \"close\", \"chase\", \"send\", \"take\", \"customer\", \"time\", \"receive\", \"still\", \"never\", \"refund\", \"merchant\", \"ticket\", \"visa\", \"book\", \"flight\", \"reward\", \"hotel\", \"travel\", \"product\", \"deliver\", \"billing\", \"seller\", \"vendor\", \"annual_fee\", \"mile\", \"store\", \"site\", \"advertise\", \"delivery\", \"cancellation\", \"trip\", \"cash_advance\", \"exchange\", \"gift\", \"ship\", \"recording\", \"activate\", \"shipping\", \"airline\", \"charge\", \"cancel\", \"dispute\", \"purchase\", \"benefit\", \"item\", \"valid\", \"transaction\", \"website\", \"unauthorized\", \"fraudulent\", \"email\", \"card\", \"point\", \"service\", \"claim\", \"chase\", \"receive\", \"provide\", \"use\", \"order\", \"contact\", \"statement\", \"fraud\", \"customer\", \"make\", \"issue\", \"return\", \"state\", \"amount\", \"call\", \"send\", \"time\", \"company\", \"credit\", \"payment\", \"interest\", \"rate\", \"modification\", \"income\", \"monthly\", \"foreclosure\", \"tax\", \"low\", \"refinance\", \"program\", \"escrow\", \"apr\", \"minimum\", \"taxis\", \"promotion\", \"hardship\", \"foreclose\", \"qualify\", \"principal\", \"payoff\", \"waive\", \"modify\", \"trial\", \"promotional\", \"arrangement\", \"market\", \"assess\", \"accrue\", \"calculate\", \"mortgage\", \"loan\", \"plan\", \"fee\", \"pay\", \"month\", \"late\", \"term\", \"balance\", \"year\", \"increase\", \"offer\", \"due\", \"home\", \"current\", \"statement\", \"chase\", \"amount\", \"time\", \"make\", \"full\", \"apply\", \"change\", \"date\", \"receive\", \"bill\", \"help\", \"report\", \"remove\", \"inquiry\", \"score\", \"limit\", \"negative\", \"history\", \"auto\", \"house\", \"collection\", \"reporting\", \"creditor\", \"bureaus\", \"affect\", \"involve\", \"identity\", \"bureau\", \"consent\", \"delete\", \"slate\", \"accurate\", \"impact\", \"effect\", \"extend\", \"inaccurate\", \"excellent\", \"delinquent\", \"fcra\", \"divorce\", \"student\", \"credit\", \"hard\", \"card\", \"drop\", \"application\", \"debt\", \"apply\", \"information\", \"account\", \"close\", \"chase\", \"open\", \"company\", \"letter\", \"reason\", \"never\", \"year\", \"balance\", \"approve\", \"request\", \"due\", \"use\", \"show\", \"late\", \"date\", \"receive\", \"law\", \"attorney\", \"sale\", \"contract\", \"legal\", \"title\", \"court\", \"lender\", \"vehicle\", \"federal\", \"lease\", \"buyer\", \"deed\", \"repair\", \"appraisal\", \"exhibit\", \"inspection\", \"investor\", \"borrower\", \"pmi\", \"county\", \"washington_mutual\", \"represent\", \"right\", \"contractor\", \"hire\", \"discrimination\", \"engage\", \"legally\", \"lawsuit\", \"chapter\", \"document\", \"property\", \"violation\", \"car\", \"certify\", \"require\", \"section\", \"agreement\", \"request\", \"damage\", \"act\", \"note\", \"copy\", \"documentation\", \"letter\", \"file\", \"provide\", \"complaint\", \"submit\", \"home\", \"record\", \"consumer\", \"state\", \"send\", \"original\", \"include\", \"information\", \"debt\", \"case\", \"company\", \"chase\", \"sign\"], \"Freq\": [33631.0, 21164.0, 46195.0, 29729.0, 18362.0, 12227.0, 16622.0, 16610.0, 25664.0, 10791.0, 8269.0, 68813.0, 8468.0, 11235.0, 19665.0, 8320.0, 15136.0, 4989.0, 7074.0, 16128.0, 8686.0, 8408.0, 9204.0, 4394.0, 7429.0, 7518.0, 3790.0, 10101.0, 5622.0, 8896.0, 16610.145730612083, 11235.059702979202, 7517.356184854954, 6087.733095045195, 4564.782809314945, 2509.60255796856, 2340.9178968332685, 2196.624435837357, 2038.4833464441601, 1690.1169866747273, 1604.250616846338, 1476.5632033021125, 1451.4043973599946, 1316.791937373222, 1048.3561463959416, 965.7251561624809, 785.8057166044183, 587.0563168711247, 558.6601186690349, 568.7003598510516, 554.7373112747372, 514.84177188364, 510.02246597422317, 494.07345097226914, 463.7724090682343, 427.3395571975978, 429.3782636623382, 425.71874571557623, 429.66923752292206, 397.3530660875143, 2665.0113518781263, 472.549025201267, 17682.071745510442, 2070.523330945835, 14585.691891765471, 13695.246815900606, 22620.86719622545, 7548.904914786812, 2910.587704038569, 1472.0264098451373, 6799.967442899188, 2628.5919725408426, 1833.2501668104221, 5064.034477771133, 34642.89371816522, 7009.181427540317, 8712.211508835366, 9917.828429579327, 5128.23438518116, 6302.794816358205, 6049.633427920113, 4226.287051816714, 2787.9153588853446, 2696.5339582392144, 4022.342142110044, 4111.187913399657, 5771.194938125098, 20929.99591198215, 6493.4252485301495, 3833.48614116018, 4839.698395937379, 6583.540066741925, 6364.408983159609, 3657.9314738100634, 3911.499009838987, 3467.2828741986627, 2541.4078559824416, 1760.537495007905, 1096.3107161114638, 1094.888002488174, 1030.1184637023118, 1005.323270648749, 947.9837459232034, 954.7030959169359, 967.9100495899926, 804.8883864356592, 795.0551935757094, 749.414147061378, 722.2093557706163, 703.9423612569525, 626.8890208663302, 588.4422241765529, 569.8289956813983, 557.799246782011, 467.28914884933323, 438.3258473127102, 413.3113773558369, 421.00962230377485, 410.63414861006953, 385.25674951573524, 379.7668141817698, 389.8696234194632, 376.8846483554549, 369.9753014829904, 338.3583938071803, 17917.196682115304, 2982.6914476076226, 6310.262421562702, 4988.7106366296175, 1290.4038425720732, 2201.041886988466, 987.5040203595153, 6754.6109020697895, 1656.9375635004844, 1321.3810925500527, 3398.375984810449, 4039.34398683263, 13416.62672830529, 2476.3275055792083, 3825.9064625564765, 4940.138308664146, 19539.42605547125, 6875.965058196717, 3625.4895897149727, 3238.746463304841, 2048.30748799007, 3482.7416187840213, 2505.293485730067, 2634.975545882383, 2873.4472140751427, 3272.6706507723397, 2605.705866296779, 2140.0515034254117, 2620.3935394462337, 2307.04647515165, 3042.7716565265237, 2596.417540518812, 2568.932556942376, 2218.609532271543, 2267.128657416329, 21164.16965892421, 4988.805433644701, 3188.3646200838134, 2775.8418698770033, 1846.877809827317, 1814.9439773989068, 1695.5377538754178, 1479.3955590406829, 1281.8072757142345, 1095.4451494218133, 893.787301990318, 884.2049759030734, 869.7246336044252, 862.3324951846565, 792.5530692467089, 629.1359604551111, 561.7463350861209, 550.5220294683671, 556.17444113519, 522.7255456510152, 510.50842750262973, 487.4381182393016, 413.52599112298213, 379.1342713475585, 368.41404214825343, 370.9993749460896, 356.64848065055986, 320.6834726667723, 289.6788056115934, 234.85683950276112, 7687.328834950292, 9533.764269640273, 807.2713752125028, 7263.683078044689, 13430.492242280547, 6162.429242308972, 3899.1703307609923, 1438.9331208726553, 4958.603015488009, 5386.385063052514, 1081.0066718013481, 2940.3159484407083, 3840.183452609031, 2962.9017156164728, 1115.4728638517709, 2599.153280261298, 13475.65894027936, 3256.9794674017608, 4506.217534849744, 3892.371023388781, 1648.6160643854028, 2135.487158052959, 1725.788082151186, 2112.2161401519875, 2159.161557997507, 1510.7597598009625, 1528.2706816192067, 12226.697586545568, 3789.614221412367, 2235.713549153181, 2189.3971742840686, 1565.5113124131215, 1486.193615429043, 1345.0198205940017, 1215.658873400321, 1238.2466392015517, 1003.2009919687683, 968.3114087579909, 864.405656240135, 681.2377362240378, 651.3224701327938, 660.976649414948, 562.3010763041033, 550.1737986055696, 552.1490709795376, 482.6168459268974, 444.7065621175214, 431.6560339920662, 369.1490323076998, 369.2307104280202, 361.2637160301564, 348.526874551994, 343.26265990133544, 341.15499592434725, 316.58384488480334, 306.0380262567223, 303.74554411907246, 31363.498353837098, 1081.4275571816659, 16312.333485032152, 586.6602908834412, 1842.5968530178488, 1931.6293010282368, 2447.69164031246, 3727.310526169162, 11552.306138163847, 3432.3906471818, 12731.617439967395, 2289.4461809875734, 2583.8719186597564, 2993.134960239215, 1556.138271354373, 2398.8942157734664, 2118.7012218693335, 1899.5014532003845, 1108.8117388858716, 1664.4645975974893, 1459.6086316682647, 1377.4468424153977, 1270.156377034975, 1221.4546261153516, 1233.6519782756404, 1272.0182632411222, 1756.7445732352694, 1583.86709635693, 1571.573233247769, 1328.1663673198095, 1325.7197920300534, 1121.3522459229284, 999.5855190322753, 911.1108987034191, 850.3366315386, 850.2982810313054, 810.0956624891985, 708.3026904587513, 656.4586039413322, 655.839944782193, 548.7922049497914, 488.6139296117512, 400.0212957299598, 391.9594266904051, 375.9115789647554, 371.89412948107963, 371.82587804980477, 366.243509613586, 341.0378725387059, 909.827559776387, 337.13039235521586, 336.6216401377138, 331.0649010649066, 336.0769693963065, 307.2541000016813, 306.1594268629745, 307.305296369956, 4253.294003716474, 2798.7127656633465, 871.6547119862188, 1978.568771394551, 458.07984810992707, 1607.8257495385224, 612.6814686851662, 1388.2604274381724, 4485.750708537201, 839.1116563083631, 1054.4145845467388, 1309.3133826508354, 1605.1682776379198, 1224.892504480851, 4120.4321320934505, 3038.735308450009, 2956.3601648203658, 1962.859031718579, 1511.1655096307193, 2139.5145636131074, 1556.6907420754903, 1595.4494484283148, 2658.982474080214, 2649.557104199599, 1214.7875511392642, 1353.4266928416773, 1925.9511270836513, 1333.7763917722643, 1394.6438226084626, 1506.038639211629, 2137.083827394657, 1259.455228825797], \"Total\": [33631.0, 21164.0, 46195.0, 29729.0, 18362.0, 12227.0, 16622.0, 16610.0, 25664.0, 10791.0, 8269.0, 68813.0, 8468.0, 11235.0, 19665.0, 8320.0, 15136.0, 4989.0, 7074.0, 16128.0, 8686.0, 8408.0, 9204.0, 4394.0, 7429.0, 7518.0, 3790.0, 10101.0, 5622.0, 8896.0, 16610.92839748695, 11235.842964178577, 7518.140578025751, 6088.509954071083, 4565.561613721627, 2510.3882253849724, 2341.70541722783, 2197.4125205550013, 2039.2723929659892, 1690.8971869311163, 1605.0277181802353, 1477.3475903389972, 1452.186755790466, 1317.5715609972283, 1049.148144402212, 966.521484075779, 786.5819014070755, 587.8454799908653, 559.4478828300563, 569.5159272834452, 555.5358963783332, 515.6269924816826, 510.8205283894156, 494.84743817588566, 464.55852129576635, 428.1172416076843, 430.1641041655642, 426.5084465297022, 430.4693725925721, 398.1705562463949, 2696.7218189830337, 474.38471780564646, 19665.711611331488, 2155.280879981557, 16128.489354451445, 15136.867746093876, 25664.221951743228, 8438.065221246117, 3138.5256176158437, 1552.4015361870074, 7832.078740690835, 2858.9264755035174, 1975.1037871594149, 5838.94307244912, 46195.79177921315, 8428.481598237879, 10698.022383452257, 13248.505269315041, 6285.375565034764, 8071.312357861653, 7766.135260384777, 5126.379976332483, 3174.315918666138, 3129.1791171845507, 5394.191264175961, 5640.055802105834, 9204.17842057339, 68813.7821750948, 12979.857210594377, 5433.138328816545, 8383.584100327971, 15010.151623142634, 17447.587415166137, 6047.060913202236, 9461.21908591242, 3468.0623131263337, 2542.17971687327, 1761.3087942510551, 1097.0884259612592, 1095.666747940992, 1030.8900365121206, 1006.1078496905014, 948.7542572989155, 955.4797645558141, 968.6986267881573, 805.6728683656552, 795.8334963467388, 750.1966197237487, 722.9828477786684, 704.7208511324475, 627.6702283873079, 589.2177367557906, 570.6166365490767, 558.5773077735262, 468.0699642127415, 439.1231536895154, 414.08438511310493, 421.79711189555746, 411.4145076798407, 386.0388718371199, 380.5411803187267, 390.6852732611226, 377.6733706390797, 370.75177050157134, 339.13037898328986, 18362.61644792397, 3007.2602387990964, 7074.779174176875, 5622.9744601147495, 1367.813344090032, 2423.369976826426, 1052.432651367019, 8320.864453389984, 1843.687159449917, 1475.085197205383, 4509.788710150618, 5809.155780518452, 29729.54360266467, 3698.416501276145, 6565.493996822613, 9342.637684518559, 68813.7821750948, 17447.587415166137, 7365.006272218446, 6369.902220084196, 3309.173464312611, 8903.134228876062, 5251.34211047799, 5849.474031884555, 8383.584100327971, 11715.129494912992, 7426.539359003832, 5069.746009230838, 9213.087035408062, 7595.887698075546, 25664.221951743228, 12979.857210594377, 15010.151623142634, 7195.967803121362, 33631.21146838442, 21164.964764281205, 4989.595357298375, 3189.152308749925, 2776.6254489496137, 1847.6713415175348, 1815.7368072945599, 1696.3299268420278, 1480.1973765436114, 1282.6052985041908, 1096.230799155885, 894.5807568480342, 884.9907083594323, 870.5168713691759, 863.1299123994689, 793.3483399528573, 629.9397562518129, 562.537190391285, 551.3111330752134, 556.9745848563771, 523.5078345798603, 511.29930349665904, 488.23943152826797, 414.31001888097705, 379.92032536730255, 369.20793569618934, 371.79957042880915, 357.45744453664827, 321.4823684654716, 290.4784759458391, 235.64413350698968, 8269.946147839293, 10791.421977564421, 838.1302345814814, 8468.691987775035, 16622.41959203249, 8408.324812154735, 5121.222621307658, 1688.673929403132, 7429.332505645388, 8686.728634863592, 1295.4957827751307, 4673.238042832152, 6681.695416275352, 5191.517940377432, 1404.5847519589292, 5251.34211047799, 68813.7821750948, 7595.887698075546, 15010.151623142634, 11715.129494912992, 2669.9172821574616, 4583.778173294065, 3645.258989804064, 5974.192672598192, 17447.587415166137, 3598.500117301874, 5640.055802105834, 12227.491182427415, 3790.411611387011, 2236.4985883318054, 2190.1808590262153, 1566.3018625573861, 1486.9982891861405, 1345.8160524801388, 1216.4594666474195, 1239.1019741179523, 1003.9968947142853, 969.0947544954521, 865.2015789251623, 682.0204330321226, 652.1185981657542, 661.8241039296236, 563.0967888761072, 550.9583894240888, 552.9487119539833, 483.406114472417, 445.49239529981804, 432.4518691681864, 369.938623754188, 370.0374201134704, 362.0702134150788, 349.3178180781016, 344.04892599755203, 341.947024135523, 317.36745911395457, 306.83756921546836, 304.5458691480929, 33631.21146838442, 1169.7647905825722, 29729.54360266467, 644.9647232597048, 2686.0690726151033, 3265.998854545008, 4583.778173294065, 9380.522248986388, 46195.79177921315, 9204.17842057339, 68813.7821750948, 5558.8945067156155, 7195.967803121362, 10101.968234187309, 3790.525280199692, 9461.21908591242, 8686.728634863592, 7429.332505645388, 2277.6442988010795, 8896.941134296416, 6681.695416275352, 6369.902220084196, 4924.301407224065, 5121.222621307658, 5974.192672598192, 17447.587415166137, 1757.5421331925143, 1584.6565136017357, 1572.3630760809763, 1328.9577528000266, 1326.513063224269, 1122.1379728420632, 1000.3723729489263, 911.9035551190261, 851.1310155570196, 851.097987246918, 810.8886942773252, 709.0930018890805, 657.2411730702206, 656.6427616745408, 549.5785002097034, 489.40933303232526, 400.8111798764357, 392.74380129537167, 376.694224058326, 372.68511678266765, 372.6182915535781, 367.0297845232766, 341.82861561785217, 911.9646993602471, 337.9268689928561, 337.42374900619654, 331.8728844483081, 336.90721822836235, 308.04524928781717, 306.94941210618094, 308.10128975023184, 4394.829192539642, 2981.764746376564, 955.7124195103963, 2614.978145291127, 488.5290734321501, 2241.0981750431974, 700.9970661546579, 1969.9975983022985, 8896.941134296416, 1056.2096877104523, 1438.7276725988274, 1923.431174048083, 2614.906438670752, 1872.3672800827367, 10101.968234187309, 6921.0048347543125, 7365.006272218446, 4000.5211250360862, 2818.1094072388255, 5191.517940377432, 2996.852838099201, 3231.275346572008, 9213.087035408062, 12979.857210594377, 2081.045755172565, 3069.058970402939, 9380.522248986388, 3265.998854545008, 4005.958671080881, 7195.967803121362, 68813.7821750948, 2925.15277887298], \"Category\": [\"Default\", \"Default\", \"Default\", \"Default\", \"Default\", \"Default\", \"Default\", \"Default\", \"Default\", \"Default\", \"Default\", \"Default\", \"Default\", \"Default\", \"Default\", \"Default\", \"Default\", \"Default\", \"Default\", \"Default\", \"Default\", \"Default\", \"Default\", \"Default\", \"Default\", \"Default\", \"Default\", \"Default\", \"Default\", \"Default\", \"Topic1\", \"Topic1\", \"Topic1\", \"Topic1\", \"Topic1\", \"Topic1\", \"Topic1\", \"Topic1\", \"Topic1\", \"Topic1\", \"Topic1\", \"Topic1\", \"Topic1\", \"Topic1\", \"Topic1\", \"Topic1\", \"Topic1\", \"Topic1\", \"Topic1\", \"Topic1\", \"Topic1\", \"Topic1\", \"Topic1\", \"Topic1\", \"Topic1\", \"Topic1\", \"Topic1\", \"Topic1\", \"Topic1\", \"Topic1\", \"Topic1\", \"Topic1\", \"Topic1\", \"Topic1\", \"Topic1\", \"Topic1\", \"Topic1\", \"Topic1\", \"Topic1\", \"Topic1\", \"Topic1\", \"Topic1\", \"Topic1\", \"Topic1\", \"Topic1\", \"Topic1\", \"Topic1\", \"Topic1\", \"Topic1\", \"Topic1\", \"Topic1\", \"Topic1\", \"Topic1\", \"Topic1\", \"Topic1\", \"Topic1\", \"Topic1\", \"Topic1\", \"Topic1\", \"Topic1\", \"Topic1\", \"Topic1\", \"Topic1\", \"Topic1\", \"Topic1\", \"Topic2\", \"Topic2\", \"Topic2\", \"Topic2\", \"Topic2\", \"Topic2\", \"Topic2\", \"Topic2\", \"Topic2\", \"Topic2\", \"Topic2\", \"Topic2\", \"Topic2\", \"Topic2\", \"Topic2\", \"Topic2\", \"Topic2\", \"Topic2\", \"Topic2\", \"Topic2\", \"Topic2\", \"Topic2\", \"Topic2\", \"Topic2\", \"Topic2\", \"Topic2\", \"Topic2\", \"Topic2\", \"Topic2\", \"Topic2\", \"Topic2\", \"Topic2\", \"Topic2\", \"Topic2\", \"Topic2\", \"Topic2\", \"Topic2\", \"Topic2\", \"Topic2\", \"Topic2\", \"Topic2\", \"Topic2\", \"Topic2\", \"Topic2\", \"Topic2\", \"Topic2\", \"Topic2\", \"Topic2\", \"Topic2\", \"Topic2\", \"Topic2\", \"Topic2\", \"Topic2\", \"Topic2\", \"Topic2\", \"Topic2\", \"Topic2\", \"Topic2\", \"Topic2\", \"Topic2\", \"Topic2\", \"Topic2\", \"Topic2\", \"Topic2\", \"Topic2\", \"Topic3\", \"Topic3\", \"Topic3\", \"Topic3\", \"Topic3\", \"Topic3\", \"Topic3\", \"Topic3\", \"Topic3\", \"Topic3\", \"Topic3\", \"Topic3\", \"Topic3\", \"Topic3\", \"Topic3\", \"Topic3\", \"Topic3\", \"Topic3\", \"Topic3\", \"Topic3\", \"Topic3\", \"Topic3\", \"Topic3\", \"Topic3\", \"Topic3\", \"Topic3\", \"Topic3\", \"Topic3\", \"Topic3\", \"Topic3\", \"Topic3\", \"Topic3\", \"Topic3\", \"Topic3\", \"Topic3\", \"Topic3\", \"Topic3\", \"Topic3\", \"Topic3\", \"Topic3\", \"Topic3\", \"Topic3\", \"Topic3\", \"Topic3\", \"Topic3\", \"Topic3\", \"Topic3\", \"Topic3\", \"Topic3\", \"Topic3\", \"Topic3\", \"Topic3\", \"Topic3\", \"Topic3\", \"Topic3\", \"Topic3\", \"Topic3\", \"Topic4\", \"Topic4\", \"Topic4\", \"Topic4\", \"Topic4\", \"Topic4\", \"Topic4\", \"Topic4\", \"Topic4\", \"Topic4\", \"Topic4\", \"Topic4\", \"Topic4\", \"Topic4\", \"Topic4\", \"Topic4\", \"Topic4\", \"Topic4\", \"Topic4\", \"Topic4\", \"Topic4\", \"Topic4\", \"Topic4\", \"Topic4\", \"Topic4\", \"Topic4\", \"Topic4\", \"Topic4\", \"Topic4\", \"Topic4\", \"Topic4\", \"Topic4\", \"Topic4\", \"Topic4\", \"Topic4\", \"Topic4\", \"Topic4\", \"Topic4\", \"Topic4\", \"Topic4\", \"Topic4\", \"Topic4\", \"Topic4\", \"Topic4\", \"Topic4\", \"Topic4\", \"Topic4\", \"Topic4\", \"Topic4\", \"Topic4\", \"Topic4\", \"Topic4\", \"Topic4\", \"Topic4\", \"Topic4\", \"Topic4\", \"Topic5\", \"Topic5\", \"Topic5\", \"Topic5\", \"Topic5\", \"Topic5\", \"Topic5\", \"Topic5\", \"Topic5\", \"Topic5\", \"Topic5\", \"Topic5\", \"Topic5\", \"Topic5\", \"Topic5\", \"Topic5\", \"Topic5\", \"Topic5\", \"Topic5\", \"Topic5\", \"Topic5\", \"Topic5\", \"Topic5\", \"Topic5\", \"Topic5\", \"Topic5\", \"Topic5\", \"Topic5\", \"Topic5\", \"Topic5\", \"Topic5\", \"Topic5\", \"Topic5\", \"Topic5\", \"Topic5\", \"Topic5\", \"Topic5\", \"Topic5\", \"Topic5\", \"Topic5\", \"Topic5\", \"Topic5\", \"Topic5\", \"Topic5\", \"Topic5\", \"Topic5\", \"Topic5\", \"Topic5\", \"Topic5\", \"Topic5\", \"Topic5\", \"Topic5\", \"Topic5\", \"Topic5\", \"Topic5\", \"Topic5\", \"Topic5\", \"Topic5\", \"Topic5\", \"Topic5\", \"Topic5\", \"Topic5\", \"Topic5\"], \"logprob\": [30.0, 29.0, 28.0, 27.0, 26.0, 25.0, 24.0, 23.0, 22.0, 21.0, 20.0, 19.0, 18.0, 17.0, 16.0, 15.0, 14.0, 13.0, 12.0, 11.0, 10.0, 9.0, 8.0, 7.0, 6.0, 5.0, 4.0, 3.0, 2.0, 1.0, -3.7491, -4.1401, -4.5419, -4.7529, -5.0408, -5.639, -5.7086, -5.7722, -5.8469, -6.0343, -6.0865, -6.1694, -6.1866, -6.2839, -6.5119, -6.594, -6.8002, -7.0918, -7.1413, -7.1235, -7.1484, -7.223, -7.2324, -7.2642, -7.3275, -7.4093, -7.4046, -7.4131, -7.4039, -7.4821, -5.5789, -7.3087, -3.6866, -5.8313, -3.8791, -3.9421, -3.4403, -4.5377, -5.4908, -6.1725, -4.6422, -5.5927, -5.953, -4.937, -3.014, -4.6119, -4.3944, -4.2648, -4.9244, -4.7181, -4.7591, -5.1178, -5.5338, -5.5672, -5.1673, -5.1454, -4.8063, -3.5179, -4.6883, -5.2154, -4.9823, -4.6746, -4.7084, -5.2622, -5.1952, -4.7398, -5.0505, -5.4176, -5.8913, -5.8926, -5.9535, -5.9779, -6.0366, -6.0296, -6.0158, -6.2003, -6.2125, -6.2717, -6.3086, -6.3343, -6.4502, -6.5135, -6.5456, -6.567, -6.744, -6.808, -6.8668, -6.8483, -6.8733, -6.937, -6.9514, -6.9251, -6.959, -6.9775, -7.0669, -3.0974, -4.8904, -4.141, -4.376, -5.7282, -5.1943, -5.9958, -4.073, -5.4782, -5.7045, -4.7599, -4.5871, -3.3867, -5.0764, -4.6414, -4.3858, -3.0108, -4.0552, -4.6952, -4.808, -5.2662, -4.7354, -5.0648, -5.0143, -4.9277, -4.7976, -5.0255, -5.2224, -5.0199, -5.1472, -4.8704, -5.0291, -5.0397, -5.1863, -5.1647, -2.7302, -4.1753, -4.623, -4.7615, -5.169, -5.1864, -5.2545, -5.3908, -5.5342, -5.6913, -5.8948, -5.9055, -5.9221, -5.9306, -6.015, -6.2459, -6.3592, -6.3794, -6.3692, -6.4312, -6.4548, -6.5011, -6.6655, -6.7523, -6.781, -6.774, -6.8135, -6.9198, -7.0215, -7.2313, -3.7429, -3.5276, -5.9966, -3.7996, -3.1849, -3.964, -4.4217, -5.4186, -4.1814, -4.0986, -5.7046, -4.704, -4.437, -4.6963, -5.6732, -4.8273, -3.1816, -4.6017, -4.277, -4.4235, -5.2825, -5.0238, -5.2368, -5.0347, -5.0128, -5.3699, -5.3583, -3.1227, -4.2941, -4.8218, -4.8427, -5.1781, -5.2301, -5.3299, -5.4311, -5.4126, -5.6231, -5.6585, -5.7721, -6.0102, -6.0551, -6.0404, -6.2021, -6.2239, -6.2203, -6.3549, -6.4367, -6.4665, -6.6229, -6.6227, -6.6445, -6.6804, -6.6956, -6.7018, -6.7765, -6.8104, -6.8179, -2.1807, -5.5481, -2.8344, -6.1597, -5.0152, -4.968, -4.7312, -4.3107, -3.1795, -4.3931, -3.0823, -4.798, -4.6771, -4.53, -5.1841, -4.7513, -4.8755, -4.9848, -5.5231, -5.1168, -5.2482, -5.3061, -5.3872, -5.4263, -5.4164, -5.3857, -5.0269, -5.1305, -5.1383, -5.3065, -5.3084, -5.4758, -5.5908, -5.6834, -5.7525, -5.7525, -5.8009, -5.9352, -6.0112, -6.0122, -6.1904, -6.3065, -6.5066, -6.5269, -6.5687, -6.5795, -6.5797, -6.5948, -6.6661, -5.6848, -6.6776, -6.6791, -6.6958, -6.6808, -6.7704, -6.774, -6.7703, -4.1427, -4.5612, -5.7277, -4.908, -6.3711, -5.1155, -6.0803, -5.2623, -4.0894, -5.7658, -5.5374, -5.3208, -5.1171, -5.3875, -4.1744, -4.4789, -4.5064, -4.9159, -5.1775, -4.8298, -5.1478, -5.1232, -4.6124, -4.616, -5.3958, -5.2877, -4.9349, -5.3023, -5.2577, -5.1809, -4.8309, -5.3597], \"loglift\": [30.0, 29.0, 28.0, 27.0, 26.0, 25.0, 24.0, 23.0, 22.0, 21.0, 20.0, 19.0, 18.0, 17.0, 16.0, 15.0, 14.0, 13.0, 12.0, 11.0, 10.0, 9.0, 8.0, 7.0, 6.0, 5.0, 4.0, 3.0, 2.0, 1.0, 1.0278, 1.0278, 1.0278, 1.0277, 1.0277, 1.0276, 1.0275, 1.0275, 1.0275, 1.0274, 1.0274, 1.0273, 1.0273, 1.0273, 1.0271, 1.0271, 1.0269, 1.0265, 1.0265, 1.0264, 1.0264, 1.0264, 1.0263, 1.0263, 1.0262, 1.0261, 1.026, 1.026, 1.026, 1.0258, 1.016, 1.024, 0.9215, 0.9878, 0.9273, 0.9278, 0.9017, 0.9165, 0.9525, 0.9747, 0.8866, 0.9439, 0.9533, 0.8855, 0.7401, 0.8435, 0.8225, 0.7383, 0.8244, 0.7806, 0.7781, 0.8348, 0.8981, 0.8791, 0.7344, 0.7117, 0.5611, -0.1623, 0.3353, 0.6791, 0.4785, 0.2037, 0.0194, 0.5252, 0.1446, 1.6036, 1.6035, 1.6034, 1.6031, 1.6031, 1.6031, 1.603, 1.603, 1.603, 1.603, 1.6028, 1.6028, 1.6028, 1.6027, 1.6027, 1.6026, 1.6025, 1.6024, 1.6024, 1.6021, 1.602, 1.6019, 1.6019, 1.6019, 1.6018, 1.6018, 1.6017, 1.6017, 1.6017, 1.6015, 1.5792, 1.5956, 1.4894, 1.4841, 1.5455, 1.5076, 1.5401, 1.3953, 1.497, 1.4938, 1.3209, 1.2405, 0.8082, 1.2027, 1.0638, 0.9666, 0.3448, 0.6726, 0.8951, 0.9274, 1.1241, 0.6652, 0.8637, 0.8063, 0.533, 0.3285, 0.5564, 0.7413, 0.3465, 0.4122, -0.5285, -0.0055, -0.1614, 0.4272, -1.0931, 1.8045, 1.8044, 1.8043, 1.8042, 1.8041, 1.8041, 1.8041, 1.804, 1.8039, 1.8038, 1.8036, 1.8036, 1.8036, 1.8036, 1.8035, 1.8033, 1.8031, 1.8031, 1.8031, 1.803, 1.803, 1.8029, 1.8026, 1.8025, 1.8024, 1.8024, 1.8023, 1.802, 1.8018, 1.8012, 1.7315, 1.6806, 1.767, 1.651, 1.5913, 1.4938, 1.5319, 1.6445, 1.4002, 1.3266, 1.6235, 1.3412, 1.2507, 1.2437, 1.5741, 1.1012, 0.174, 0.9577, 0.6013, 0.7027, 1.3224, 1.0407, 1.0568, 0.7648, -0.285, 0.9366, 0.4988, 1.9606, 1.9605, 1.9603, 1.9603, 1.9602, 1.9601, 1.9601, 1.96, 1.96, 1.9599, 1.9599, 1.9597, 1.9595, 1.9594, 1.9594, 1.9592, 1.9592, 1.9592, 1.959, 1.9589, 1.9588, 1.9585, 1.9585, 1.9584, 1.9584, 1.9584, 1.9583, 1.9582, 1.9581, 1.958, 1.8909, 1.8821, 1.3604, 1.8659, 1.5838, 1.4355, 1.3333, 1.0377, 0.5747, 0.9743, 0.2733, 1.0736, 0.9364, 0.7443, 1.0704, 0.5885, 0.5497, 0.5968, 1.2408, 0.2845, 0.4395, 0.4293, 0.6056, 0.5273, 0.3832, -0.6579, 1.9962, 1.9962, 1.9962, 1.9961, 1.9961, 1.996, 1.9959, 1.9958, 1.9957, 1.9957, 1.9957, 1.9955, 1.9955, 1.9954, 1.9952, 1.995, 1.9947, 1.9947, 1.9946, 1.9945, 1.9945, 1.9945, 1.9943, 1.9943, 1.9943, 1.9943, 1.9942, 1.9942, 1.9941, 1.9941, 1.9941, 1.9639, 1.9333, 1.9046, 1.7178, 1.9323, 1.6646, 1.862, 1.6467, 1.3119, 1.7666, 1.6859, 1.6121, 1.5087, 1.5723, 1.0999, 1.1735, 1.0839, 1.2846, 1.3735, 1.1102, 1.3417, 1.2909, 0.754, 0.4077, 1.4584, 1.1779, 0.4134, 1.1011, 0.9415, 0.4326, -1.4753, 1.154]}, \"token.table\": {\"Topic\": [1, 1, 4, 3, 4, 4, 5, 2, 2, 4, 3, 5, 2, 1, 2, 3, 2, 1, 3, 4, 5, 3, 4, 5, 1, 2, 3, 4, 5, 3, 3, 1, 2, 3, 4, 3, 1, 5, 4, 1, 2, 3, 1, 3, 4, 1, 3, 4, 5, 1, 1, 5, 2, 3, 5, 1, 2, 3, 4, 2, 1, 2, 5, 1, 4, 4, 1, 2, 4, 5, 5, 3, 1, 2, 1, 2, 2, 1, 5, 2, 4, 1, 2, 5, 1, 2, 1, 1, 4, 5, 1, 2, 3, 4, 5, 2, 3, 1, 2, 3, 4, 5, 1, 1, 1, 2, 5, 1, 4, 4, 1, 2, 3, 4, 5, 1, 2, 4, 5, 4, 2, 3, 4, 5, 1, 2, 3, 4, 5, 5, 5, 1, 2, 4, 5, 5, 5, 2, 4, 4, 3, 4, 5, 1, 2, 3, 4, 4, 5, 2, 3, 4, 5, 1, 1, 2, 3, 4, 4, 5, 5, 4, 4, 2, 2, 1, 1, 5, 5, 2, 4, 4, 2, 5, 2, 5, 2, 4, 1, 2, 3, 4, 4, 1, 2, 5, 3, 4, 2, 5, 4, 4, 5, 1, 2, 3, 1, 2, 4, 5, 2, 3, 3, 1, 2, 4, 5, 1, 2, 4, 5, 1, 2, 3, 4, 5, 1, 1, 2, 3, 2, 1, 2, 3, 4, 5, 1, 3, 1, 2, 3, 3, 4, 3, 1, 3, 5, 4, 1, 5, 1, 3, 5, 2, 4, 1, 4, 4, 4, 1, 2, 3, 4, 5, 3, 3, 4, 1, 2, 4, 5, 4, 5, 3, 5, 4, 1, 2, 3, 4, 5, 2, 4, 5, 3, 4, 5, 5, 5, 5, 5, 5, 1, 2, 4, 5, 4, 3, 5, 1, 3, 1, 1, 2, 3, 4, 1, 5, 3, 2, 2, 3, 3, 3, 1, 1, 2, 3, 4, 3, 3, 5, 4, 1, 2, 3, 4, 1, 2, 3, 5, 1, 2, 4, 5, 2, 3, 1, 4, 1, 2, 3, 5, 2, 3, 5, 1, 2, 3, 4, 3, 3, 1, 1, 2, 5, 1, 2, 2, 3, 5, 1, 2, 3, 4, 3, 2, 3, 3, 3, 3, 5, 1, 2, 4, 5, 2, 3, 1, 3, 4, 3, 3, 1, 2, 3, 4, 5, 1, 2, 3, 4, 5, 1, 2, 4, 5, 2, 3, 2, 4, 1, 2, 5, 4, 4, 5, 1, 2, 3, 4, 5, 2, 3, 5, 1, 1, 2, 3, 5, 2, 4, 5, 5, 1, 1, 2, 3, 4, 4, 5, 2, 1, 2, 3, 4, 5, 1, 2, 3, 4, 5, 2, 2, 1, 2, 3, 4, 5, 1, 2, 3, 4, 5, 2, 4, 1, 1, 1, 2, 3, 1, 2, 3, 4, 5, 2, 3, 4, 1, 2, 3, 4, 2, 1, 4, 1, 2, 4, 5, 1, 2, 3, 5, 1, 3, 3, 1, 2, 3, 1, 3, 5, 2, 1, 2, 3, 4, 5, 5, 1, 2, 1, 3, 2, 3, 2, 2, 4, 1, 2, 4, 5, 2, 5, 5, 2, 4, 5, 2, 1, 2, 3, 5, 1, 2, 3, 1, 1, 1, 1, 3, 4], \"Freq\": [0.9998122698623302, 0.7499167925418785, 0.25006606781871604, 0.9983528006876203, 0.9989550995141827, 0.266902491217373, 0.7325917337060185, 0.998217055552685, 0.9989664675498056, 0.99828467065822, 0.29492421742071834, 0.7045693868846077, 0.9966668306546917, 0.2673815202026438, 0.30371697051083174, 0.4287846436730728, 0.9989771111053559, 0.9983937051394496, 0.05584368679468209, 0.6861327650839939, 0.25799783299143125, 0.465772975760237, 0.5340572574524872, 0.998947374743585, 0.10625012875249461, 0.04829551306931573, 0.34465434326738953, 0.486906581762465, 0.014049603801982759, 0.9994062477291648, 0.9978494584383544, 0.814356120012962, 0.10609437513942974, 0.06113279413320445, 0.0183211431958839, 0.9984995492357043, 0.9993596882043878, 0.9995857060529518, 0.9996222918559828, 0.868224161827081, 0.11376290120410723, 0.018002883355532122, 0.07685751035723729, 0.6674893062373725, 0.25574302920972125, 0.9043624408614735, 0.030133014277984104, 0.005518185742264578, 0.06001802020800126, 0.9991827801859962, 0.9280524962367735, 0.07138865355667488, 0.943111138353604, 0.014621878114009366, 0.04167235262492669, 0.3623731992477267, 0.15895511500743842, 0.4198971656927263, 0.05863554067582081, 0.9989526749620807, 0.9985617308975847, 0.9993914683070878, 0.998157062110359, 0.9998769891266085, 0.9982605048902322, 0.998503808709094, 0.7456168687808695, 0.0038930766395818646, 0.16628998789071106, 0.08416460925572222, 0.9984585916287868, 0.9972664988624867, 0.8814216165420702, 0.11856973516367622, 0.00798068610436722, 0.9919327770553091, 0.9974422808725101, 0.24321426974266117, 0.7567940877684378, 0.4513019163468567, 0.5486797987217654, 0.26909913169651745, 0.3826799340359566, 0.34823125112861025, 0.9996987591937738, 0.998110200679243, 0.9987840192797803, 0.9989096260443683, 0.06140883241448799, 0.9375081748611832, 0.28008983802132525, 0.1802341073261613, 0.4734917340105851, 0.06611327224597394, 0.9964255594284444, 0.9757324099652285, 0.024234019223895, 0.3041541874089144, 0.28394021346310455, 0.1958328633312246, 0.1850210756851552, 0.031054825537164363, 0.9999441092355145, 0.9998453524514469, 0.35996258375434376, 0.5287585976052507, 0.11121056334248088, 0.6269978412305143, 0.3728741277253726, 0.9990070739067685, 0.0711509575929331, 0.30836713847405967, 0.05211251776826155, 0.35908998910183426, 0.2092838713573384, 0.2644655450958171, 0.20172371917989074, 0.042994398635614876, 0.4906860728006512, 0.9982842677205436, 0.1271943600956264, 0.03311386017088084, 0.3456839421577, 0.4936131492762144, 0.41378686486063126, 0.3912105456866392, 0.019880639272619908, 0.11748671570147132, 0.05762015789183058, 0.9992793203561147, 0.9972571905997931, 0.0416840917854822, 0.23671975059828881, 0.10784324663766955, 0.613788690969715, 0.998340683837607, 0.9996277656610721, 0.06740762229547191, 0.932556355559279, 0.998611215057357, 0.7938289223522791, 0.14951037999459965, 0.05624438104558749, 0.577318715012432, 0.3426935264939498, 0.025526075415838935, 0.054511291892702776, 0.20450484644599654, 0.794349843371255, 0.252921203383764, 0.35352057018299776, 0.20655510587396744, 0.18697086974167068, 0.9989056412973344, 0.7486127527888864, 0.13911003260636395, 0.06521490405420426, 0.04702417271501071, 0.5915495032435185, 0.4084508474776676, 0.9981115409060229, 0.9991598896657312, 0.9972304945834309, 0.9991648367568587, 0.9977140934164808, 0.9999162432064775, 0.9482082861213286, 0.05153305902833308, 0.997369822937601, 0.8919006296382594, 0.10798923629851509, 0.9972703172639196, 0.03208315814397335, 0.9677281672788556, 0.34555186201043325, 0.6542519798497384, 0.08992739898527043, 0.9101272966267887, 0.1339480392685887, 0.0728856928757572, 0.5747044366384141, 0.21850741601356372, 0.9971964453942191, 0.3045192910702287, 0.6952817504989562, 0.9973072164106991, 0.9988805437728618, 0.996951230135334, 0.9989924816162212, 0.9991636182542963, 0.9970441826600857, 0.9988421651199513, 0.9987099167623816, 0.04428074613427086, 0.09800805144385284, 0.8577475731182495, 0.2371042990404519, 0.16486045411648728, 0.1589364588327222, 0.439098089447857, 0.9991366329282492, 0.9994356488440965, 0.9998055054993683, 0.4027712555279018, 0.45046785157725855, 0.07675903808659927, 0.06992081643077751, 0.060313246912828376, 0.7534721066536427, 0.1683005676721939, 0.017739190268478935, 0.9987977374858855, 0.29027116502042005, 0.6176221304757067, 0.06591964521754055, 0.02621804071152181, 0.9998482898778077, 0.8243633947367606, 0.03335687186464412, 0.14220561163348283, 0.9973088931894966, 0.7809138985757038, 0.07086827700861535, 0.07941707266175252, 0.024035744300124787, 0.04472630769250025, 0.8946363653355571, 0.10535590525676385, 0.9195759396145288, 0.020986898583823403, 0.059462879320832975, 0.07522879873668774, 0.9241174026631754, 0.9990450579971232, 0.7288934975545935, 0.27091930534259767, 0.9987441636593613, 0.9993936374301414, 0.9275055725724228, 0.07232695464580556, 0.01714334825038273, 0.5707386614144273, 0.41221084557100046, 0.9992050024617936, 0.9991106671275084, 0.9970601637212207, 0.9980522196223205, 0.9974627581606303, 0.9990901750164072, 0.016617471508963602, 0.2886878383714069, 0.19387050093790867, 0.059627397767457624, 0.44085174414956374, 0.9996366553388313, 0.8344295785234814, 0.16518772414803426, 0.22546719083029051, 0.17184544284559258, 0.3973126336758831, 0.20531905888375393, 0.9997770674506987, 0.9979761545656343, 0.9998806802444402, 0.9981061412225517, 0.9987547991607885, 0.40570713415085874, 0.3509036812469757, 0.0321818802064571, 0.13680665393205194, 0.07446267679569361, 0.908239361322106, 0.08211705265929083, 0.009490915633988387, 0.76134163427647, 0.23841962950796866, 0.9996915390065048, 0.9969069427445181, 0.9989040489976035, 0.9996132241449459, 0.9966068319825294, 0.9990091549550894, 0.14660509374677763, 0.14917884961268998, 0.2962788964106046, 0.40784131413688307, 0.9998072768955958, 0.883479491379484, 0.11648140556576582, 0.998807886376368, 0.9995280711027026, 0.997390337274227, 0.3192452974270582, 0.2793823151012731, 0.3322199726166071, 0.06914136120746447, 0.9882368960863022, 0.01149543856610708, 0.9987202825297393, 0.9995359427716931, 0.9989321966265152, 0.9986909127082297, 0.9997747449336927, 0.9992517224618067, 0.9999249754396475, 0.11738366702642512, 0.09431129478414907, 0.7328451430768305, 0.055421265282993015, 0.999594210299863, 0.929510284901722, 0.07037530711757542, 0.999328654785012, 0.4133716769991519, 0.18665670712874002, 0.14628136051312354, 0.25356140453105735, 0.10398084563591475, 0.15389165154115383, 0.0613486989251897, 0.680554634687062, 0.7790232589511001, 0.12631765570760814, 0.06669984266721816, 0.027941825982213016, 0.37062096647453147, 0.6291141116830961, 0.5880665654026661, 0.41177252009993964, 0.15381484394494582, 0.6188856589376209, 0.007856946841981516, 0.21939013104917615, 0.25179648198390947, 0.16434045198186456, 0.5838410794092557, 0.11695048300500152, 0.06358881714829558, 0.8079449520355815, 0.01143034556118842, 0.9999544169200398, 0.9994146217399238, 0.9990940950749067, 0.8782994734725491, 0.005355484594344812, 0.11624551854783739, 0.8315851340845727, 0.1683577265324595, 0.03579395989094754, 0.9628575210664888, 0.9981616738854984, 0.07030035689876642, 0.6694757064667141, 0.2076564388394331, 0.05245488168600263, 0.999029938911482, 0.9992787986182311, 0.9993508055660839, 0.9985081807546097, 0.9967283051651866, 0.06103767918685273, 0.9387058463956087, 0.060149303833051865, 0.4921923846384041, 0.04616425124884342, 0.4013574314458269, 0.8872528295101287, 0.1127517125494932, 0.8618873829206045, 0.12687033408212087, 0.011504614677471917, 0.9982502166474465, 0.9996386786712057, 0.44532086590148606, 0.08204667612284489, 0.02532630516975276, 0.410497196293076, 0.03667037936037119, 0.3647495695862316, 0.3940946009545771, 0.12374203657081616, 0.07290406230573328, 0.044476063167648607, 0.1881974292597315, 0.09042819739253057, 0.20187844805343538, 0.5195450307755354, 0.9982459710973939, 0.9988772445028613, 0.9996936868399645, 0.9998914072060737, 0.9970810235792339, 0.0021079937073556743, 0.9990211394809232, 0.9999598296641489, 0.9988703328643832, 0.9975759325580322, 0.07193483584294977, 0.2219864074841028, 0.01472416171160378, 0.1870305731916694, 0.504218239986676, 0.14144851106038217, 0.14100230124631155, 0.7175053810255347, 0.9972938137927098, 0.559002363203194, 0.4221118762367096, 0.0019724854029752785, 0.016766125925289865, 0.9988988758105384, 0.0021930673428511224, 0.9978456409972608, 0.9997690889041473, 0.9997647200013929, 0.904744642664533, 0.0849581314689003, 0.010239899205038526, 0.9994608394912462, 0.12553547546600566, 0.8744687097802439, 0.9984049251992241, 0.5002366277727851, 0.2000022001691283, 0.05762775259110477, 0.03798192784413723, 0.20416249246848614, 0.306450664789841, 0.5827436597842603, 0.002741606345038339, 0.10250561501171124, 0.0056355241536899196, 0.998577866610196, 0.9979723077234283, 0.24856317653593735, 0.2680583276367952, 0.2022621926714, 0.2579046031050984, 0.02335356642290261, 0.12067745744754088, 0.3114367244609341, 0.10802854547711875, 0.02940017376908928, 0.4304048694800396, 0.9989193505594125, 0.9988947167111872, 0.9994604526806999, 0.9991994199213149, 0.8672802486967777, 0.1159456414628196, 0.016783859473199884, 0.2966432412389504, 0.2843780797826747, 0.046455655781291905, 0.0839023876610716, 0.2886111886038672, 0.4770209114736173, 0.4949210973732261, 0.02780241639726472, 0.6049219699463714, 0.07954277406894604, 0.14701356787379008, 0.16851161491945116, 0.9979332992205981, 0.9990353523834791, 0.9982075962822289, 0.05038839146388257, 0.30552397922818936, 0.10751889164476351, 0.5361750669149757, 0.705485442855439, 0.06441948995549274, 0.15847194529051212, 0.07141360600780337, 0.9993760554154619, 0.9991910696758514, 0.9995609243313247, 0.8991284093585272, 0.06503705664345415, 0.03579834861375428, 0.9982874758753738, 0.8521479339167745, 0.14745297814126257, 0.9998246790954187, 0.43863647518715243, 0.17115083608077075, 0.30019683432462163, 0.06981941464096837, 0.0202529599721893, 0.9989858886611056, 0.18820159957803417, 0.8118146903892853, 0.8158621464923771, 0.18407810130492985, 0.9994978809875298, 0.997577583230345, 0.9973812460645944, 0.8955414931304954, 0.10372282244433444, 0.2552629449904661, 0.5084850423272569, 0.21617286300853125, 0.020094499974649238, 0.9387774112829677, 0.0608114922288562, 0.9986711616233613, 0.998640565565714, 0.08684620844680477, 0.9124083586218524, 0.9990078958673677, 0.9608956397449792, 0.038974038502452076, 0.9974614268159613, 0.9971942753239654, 0.03634022163499264, 0.8987424962564597, 0.06454457275468842, 0.9995662011733194, 0.999469401842968, 0.9992602151078805, 0.1359545174762496, 0.6200262752981205, 0.24393532813901178], \"Term\": [\"access\", \"account\", \"account\", \"accrue\", \"accurate\", \"act\", \"act\", \"activate\", \"advertise\", \"affect\", \"agreement\", \"agreement\", \"airline\", \"amount\", \"amount\", \"amount\", \"annual_fee\", \"app\", \"application\", \"application\", \"application\", \"apply\", \"apply\", \"appraisal\", \"approve\", \"approve\", \"approve\", \"approve\", \"approve\", \"apr\", \"arrangement\", \"ask\", \"ask\", \"ask\", \"ask\", \"assess\", \"atm\", \"attorney\", \"auto\", \"back\", \"back\", \"back\", \"balance\", \"balance\", \"balance\", \"bank\", \"bank\", \"bank\", \"bank\", \"banker\", \"banking\", \"banking\", \"benefit\", \"benefit\", \"benefit\", \"bill\", \"bill\", \"bill\", \"bill\", \"billing\", \"block\", \"book\", \"borrower\", \"branch\", \"bureau\", \"bureaus\", \"business\", \"business\", \"business\", \"business\", \"buyer\", \"calculate\", \"call\", \"call\", \"cancel\", \"cancel\", \"cancellation\", \"car\", \"car\", \"card\", \"card\", \"case\", \"case\", \"case\", \"cash\", \"cash_advance\", \"cashier\", \"cell\", \"certify\", \"certify\", \"change\", \"change\", \"change\", \"change\", \"chapter\", \"charge\", \"charge\", \"chase\", \"chase\", \"chase\", \"chase\", \"chase\", \"check\", \"checking\", \"claim\", \"claim\", \"claim\", \"close\", \"close\", \"collection\", \"company\", \"company\", \"company\", \"company\", \"company\", \"complaint\", \"complaint\", \"complaint\", \"complaint\", \"consent\", \"consumer\", \"consumer\", \"consumer\", \"consumer\", \"contact\", \"contact\", \"contact\", \"contact\", \"contact\", \"contract\", \"contractor\", \"copy\", \"copy\", \"copy\", \"copy\", \"county\", \"court\", \"credit\", \"credit\", \"creditor\", \"current\", \"current\", \"current\", \"customer\", \"customer\", \"customer\", \"customer\", \"damage\", \"damage\", \"date\", \"date\", \"date\", \"date\", \"daughter\", \"day\", \"day\", \"day\", \"day\", \"debt\", \"debt\", \"deed\", \"delete\", \"delinquent\", \"deliver\", \"delivery\", \"deposit\", \"direct\", \"direct\", \"discrimination\", \"dispute\", \"dispute\", \"divorce\", \"document\", \"document\", \"documentation\", \"documentation\", \"drop\", \"drop\", \"due\", \"due\", \"due\", \"due\", \"effect\", \"email\", \"email\", \"engage\", \"escrow\", \"excellent\", \"exchange\", \"exhibit\", \"extend\", \"fcra\", \"federal\", \"fee\", \"fee\", \"fee\", \"file\", \"file\", \"file\", \"file\", \"flight\", \"foreclose\", \"foreclosure\", \"fraud\", \"fraud\", \"fraud\", \"fraud\", \"fraudulent\", \"fraudulent\", \"fraudulent\", \"fraudulent\", \"freeze\", \"full\", \"full\", \"full\", \"full\", \"fund\", \"get\", \"get\", \"get\", \"gift\", \"give\", \"give\", \"give\", \"give\", \"give\", \"go\", \"go\", \"happen\", \"happen\", \"happen\", \"hard\", \"hard\", \"hardship\", \"help\", \"help\", \"hire\", \"history\", \"hold\", \"hold\", \"home\", \"home\", \"home\", \"hotel\", \"house\", \"identification\", \"identity\", \"impact\", \"inaccurate\", \"include\", \"include\", \"include\", \"include\", \"include\", \"income\", \"increase\", \"increase\", \"information\", \"information\", \"information\", \"information\", \"inquiry\", \"inspection\", \"interest\", \"investor\", \"involve\", \"issue\", \"issue\", \"issue\", \"issue\", \"issue\", \"item\", \"item\", \"item\", \"late\", \"late\", \"law\", \"lawsuit\", \"lease\", \"legal\", \"legally\", \"lender\", \"letter\", \"letter\", \"letter\", \"letter\", \"limit\", \"loan\", \"loan\", \"lock\", \"low\", \"machine\", \"make\", \"make\", \"make\", \"make\", \"manager\", \"manager\", \"market\", \"merchant\", \"mile\", \"minimum\", \"modification\", \"modify\", \"money\", \"month\", \"month\", \"month\", \"month\", \"monthly\", \"mortgage\", \"mortgage\", \"negative\", \"never\", \"never\", \"never\", \"never\", \"note\", \"note\", \"note\", \"note\", \"number\", \"number\", \"number\", \"number\", \"offer\", \"offer\", \"open\", \"open\", \"order\", \"order\", \"order\", \"order\", \"original\", \"original\", \"original\", \"pay\", \"pay\", \"pay\", \"pay\", \"payment\", \"payoff\", \"permission\", \"person\", \"person\", \"person\", \"phone\", \"phone\", \"plan\", \"plan\", \"pmi\", \"point\", \"point\", \"point\", \"point\", \"principal\", \"product\", \"program\", \"promotion\", \"promotional\", \"property\", \"property\", \"provide\", \"provide\", \"provide\", \"provide\", \"purchase\", \"purchase\", \"put\", \"put\", \"put\", \"qualify\", \"rate\", \"reason\", \"reason\", \"reason\", \"reason\", \"reason\", \"receive\", \"receive\", \"receive\", \"receive\", \"receive\", \"record\", \"record\", \"record\", \"record\", \"recording\", \"refinance\", \"refund\", \"remove\", \"rep\", \"rep\", \"repair\", \"report\", \"reporting\", \"represent\", \"request\", \"request\", \"request\", \"request\", \"request\", \"require\", \"require\", \"require\", \"restrict\", \"return\", \"return\", \"return\", \"return\", \"reward\", \"right\", \"right\", \"sale\", \"saving\", \"say\", \"say\", \"say\", \"score\", \"section\", \"section\", \"seller\", \"send\", \"send\", \"send\", \"send\", \"send\", \"service\", \"service\", \"service\", \"service\", \"service\", \"ship\", \"shipping\", \"show\", \"show\", \"show\", \"show\", \"show\", \"sign\", \"sign\", \"sign\", \"sign\", \"sign\", \"site\", \"slate\", \"social_security\", \"son\", \"speak\", \"speak\", \"speak\", \"state\", \"state\", \"state\", \"state\", \"state\", \"statement\", \"statement\", \"statement\", \"still\", \"still\", \"still\", \"still\", \"store\", \"story\", \"student\", \"submit\", \"submit\", \"submit\", \"submit\", \"take\", \"take\", \"take\", \"take\", \"talk\", \"tax\", \"taxis\", \"tell\", \"tell\", \"tell\", \"teller\", \"term\", \"term\", \"ticket\", \"time\", \"time\", \"time\", \"time\", \"time\", \"title\", \"transaction\", \"transaction\", \"transfer\", \"transfer\", \"travel\", \"trial\", \"trip\", \"unauthorized\", \"unauthorized\", \"use\", \"use\", \"use\", \"use\", \"valid\", \"valid\", \"vehicle\", \"vendor\", \"violation\", \"violation\", \"visa\", \"wait\", \"wait\", \"waive\", \"washington_mutual\", \"website\", \"website\", \"website\", \"wire\", \"withdraw\", \"withdrawal\", \"year\", \"year\", \"year\"]}, \"R\": 30, \"lambda.step\": 0.01, \"plot.opts\": {\"xlab\": \"PC1\", \"ylab\": \"PC2\"}, \"topic.order\": [5, 4, 1, 2, 3]};\n",
       "\n",
       "function LDAvis_load_lib(url, callback){\n",
       "  var s = document.createElement('script');\n",
       "  s.src = url;\n",
       "  s.async = true;\n",
       "  s.onreadystatechange = s.onload = callback;\n",
       "  s.onerror = function(){console.warn(\"failed to load library \" + url);};\n",
       "  document.getElementsByTagName(\"head\")[0].appendChild(s);\n",
       "}\n",
       "\n",
       "if(typeof(LDAvis) !== \"undefined\"){\n",
       "   // already loaded: just create the visualization\n",
       "   !function(LDAvis){\n",
       "       new LDAvis(\"#\" + \"ldavis_el246140010728904960337629311\", ldavis_el246140010728904960337629311_data);\n",
       "   }(LDAvis);\n",
       "}else if(typeof define === \"function\" && define.amd){\n",
       "   // require.js is available: use it to load d3/LDAvis\n",
       "   require.config({paths: {d3: \"https://d3js.org/d3.v5\"}});\n",
       "   require([\"d3\"], function(d3){\n",
       "      window.d3 = d3;\n",
       "      LDAvis_load_lib(\"https://cdn.jsdelivr.net/gh/bmabey/pyLDAvis@3.3.1/pyLDAvis/js/ldavis.v3.0.0.js\", function(){\n",
       "        new LDAvis(\"#\" + \"ldavis_el246140010728904960337629311\", ldavis_el246140010728904960337629311_data);\n",
       "      });\n",
       "    });\n",
       "}else{\n",
       "    // require.js not available: dynamically load d3 & LDAvis\n",
       "    LDAvis_load_lib(\"https://d3js.org/d3.v5.js\", function(){\n",
       "         LDAvis_load_lib(\"https://cdn.jsdelivr.net/gh/bmabey/pyLDAvis@3.3.1/pyLDAvis/js/ldavis.v3.0.0.js\", function(){\n",
       "                 new LDAvis(\"#\" + \"ldavis_el246140010728904960337629311\", ldavis_el246140010728904960337629311_data);\n",
       "            })\n",
       "         });\n",
       "}\n",
       "</script>"
      ],
      "text/plain": [
       "PreparedData(topic_coordinates=              x         y  topics  cluster       Freq\n",
       "topic                                                \n",
       "4     -0.111748 -0.070555       1        1  35.776628\n",
       "3     -0.008579 -0.078256       2        1  20.112968\n",
       "0     -0.196072  0.206447       3        1  16.455155\n",
       "1      0.029749 -0.188572       4        1  14.076493\n",
       "2      0.286650  0.130935       5        1  13.578756, topic_info=                   Term          Freq         Total Category  logprob  loglift\n",
       "44               credit  33631.000000  33631.000000  Default  30.0000  30.0000\n",
       "159             payment  21164.000000  21164.000000  Default  29.0000  29.0000\n",
       "1               account  46195.000000  46195.000000  Default  28.0000  28.0000\n",
       "30                 card  29729.000000  29729.000000  Default  27.0000  27.0000\n",
       "338              charge  18362.000000  18362.000000  Default  26.0000  26.0000\n",
       "51               report  12227.000000  12227.000000  Default  25.0000  25.0000\n",
       "116                 pay  16622.000000  16622.000000  Default  24.0000  24.0000\n",
       "105               check  16610.000000  16610.000000  Default  23.0000  23.0000\n",
       "104                call  25664.000000  25664.000000  Default  22.0000  22.0000\n",
       "212                loan  10791.000000  10791.000000  Default  21.0000  21.0000\n",
       "649            mortgage   8269.000000   8269.000000  Default  20.0000  20.0000\n",
       "8                 chase  68813.000000  68813.000000  Default  19.0000  19.0000\n",
       "143                 fee   8468.000000   8468.000000  Default  18.0000  18.0000\n",
       "112               money  11235.000000  11235.000000  Default  17.0000  17.0000\n",
       "38                 tell  19665.000000  19665.000000  Default  16.0000  16.0000\n",
       "297         transaction   8320.000000   8320.000000  Default  15.0000  15.0000\n",
       "117                 say  15136.000000  15136.000000  Default  14.0000  14.0000\n",
       "519            interest   4989.000000   4989.000000  Default  13.0000  13.0000\n",
       "445             dispute   7074.000000   7074.000000  Default  12.0000  12.0000\n",
       "6                  bank  16128.000000  16128.000000  Default  11.0000  11.0000\n",
       "227                year   8686.000000   8686.000000  Default  10.0000  10.0000\n",
       "16                month   8408.000000   8408.000000  Default   9.0000   9.0000\n",
       "108               close   9204.000000   9204.000000  Default   8.0000   8.0000\n",
       "141            document   4394.000000   4394.000000  Default   7.0000   7.0000\n",
       "337             balance   7429.000000   7429.000000  Default   6.0000   6.0000\n",
       "146                fund   7518.000000   7518.000000  Default   5.0000   5.0000\n",
       "122              remove   3790.000000   3790.000000  Default   4.0000   4.0000\n",
       "211              letter  10101.000000  10101.000000  Default   3.0000   3.0000\n",
       "90             purchase   5622.000000   5622.000000  Default   2.0000   2.0000\n",
       "94              request   8896.000000   8896.000000  Default   1.0000   1.0000\n",
       "105               check  16610.145731  16610.928397   Topic1  -3.7491   1.0278\n",
       "112               money  11235.059703  11235.842964   Topic1  -4.1401   1.0278\n",
       "146                fund   7517.356185   7518.140578   Topic1  -4.5419   1.0278\n",
       "110             deposit   6087.733095   6088.509954   Topic1  -4.7529   1.0277\n",
       "131              branch   4564.782809   4565.561614   Topic1  -5.0408   1.0277\n",
       "440            checking   2509.602558   2510.388225   Topic1  -5.6390   1.0276\n",
       "1065               cash   2340.917897   2341.705417   Topic1  -5.7086   1.0275\n",
       "465              access   2196.624436   2197.412521   Topic1  -5.7722   1.0275\n",
       "294                talk   2038.483346   2039.272393   Topic1  -5.8469   1.0275\n",
       "103            withdraw   1690.116987   1690.897187   Topic1  -6.0343   1.0274\n",
       "493                 atm   1604.250617   1605.027718   Topic1  -6.0865   1.0274\n",
       "379              saving   1476.563203   1477.347590   Topic1  -6.1694   1.0273\n",
       "1064             banker   1451.404397   1452.186756   Topic1  -6.1866   1.0273\n",
       "665                wire   1316.791937   1317.571561   Topic1  -6.2839   1.0273\n",
       "1460           daughter   1048.356146   1049.148144   Topic1  -6.5119   1.0271\n",
       "636     social_security    965.725156    966.521484   Topic1  -6.5940   1.0271\n",
       "1236         withdrawal    785.805717    786.581901   Topic1  -6.8002   1.0269\n",
       "1531              block    587.056317    587.845480   Topic1  -7.0918   1.0265\n",
       "118                 son    558.660119    559.447883   Topic1  -7.1413   1.0265\n",
       "1267         permission    568.700360    569.515927   Topic1  -7.1235   1.0264\n",
       "563               story    554.737311    555.535896   Topic1  -7.1484   1.0264\n",
       "1666            cashier    514.841772    515.626992   Topic1  -7.2230   1.0264\n",
       "234                 app    510.022466    510.820528   Topic1  -7.2324   1.0263\n",
       "177              teller    494.073451    494.847438   Topic1  -7.2642   1.0263\n",
       "731              freeze    463.772409    464.558521   Topic1  -7.3275   1.0262\n",
       "592             machine    427.339557    428.117242   Topic1  -7.4093   1.0261\n",
       "169            restrict    429.378264    430.164104   Topic1  -7.4046   1.0260\n",
       "1069               lock    425.718746    426.508447   Topic1  -7.4131   1.0260\n",
       "1228               cell    429.669238    430.469373   Topic1  -7.4039   1.0260\n",
       "2983     identification    397.353066    398.170556   Topic1  -7.4821   1.0258\n",
       "454             manager   2665.011352   2696.721819   Topic1  -5.5789   1.0160\n",
       "942                 rep    472.549025    474.384718   Topic1  -7.3087   1.0240\n",
       "38                 tell  17682.071746  19665.711611   Topic1  -3.6866   0.9215\n",
       "225                wait   2070.523331   2155.280880   Topic1  -5.8313   0.9878\n",
       "6                  bank  14585.691892  16128.489354   Topic1  -3.8791   0.9273\n",
       "117                 say  13695.246816  15136.867746   Topic1  -3.9421   0.9278\n",
       "104                call  22620.867196  25664.221952   Topic1  -3.4403   0.9017\n",
       "74                   go   7548.904915   8438.065221   Topic1  -4.5377   0.9165\n",
       "319                hold   2910.587704   3138.525618   Topic1  -5.4908   0.9525\n",
       "140              direct   1472.026410   1552.401536   Topic1  -6.1725   0.9747\n",
       "336                back   6799.967443   7832.078741   Topic1  -4.6422   0.8866\n",
       "75               happen   2628.591973   2858.926476   Topic1  -5.5927   0.9439\n",
       "236             banking   1833.250167   1975.103787   Topic1  -5.9530   0.9533\n",
       "97                speak   5064.034478   5838.943072   Topic1  -4.9370   0.8855\n",
       "1               account  34642.893718  46195.791779   Topic1  -3.0140   0.7401\n",
       "269               phone   7009.181428   8428.481598   Topic1  -4.6119   0.8435\n",
       "4                   ask   8712.211509  10698.022383   Topic1  -4.3944   0.8225\n",
       "137                 day   9917.828430  13248.505269   Topic1  -4.2648   0.7383\n",
       "298            transfer   5128.234385   6285.375565   Topic1  -4.9244   0.8244\n",
       "34                 give   6302.794816   8071.312358   Topic1  -4.7181   0.7806\n",
       "114              number   6049.633428   7766.135260   Topic1  -4.7591   0.7781\n",
       "72                  get   4226.287052   5126.379976   Topic1  -5.1178   0.8348\n",
       "323              person   2787.915359   3174.315919   Topic1  -5.5338   0.8981\n",
       "19                  put   2696.533958   3129.179117   Topic1  -5.5672   0.8791\n",
       "132            business   4022.342142   5394.191264   Topic1  -5.1673   0.7344\n",
       "12                 help   4111.187913   5640.055802   Topic1  -5.1454   0.7117\n",
       "108               close   5771.194938   9204.178421   Topic1  -4.8063   0.5611\n",
       "8                 chase  20929.995912  68813.782175   Topic1  -3.5179  -0.1623\n",
       "21                 send   6493.425249  12979.857211   Topic1  -4.6883   0.3353\n",
       "119                take   3833.486141   5433.138329   Topic1  -5.2154   0.6791\n",
       "136            customer   4839.698396   8383.584100   Topic1  -4.9823   0.4785\n",
       "120                time   6583.540067  15010.151623   Topic1  -4.6746   0.2037\n",
       "20              receive   6364.408983  17447.587415   Topic1  -4.7084   0.0194\n",
       "221               still   3657.931474   6047.060913   Topic1  -5.2622   0.5252\n",
       "113               never   3911.499010   9461.219086   Topic1  -5.1952   0.1446\n",
       "278              refund   3467.282874   3468.062313   Topic2  -4.7398   1.6036\n",
       "718            merchant   2541.407856   2542.179717   Topic2  -5.0505   1.6035\n",
       "100              ticket   1760.537495   1761.308794   Topic2  -5.4176   1.6034\n",
       "679                visa   1096.310716   1097.088426   Topic2  -5.8913   1.6031\n",
       "59                 book   1094.888002   1095.666748   Topic2  -5.8926   1.6031\n",
       "669              flight   1030.118464   1030.890037   Topic2  -5.9535   1.6031\n",
       "95               reward   1005.323271   1006.107850   Topic2  -5.9779   1.6030\n",
       "670               hotel    947.983746    948.754257   Topic2  -6.0366   1.6030\n",
       "566              travel    954.703096    955.479765   Topic2  -6.0296   1.6030\n",
       "272             product    967.910050    968.698627   Topic2  -6.0158   1.6030\n",
       "400             deliver    804.888386    805.672868   Topic2  -6.2003   1.6028\n",
       "927             billing    795.055194    795.833496   Topic2  -6.2125   1.6028\n",
       "1304             seller    749.414147    750.196620   Topic2  -6.2717   1.6028\n",
       "678              vendor    722.209356    722.982848   Topic2  -6.3086   1.6027\n",
       "2647         annual_fee    703.942361    704.720851   Topic2  -6.3343   1.6027\n",
       "1230               mile    626.889021    627.670228   Topic2  -6.4502   1.6026\n",
       "1681              store    588.442224    589.217737   Topic2  -6.5135   1.6025\n",
       "1153               site    569.828996    570.616637   Topic2  -6.5456   1.6024\n",
       "231           advertise    557.799247    558.577308   Topic2  -6.5670   1.6024\n",
       "3286           delivery    467.289149    468.069964   Topic2  -6.7440   1.6021\n",
       "1008       cancellation    438.325847    439.123154   Topic2  -6.8080   1.6020\n",
       "866                trip    413.311377    414.084385   Topic2  -6.8668   1.6019\n",
       "2158       cash_advance    421.009622    421.797112   Topic2  -6.8483   1.6019\n",
       "550            exchange    410.634149    411.414508   Topic2  -6.8733   1.6019\n",
       "3164               gift    385.256750    386.038872   Topic2  -6.9370   1.6018\n",
       "727                ship    379.766814    380.541180   Topic2  -6.9514   1.6018\n",
       "37            recording    389.869623    390.685273   Topic2  -6.9251   1.6017\n",
       "350            activate    376.884648    377.673371   Topic2  -6.9590   1.6017\n",
       "4463           shipping    369.975301    370.751771   Topic2  -6.9775   1.6017\n",
       "763             airline    338.358394    339.130379   Topic2  -7.0669   1.6015\n",
       "338              charge  17917.196682  18362.616448   Topic2  -3.0974   1.5792\n",
       "390              cancel   2982.691448   3007.260239   Topic2  -4.8904   1.5956\n",
       "445             dispute   6310.262422   7074.779174   Topic2  -4.1410   1.4894\n",
       "90             purchase   4988.710637   5622.974460   Topic2  -4.3760   1.4841\n",
       "771             benefit   1290.403843   1367.813344   Topic2  -5.7282   1.5455\n",
       "715                item   2201.041887   2423.369977   Topic2  -5.1943   1.5076\n",
       "487               valid    987.504020   1052.432651   Topic2  -5.9958   1.5401\n",
       "297         transaction   6754.610902   8320.864453   Topic2  -4.0730   1.3953\n",
       "306             website   1656.937564   1843.687159   Topic2  -5.4782   1.4970\n",
       "1126       unauthorized   1321.381093   1475.085197   Topic2  -5.7045   1.4938\n",
       "46           fraudulent   3398.375985   4509.788710   Topic2  -4.7599   1.3209\n",
       "198               email   4039.343987   5809.155781   Topic2  -4.5871   1.2405\n",
       "30                 card  13416.626728  29729.543603   Topic2  -3.3867   0.8082\n",
       "560               point   2476.327506   3698.416501   Topic2  -5.0764   1.2027\n",
       "52              service   3825.906463   6565.493997   Topic2  -4.6414   1.0638\n",
       "106               claim   4940.138309   9342.637685   Topic2  -4.3858   0.9666\n",
       "8                 chase  19539.426055  68813.782175   Topic2  -3.0108   0.3448\n",
       "20              receive   6875.965058  17447.587415   Topic2  -4.0552   0.6726\n",
       "273             provide   3625.489590   7365.006272   Topic2  -4.6952   0.8951\n",
       "102                 use   3238.746463   6369.902220   Topic2  -4.8080   0.9274\n",
       "36                order   2048.307488   3309.173464   Topic2  -5.2662   1.1241\n",
       "61              contact   3482.741619   8903.134229   Topic2  -4.7354   0.6652\n",
       "22            statement   2505.293486   5251.342110   Topic2  -5.0648   0.8637\n",
       "451               fraud   2634.975546   5849.474032   Topic2  -5.0143   0.8063\n",
       "136            customer   2873.447214   8383.584100   Topic2  -4.9277   0.5330\n",
       "81                 make   3272.670651  11715.129495   Topic2  -4.7976   0.3285\n",
       "311               issue   2605.705866   7426.539359   Topic2  -5.0255   0.5564\n",
       "171              return   2140.051503   5069.746009   Topic2  -5.2224   0.7413\n",
       "98                state   2620.393539   9213.087035   Topic2  -5.0199   0.3465\n",
       "352              amount   2307.046475   7595.887698   Topic2  -5.1472   0.4122\n",
       "104                call   3042.771657  25664.221952   Topic2  -4.8704  -0.5285\n",
       "21                 send   2596.417541  12979.857211   Topic2  -5.0291  -0.0055\n",
       "120                time   2568.932557  15010.151623   Topic2  -5.0397  -0.1614\n",
       "188             company   2218.609532   7195.967803   Topic2  -5.1863   0.4272\n",
       "44               credit   2267.128657  33631.211468   Topic2  -5.1647  -1.0931\n",
       "159             payment  21164.169659  21164.964764   Topic3  -2.7302   1.8045\n",
       "519            interest   4988.805434   4989.595357   Topic3  -4.1753   1.8044\n",
       "530                rate   3188.364620   3189.152309   Topic3  -4.6230   1.8043\n",
       "510        modification   2775.841870   2776.625449   Topic3  -4.7615   1.8042\n",
       "208              income   1846.877810   1847.671342   Topic3  -5.1690   1.8041\n",
       "1093            monthly   1814.943977   1815.736807   Topic3  -5.1864   1.8041\n",
       "644         foreclosure   1695.537754   1696.329927   Topic3  -5.2545   1.8041\n",
       "1270                tax   1479.395559   1480.197377   Topic3  -5.3908   1.8040\n",
       "344                 low   1281.807276   1282.605299   Topic3  -5.5342   1.8039\n",
       "886           refinance   1095.445149   1096.230799   Topic3  -5.6913   1.8038\n",
       "1152            program    893.787302    894.580757   Topic3  -5.8948   1.8036\n",
       "1258             escrow    884.204976    884.990708   Topic3  -5.9055   1.8036\n",
       "1942                apr    869.724634    870.516871   Topic3  -5.9221   1.8036\n",
       "524             minimum    862.332495    863.129912   Topic3  -5.9306   1.8036\n",
       "1271              taxis    792.553069    793.348340   Topic3  -6.0150   1.8035\n",
       "622           promotion    629.135960    629.939756   Topic3  -6.2459   1.8033\n",
       "1293           hardship    561.746335    562.537190   Topic3  -6.3592   1.8031\n",
       "2881          foreclose    550.522029    551.311133   Topic3  -6.3794   1.8031\n",
       "1210            qualify    556.174441    556.974585   Topic3  -6.3692   1.8031\n",
       "2331          principal    522.725546    523.507835   Topic3  -6.4312   1.8030\n",
       "650              payoff    510.508428    511.299303   Topic3  -6.4548   1.8030\n",
       "967               waive    487.438118    488.239432   Topic3  -6.5011   1.8029\n",
       "3783             modify    413.525991    414.310019   Topic3  -6.6655   1.8026\n",
       "3549              trial    379.134271    379.920325   Topic3  -6.7523   1.8025\n",
       "529         promotional    368.414042    369.207936   Topic3  -6.7810   1.8024\n",
       "1855        arrangement    370.999375    371.799570   Topic3  -6.7740   1.8024\n",
       "2844             market    356.648481    357.457445   Topic3  -6.8135   1.8023\n",
       "1775             assess    320.683473    321.482368   Topic3  -6.9198   1.8020\n",
       "684              accrue    289.678806    290.478476   Topic3  -7.0215   1.8018\n",
       "2287          calculate    234.856840    235.644134   Topic3  -7.2313   1.8012\n",
       "649            mortgage   7687.328835   8269.946148   Topic3  -3.7429   1.7315\n",
       "212                loan   9533.764270  10791.421978   Topic3  -3.5276   1.6806\n",
       "751                plan    807.271375    838.130235   Topic3  -5.9966   1.7670\n",
       "143                 fee   7263.683078   8468.691988   Topic3  -3.7996   1.6510\n",
       "116                 pay  13430.492242  16622.419592   Topic3  -3.1849   1.5913\n",
       "16                month   6162.429242   8408.324812   Topic3  -3.9640   1.4938\n",
       "151                late   3899.170331   5121.222621   Topic3  -4.4217   1.5319\n",
       "331                term   1438.933121   1688.673929   Topic3  -5.4186   1.6445\n",
       "337             balance   4958.603015   7429.332506   Topic3  -4.1814   1.4002\n",
       "227                year   5386.385063   8686.728635   Topic3  -4.0986   1.3266\n",
       "877            increase   1081.006672   1295.495783   Topic3  -5.7046   1.6235\n",
       "86                offer   2940.315948   4673.238043   Topic3  -4.7040   1.3412\n",
       "197                 due   3840.183453   6681.695416   Topic3  -4.4370   1.2507\n",
       "1027               home   2962.901716   5191.517940   Topic3  -4.6963   1.2437\n",
       "134             current   1115.472864   1404.584752   Topic3  -5.6732   1.5741\n",
       "22            statement   2599.153280   5251.342110   Topic3  -4.8273   1.1012\n",
       "8                 chase  13475.658940  68813.782175   Topic3  -3.1816   0.1740\n",
       "352              amount   3256.979467   7595.887698   Topic3  -4.6017   0.9577\n",
       "120                time   4506.217535  15010.151623   Topic3  -4.2770   0.6013\n",
       "81                 make   3892.371023  11715.129495   Topic3  -4.4235   0.7027\n",
       "366                full   1648.616064   2669.917282   Topic3  -5.2825   1.3224\n",
       "57                apply   2135.487158   4583.778173   Topic3  -5.0238   1.0407\n",
       "31               change   1725.788082   3645.258990   Topic3  -5.2368   1.0568\n",
       "33                 date   2112.216140   5974.192673   Topic3  -5.0347   0.7648\n",
       "20              receive   2159.161558  17447.587415   Topic3  -5.0128  -0.2850\n",
       "686                bill   1510.759760   3598.500117   Topic3  -5.3699   0.9366\n",
       "12                 help   1528.270682   5640.055802   Topic3  -5.3583   0.4988\n",
       "51               report  12226.697587  12227.491182   Topic4  -3.1227   1.9606\n",
       "122              remove   3789.614221   3790.411611   Topic4  -4.2941   1.9605\n",
       "121             inquiry   2235.713549   2236.498588   Topic4  -4.8218   1.9603\n",
       "697               score   2189.397174   2190.180859   Topic4  -4.8427   1.9603\n",
       "372               limit   1565.511312   1566.301863   Topic4  -5.1781   1.9602\n",
       "695            negative   1486.193615   1486.998289   Topic4  -5.2301   1.9601\n",
       "743             history   1345.019821   1345.816052   Topic4  -5.3299   1.9601\n",
       "183                auto   1215.658873   1216.459467   Topic4  -5.4311   1.9600\n",
       "1243              house   1238.246639   1239.101974   Topic4  -5.4126   1.9600\n",
       "1454         collection   1003.200992   1003.996895   Topic4  -5.6231   1.9599\n",
       "481           reporting    968.311409    969.094754   Topic4  -5.6585   1.9599\n",
       "318            creditor    864.405656    865.201579   Topic4  -5.7721   1.9597\n",
       "968             bureaus    681.237736    682.020433   Topic4  -6.0102   1.9595\n",
       "126              affect    651.322470    652.118598   Topic4  -6.0551   1.9594\n",
       "890             involve    660.976649    661.824104   Topic4  -6.0404   1.9594\n",
       "49             identity    562.301076    563.096789   Topic4  -6.2021   1.9592\n",
       "316              bureau    550.173799    550.958389   Topic4  -6.2239   1.9592\n",
       "32              consent    552.149071    552.948712   Topic4  -6.2203   1.9592\n",
       "472              delete    482.616846    483.406114   Topic4  -6.3549   1.9590\n",
       "4395              slate    444.706562    445.492395   Topic4  -6.4367   1.9589\n",
       "1534           accurate    431.656034    432.451869   Topic4  -6.4665   1.9588\n",
       "1738             impact    369.149032    369.938624   Topic4  -6.6229   1.9585\n",
       "3372             effect    369.230710    370.037420   Topic4  -6.6227   1.9585\n",
       "45               extend    361.263716    362.070213   Topic4  -6.6445   1.9584\n",
       "475          inaccurate    348.526875    349.317818   Topic4  -6.6804   1.9584\n",
       "793           excellent    343.262660    344.048926   Topic4  -6.6956   1.9584\n",
       "192          delinquent    341.154996    341.947024   Topic4  -6.7018   1.9583\n",
       "1089               fcra    316.583845    317.367459   Topic4  -6.7765   1.9582\n",
       "2606            divorce    306.038026    306.837569   Topic4  -6.8104   1.9581\n",
       "704             student    303.745544    304.545869   Topic4  -6.8179   1.9580\n",
       "44               credit  31363.498354  33631.211468   Topic4  -2.1807   1.8909\n",
       "1568               hard   1081.427557   1169.764791   Topic4  -5.5481   1.8821\n",
       "30                 card  16312.333485  29729.543603   Topic4  -2.8344   1.3604\n",
       "688                drop    586.660291    644.964723   Topic4  -6.1597   1.8659\n",
       "43          application   1842.596853   2686.069073   Topic4  -5.0152   1.5838\n",
       "11                 debt   1931.629301   3265.998855   Topic4  -4.9680   1.4355\n",
       "57                apply   2447.691640   4583.778173   Topic4  -4.7312   1.3333\n",
       "13          information   3727.310526   9380.522249   Topic4  -4.3107   1.0377\n",
       "1               account  11552.306138  46195.791779   Topic4  -3.1795   0.5747\n",
       "108               close   3432.390647   9204.178421   Topic4  -4.3931   0.9743\n",
       "8                 chase  12731.617440  68813.782175   Topic4  -3.0823   0.2733\n",
       "87                 open   2289.446181   5558.894507   Topic4  -4.7980   1.0736\n",
       "188             company   2583.871919   7195.967803   Topic4  -4.6771   0.9364\n",
       "211              letter   2993.134960  10101.968234   Topic4  -4.5300   0.7443\n",
       "216              reason   1556.138271   3790.525280   Topic4  -5.1841   1.0704\n",
       "113               never   2398.894216   9461.219086   Topic4  -4.7513   0.5885\n",
       "227                year   2118.701222   8686.728635   Topic4  -4.8755   0.5497\n",
       "337             balance   1899.501453   7429.332506   Topic4  -4.9848   0.5968\n",
       "58              approve   1108.811739   2277.644299   Topic4  -5.5231   1.2408\n",
       "94              request   1664.464598   8896.941134   Topic4  -5.1168   0.2845\n",
       "197                 due   1459.608632   6681.695416   Topic4  -5.2482   0.4395\n",
       "102                 use   1377.446842   6369.902220   Topic4  -5.3061   0.4293\n",
       "484                show   1270.156377   4924.301407   Topic4  -5.3872   0.6056\n",
       "151                late   1221.454626   5121.222621   Topic4  -5.4263   0.5273\n",
       "33                 date   1233.651978   5974.192673   Topic4  -5.4164   0.3832\n",
       "20              receive   1272.018263  17447.587415   Topic4  -5.3857  -0.6579\n",
       "521                 law   1756.744573   1757.542133   Topic5  -5.0269   1.9962\n",
       "1325           attorney   1583.867096   1584.656514   Topic5  -5.1305   1.9962\n",
       "660                sale   1571.573233   1572.363076   Topic5  -5.1383   1.9962\n",
       "415            contract   1328.166367   1328.957753   Topic5  -5.3065   1.9961\n",
       "321               legal   1325.719792   1326.513063   Topic5  -5.3084   1.9961\n",
       "435               title   1121.352246   1122.137973   Topic5  -5.4758   1.9960\n",
       "1088              court    999.585519   1000.372373   Topic5  -5.5908   1.9959\n",
       "1740             lender    911.110899    911.903555   Topic5  -5.6834   1.9958\n",
       "966             vehicle    850.336632    851.131016   Topic5  -5.7525   1.9957\n",
       "802             federal    850.298281    851.097987   Topic5  -5.7525   1.9957\n",
       "1840              lease    810.095662    810.888694   Topic5  -5.8009   1.9957\n",
       "1716              buyer    708.302690    709.093002   Topic5  -5.9352   1.9955\n",
       "2604               deed    656.458604    657.241173   Topic5  -6.0112   1.9955\n",
       "1413             repair    655.839945    656.642762   Topic5  -6.0122   1.9954\n",
       "1940          appraisal    548.792205    549.578500   Topic5  -6.1904   1.9952\n",
       "1281            exhibit    488.613930    489.409333   Topic5  -6.3065   1.9950\n",
       "3570         inspection    400.021296    400.811180   Topic5  -6.5066   1.9947\n",
       "3768           investor    391.959427    392.743801   Topic5  -6.5269   1.9947\n",
       "1952           borrower    375.911579    376.694224   Topic5  -6.5687   1.9946\n",
       "3511                pmi    371.894129    372.685117   Topic5  -6.5795   1.9945\n",
       "1786             county    371.825878    372.618292   Topic5  -6.5797   1.9945\n",
       "2953  washington_mutual    366.243510    367.029785   Topic5  -6.5948   1.9945\n",
       "696           represent    341.037873    341.828616   Topic5  -6.6661   1.9943\n",
       "1096              right    909.827560    911.964699   Topic5  -5.6848   1.9943\n",
       "4977         contractor    337.130392    337.926869   Topic5  -6.6776   1.9943\n",
       "1346               hire    336.621640    337.423749   Topic5  -6.6791   1.9943\n",
       "1983     discrimination    331.064901    331.872884   Topic5  -6.6958   1.9942\n",
       "1994             engage    336.076969    336.907218   Topic5  -6.6808   1.9942\n",
       "2396            legally    307.254100    308.045249   Topic5  -6.7704   1.9941\n",
       "936             lawsuit    306.159427    306.949412   Topic5  -6.7740   1.9941\n",
       "2546            chapter    307.305296    308.101290   Topic5  -6.7703   1.9941\n",
       "141            document   4253.294004   4394.829193   Topic5  -4.1427   1.9639\n",
       "652            property   2798.712766   2981.764746   Topic5  -4.5612   1.9333\n",
       "1099          violation    871.654712    955.712420   Topic5  -5.7277   1.9046\n",
       "133                 car   1978.568771   2614.978145   Topic5  -4.9080   1.7178\n",
       "2177            certify    458.079848    488.529073   Topic5  -6.3711   1.9323\n",
       "280             require   1607.825750   2241.098175   Topic5  -5.1155   1.6646\n",
       "1374            section    612.681469    700.997066   Topic5  -6.0803   1.8620\n",
       "946           agreement   1388.260427   1969.997598   Topic5  -5.2623   1.6467\n",
       "94              request   4485.750709   8896.941134   Topic5  -4.0894   1.3119\n",
       "1013             damage    839.111656   1056.209688   Topic5  -5.7658   1.7666\n",
       "535                 act   1054.414585   1438.727673   Topic5  -5.5374   1.6859\n",
       "1295               note   1309.313383   1923.431174   Topic5  -5.3208   1.6121\n",
       "470                copy   1605.168278   2614.906439   Topic5  -5.1171   1.5087\n",
       "790       documentation   1224.892504   1872.367280   Topic5  -5.3875   1.5723\n",
       "211              letter   4120.432132  10101.968234   Topic5  -4.1744   1.0999\n",
       "448                file   3038.735308   6921.004835   Topic5  -4.4789   1.1735\n",
       "273             provide   2956.360165   7365.006272   Topic5  -4.5064   1.0839\n",
       "469           complaint   1962.859032   4000.521125   Topic5  -4.9159   1.2846\n",
       "53               submit   1511.165510   2818.109407   Topic5  -5.1775   1.3735\n",
       "1027               home   2139.514564   5191.517940   Topic5  -4.8298   1.1102\n",
       "457              record   1556.690742   2996.852838   Topic5  -5.1478   1.3417\n",
       "10             consumer   1595.449448   3231.275347   Topic5  -5.1232   1.2909\n",
       "98                state   2658.982474   9213.087035   Topic5  -4.6124   0.7540\n",
       "21                 send   2649.557104  12979.857211   Topic5  -4.6160   0.4077\n",
       "266            original   1214.787551   2081.045755   Topic5  -5.3958   1.4584\n",
       "421             include   1353.426693   3069.058970   Topic5  -5.2877   1.1779\n",
       "13          information   1925.951127   9380.522249   Topic5  -4.9349   0.4134\n",
       "11                 debt   1333.776392   3265.998855   Topic5  -5.3023   1.1011\n",
       "391                case   1394.643823   4005.958671   Topic5  -5.2577   0.9415\n",
       "188             company   1506.038639   7195.967803   Topic5  -5.1809   0.4326\n",
       "8                 chase   2137.083827  68813.782175   Topic5  -4.8309  -1.4753\n",
       "625                sign   1259.455229   2925.152779   Topic5  -5.3597   1.1540, token_table=      Topic      Freq               Term\n",
       "term                                    \n",
       "465       1  0.999812             access\n",
       "1         1  0.749917            account\n",
       "1         4  0.250066            account\n",
       "684       3  0.998353             accrue\n",
       "1534      4  0.998955           accurate\n",
       "535       4  0.266902                act\n",
       "535       5  0.732592                act\n",
       "350       2  0.998217           activate\n",
       "231       2  0.998966          advertise\n",
       "126       4  0.998285             affect\n",
       "946       3  0.294924          agreement\n",
       "946       5  0.704569          agreement\n",
       "763       2  0.996667            airline\n",
       "352       1  0.267382             amount\n",
       "352       2  0.303717             amount\n",
       "352       3  0.428785             amount\n",
       "2647      2  0.998977         annual_fee\n",
       "234       1  0.998394                app\n",
       "43        3  0.055844        application\n",
       "43        4  0.686133        application\n",
       "43        5  0.257998        application\n",
       "57        3  0.465773              apply\n",
       "57        4  0.534057              apply\n",
       "1940      5  0.998947          appraisal\n",
       "58        1  0.106250            approve\n",
       "58        2  0.048296            approve\n",
       "58        3  0.344654            approve\n",
       "58        4  0.486907            approve\n",
       "58        5  0.014050            approve\n",
       "1942      3  0.999406                apr\n",
       "1855      3  0.997849        arrangement\n",
       "4         1  0.814356                ask\n",
       "4         2  0.106094                ask\n",
       "4         3  0.061133                ask\n",
       "4         4  0.018321                ask\n",
       "1775      3  0.998500             assess\n",
       "493       1  0.999360                atm\n",
       "1325      5  0.999586           attorney\n",
       "183       4  0.999622               auto\n",
       "336       1  0.868224               back\n",
       "336       2  0.113763               back\n",
       "336       3  0.018003               back\n",
       "337       1  0.076858            balance\n",
       "337       3  0.667489            balance\n",
       "337       4  0.255743            balance\n",
       "6         1  0.904362               bank\n",
       "6         3  0.030133               bank\n",
       "6         4  0.005518               bank\n",
       "6         5  0.060018               bank\n",
       "1064      1  0.999183             banker\n",
       "236       1  0.928052            banking\n",
       "236       5  0.071389            banking\n",
       "771       2  0.943111            benefit\n",
       "771       3  0.014622            benefit\n",
       "771       5  0.041672            benefit\n",
       "686       1  0.362373               bill\n",
       "686       2  0.158955               bill\n",
       "686       3  0.419897               bill\n",
       "686       4  0.058636               bill\n",
       "927       2  0.998953            billing\n",
       "1531      1  0.998562              block\n",
       "59        2  0.999391               book\n",
       "1952      5  0.998157           borrower\n",
       "131       1  0.999877             branch\n",
       "316       4  0.998261             bureau\n",
       "968       4  0.998504            bureaus\n",
       "132       1  0.745617           business\n",
       "132       2  0.003893           business\n",
       "132       4  0.166290           business\n",
       "132       5  0.084165           business\n",
       "1716      5  0.998459              buyer\n",
       "2287      3  0.997266          calculate\n",
       "104       1  0.881422               call\n",
       "104       2  0.118570               call\n",
       "390       1  0.007981             cancel\n",
       "390       2  0.991933             cancel\n",
       "1008      2  0.997442       cancellation\n",
       "133       1  0.243214                car\n",
       "133       5  0.756794                car\n",
       "30        2  0.451302               card\n",
       "30        4  0.548680               card\n",
       "391       1  0.269099               case\n",
       "391       2  0.382680               case\n",
       "391       5  0.348231               case\n",
       "1065      1  0.999699               cash\n",
       "2158      2  0.998110       cash_advance\n",
       "1666      1  0.998784            cashier\n",
       "1228      1  0.998910               cell\n",
       "2177      4  0.061409            certify\n",
       "2177      5  0.937508            certify\n",
       "31        1  0.280090             change\n",
       "31        2  0.180234             change\n",
       "31        3  0.473492             change\n",
       "31        4  0.066113             change\n",
       "2546      5  0.996426            chapter\n",
       "338       2  0.975732             charge\n",
       "338       3  0.024234             charge\n",
       "8         1  0.304154              chase\n",
       "8         2  0.283940              chase\n",
       "8         3  0.195833              chase\n",
       "8         4  0.185021              chase\n",
       "8         5  0.031055              chase\n",
       "105       1  0.999944              check\n",
       "440       1  0.999845           checking\n",
       "106       1  0.359963              claim\n",
       "106       2  0.528759              claim\n",
       "106       5  0.111211              claim\n",
       "108       1  0.626998              close\n",
       "108       4  0.372874              close\n",
       "1454      4  0.999007         collection\n",
       "188       1  0.071151            company\n",
       "188       2  0.308367            company\n",
       "188       3  0.052113            company\n",
       "188       4  0.359090            company\n",
       "188       5  0.209284            company\n",
       "469       1  0.264466          complaint\n",
       "469       2  0.201724          complaint\n",
       "469       4  0.042994          complaint\n",
       "469       5  0.490686          complaint\n",
       "32        4  0.998284            consent\n",
       "10        2  0.127194           consumer\n",
       "10        3  0.033114           consumer\n",
       "10        4  0.345684           consumer\n",
       "10        5  0.493613           consumer\n",
       "61        1  0.413787            contact\n",
       "61        2  0.391211            contact\n",
       "61        3  0.019881            contact\n",
       "61        4  0.117487            contact\n",
       "61        5  0.057620            contact\n",
       "415       5  0.999279           contract\n",
       "4977      5  0.997257         contractor\n",
       "470       1  0.041684               copy\n",
       "470       2  0.236720               copy\n",
       "470       4  0.107843               copy\n",
       "470       5  0.613789               copy\n",
       "1786      5  0.998341             county\n",
       "1088      5  0.999628              court\n",
       "44        2  0.067408             credit\n",
       "44        4  0.932556             credit\n",
       "318       4  0.998611           creditor\n",
       "134       3  0.793829            current\n",
       "134       4  0.149510            current\n",
       "134       5  0.056244            current\n",
       "136       1  0.577319           customer\n",
       "136       2  0.342694           customer\n",
       "136       3  0.025526           customer\n",
       "136       4  0.054511           customer\n",
       "1013      4  0.204505             damage\n",
       "1013      5  0.794350             damage\n",
       "33        2  0.252921               date\n",
       "33        3  0.353521               date\n",
       "33        4  0.206555               date\n",
       "33        5  0.186971               date\n",
       "1460      1  0.998906           daughter\n",
       "137       1  0.748613                day\n",
       "137       2  0.139110                day\n",
       "137       3  0.065215                day\n",
       "137       4  0.047024                day\n",
       "11        4  0.591550               debt\n",
       "11        5  0.408451               debt\n",
       "2604      5  0.998112               deed\n",
       "472       4  0.999160             delete\n",
       "192       4  0.997230         delinquent\n",
       "400       2  0.999165            deliver\n",
       "3286      2  0.997714           delivery\n",
       "110       1  0.999916            deposit\n",
       "140       1  0.948208             direct\n",
       "140       5  0.051533             direct\n",
       "1983      5  0.997370     discrimination\n",
       "445       2  0.891901            dispute\n",
       "445       4  0.107989            dispute\n",
       "2606      4  0.997270            divorce\n",
       "141       2  0.032083           document\n",
       "141       5  0.967728           document\n",
       "790       2  0.345552      documentation\n",
       "790       5  0.654252      documentation\n",
       "688       2  0.089927               drop\n",
       "688       4  0.910127               drop\n",
       "197       1  0.133948                due\n",
       "197       2  0.072886                due\n",
       "197       3  0.574704                due\n",
       "197       4  0.218507                due\n",
       "3372      4  0.997196             effect\n",
       "198       1  0.304519              email\n",
       "198       2  0.695282              email\n",
       "1994      5  0.997307             engage\n",
       "1258      3  0.998881             escrow\n",
       "793       4  0.996951          excellent\n",
       "550       2  0.998992           exchange\n",
       "1281      5  0.999164            exhibit\n",
       "45        4  0.997044             extend\n",
       "1089      4  0.998842               fcra\n",
       "802       5  0.998710            federal\n",
       "143       1  0.044281                fee\n",
       "143       2  0.098008                fee\n",
       "143       3  0.857748                fee\n",
       "448       1  0.237104               file\n",
       "448       2  0.164860               file\n",
       "448       4  0.158936               file\n",
       "448       5  0.439098               file\n",
       "669       2  0.999137             flight\n",
       "2881      3  0.999436          foreclose\n",
       "644       3  0.999806        foreclosure\n",
       "451       1  0.402771              fraud\n",
       "451       2  0.450468              fraud\n",
       "451       4  0.076759              fraud\n",
       "451       5  0.069921              fraud\n",
       "46        1  0.060313         fraudulent\n",
       "46        2  0.753472         fraudulent\n",
       "46        4  0.168301         fraudulent\n",
       "46        5  0.017739         fraudulent\n",
       "731       1  0.998798             freeze\n",
       "366       2  0.290271               full\n",
       "366       3  0.617622               full\n",
       "366       4  0.065920               full\n",
       "366       5  0.026218               full\n",
       "146       1  0.999848               fund\n",
       "72        1  0.824363                get\n",
       "72        2  0.033357                get\n",
       "72        3  0.142206                get\n",
       "3164      2  0.997309               gift\n",
       "34        1  0.780914               give\n",
       "34        2  0.070868               give\n",
       "34        3  0.079417               give\n",
       "34        4  0.024036               give\n",
       "34        5  0.044726               give\n",
       "74        1  0.894636                 go\n",
       "74        3  0.105356                 go\n",
       "75        1  0.919576             happen\n",
       "75        2  0.020987             happen\n",
       "75        3  0.059463             happen\n",
       "1568      3  0.075229               hard\n",
       "1568      4  0.924117               hard\n",
       "1293      3  0.999045           hardship\n",
       "12        1  0.728893               help\n",
       "12        3  0.270919               help\n",
       "1346      5  0.998744               hire\n",
       "743       4  0.999394            history\n",
       "319       1  0.927506               hold\n",
       "319       5  0.072327               hold\n",
       "1027      1  0.017143               home\n",
       "1027      3  0.570739               home\n",
       "1027      5  0.412211               home\n",
       "670       2  0.999205              hotel\n",
       "1243      4  0.999111              house\n",
       "2983      1  0.997060     identification\n",
       "49        4  0.998052           identity\n",
       "1738      4  0.997463             impact\n",
       "475       4  0.999090         inaccurate\n",
       "421       1  0.016617            include\n",
       "421       2  0.288688            include\n",
       "421       3  0.193871            include\n",
       "421       4  0.059627            include\n",
       "421       5  0.440852            include\n",
       "208       3  0.999637             income\n",
       "877       3  0.834430           increase\n",
       "877       4  0.165188           increase\n",
       "13        1  0.225467        information\n",
       "13        2  0.171845        information\n",
       "13        4  0.397313        information\n",
       "13        5  0.205319        information\n",
       "121       4  0.999777            inquiry\n",
       "3570      5  0.997976         inspection\n",
       "519       3  0.999881           interest\n",
       "3768      5  0.998106           investor\n",
       "890       4  0.998755            involve\n",
       "311       1  0.405707              issue\n",
       "311       2  0.350904              issue\n",
       "311       3  0.032182              issue\n",
       "311       4  0.136807              issue\n",
       "311       5  0.074463              issue\n",
       "715       2  0.908239               item\n",
       "715       4  0.082117               item\n",
       "715       5  0.009491               item\n",
       "151       3  0.761342               late\n",
       "151       4  0.238420               late\n",
       "521       5  0.999692                law\n",
       "936       5  0.996907            lawsuit\n",
       "1840      5  0.998904              lease\n",
       "321       5  0.999613              legal\n",
       "2396      5  0.996607            legally\n",
       "1740      5  0.999009             lender\n",
       "211       1  0.146605             letter\n",
       "211       2  0.149179             letter\n",
       "211       4  0.296279             letter\n",
       "211       5  0.407841             letter\n",
       "372       4  0.999807              limit\n",
       "212       3  0.883479               loan\n",
       "212       5  0.116481               loan\n",
       "1069      1  0.998808               lock\n",
       "344       3  0.999528                low\n",
       "592       1  0.997390            machine\n",
       "81        1  0.319245               make\n",
       "81        2  0.279382               make\n",
       "81        3  0.332220               make\n",
       "81        4  0.069141               make\n",
       "454       1  0.988237            manager\n",
       "454       5  0.011495            manager\n",
       "2844      3  0.998720             market\n",
       "718       2  0.999536           merchant\n",
       "1230      2  0.998932               mile\n",
       "524       3  0.998691            minimum\n",
       "510       3  0.999775       modification\n",
       "3783      3  0.999252             modify\n",
       "112       1  0.999925              money\n",
       "16        1  0.117384              month\n",
       "16        2  0.094311              month\n",
       "16        3  0.732845              month\n",
       "16        4  0.055421              month\n",
       "1093      3  0.999594            monthly\n",
       "649       3  0.929510           mortgage\n",
       "649       5  0.070375           mortgage\n",
       "695       4  0.999329           negative\n",
       "113       1  0.413372              never\n",
       "113       2  0.186657              never\n",
       "113       3  0.146281              never\n",
       "113       4  0.253561              never\n",
       "1295      1  0.103981               note\n",
       "1295      2  0.153892               note\n",
       "1295      3  0.061349               note\n",
       "1295      5  0.680555               note\n",
       "114       1  0.779023             number\n",
       "114       2  0.126318             number\n",
       "114       4  0.066700             number\n",
       "114       5  0.027942             number\n",
       "86        2  0.370621              offer\n",
       "86        3  0.629114              offer\n",
       "87        1  0.588067               open\n",
       "87        4  0.411773               open\n",
       "36        1  0.153815              order\n",
       "36        2  0.618886              order\n",
       "36        3  0.007857              order\n",
       "36        5  0.219390              order\n",
       "266       2  0.251796           original\n",
       "266       3  0.164340           original\n",
       "266       5  0.583841           original\n",
       "116       1  0.116950                pay\n",
       "116       2  0.063589                pay\n",
       "116       3  0.807945                pay\n",
       "116       4  0.011430                pay\n",
       "159       3  0.999954            payment\n",
       "650       3  0.999415             payoff\n",
       "1267      1  0.999094         permission\n",
       "323       1  0.878299             person\n",
       "323       2  0.005355             person\n",
       "323       5  0.116246             person\n",
       "269       1  0.831585              phone\n",
       "269       2  0.168358              phone\n",
       "751       2  0.035794               plan\n",
       "751       3  0.962858               plan\n",
       "3511      5  0.998162                pmi\n",
       "560       1  0.070300              point\n",
       "560       2  0.669476              point\n",
       "560       3  0.207656              point\n",
       "560       4  0.052455              point\n",
       "2331      3  0.999030          principal\n",
       "272       2  0.999279            product\n",
       "1152      3  0.999351            program\n",
       "622       3  0.998508          promotion\n",
       "529       3  0.996728        promotional\n",
       "652       3  0.061038           property\n",
       "652       5  0.938706           property\n",
       "273       1  0.060149            provide\n",
       "273       2  0.492192            provide\n",
       "273       4  0.046164            provide\n",
       "273       5  0.401357            provide\n",
       "90        2  0.887253           purchase\n",
       "90        3  0.112752           purchase\n",
       "19        1  0.861887                put\n",
       "19        3  0.126870                put\n",
       "19        4  0.011505                put\n",
       "1210      3  0.998250            qualify\n",
       "530       3  0.999639               rate\n",
       "216       1  0.445321             reason\n",
       "216       2  0.082047             reason\n",
       "216       3  0.025326             reason\n",
       "216       4  0.410497             reason\n",
       "216       5  0.036670             reason\n",
       "20        1  0.364750            receive\n",
       "20        2  0.394095            receive\n",
       "20        3  0.123742            receive\n",
       "20        4  0.072904            receive\n",
       "20        5  0.044476            receive\n",
       "457       1  0.188197             record\n",
       "457       2  0.090428             record\n",
       "457       4  0.201878             record\n",
       "457       5  0.519545             record\n",
       "37        2  0.998246          recording\n",
       "886       3  0.998877          refinance\n",
       "278       2  0.999694             refund\n",
       "122       4  0.999891             remove\n",
       "942       1  0.997081                rep\n",
       "942       2  0.002108                rep\n",
       "1413      5  0.999021             repair\n",
       "51        4  0.999960             report\n",
       "481       4  0.998870          reporting\n",
       "696       5  0.997576          represent\n",
       "94        1  0.071935            request\n",
       "94        2  0.221986            request\n",
       "94        3  0.014724            request\n",
       "94        4  0.187031            request\n",
       "94        5  0.504218            request\n",
       "280       2  0.141449            require\n",
       "280       3  0.141002            require\n",
       "280       5  0.717505            require\n",
       "169       1  0.997294           restrict\n",
       "171       1  0.559002             return\n",
       "171       2  0.422112             return\n",
       "171       3  0.001972             return\n",
       "171       5  0.016766             return\n",
       "95        2  0.998899             reward\n",
       "1096      4  0.002193              right\n",
       "1096      5  0.997846              right\n",
       "660       5  0.999769               sale\n",
       "379       1  0.999765             saving\n",
       "117       1  0.904745                say\n",
       "117       2  0.084958                say\n",
       "117       3  0.010240                say\n",
       "697       4  0.999461              score\n",
       "1374      4  0.125535            section\n",
       "1374      5  0.874469            section\n",
       "1304      2  0.998405             seller\n",
       "21        1  0.500237               send\n",
       "21        2  0.200002               send\n",
       "21        3  0.057628               send\n",
       "21        4  0.037982               send\n",
       "21        5  0.204162               send\n",
       "52        1  0.306451            service\n",
       "52        2  0.582744            service\n",
       "52        3  0.002742            service\n",
       "52        4  0.102506            service\n",
       "52        5  0.005636            service\n",
       "727       2  0.998578               ship\n",
       "4463      2  0.997972           shipping\n",
       "484       1  0.248563               show\n",
       "484       2  0.268058               show\n",
       "484       3  0.202262               show\n",
       "484       4  0.257905               show\n",
       "484       5  0.023354               show\n",
       "625       1  0.120677               sign\n",
       "625       2  0.311437               sign\n",
       "625       3  0.108029               sign\n",
       "625       4  0.029400               sign\n",
       "625       5  0.430405               sign\n",
       "1153      2  0.998919               site\n",
       "4395      4  0.998895              slate\n",
       "636       1  0.999460    social_security\n",
       "118       1  0.999199                son\n",
       "97        1  0.867280              speak\n",
       "97        2  0.115946              speak\n",
       "97        3  0.016784              speak\n",
       "98        1  0.296643              state\n",
       "98        2  0.284378              state\n",
       "98        3  0.046456              state\n",
       "98        4  0.083902              state\n",
       "98        5  0.288611              state\n",
       "22        2  0.477021          statement\n",
       "22        3  0.494921          statement\n",
       "22        4  0.027802          statement\n",
       "221       1  0.604922              still\n",
       "221       2  0.079543              still\n",
       "221       3  0.147014              still\n",
       "221       4  0.168512              still\n",
       "1681      2  0.997933              store\n",
       "563       1  0.999035              story\n",
       "704       4  0.998208            student\n",
       "53        1  0.050388             submit\n",
       "53        2  0.305524             submit\n",
       "53        4  0.107519             submit\n",
       "53        5  0.536175             submit\n",
       "119       1  0.705485               take\n",
       "119       2  0.064419               take\n",
       "119       3  0.158472               take\n",
       "119       5  0.071414               take\n",
       "294       1  0.999376               talk\n",
       "1270      3  0.999191                tax\n",
       "1271      3  0.999561              taxis\n",
       "38        1  0.899128               tell\n",
       "38        2  0.065037               tell\n",
       "38        3  0.035798               tell\n",
       "177       1  0.998287             teller\n",
       "331       3  0.852148               term\n",
       "331       5  0.147453               term\n",
       "100       2  0.999825             ticket\n",
       "120       1  0.438636               time\n",
       "120       2  0.171151               time\n",
       "120       3  0.300197               time\n",
       "120       4  0.069819               time\n",
       "120       5  0.020253               time\n",
       "435       5  0.998986              title\n",
       "297       1  0.188202        transaction\n",
       "297       2  0.811815        transaction\n",
       "298       1  0.815862           transfer\n",
       "298       3  0.184078           transfer\n",
       "566       2  0.999498             travel\n",
       "3549      3  0.997578              trial\n",
       "866       2  0.997381               trip\n",
       "1126      2  0.895541       unauthorized\n",
       "1126      4  0.103723       unauthorized\n",
       "102       1  0.255263                use\n",
       "102       2  0.508485                use\n",
       "102       4  0.216173                use\n",
       "102       5  0.020094                use\n",
       "487       2  0.938777              valid\n",
       "487       5  0.060811              valid\n",
       "966       5  0.998671            vehicle\n",
       "678       2  0.998641             vendor\n",
       "1099      4  0.086846          violation\n",
       "1099      5  0.912408          violation\n",
       "679       2  0.999008               visa\n",
       "225       1  0.960896               wait\n",
       "225       2  0.038974               wait\n",
       "967       3  0.997461              waive\n",
       "2953      5  0.997194  washington_mutual\n",
       "306       1  0.036340            website\n",
       "306       2  0.898742            website\n",
       "306       3  0.064545            website\n",
       "665       1  0.999566               wire\n",
       "103       1  0.999469           withdraw\n",
       "1236      1  0.999260         withdrawal\n",
       "227       1  0.135955               year\n",
       "227       3  0.620026               year\n",
       "227       4  0.243935               year, R=30, lambda_step=0.01, plot_opts={'xlab': 'PC1', 'ylab': 'PC2'}, topic_order=[5, 4, 1, 2, 3])"
      ]
     },
     "execution_count": 108,
     "metadata": {},
     "output_type": "execute_result"
    }
   ],
   "source": [
    "pyLDAvis.enable_notebook()\n",
    "vis = pyLDAvis.gensim_models.prepare(lda_model5, corpus, id2word)\n",
    "vis"
   ]
  },
  {
   "cell_type": "code",
   "execution_count": 109,
   "id": "t04ZglnjriZ6",
   "metadata": {
    "executionInfo": {
     "elapsed": 1220,
     "status": "ok",
     "timestamp": 1674528790823,
     "user": {
      "displayName": "GAURAV SINHA",
      "userId": "13858423673435577443"
     },
     "user_tz": -330
    },
    "id": "t04ZglnjriZ6"
   },
   "outputs": [],
   "source": [
    "pyLDAvis.save_html(vis, 'lda.html')"
   ]
  },
  {
   "cell_type": "code",
   "execution_count": 111,
   "id": "Rl8_jlKIxbo3",
   "metadata": {
    "colab": {
     "base_uri": "https://localhost:8080/"
    },
    "executionInfo": {
     "elapsed": 1365,
     "status": "ok",
     "timestamp": 1674530125107,
     "user": {
      "displayName": "GAURAV SINHA",
      "userId": "13858423673435577443"
     },
     "user_tz": -330
    },
    "id": "Rl8_jlKIxbo3",
    "outputId": "f66f173d-c33e-4dc3-9068-a3a2a9aac80d"
   },
   "outputs": [
    {
     "data": {
      "text/plain": [
       "Index(['index', 'complaint_text', 'lemma', 'category', 'Complaint_clean',\n",
       "       'text_for_lda', 'index', 'Document_No', 'Dominant_Topic',\n",
       "       'Topic_Perc_Contrib', 'Keywords', 'Text'],\n",
       "      dtype='object')"
      ]
     },
     "execution_count": 111,
     "metadata": {},
     "output_type": "execute_result"
    }
   ],
   "source": [
    "lda_output.columns"
   ]
  },
  {
   "cell_type": "code",
   "execution_count": 112,
   "id": "BdfS2BerxOqI",
   "metadata": {
    "executionInfo": {
     "elapsed": 525,
     "status": "ok",
     "timestamp": 1674530207189,
     "user": {
      "displayName": "GAURAV SINHA",
      "userId": "13858423673435577443"
     },
     "user_tz": -330
    },
    "id": "BdfS2BerxOqI"
   },
   "outputs": [],
   "source": [
    "lda_output['Dominant_Topic'] = lda_output['Dominant_Topic'].map(topic_mapping)"
   ]
  },
  {
   "cell_type": "code",
   "execution_count": 114,
   "id": "IoweXultx0QX",
   "metadata": {
    "executionInfo": {
     "elapsed": 18805,
     "status": "ok",
     "timestamp": 1674530379140,
     "user": {
      "displayName": "GAURAV SINHA",
      "userId": "13858423673435577443"
     },
     "user_tz": -330
    },
    "id": "IoweXultx0QX"
   },
   "outputs": [],
   "source": [
    "lda_output.to_excel('lda_output.xlsx')"
   ]
  },
  {
   "cell_type": "markdown",
   "id": "ef69a9d7",
   "metadata": {
    "id": "ef69a9d7"
   },
   "source": [
    "### Topic Modelling using NMF\n",
    "\n",
    "Non-Negative Matrix Factorization (NMF) is an unsupervised technique so there are no labeling of topics that the model will be trained on. The way it works is that, NMF decomposes (or factorizes) high-dimensional vectors into a lower-dimensional representation i.e it factorizes into weights and feature/topic matrices. These lower-dimensional vectors are non-negative which also means their coefficients are non-negative.\n",
    "\n",
    "In this task you have to perform the following:\n",
    "\n",
    "Find the best number of clusters\n",
    "Apply the best number to create word clusters\n",
    "Inspect & validate the correction of each cluster wrt the complaints\n",
    "Correct the labels if needed\n",
    "Map the clusters to topics/cluster names"
   ]
  },
  {
   "cell_type": "code",
   "execution_count": 115,
   "id": "c9460b72",
   "metadata": {
    "executionInfo": {
     "elapsed": 435,
     "status": "ok",
     "timestamp": 1674530628794,
     "user": {
      "displayName": "GAURAV SINHA",
      "userId": "13858423673435577443"
     },
     "user_tz": -330
    },
    "id": "c9460b72"
   },
   "outputs": [],
   "source": [
    "from sklearn.decomposition import NMF"
   ]
  },
  {
   "cell_type": "markdown",
   "id": "03ddeb92",
   "metadata": {
    "id": "03ddeb92"
   },
   "source": [
    "### Manual Topic Modeling\n",
    "\n",
    "You need to do take the trial & error approach to find the best num of topics for your NMF model.\n",
    "\n",
    "The only parameter that is required is the number of components i.e. the number of topics we want. This is the most crucial step in the whole topic modeling process and will greatly affect how good your final topics are."
   ]
  },
  {
   "cell_type": "code",
   "execution_count": 116,
   "id": "da164c43",
   "metadata": {
    "executionInfo": {
     "elapsed": 1396,
     "status": "ok",
     "timestamp": 1674530645693,
     "user": {
      "displayName": "GAURAV SINHA",
      "userId": "13858423673435577443"
     },
     "user_tz": -330
    },
    "id": "da164c43"
   },
   "outputs": [],
   "source": [
    "#Load your nmf_model with the n_components i.e 5\n",
    "num_topics =  5 \n",
    "\n",
    "#keep the random_state =40\n",
    "nmf_model = NMF(n_components=num_topics, random_state=40)\n",
    "\n",
    "W1 = nmf_model.fit_transform(dtm)\n",
    "H1 = nmf_model.components_"
   ]
  },
  {
   "cell_type": "code",
   "execution_count": 139,
   "id": "H9LvEyNr7VnU",
   "metadata": {
    "colab": {
     "base_uri": "https://localhost:8080/"
    },
    "executionInfo": {
     "elapsed": 581,
     "status": "ok",
     "timestamp": 1674532715639,
     "user": {
      "displayName": "GAURAV SINHA",
      "userId": "13858423673435577443"
     },
     "user_tz": -330
    },
    "id": "H9LvEyNr7VnU",
    "outputId": "f3e3848b-67e5-42aa-b248-81f7fb8bdcfd"
   },
   "outputs": [
    {
     "data": {
      "text/plain": [
       "(21072, 6116)"
      ]
     },
     "execution_count": 139,
     "metadata": {},
     "output_type": "execute_result"
    }
   ],
   "source": [
    "dtm.shape"
   ]
  },
  {
   "cell_type": "code",
   "execution_count": 140,
   "id": "FydIJJyi7Yj2",
   "metadata": {
    "colab": {
     "base_uri": "https://localhost:8080/"
    },
    "executionInfo": {
     "elapsed": 6,
     "status": "ok",
     "timestamp": 1674532730493,
     "user": {
      "displayName": "GAURAV SINHA",
      "userId": "13858423673435577443"
     },
     "user_tz": -330
    },
    "id": "FydIJJyi7Yj2",
    "outputId": "d9d67849-694c-4f58-b7d1-c327b60cb629"
   },
   "outputs": [
    {
     "data": {
      "text/plain": [
       "(21072, 5)"
      ]
     },
     "execution_count": 140,
     "metadata": {},
     "output_type": "execute_result"
    }
   ],
   "source": [
    "W1.shape"
   ]
  },
  {
   "cell_type": "markdown",
   "id": "9d0Gk-aW7rrW",
   "metadata": {
    "id": "9d0Gk-aW7rrW"
   },
   "source": [
    "### Here w1 contains the document/article to topic mapping"
   ]
  },
  {
   "cell_type": "code",
   "execution_count": 141,
   "id": "ZuqTb0An7cHo",
   "metadata": {
    "colab": {
     "base_uri": "https://localhost:8080/"
    },
    "executionInfo": {
     "elapsed": 861,
     "status": "ok",
     "timestamp": 1674532746402,
     "user": {
      "displayName": "GAURAV SINHA",
      "userId": "13858423673435577443"
     },
     "user_tz": -330
    },
    "id": "ZuqTb0An7cHo",
    "outputId": "ceec32d8-716a-47c7-93ca-05aa3a3e0eb5"
   },
   "outputs": [
    {
     "data": {
      "text/plain": [
       "(5, 6116)"
      ]
     },
     "execution_count": 141,
     "metadata": {},
     "output_type": "execute_result"
    }
   ],
   "source": [
    "H1.shape"
   ]
  },
  {
   "cell_type": "markdown",
   "id": "qC1saG8e73EP",
   "metadata": {
    "id": "qC1saG8e73EP"
   },
   "source": [
    "### Here h1 contains topic to word features/weights mapping"
   ]
  },
  {
   "cell_type": "markdown",
   "id": "pyOaBsJd8CXX",
   "metadata": {
    "id": "pyOaBsJd8CXX"
   },
   "source": [
    "Through optimization W and H are modified so that they might approach A. Since dimensions are really very high so it might overfit or might get stuck to local minima."
   ]
  },
  {
   "cell_type": "code",
   "execution_count": 117,
   "id": "d40f598c",
   "metadata": {
    "executionInfo": {
     "elapsed": 439,
     "status": "ok",
     "timestamp": 1674530656681,
     "user": {
      "displayName": "GAURAV SINHA",
      "userId": "13858423673435577443"
     },
     "user_tz": -330
    },
    "id": "d40f598c"
   },
   "outputs": [],
   "source": [
    "#Print the Top15 words for each of the topics\n",
    "num_words=15\n",
    "\n",
    "vocab = np.array(tfidf.get_feature_names())\n",
    "\n",
    "top_words = lambda t: [vocab[i] for i in np.argsort(t)[:-num_words-1:-1]]\n",
    "topic_words = ([top_words(t) for t in H1])\n",
    "topics = [' '.join(t) for t in topic_words]"
   ]
  },
  {
   "cell_type": "code",
   "execution_count": 118,
   "id": "de34ab05",
   "metadata": {
    "colab": {
     "base_uri": "https://localhost:8080/"
    },
    "executionInfo": {
     "elapsed": 1352,
     "status": "ok",
     "timestamp": 1674530660921,
     "user": {
      "displayName": "GAURAV SINHA",
      "userId": "13858423673435577443"
     },
     "user_tz": -330
    },
    "id": "de34ab05",
    "outputId": "56059087-2951-46aa-e696-a338436caaef"
   },
   "outputs": [
    {
     "data": {
      "text/plain": [
       "array(['aarp', 'abate', 'abatement', ..., 'zip', 'zombie', 'zone'],\n",
       "      dtype='<U107')"
      ]
     },
     "execution_count": 118,
     "metadata": {},
     "output_type": "execute_result"
    }
   ],
   "source": [
    "vocab"
   ]
  },
  {
   "cell_type": "code",
   "execution_count": 119,
   "id": "8fba7f7b",
   "metadata": {
    "colab": {
     "base_uri": "https://localhost:8080/"
    },
    "executionInfo": {
     "elapsed": 483,
     "status": "ok",
     "timestamp": 1674530664782,
     "user": {
      "displayName": "GAURAV SINHA",
      "userId": "13858423673435577443"
     },
     "user_tz": -330
    },
    "id": "8fba7f7b",
    "outputId": "ba0c779c-2501-4fa0-e115-f31d0b430c13"
   },
   "outputs": [
    {
     "data": {
      "text/plain": [
       "['account check money chase deposit bank fund branch day transfer number checking transaction claim business',\n",
       " 'credit card report inquiry chase score account company information debt limit application letter year remove',\n",
       " 'payment balance pay month statement fee time day auto credit chase date mortgage year error',\n",
       " 'charge fee card chase dispute transaction purchase merchant refund balance service claim overdraft pay time',\n",
       " 'loan mortgage chase home modification property year document letter rate time request foreclosure sale information']"
      ]
     },
     "execution_count": 119,
     "metadata": {},
     "output_type": "execute_result"
    }
   ],
   "source": [
    "topics"
   ]
  },
  {
   "cell_type": "code",
   "execution_count": 120,
   "id": "e54316e6",
   "metadata": {
    "colab": {
     "base_uri": "https://localhost:8080/",
     "height": 206
    },
    "executionInfo": {
     "elapsed": 11,
     "status": "ok",
     "timestamp": 1674530710565,
     "user": {
      "displayName": "GAURAV SINHA",
      "userId": "13858423673435577443"
     },
     "user_tz": -330
    },
    "id": "e54316e6",
    "outputId": "5d248c09-bd12-4e12-9a1c-219ffc32b60b"
   },
   "outputs": [
    {
     "data": {
      "text/html": [
       "\n",
       "  <div id=\"df-94cd5e3b-4096-4c92-a6be-8644604c5e1f\">\n",
       "    <div class=\"colab-df-container\">\n",
       "      <div>\n",
       "<style scoped>\n",
       "    .dataframe tbody tr th:only-of-type {\n",
       "        vertical-align: middle;\n",
       "    }\n",
       "\n",
       "    .dataframe tbody tr th {\n",
       "        vertical-align: top;\n",
       "    }\n",
       "\n",
       "    .dataframe thead th {\n",
       "        text-align: right;\n",
       "    }\n",
       "</style>\n",
       "<table border=\"1\" class=\"dataframe\">\n",
       "  <thead>\n",
       "    <tr style=\"text-align: right;\">\n",
       "      <th></th>\n",
       "      <th>Topic0</th>\n",
       "      <th>Topic1</th>\n",
       "      <th>Topic2</th>\n",
       "      <th>Topic3</th>\n",
       "      <th>Topic4</th>\n",
       "      <th>dominant_topic</th>\n",
       "    </tr>\n",
       "  </thead>\n",
       "  <tbody>\n",
       "    <tr>\n",
       "      <th>Doc0</th>\n",
       "      <td>0.02</td>\n",
       "      <td>0.01</td>\n",
       "      <td>0.01</td>\n",
       "      <td>0.0</td>\n",
       "      <td>0.03</td>\n",
       "      <td>4</td>\n",
       "    </tr>\n",
       "    <tr>\n",
       "      <th>Doc1</th>\n",
       "      <td>0.01</td>\n",
       "      <td>0.00</td>\n",
       "      <td>0.00</td>\n",
       "      <td>0.0</td>\n",
       "      <td>0.01</td>\n",
       "      <td>0</td>\n",
       "    </tr>\n",
       "    <tr>\n",
       "      <th>Doc2</th>\n",
       "      <td>0.00</td>\n",
       "      <td>0.06</td>\n",
       "      <td>0.00</td>\n",
       "      <td>0.0</td>\n",
       "      <td>0.01</td>\n",
       "      <td>1</td>\n",
       "    </tr>\n",
       "    <tr>\n",
       "      <th>Doc3</th>\n",
       "      <td>0.02</td>\n",
       "      <td>0.06</td>\n",
       "      <td>0.00</td>\n",
       "      <td>0.0</td>\n",
       "      <td>0.02</td>\n",
       "      <td>1</td>\n",
       "    </tr>\n",
       "    <tr>\n",
       "      <th>Doc4</th>\n",
       "      <td>0.07</td>\n",
       "      <td>0.00</td>\n",
       "      <td>0.00</td>\n",
       "      <td>0.0</td>\n",
       "      <td>0.01</td>\n",
       "      <td>0</td>\n",
       "    </tr>\n",
       "  </tbody>\n",
       "</table>\n",
       "</div>\n",
       "      <button class=\"colab-df-convert\" onclick=\"convertToInteractive('df-94cd5e3b-4096-4c92-a6be-8644604c5e1f')\"\n",
       "              title=\"Convert this dataframe to an interactive table.\"\n",
       "              style=\"display:none;\">\n",
       "        \n",
       "  <svg xmlns=\"http://www.w3.org/2000/svg\" height=\"24px\"viewBox=\"0 0 24 24\"\n",
       "       width=\"24px\">\n",
       "    <path d=\"M0 0h24v24H0V0z\" fill=\"none\"/>\n",
       "    <path d=\"M18.56 5.44l.94 2.06.94-2.06 2.06-.94-2.06-.94-.94-2.06-.94 2.06-2.06.94zm-11 1L8.5 8.5l.94-2.06 2.06-.94-2.06-.94L8.5 2.5l-.94 2.06-2.06.94zm10 10l.94 2.06.94-2.06 2.06-.94-2.06-.94-.94-2.06-.94 2.06-2.06.94z\"/><path d=\"M17.41 7.96l-1.37-1.37c-.4-.4-.92-.59-1.43-.59-.52 0-1.04.2-1.43.59L10.3 9.45l-7.72 7.72c-.78.78-.78 2.05 0 2.83L4 21.41c.39.39.9.59 1.41.59.51 0 1.02-.2 1.41-.59l7.78-7.78 2.81-2.81c.8-.78.8-2.07 0-2.86zM5.41 20L4 18.59l7.72-7.72 1.47 1.35L5.41 20z\"/>\n",
       "  </svg>\n",
       "      </button>\n",
       "      \n",
       "  <style>\n",
       "    .colab-df-container {\n",
       "      display:flex;\n",
       "      flex-wrap:wrap;\n",
       "      gap: 12px;\n",
       "    }\n",
       "\n",
       "    .colab-df-convert {\n",
       "      background-color: #E8F0FE;\n",
       "      border: none;\n",
       "      border-radius: 50%;\n",
       "      cursor: pointer;\n",
       "      display: none;\n",
       "      fill: #1967D2;\n",
       "      height: 32px;\n",
       "      padding: 0 0 0 0;\n",
       "      width: 32px;\n",
       "    }\n",
       "\n",
       "    .colab-df-convert:hover {\n",
       "      background-color: #E2EBFA;\n",
       "      box-shadow: 0px 1px 2px rgba(60, 64, 67, 0.3), 0px 1px 3px 1px rgba(60, 64, 67, 0.15);\n",
       "      fill: #174EA6;\n",
       "    }\n",
       "\n",
       "    [theme=dark] .colab-df-convert {\n",
       "      background-color: #3B4455;\n",
       "      fill: #D2E3FC;\n",
       "    }\n",
       "\n",
       "    [theme=dark] .colab-df-convert:hover {\n",
       "      background-color: #434B5C;\n",
       "      box-shadow: 0px 1px 3px 1px rgba(0, 0, 0, 0.15);\n",
       "      filter: drop-shadow(0px 1px 2px rgba(0, 0, 0, 0.3));\n",
       "      fill: #FFFFFF;\n",
       "    }\n",
       "  </style>\n",
       "\n",
       "      <script>\n",
       "        const buttonEl =\n",
       "          document.querySelector('#df-94cd5e3b-4096-4c92-a6be-8644604c5e1f button.colab-df-convert');\n",
       "        buttonEl.style.display =\n",
       "          google.colab.kernel.accessAllowed ? 'block' : 'none';\n",
       "\n",
       "        async function convertToInteractive(key) {\n",
       "          const element = document.querySelector('#df-94cd5e3b-4096-4c92-a6be-8644604c5e1f');\n",
       "          const dataTable =\n",
       "            await google.colab.kernel.invokeFunction('convertToInteractive',\n",
       "                                                     [key], {});\n",
       "          if (!dataTable) return;\n",
       "\n",
       "          const docLinkHtml = 'Like what you see? Visit the ' +\n",
       "            '<a target=\"_blank\" href=https://colab.research.google.com/notebooks/data_table.ipynb>data table notebook</a>'\n",
       "            + ' to learn more about interactive tables.';\n",
       "          element.innerHTML = '';\n",
       "          dataTable['output_type'] = 'display_data';\n",
       "          await google.colab.output.renderOutput(dataTable, element);\n",
       "          const docLink = document.createElement('div');\n",
       "          docLink.innerHTML = docLinkHtml;\n",
       "          element.appendChild(docLink);\n",
       "        }\n",
       "      </script>\n",
       "    </div>\n",
       "  </div>\n",
       "  "
      ],
      "text/plain": [
       "      Topic0  Topic1  Topic2  Topic3  Topic4  dominant_topic\n",
       "Doc0    0.02    0.01    0.01     0.0    0.03               4\n",
       "Doc1    0.01    0.00    0.00     0.0    0.01               0\n",
       "Doc2    0.00    0.06    0.00     0.0    0.01               1\n",
       "Doc3    0.02    0.06    0.00     0.0    0.02               1\n",
       "Doc4    0.07    0.00    0.00     0.0    0.01               0"
      ]
     },
     "execution_count": 120,
     "metadata": {},
     "output_type": "execute_result"
    }
   ],
   "source": [
    "#Create the best topic for each complaint in terms of integer value 0,1,2,3 & 4\n",
    "colnames = [\"Topic\" + str(i) for i in range(nmf_model.n_components)]\n",
    "docnames = [\"Doc\" + str(i) for i in range(len(df_clean.Complaint_clean))]\n",
    "df_doc_topic = pd.DataFrame(np.round(W1, 2), columns=colnames, index=docnames)\n",
    "significant_topic = np.argmax(df_doc_topic.values, axis=1)\n",
    "df_doc_topic['dominant_topic'] = significant_topic\n",
    "df_doc_topic.head()"
   ]
  },
  {
   "cell_type": "code",
   "execution_count": 121,
   "id": "d4facc50",
   "metadata": {
    "executionInfo": {
     "elapsed": 601,
     "status": "ok",
     "timestamp": 1674530725127,
     "user": {
      "displayName": "GAURAV SINHA",
      "userId": "13858423673435577443"
     },
     "user_tz": -330
    },
    "id": "d4facc50"
   },
   "outputs": [],
   "source": [
    "#Assign the best topic to each of the cmplaints in Topic Column\n",
    "df_clean['Topic'] = significant_topic"
   ]
  },
  {
   "cell_type": "code",
   "execution_count": 122,
   "id": "Mvgy6KKgz2I2",
   "metadata": {
    "executionInfo": {
     "elapsed": 445,
     "status": "ok",
     "timestamp": 1674530767371,
     "user": {
      "displayName": "GAURAV SINHA",
      "userId": "13858423673435577443"
     },
     "user_tz": -330
    },
    "id": "Mvgy6KKgz2I2"
   },
   "outputs": [],
   "source": [
    "lda_output['Topic'] = significant_topic"
   ]
  },
  {
   "cell_type": "code",
   "execution_count": 123,
   "id": "94f4485f",
   "metadata": {
    "executionInfo": {
     "elapsed": 690,
     "status": "ok",
     "timestamp": 1674530771924,
     "user": {
      "displayName": "GAURAV SINHA",
      "userId": "13858423673435577443"
     },
     "user_tz": -330
    },
    "id": "94f4485f"
   },
   "outputs": [],
   "source": [
    "pd.set_option('display.max_colwidth', -1)"
   ]
  },
  {
   "cell_type": "code",
   "execution_count": 124,
   "id": "175e58c1",
   "metadata": {
    "executionInfo": {
     "elapsed": 443,
     "status": "ok",
     "timestamp": 1674530781397,
     "user": {
      "displayName": "GAURAV SINHA",
      "userId": "13858423673435577443"
     },
     "user_tz": -330
    },
    "id": "175e58c1"
   },
   "outputs": [],
   "source": [
    "# df_clean[['complaint_text','Complaint_clean','category','Topic']][df_clean.Topic==4].head(30)"
   ]
  },
  {
   "cell_type": "markdown",
   "id": "bbf9dc32",
   "metadata": {
    "id": "bbf9dc32"
   },
   "source": [
    "### After evaluating the mapping, if the topics assigned are correct then assign these names to the relevant topic:\n",
    "Bank Account services\n",
    "\n",
    "Credit card or prepaid card\n",
    "\n",
    "Theft/Dispute Reporting\n",
    "\n",
    "Mortgage/Loan\n",
    "\n",
    "Others"
   ]
  },
  {
   "cell_type": "code",
   "execution_count": 125,
   "id": "281f1497",
   "metadata": {
    "executionInfo": {
     "elapsed": 479,
     "status": "ok",
     "timestamp": 1674530802159,
     "user": {
      "displayName": "GAURAV SINHA",
      "userId": "13858423673435577443"
     },
     "user_tz": -330
    },
    "id": "281f1497"
   },
   "outputs": [],
   "source": [
    "#Create the dictionary of Topic names and Topics\n",
    "topic_mapping = {\n",
    "    0: 'Bank Account services',\n",
    "    1: 'Credit card or prepaid card',\n",
    "    2: 'Others',\n",
    "    3: 'Theft/Dispute Reporting',\n",
    "    4: 'Mortgage/Loan'\n",
    "}\n",
    "\n",
    "#Replace Topics with Topic Names\n",
    "df_clean['Topic'] = df_clean['Topic'].map(topic_mapping)"
   ]
  },
  {
   "cell_type": "code",
   "execution_count": 126,
   "id": "w_AXHYB80IQs",
   "metadata": {
    "executionInfo": {
     "elapsed": 434,
     "status": "ok",
     "timestamp": 1674530844430,
     "user": {
      "displayName": "GAURAV SINHA",
      "userId": "13858423673435577443"
     },
     "user_tz": -330
    },
    "id": "w_AXHYB80IQs"
   },
   "outputs": [],
   "source": [
    "lda_output['Topic'] = lda_output['Topic'].map(topic_mapping)"
   ]
  },
  {
   "cell_type": "code",
   "execution_count": 127,
   "id": "b5c35c2b",
   "metadata": {
    "executionInfo": {
     "elapsed": 16242,
     "status": "ok",
     "timestamp": 1674530890460,
     "user": {
      "displayName": "GAURAV SINHA",
      "userId": "13858423673435577443"
     },
     "user_tz": -330
    },
    "id": "b5c35c2b"
   },
   "outputs": [],
   "source": [
    "lda_output.to_excel('complaints_with_topics_NMF_LDA.xlsx')"
   ]
  },
  {
   "cell_type": "code",
   "execution_count": 128,
   "id": "b6370a3e",
   "metadata": {
    "colab": {
     "base_uri": "https://localhost:8080/",
     "height": 1000
    },
    "executionInfo": {
     "elapsed": 11,
     "status": "ok",
     "timestamp": 1674530934381,
     "user": {
      "displayName": "GAURAV SINHA",
      "userId": "13858423673435577443"
     },
     "user_tz": -330
    },
    "id": "b6370a3e",
    "outputId": "da0a3d1e-a7ca-4e91-d027-e99bf9cffc3b"
   },
   "outputs": [
    {
     "data": {
      "text/html": [
       "\n",
       "  <div id=\"df-391824f8-05ba-450b-9454-d7cf46fcf9bf\">\n",
       "    <div class=\"colab-df-container\">\n",
       "      <div>\n",
       "<style scoped>\n",
       "    .dataframe tbody tr th:only-of-type {\n",
       "        vertical-align: middle;\n",
       "    }\n",
       "\n",
       "    .dataframe tbody tr th {\n",
       "        vertical-align: top;\n",
       "    }\n",
       "\n",
       "    .dataframe thead th {\n",
       "        text-align: right;\n",
       "    }\n",
       "</style>\n",
       "<table border=\"1\" class=\"dataframe\">\n",
       "  <thead>\n",
       "    <tr style=\"text-align: right;\">\n",
       "      <th></th>\n",
       "      <th>index</th>\n",
       "      <th>complaint_text</th>\n",
       "      <th>lemma</th>\n",
       "      <th>category</th>\n",
       "      <th>Complaint_clean</th>\n",
       "      <th>text_for_lda</th>\n",
       "      <th>Topic</th>\n",
       "    </tr>\n",
       "  </thead>\n",
       "  <tbody>\n",
       "    <tr>\n",
       "      <th>0</th>\n",
       "      <td>1</td>\n",
       "      <td>good morning my name is xxxx xxxx and i appreciate it if you could help me put a stop to chase bank cardmember services \\nin i wrote to chase asking for debt verification and what they sent me a statement which is not acceptable i am asking the bank to validate the debt instead i been receiving mail every month from them attempting to collect a debt \\ni have a right to know this information as a consumer \\n\\nchase account  xxxx xxxx xxxx xxxx thanks in advance for your help</td>\n",
       "      <td>good morning xxxx xxxx appreciate help stop chase bank cardmember service \\n write chase ask debt verification send statement acceptable ask bank validate debt instead receive mail month attempt collect debt \\n right know information consumer \\n\\n chase account   xxxx xxxx xxxx xxxx thank advance help</td>\n",
       "      <td>Debt collection+Credit card debt</td>\n",
       "      <td>morning help write chase debt verification statement bank debt mail month attempt debt information consumer chase account advance help</td>\n",
       "      <td>good morning my name is   and i appreciate it if you could help me put a stop to chase bank cardmember services \\nin i wrote to chase asking for debt verification and what they sent me a statement which is not acceptable i am asking the bank to validate the debt instead i been receiving mail every month from them attempting to collect a debt \\ni have a right to know this information as a consumer \\n\\nchase account      thanks in advance for your help</td>\n",
       "      <td>Mortgage/Loan</td>\n",
       "    </tr>\n",
       "    <tr>\n",
       "      <th>1</th>\n",
       "      <td>2</td>\n",
       "      <td>i upgraded my xxxx xxxx card in and was told by the agent who did the upgrade my anniversary date would not change it turned the agent was giving me the wrong information in order to upgrade the account xxxx   changed my anniversary date from xxxxxxxx to xxxxxxxx without my consent xxxx has the recording of the agent who was misled me</td>\n",
       "      <td>upgrade xxxx xxxx card tell agent upgrade anniversary date change turn agent give wrong information order upgrade account xxxx    change anniversary date xxxxxxxx xxxxxxxx consent xxxx recording agent mislead</td>\n",
       "      <td>Credit card or prepaid card+General-purpose credit card or charge card</td>\n",
       "      <td>agent upgrade anniversary date change agent information order account agent mislead</td>\n",
       "      <td>i upgraded my   card in and was told by the agent who did the upgrade my anniversary date would not change it turned the agent was giving me the wrong information in order to upgrade the account    changed my anniversary date from  to  without my consent  has the recording of the agent who was misled me</td>\n",
       "      <td>Bank Account services</td>\n",
       "    </tr>\n",
       "    <tr>\n",
       "      <th>2</th>\n",
       "      <td>10</td>\n",
       "      <td>chase card was reported on however fraudulent application have been submitted my identity without my consent to fraudulently obtain services do not extend credit without verifying the identity of the applicant</td>\n",
       "      <td>chase card report fraudulent application submit identity consent fraudulently obtain service extend credit verify identity applicant</td>\n",
       "      <td>Credit reporting, credit repair services, or other personal consumer reports+Other personal consumer report</td>\n",
       "      <td>chase card report application submit identity consent service credit identity applicant</td>\n",
       "      <td>chase card was reported on however fraudulent application have been submitted my identity without my consent to fraudulently obtain services do not extend credit without verifying the identity of the applicant</td>\n",
       "      <td>Credit card or prepaid card</td>\n",
       "    </tr>\n",
       "    <tr>\n",
       "      <th>3</th>\n",
       "      <td>11</td>\n",
       "      <td>on while trying to book a xxxx  xxxx  ticket i came across an offer for to be applied towards the ticket if i applied for a rewards card i put in my information for the offer and within less than a minute was notified via the screen that a decision could not be made i immediately contacted xxxx and was referred to chase bank i then immediately contacted chase bank within no more than of getting the notification on the screen and i was told by the chase representative i spoke with that my application was denied but she could not state why i asked for more information about the xxxx  offer and she explained that even if i had been approved the credit offer only gets applied after the first account statement and could not be used to purchase the ticket i then explicitly told her i was glad i got denied and i was absolutely no longer interested in the account i asked that the application be withdrawn and the representative obliged this all happened no later than after putting in the application on notwithstanding my explicit request not to proceed with the application and contrary to what i was told by the chase representative chase did in fact go ahead to open a credit account in my name on this is now being reported in my credit report and chase has refused to correct this information on my credit report even though they went ahead to process an application which i did not consent to and out of their error</td>\n",
       "      <td>try book xxxx   xxxx   ticket come offer apply ticket apply reward card information offer minute notify screen decision immediately contact xxxx refer chase bank immediately contact chase bank get notification screen tell chase representative speak application deny state ask information xxxx   offer explain approve credit offer gets apply account statement purchase ticket explicitly tell glad got deny absolutely long interested account ask application withdraw representative oblige happen later put application notwithstanding explicit request proceed application contrary tell chase representative chase fact ahead open credit account report credit report chase refuse correct information credit report go ahead process application consent error</td>\n",
       "      <td>Credit reporting, credit repair services, or other personal consumer reports+Credit reporting</td>\n",
       "      <td>book ticket ticket reward card information offer minute notify screen decision contact chase bank notification screen tell chase representative speak application state information approve credit offer account statement purchase ticket account application withdraw oblige application request application contrary chase representative chase fact credit account report credit report chase information credit report process application consent error</td>\n",
       "      <td>on while trying to book a     ticket i came across an offer for to be applied towards the ticket if i applied for a rewards card i put in my information for the offer and within less than a minute was notified via the screen that a decision could not be made i immediately contacted  and was referred to chase bank i then immediately contacted chase bank within no more than of getting the notification on the screen and i was told by the chase representative i spoke with that my application was denied but she could not state why i asked for more information about the   offer and she explained that even if i had been approved the credit offer only gets applied after the first account statement and could not be used to purchase the ticket i then explicitly told her i was glad i got denied and i was absolutely no longer interested in the account i asked that the application be withdrawn and the representative obliged this all happened no later than after putting in the application on notwithstanding my explicit request not to proceed with the application and contrary to what i was told by the chase representative chase did in fact go ahead to open a credit account in my name on this is now being reported in my credit report and chase has refused to correct this information on my credit report even though they went ahead to process an application which i did not consent to and out of their error</td>\n",
       "      <td>Credit card or prepaid card</td>\n",
       "    </tr>\n",
       "    <tr>\n",
       "      <th>4</th>\n",
       "      <td>14</td>\n",
       "      <td>my grand son give me check for i deposit it into my chase account after fund clear my chase bank closed my account never paid me my money they said they need to speek with my grand son check was clear money was taking by my chase bank refuse to pay me my money my grand son called chase times they told him i should call not him to verify the check owner he is out the country most the time  date happen check number xxxx claim number is xxxx with chase</td>\n",
       "      <td>grand son check deposit chase account fund clear chase bank close account pay money say need speek grand son check clear money take chase bank refuse pay money grand son call chase time tell verify check owner country time   date happen check number xxxx claim number xxxx chase</td>\n",
       "      <td>Checking or savings account+Checking account</td>\n",
       "      <td>son deposit chase account account pay money speek son money chase refuse money call chase time check owner country time date check number claim number</td>\n",
       "      <td>my grand son give me check for i deposit it into my chase account after fund clear my chase bank closed my account never paid me my money they said they need to speek with my grand son check was clear money was taking by my chase bank refuse to pay me my money my grand son called chase times they told him i should call not him to verify the check owner he is out the country most the time  date happen check number  claim number is  with chase</td>\n",
       "      <td>Bank Account services</td>\n",
       "    </tr>\n",
       "  </tbody>\n",
       "</table>\n",
       "</div>\n",
       "      <button class=\"colab-df-convert\" onclick=\"convertToInteractive('df-391824f8-05ba-450b-9454-d7cf46fcf9bf')\"\n",
       "              title=\"Convert this dataframe to an interactive table.\"\n",
       "              style=\"display:none;\">\n",
       "        \n",
       "  <svg xmlns=\"http://www.w3.org/2000/svg\" height=\"24px\"viewBox=\"0 0 24 24\"\n",
       "       width=\"24px\">\n",
       "    <path d=\"M0 0h24v24H0V0z\" fill=\"none\"/>\n",
       "    <path d=\"M18.56 5.44l.94 2.06.94-2.06 2.06-.94-2.06-.94-.94-2.06-.94 2.06-2.06.94zm-11 1L8.5 8.5l.94-2.06 2.06-.94-2.06-.94L8.5 2.5l-.94 2.06-2.06.94zm10 10l.94 2.06.94-2.06 2.06-.94-2.06-.94-.94-2.06-.94 2.06-2.06.94z\"/><path d=\"M17.41 7.96l-1.37-1.37c-.4-.4-.92-.59-1.43-.59-.52 0-1.04.2-1.43.59L10.3 9.45l-7.72 7.72c-.78.78-.78 2.05 0 2.83L4 21.41c.39.39.9.59 1.41.59.51 0 1.02-.2 1.41-.59l7.78-7.78 2.81-2.81c.8-.78.8-2.07 0-2.86zM5.41 20L4 18.59l7.72-7.72 1.47 1.35L5.41 20z\"/>\n",
       "  </svg>\n",
       "      </button>\n",
       "      \n",
       "  <style>\n",
       "    .colab-df-container {\n",
       "      display:flex;\n",
       "      flex-wrap:wrap;\n",
       "      gap: 12px;\n",
       "    }\n",
       "\n",
       "    .colab-df-convert {\n",
       "      background-color: #E8F0FE;\n",
       "      border: none;\n",
       "      border-radius: 50%;\n",
       "      cursor: pointer;\n",
       "      display: none;\n",
       "      fill: #1967D2;\n",
       "      height: 32px;\n",
       "      padding: 0 0 0 0;\n",
       "      width: 32px;\n",
       "    }\n",
       "\n",
       "    .colab-df-convert:hover {\n",
       "      background-color: #E2EBFA;\n",
       "      box-shadow: 0px 1px 2px rgba(60, 64, 67, 0.3), 0px 1px 3px 1px rgba(60, 64, 67, 0.15);\n",
       "      fill: #174EA6;\n",
       "    }\n",
       "\n",
       "    [theme=dark] .colab-df-convert {\n",
       "      background-color: #3B4455;\n",
       "      fill: #D2E3FC;\n",
       "    }\n",
       "\n",
       "    [theme=dark] .colab-df-convert:hover {\n",
       "      background-color: #434B5C;\n",
       "      box-shadow: 0px 1px 3px 1px rgba(0, 0, 0, 0.15);\n",
       "      filter: drop-shadow(0px 1px 2px rgba(0, 0, 0, 0.3));\n",
       "      fill: #FFFFFF;\n",
       "    }\n",
       "  </style>\n",
       "\n",
       "      <script>\n",
       "        const buttonEl =\n",
       "          document.querySelector('#df-391824f8-05ba-450b-9454-d7cf46fcf9bf button.colab-df-convert');\n",
       "        buttonEl.style.display =\n",
       "          google.colab.kernel.accessAllowed ? 'block' : 'none';\n",
       "\n",
       "        async function convertToInteractive(key) {\n",
       "          const element = document.querySelector('#df-391824f8-05ba-450b-9454-d7cf46fcf9bf');\n",
       "          const dataTable =\n",
       "            await google.colab.kernel.invokeFunction('convertToInteractive',\n",
       "                                                     [key], {});\n",
       "          if (!dataTable) return;\n",
       "\n",
       "          const docLinkHtml = 'Like what you see? Visit the ' +\n",
       "            '<a target=\"_blank\" href=https://colab.research.google.com/notebooks/data_table.ipynb>data table notebook</a>'\n",
       "            + ' to learn more about interactive tables.';\n",
       "          element.innerHTML = '';\n",
       "          dataTable['output_type'] = 'display_data';\n",
       "          await google.colab.output.renderOutput(dataTable, element);\n",
       "          const docLink = document.createElement('div');\n",
       "          docLink.innerHTML = docLinkHtml;\n",
       "          element.appendChild(docLink);\n",
       "        }\n",
       "      </script>\n",
       "    </div>\n",
       "  </div>\n",
       "  "
      ],
      "text/plain": [
       "   index  \\\n",
       "0  1       \n",
       "1  2       \n",
       "2  10      \n",
       "3  11      \n",
       "4  14      \n",
       "\n",
       "                                                                                                                                                                                                                                                                                                                                                                                                                                                                                                                                                                                                                                                                                                                                                                                                                                                                                                                                                                                                                                                                                                                                                                                                                                                                                                                                                                                                                                                                        complaint_text  \\\n",
       "0  good morning my name is xxxx xxxx and i appreciate it if you could help me put a stop to chase bank cardmember services \\nin i wrote to chase asking for debt verification and what they sent me a statement which is not acceptable i am asking the bank to validate the debt instead i been receiving mail every month from them attempting to collect a debt \\ni have a right to know this information as a consumer \\n\\nchase account  xxxx xxxx xxxx xxxx thanks in advance for your help                                                                                                                                                                                                                                                                                                                                                                                                                                                                                                                                                                                                                                                                                                                                                                                                                                                                                                                                                                                        \n",
       "1  i upgraded my xxxx xxxx card in and was told by the agent who did the upgrade my anniversary date would not change it turned the agent was giving me the wrong information in order to upgrade the account xxxx   changed my anniversary date from xxxxxxxx to xxxxxxxx without my consent xxxx has the recording of the agent who was misled me                                                                                                                                                                                                                                                                                                                                                                                                                                                                                                                                                                                                                                                                                                                                                                                                                                                                                                                                                                                                                                                                                                                                      \n",
       "2  chase card was reported on however fraudulent application have been submitted my identity without my consent to fraudulently obtain services do not extend credit without verifying the identity of the applicant                                                                                                                                                                                                                                                                                                                                                                                                                                                                                                                                                                                                                                                                                                                                                                                                                                                                                                                                                                                                                                                                                                                                                                                                                                                                     \n",
       "3  on while trying to book a xxxx  xxxx  ticket i came across an offer for to be applied towards the ticket if i applied for a rewards card i put in my information for the offer and within less than a minute was notified via the screen that a decision could not be made i immediately contacted xxxx and was referred to chase bank i then immediately contacted chase bank within no more than of getting the notification on the screen and i was told by the chase representative i spoke with that my application was denied but she could not state why i asked for more information about the xxxx  offer and she explained that even if i had been approved the credit offer only gets applied after the first account statement and could not be used to purchase the ticket i then explicitly told her i was glad i got denied and i was absolutely no longer interested in the account i asked that the application be withdrawn and the representative obliged this all happened no later than after putting in the application on notwithstanding my explicit request not to proceed with the application and contrary to what i was told by the chase representative chase did in fact go ahead to open a credit account in my name on this is now being reported in my credit report and chase has refused to correct this information on my credit report even though they went ahead to process an application which i did not consent to and out of their error   \n",
       "4  my grand son give me check for i deposit it into my chase account after fund clear my chase bank closed my account never paid me my money they said they need to speek with my grand son check was clear money was taking by my chase bank refuse to pay me my money my grand son called chase times they told him i should call not him to verify the check owner he is out the country most the time  date happen check number xxxx claim number is xxxx with chase                                                                                                                                                                                                                                                                                                                                                                                                                                                                                                                                                                                                                                                                                                                                                                                                                                                                                                                                                                                                                 \n",
       "\n",
       "                                                                                                                                                                                                                                                                                                                                                                                                                                                                                                                                                                                                                                                                                                                                                                             lemma  \\\n",
       "0  good morning xxxx xxxx appreciate help stop chase bank cardmember service \\n write chase ask debt verification send statement acceptable ask bank validate debt instead receive mail month attempt collect debt \\n right know information consumer \\n\\n chase account   xxxx xxxx xxxx xxxx thank advance help                                                                                                                                                                                                                                                                                                                                                                                                                                                                    \n",
       "1  upgrade xxxx xxxx card tell agent upgrade anniversary date change turn agent give wrong information order upgrade account xxxx    change anniversary date xxxxxxxx xxxxxxxx consent xxxx recording agent mislead                                                                                                                                                                                                                                                                                                                                                                                                                                                                                                                                                                  \n",
       "2  chase card report fraudulent application submit identity consent fraudulently obtain service extend credit verify identity applicant                                                                                                                                                                                                                                                                                                                                                                                                                                                                                                                                                                                                                                              \n",
       "3  try book xxxx   xxxx   ticket come offer apply ticket apply reward card information offer minute notify screen decision immediately contact xxxx refer chase bank immediately contact chase bank get notification screen tell chase representative speak application deny state ask information xxxx   offer explain approve credit offer gets apply account statement purchase ticket explicitly tell glad got deny absolutely long interested account ask application withdraw representative oblige happen later put application notwithstanding explicit request proceed application contrary tell chase representative chase fact ahead open credit account report credit report chase refuse correct information credit report go ahead process application consent error   \n",
       "4  grand son check deposit chase account fund clear chase bank close account pay money say need speek grand son check clear money take chase bank refuse pay money grand son call chase time tell verify check owner country time   date happen check number xxxx claim number xxxx chase                                                                                                                                                                                                                                                                                                                                                                                                                                                                                            \n",
       "\n",
       "                                                                                                      category  \\\n",
       "0  Debt collection+Credit card debt                                                                              \n",
       "1  Credit card or prepaid card+General-purpose credit card or charge card                                        \n",
       "2  Credit reporting, credit repair services, or other personal consumer reports+Other personal consumer report   \n",
       "3  Credit reporting, credit repair services, or other personal consumer reports+Credit reporting                 \n",
       "4  Checking or savings account+Checking account                                                                  \n",
       "\n",
       "                                                                                                                                                                                                                                                                                                                                                                                                                                                 Complaint_clean  \\\n",
       "0  morning help write chase debt verification statement bank debt mail month attempt debt information consumer chase account advance help                                                                                                                                                                                                                                                                                                                          \n",
       "1  agent upgrade anniversary date change agent information order account agent mislead                                                                                                                                                                                                                                                                                                                                                                             \n",
       "2  chase card report application submit identity consent service credit identity applicant                                                                                                                                                                                                                                                                                                                                                                         \n",
       "3  book ticket ticket reward card information offer minute notify screen decision contact chase bank notification screen tell chase representative speak application state information approve credit offer account statement purchase ticket account application withdraw oblige application request application contrary chase representative chase fact credit account report credit report chase information credit report process application consent error   \n",
       "4  son deposit chase account account pay money speek son money chase refuse money call chase time check owner country time date check number claim number                                                                                                                                                                                                                                                                                                          \n",
       "\n",
       "                                                                                                                                                                                                                                                                                                                                                                                                                                                                                                                                                                                                                                                                                                                                                                                                                                                                                                                                                                                                                                                                                                                                                                                                                                                                                                                                                                                                                                                          text_for_lda  \\\n",
       "0  good morning my name is   and i appreciate it if you could help me put a stop to chase bank cardmember services \\nin i wrote to chase asking for debt verification and what they sent me a statement which is not acceptable i am asking the bank to validate the debt instead i been receiving mail every month from them attempting to collect a debt \\ni have a right to know this information as a consumer \\n\\nchase account      thanks in advance for your help                                                                                                                                                                                                                                                                                                                                                                                                                                                                                                                                                                                                                                                                                                                                                                                                                                                                                                                                                                                                \n",
       "1  i upgraded my   card in and was told by the agent who did the upgrade my anniversary date would not change it turned the agent was giving me the wrong information in order to upgrade the account    changed my anniversary date from  to  without my consent  has the recording of the agent who was misled me                                                                                                                                                                                                                                                                                                                                                                                                                                                                                                                                                                                                                                                                                                                                                                                                                                                                                                                                                                                                                                                                                                                                                      \n",
       "2  chase card was reported on however fraudulent application have been submitted my identity without my consent to fraudulently obtain services do not extend credit without verifying the identity of the applicant                                                                                                                                                                                                                                                                                                                                                                                                                                                                                                                                                                                                                                                                                                                                                                                                                                                                                                                                                                                                                                                                                                                                                                                                                                                     \n",
       "3  on while trying to book a     ticket i came across an offer for to be applied towards the ticket if i applied for a rewards card i put in my information for the offer and within less than a minute was notified via the screen that a decision could not be made i immediately contacted  and was referred to chase bank i then immediately contacted chase bank within no more than of getting the notification on the screen and i was told by the chase representative i spoke with that my application was denied but she could not state why i asked for more information about the   offer and she explained that even if i had been approved the credit offer only gets applied after the first account statement and could not be used to purchase the ticket i then explicitly told her i was glad i got denied and i was absolutely no longer interested in the account i asked that the application be withdrawn and the representative obliged this all happened no later than after putting in the application on notwithstanding my explicit request not to proceed with the application and contrary to what i was told by the chase representative chase did in fact go ahead to open a credit account in my name on this is now being reported in my credit report and chase has refused to correct this information on my credit report even though they went ahead to process an application which i did not consent to and out of their error   \n",
       "4  my grand son give me check for i deposit it into my chase account after fund clear my chase bank closed my account never paid me my money they said they need to speek with my grand son check was clear money was taking by my chase bank refuse to pay me my money my grand son called chase times they told him i should call not him to verify the check owner he is out the country most the time  date happen check number  claim number is  with chase                                                                                                                                                                                                                                                                                                                                                                                                                                                                                                                                                                                                                                                                                                                                                                                                                                                                                                                                                                                                         \n",
       "\n",
       "                         Topic  \n",
       "0  Mortgage/Loan                \n",
       "1  Bank Account services        \n",
       "2  Credit card or prepaid card  \n",
       "3  Credit card or prepaid card  \n",
       "4  Bank Account services        "
      ]
     },
     "execution_count": 128,
     "metadata": {},
     "output_type": "execute_result"
    }
   ],
   "source": [
    "df_clean.head()"
   ]
  },
  {
   "cell_type": "markdown",
   "id": "868d6073",
   "metadata": {
    "id": "868d6073"
   },
   "source": [
    "# Lets check if there is any class imbalance"
   ]
  },
  {
   "cell_type": "code",
   "execution_count": 129,
   "id": "32131df7",
   "metadata": {
    "colab": {
     "base_uri": "https://localhost:8080/",
     "height": 405
    },
    "executionInfo": {
     "elapsed": 724,
     "status": "ok",
     "timestamp": 1674530941152,
     "user": {
      "displayName": "GAURAV SINHA",
      "userId": "13858423673435577443"
     },
     "user_tz": -330
    },
    "id": "32131df7",
    "outputId": "c1948ee4-887a-4174-f535-559b338a035b"
   },
   "outputs": [
    {
     "data": {
      "text/plain": [
       "<matplotlib.axes._subplots.AxesSubplot at 0x7f56c8e5afa0>"
      ]
     },
     "execution_count": 129,
     "metadata": {},
     "output_type": "execute_result"
    },
    {
     "data": {
      "image/png": "[encoded data removed]",
      "text/plain": [
       "<Figure size 864x432 with 1 Axes>"
      ]
     },
     "metadata": {
      "needs_background": "light"
     },
     "output_type": "display_data"
    }
   ],
   "source": [
    "# Plot graph to check class imbalance\n",
    "plt.figure(figsize=(12,6))\n",
    "sns.countplot(x='Topic',data=df_clean)"
   ]
  },
  {
   "cell_type": "markdown",
   "id": "1f73adde",
   "metadata": {
    "id": "1f73adde"
   },
   "source": [
    "# Model building using supervised learning, Model training & evaluation"
   ]
  },
  {
   "cell_type": "markdown",
   "id": "dda455ca",
   "metadata": {
    "id": "dda455ca"
   },
   "source": [
    "### Supervised model to predict any new complaints to the relevant Topics.\n",
    "We now build the model to create the topics for each complaints.Now in the below section you will use them to classify any new complaints.\n",
    "\n",
    "Since you will be using supervised learning technique we have to convert the topic names to numbers(numpy arrays only understand numbers)"
   ]
  },
  {
   "cell_type": "code",
   "execution_count": 130,
   "id": "ce0c073d",
   "metadata": {
    "executionInfo": {
     "elapsed": 469,
     "status": "ok",
     "timestamp": 1674530949617,
     "user": {
      "displayName": "GAURAV SINHA",
      "userId": "13858423673435577443"
     },
     "user_tz": -330
    },
    "id": "ce0c073d"
   },
   "outputs": [],
   "source": [
    "#Keep the columns\"complaint_what_happened\" & \"Topic\" only in the new dataframe --> training_data\n",
    "\n",
    "training_data = df_clean[['complaint_text','Topic']]"
   ]
  },
  {
   "cell_type": "code",
   "execution_count": 131,
   "id": "1e3d109a",
   "metadata": {
    "colab": {
     "base_uri": "https://localhost:8080/",
     "height": 510
    },
    "executionInfo": {
     "elapsed": 529,
     "status": "ok",
     "timestamp": 1674530952166,
     "user": {
      "displayName": "GAURAV SINHA",
      "userId": "13858423673435577443"
     },
     "user_tz": -330
    },
    "id": "1e3d109a",
    "outputId": "a6d33ba9-9add-4830-b374-6c22aa6765de"
   },
   "outputs": [
    {
     "data": {
      "text/html": [
       "\n",
       "  <div id=\"df-798edb83-47f1-4bcf-82a0-2bb41f07f095\">\n",
       "    <div class=\"colab-df-container\">\n",
       "      <div>\n",
       "<style scoped>\n",
       "    .dataframe tbody tr th:only-of-type {\n",
       "        vertical-align: middle;\n",
       "    }\n",
       "\n",
       "    .dataframe tbody tr th {\n",
       "        vertical-align: top;\n",
       "    }\n",
       "\n",
       "    .dataframe thead th {\n",
       "        text-align: right;\n",
       "    }\n",
       "</style>\n",
       "<table border=\"1\" class=\"dataframe\">\n",
       "  <thead>\n",
       "    <tr style=\"text-align: right;\">\n",
       "      <th></th>\n",
       "      <th>complaint_text</th>\n",
       "      <th>Topic</th>\n",
       "    </tr>\n",
       "  </thead>\n",
       "  <tbody>\n",
       "    <tr>\n",
       "      <th>0</th>\n",
       "      <td>good morning my name is xxxx xxxx and i appreciate it if you could help me put a stop to chase bank cardmember services \\nin i wrote to chase asking for debt verification and what they sent me a statement which is not acceptable i am asking the bank to validate the debt instead i been receiving mail every month from them attempting to collect a debt \\ni have a right to know this information as a consumer \\n\\nchase account  xxxx xxxx xxxx xxxx thanks in advance for your help</td>\n",
       "      <td>Mortgage/Loan</td>\n",
       "    </tr>\n",
       "    <tr>\n",
       "      <th>1</th>\n",
       "      <td>i upgraded my xxxx xxxx card in and was told by the agent who did the upgrade my anniversary date would not change it turned the agent was giving me the wrong information in order to upgrade the account xxxx   changed my anniversary date from xxxxxxxx to xxxxxxxx without my consent xxxx has the recording of the agent who was misled me</td>\n",
       "      <td>Bank Account services</td>\n",
       "    </tr>\n",
       "    <tr>\n",
       "      <th>2</th>\n",
       "      <td>chase card was reported on however fraudulent application have been submitted my identity without my consent to fraudulently obtain services do not extend credit without verifying the identity of the applicant</td>\n",
       "      <td>Credit card or prepaid card</td>\n",
       "    </tr>\n",
       "    <tr>\n",
       "      <th>3</th>\n",
       "      <td>on while trying to book a xxxx  xxxx  ticket i came across an offer for to be applied towards the ticket if i applied for a rewards card i put in my information for the offer and within less than a minute was notified via the screen that a decision could not be made i immediately contacted xxxx and was referred to chase bank i then immediately contacted chase bank within no more than of getting the notification on the screen and i was told by the chase representative i spoke with that my application was denied but she could not state why i asked for more information about the xxxx  offer and she explained that even if i had been approved the credit offer only gets applied after the first account statement and could not be used to purchase the ticket i then explicitly told her i was glad i got denied and i was absolutely no longer interested in the account i asked that the application be withdrawn and the representative obliged this all happened no later than after putting in the application on notwithstanding my explicit request not to proceed with the application and contrary to what i was told by the chase representative chase did in fact go ahead to open a credit account in my name on this is now being reported in my credit report and chase has refused to correct this information on my credit report even though they went ahead to process an application which i did not consent to and out of their error</td>\n",
       "      <td>Credit card or prepaid card</td>\n",
       "    </tr>\n",
       "    <tr>\n",
       "      <th>4</th>\n",
       "      <td>my grand son give me check for i deposit it into my chase account after fund clear my chase bank closed my account never paid me my money they said they need to speek with my grand son check was clear money was taking by my chase bank refuse to pay me my money my grand son called chase times they told him i should call not him to verify the check owner he is out the country most the time  date happen check number xxxx claim number is xxxx with chase</td>\n",
       "      <td>Bank Account services</td>\n",
       "    </tr>\n",
       "  </tbody>\n",
       "</table>\n",
       "</div>\n",
       "      <button class=\"colab-df-convert\" onclick=\"convertToInteractive('df-798edb83-47f1-4bcf-82a0-2bb41f07f095')\"\n",
       "              title=\"Convert this dataframe to an interactive table.\"\n",
       "              style=\"display:none;\">\n",
       "        \n",
       "  <svg xmlns=\"http://www.w3.org/2000/svg\" height=\"24px\"viewBox=\"0 0 24 24\"\n",
       "       width=\"24px\">\n",
       "    <path d=\"M0 0h24v24H0V0z\" fill=\"none\"/>\n",
       "    <path d=\"M18.56 5.44l.94 2.06.94-2.06 2.06-.94-2.06-.94-.94-2.06-.94 2.06-2.06.94zm-11 1L8.5 8.5l.94-2.06 2.06-.94-2.06-.94L8.5 2.5l-.94 2.06-2.06.94zm10 10l.94 2.06.94-2.06 2.06-.94-2.06-.94-.94-2.06-.94 2.06-2.06.94z\"/><path d=\"M17.41 7.96l-1.37-1.37c-.4-.4-.92-.59-1.43-.59-.52 0-1.04.2-1.43.59L10.3 9.45l-7.72 7.72c-.78.78-.78 2.05 0 2.83L4 21.41c.39.39.9.59 1.41.59.51 0 1.02-.2 1.41-.59l7.78-7.78 2.81-2.81c.8-.78.8-2.07 0-2.86zM5.41 20L4 18.59l7.72-7.72 1.47 1.35L5.41 20z\"/>\n",
       "  </svg>\n",
       "      </button>\n",
       "      \n",
       "  <style>\n",
       "    .colab-df-container {\n",
       "      display:flex;\n",
       "      flex-wrap:wrap;\n",
       "      gap: 12px;\n",
       "    }\n",
       "\n",
       "    .colab-df-convert {\n",
       "      background-color: #E8F0FE;\n",
       "      border: none;\n",
       "      border-radius: 50%;\n",
       "      cursor: pointer;\n",
       "      display: none;\n",
       "      fill: #1967D2;\n",
       "      height: 32px;\n",
       "      padding: 0 0 0 0;\n",
       "      width: 32px;\n",
       "    }\n",
       "\n",
       "    .colab-df-convert:hover {\n",
       "      background-color: #E2EBFA;\n",
       "      box-shadow: 0px 1px 2px rgba(60, 64, 67, 0.3), 0px 1px 3px 1px rgba(60, 64, 67, 0.15);\n",
       "      fill: #174EA6;\n",
       "    }\n",
       "\n",
       "    [theme=dark] .colab-df-convert {\n",
       "      background-color: #3B4455;\n",
       "      fill: #D2E3FC;\n",
       "    }\n",
       "\n",
       "    [theme=dark] .colab-df-convert:hover {\n",
       "      background-color: #434B5C;\n",
       "      box-shadow: 0px 1px 3px 1px rgba(0, 0, 0, 0.15);\n",
       "      filter: drop-shadow(0px 1px 2px rgba(0, 0, 0, 0.3));\n",
       "      fill: #FFFFFF;\n",
       "    }\n",
       "  </style>\n",
       "\n",
       "      <script>\n",
       "        const buttonEl =\n",
       "          document.querySelector('#df-798edb83-47f1-4bcf-82a0-2bb41f07f095 button.colab-df-convert');\n",
       "        buttonEl.style.display =\n",
       "          google.colab.kernel.accessAllowed ? 'block' : 'none';\n",
       "\n",
       "        async function convertToInteractive(key) {\n",
       "          const element = document.querySelector('#df-798edb83-47f1-4bcf-82a0-2bb41f07f095');\n",
       "          const dataTable =\n",
       "            await google.colab.kernel.invokeFunction('convertToInteractive',\n",
       "                                                     [key], {});\n",
       "          if (!dataTable) return;\n",
       "\n",
       "          const docLinkHtml = 'Like what you see? Visit the ' +\n",
       "            '<a target=\"_blank\" href=https://colab.research.google.com/notebooks/data_table.ipynb>data table notebook</a>'\n",
       "            + ' to learn more about interactive tables.';\n",
       "          element.innerHTML = '';\n",
       "          dataTable['output_type'] = 'display_data';\n",
       "          await google.colab.output.renderOutput(dataTable, element);\n",
       "          const docLink = document.createElement('div');\n",
       "          docLink.innerHTML = docLinkHtml;\n",
       "          element.appendChild(docLink);\n",
       "        }\n",
       "      </script>\n",
       "    </div>\n",
       "  </div>\n",
       "  "
      ],
      "text/plain": [
       "                                                                                                                                                                                                                                                                                                                                                                                                                                                                                                                                                                                                                                                                                                                                                                                                                                                                                                                                                                                                                                                                                                                                                                                                                                                                                                                                                                                                                                                                        complaint_text  \\\n",
       "0  good morning my name is xxxx xxxx and i appreciate it if you could help me put a stop to chase bank cardmember services \\nin i wrote to chase asking for debt verification and what they sent me a statement which is not acceptable i am asking the bank to validate the debt instead i been receiving mail every month from them attempting to collect a debt \\ni have a right to know this information as a consumer \\n\\nchase account  xxxx xxxx xxxx xxxx thanks in advance for your help                                                                                                                                                                                                                                                                                                                                                                                                                                                                                                                                                                                                                                                                                                                                                                                                                                                                                                                                                                                        \n",
       "1  i upgraded my xxxx xxxx card in and was told by the agent who did the upgrade my anniversary date would not change it turned the agent was giving me the wrong information in order to upgrade the account xxxx   changed my anniversary date from xxxxxxxx to xxxxxxxx without my consent xxxx has the recording of the agent who was misled me                                                                                                                                                                                                                                                                                                                                                                                                                                                                                                                                                                                                                                                                                                                                                                                                                                                                                                                                                                                                                                                                                                                                      \n",
       "2  chase card was reported on however fraudulent application have been submitted my identity without my consent to fraudulently obtain services do not extend credit without verifying the identity of the applicant                                                                                                                                                                                                                                                                                                                                                                                                                                                                                                                                                                                                                                                                                                                                                                                                                                                                                                                                                                                                                                                                                                                                                                                                                                                                     \n",
       "3  on while trying to book a xxxx  xxxx  ticket i came across an offer for to be applied towards the ticket if i applied for a rewards card i put in my information for the offer and within less than a minute was notified via the screen that a decision could not be made i immediately contacted xxxx and was referred to chase bank i then immediately contacted chase bank within no more than of getting the notification on the screen and i was told by the chase representative i spoke with that my application was denied but she could not state why i asked for more information about the xxxx  offer and she explained that even if i had been approved the credit offer only gets applied after the first account statement and could not be used to purchase the ticket i then explicitly told her i was glad i got denied and i was absolutely no longer interested in the account i asked that the application be withdrawn and the representative obliged this all happened no later than after putting in the application on notwithstanding my explicit request not to proceed with the application and contrary to what i was told by the chase representative chase did in fact go ahead to open a credit account in my name on this is now being reported in my credit report and chase has refused to correct this information on my credit report even though they went ahead to process an application which i did not consent to and out of their error   \n",
       "4  my grand son give me check for i deposit it into my chase account after fund clear my chase bank closed my account never paid me my money they said they need to speek with my grand son check was clear money was taking by my chase bank refuse to pay me my money my grand son called chase times they told him i should call not him to verify the check owner he is out the country most the time  date happen check number xxxx claim number is xxxx with chase                                                                                                                                                                                                                                                                                                                                                                                                                                                                                                                                                                                                                                                                                                                                                                                                                                                                                                                                                                                                                 \n",
       "\n",
       "                         Topic  \n",
       "0  Mortgage/Loan                \n",
       "1  Bank Account services        \n",
       "2  Credit card or prepaid card  \n",
       "3  Credit card or prepaid card  \n",
       "4  Bank Account services        "
      ]
     },
     "execution_count": 131,
     "metadata": {},
     "output_type": "execute_result"
    }
   ],
   "source": [
    "training_data.head()"
   ]
  },
  {
   "cell_type": "code",
   "execution_count": 132,
   "id": "b63c04d7",
   "metadata": {
    "colab": {
     "base_uri": "https://localhost:8080/",
     "height": 493
    },
    "executionInfo": {
     "elapsed": 579,
     "status": "ok",
     "timestamp": 1674530960652,
     "user": {
      "displayName": "GAURAV SINHA",
      "userId": "13858423673435577443"
     },
     "user_tz": -330
    },
    "id": "b63c04d7",
    "outputId": "9e26bd2e-3da6-455d-8e35-28edae286fcb"
   },
   "outputs": [
    {
     "data": {
      "text/html": [
       "\n",
       "  <div id=\"df-739890ec-80b1-4b66-8a71-a0868b36d99b\">\n",
       "    <div class=\"colab-df-container\">\n",
       "      <div>\n",
       "<style scoped>\n",
       "    .dataframe tbody tr th:only-of-type {\n",
       "        vertical-align: middle;\n",
       "    }\n",
       "\n",
       "    .dataframe tbody tr th {\n",
       "        vertical-align: top;\n",
       "    }\n",
       "\n",
       "    .dataframe thead th {\n",
       "        text-align: right;\n",
       "    }\n",
       "</style>\n",
       "<table border=\"1\" class=\"dataframe\">\n",
       "  <thead>\n",
       "    <tr style=\"text-align: right;\">\n",
       "      <th></th>\n",
       "      <th>complaint_text</th>\n",
       "      <th>Topic</th>\n",
       "    </tr>\n",
       "  </thead>\n",
       "  <tbody>\n",
       "    <tr>\n",
       "      <th>0</th>\n",
       "      <td>good morning my name is xxxx xxxx and i appreciate it if you could help me put a stop to chase bank cardmember services \\nin i wrote to chase asking for debt verification and what they sent me a statement which is not acceptable i am asking the bank to validate the debt instead i been receiving mail every month from them attempting to collect a debt \\ni have a right to know this information as a consumer \\n\\nchase account  xxxx xxxx xxxx xxxx thanks in advance for your help</td>\n",
       "      <td>4</td>\n",
       "    </tr>\n",
       "    <tr>\n",
       "      <th>1</th>\n",
       "      <td>i upgraded my xxxx xxxx card in and was told by the agent who did the upgrade my anniversary date would not change it turned the agent was giving me the wrong information in order to upgrade the account xxxx   changed my anniversary date from xxxxxxxx to xxxxxxxx without my consent xxxx has the recording of the agent who was misled me</td>\n",
       "      <td>0</td>\n",
       "    </tr>\n",
       "    <tr>\n",
       "      <th>2</th>\n",
       "      <td>chase card was reported on however fraudulent application have been submitted my identity without my consent to fraudulently obtain services do not extend credit without verifying the identity of the applicant</td>\n",
       "      <td>1</td>\n",
       "    </tr>\n",
       "    <tr>\n",
       "      <th>3</th>\n",
       "      <td>on while trying to book a xxxx  xxxx  ticket i came across an offer for to be applied towards the ticket if i applied for a rewards card i put in my information for the offer and within less than a minute was notified via the screen that a decision could not be made i immediately contacted xxxx and was referred to chase bank i then immediately contacted chase bank within no more than of getting the notification on the screen and i was told by the chase representative i spoke with that my application was denied but she could not state why i asked for more information about the xxxx  offer and she explained that even if i had been approved the credit offer only gets applied after the first account statement and could not be used to purchase the ticket i then explicitly told her i was glad i got denied and i was absolutely no longer interested in the account i asked that the application be withdrawn and the representative obliged this all happened no later than after putting in the application on notwithstanding my explicit request not to proceed with the application and contrary to what i was told by the chase representative chase did in fact go ahead to open a credit account in my name on this is now being reported in my credit report and chase has refused to correct this information on my credit report even though they went ahead to process an application which i did not consent to and out of their error</td>\n",
       "      <td>1</td>\n",
       "    </tr>\n",
       "    <tr>\n",
       "      <th>4</th>\n",
       "      <td>my grand son give me check for i deposit it into my chase account after fund clear my chase bank closed my account never paid me my money they said they need to speek with my grand son check was clear money was taking by my chase bank refuse to pay me my money my grand son called chase times they told him i should call not him to verify the check owner he is out the country most the time  date happen check number xxxx claim number is xxxx with chase</td>\n",
       "      <td>0</td>\n",
       "    </tr>\n",
       "  </tbody>\n",
       "</table>\n",
       "</div>\n",
       "      <button class=\"colab-df-convert\" onclick=\"convertToInteractive('df-739890ec-80b1-4b66-8a71-a0868b36d99b')\"\n",
       "              title=\"Convert this dataframe to an interactive table.\"\n",
       "              style=\"display:none;\">\n",
       "        \n",
       "  <svg xmlns=\"http://www.w3.org/2000/svg\" height=\"24px\"viewBox=\"0 0 24 24\"\n",
       "       width=\"24px\">\n",
       "    <path d=\"M0 0h24v24H0V0z\" fill=\"none\"/>\n",
       "    <path d=\"M18.56 5.44l.94 2.06.94-2.06 2.06-.94-2.06-.94-.94-2.06-.94 2.06-2.06.94zm-11 1L8.5 8.5l.94-2.06 2.06-.94-2.06-.94L8.5 2.5l-.94 2.06-2.06.94zm10 10l.94 2.06.94-2.06 2.06-.94-2.06-.94-.94-2.06-.94 2.06-2.06.94z\"/><path d=\"M17.41 7.96l-1.37-1.37c-.4-.4-.92-.59-1.43-.59-.52 0-1.04.2-1.43.59L10.3 9.45l-7.72 7.72c-.78.78-.78 2.05 0 2.83L4 21.41c.39.39.9.59 1.41.59.51 0 1.02-.2 1.41-.59l7.78-7.78 2.81-2.81c.8-.78.8-2.07 0-2.86zM5.41 20L4 18.59l7.72-7.72 1.47 1.35L5.41 20z\"/>\n",
       "  </svg>\n",
       "      </button>\n",
       "      \n",
       "  <style>\n",
       "    .colab-df-container {\n",
       "      display:flex;\n",
       "      flex-wrap:wrap;\n",
       "      gap: 12px;\n",
       "    }\n",
       "\n",
       "    .colab-df-convert {\n",
       "      background-color: #E8F0FE;\n",
       "      border: none;\n",
       "      border-radius: 50%;\n",
       "      cursor: pointer;\n",
       "      display: none;\n",
       "      fill: #1967D2;\n",
       "      height: 32px;\n",
       "      padding: 0 0 0 0;\n",
       "      width: 32px;\n",
       "    }\n",
       "\n",
       "    .colab-df-convert:hover {\n",
       "      background-color: #E2EBFA;\n",
       "      box-shadow: 0px 1px 2px rgba(60, 64, 67, 0.3), 0px 1px 3px 1px rgba(60, 64, 67, 0.15);\n",
       "      fill: #174EA6;\n",
       "    }\n",
       "\n",
       "    [theme=dark] .colab-df-convert {\n",
       "      background-color: #3B4455;\n",
       "      fill: #D2E3FC;\n",
       "    }\n",
       "\n",
       "    [theme=dark] .colab-df-convert:hover {\n",
       "      background-color: #434B5C;\n",
       "      box-shadow: 0px 1px 3px 1px rgba(0, 0, 0, 0.15);\n",
       "      filter: drop-shadow(0px 1px 2px rgba(0, 0, 0, 0.3));\n",
       "      fill: #FFFFFF;\n",
       "    }\n",
       "  </style>\n",
       "\n",
       "      <script>\n",
       "        const buttonEl =\n",
       "          document.querySelector('#df-739890ec-80b1-4b66-8a71-a0868b36d99b button.colab-df-convert');\n",
       "        buttonEl.style.display =\n",
       "          google.colab.kernel.accessAllowed ? 'block' : 'none';\n",
       "\n",
       "        async function convertToInteractive(key) {\n",
       "          const element = document.querySelector('#df-739890ec-80b1-4b66-8a71-a0868b36d99b');\n",
       "          const dataTable =\n",
       "            await google.colab.kernel.invokeFunction('convertToInteractive',\n",
       "                                                     [key], {});\n",
       "          if (!dataTable) return;\n",
       "\n",
       "          const docLinkHtml = 'Like what you see? Visit the ' +\n",
       "            '<a target=\"_blank\" href=https://colab.research.google.com/notebooks/data_table.ipynb>data table notebook</a>'\n",
       "            + ' to learn more about interactive tables.';\n",
       "          element.innerHTML = '';\n",
       "          dataTable['output_type'] = 'display_data';\n",
       "          await google.colab.output.renderOutput(dataTable, element);\n",
       "          const docLink = document.createElement('div');\n",
       "          docLink.innerHTML = docLinkHtml;\n",
       "          element.appendChild(docLink);\n",
       "        }\n",
       "      </script>\n",
       "    </div>\n",
       "  </div>\n",
       "  "
      ],
      "text/plain": [
       "                                                                                                                                                                                                                                                                                                                                                                                                                                                                                                                                                                                                                                                                                                                                                                                                                                                                                                                                                                                                                                                                                                                                                                                                                                                                                                                                                                                                                                                                        complaint_text  \\\n",
       "0  good morning my name is xxxx xxxx and i appreciate it if you could help me put a stop to chase bank cardmember services \\nin i wrote to chase asking for debt verification and what they sent me a statement which is not acceptable i am asking the bank to validate the debt instead i been receiving mail every month from them attempting to collect a debt \\ni have a right to know this information as a consumer \\n\\nchase account  xxxx xxxx xxxx xxxx thanks in advance for your help                                                                                                                                                                                                                                                                                                                                                                                                                                                                                                                                                                                                                                                                                                                                                                                                                                                                                                                                                                                        \n",
       "1  i upgraded my xxxx xxxx card in and was told by the agent who did the upgrade my anniversary date would not change it turned the agent was giving me the wrong information in order to upgrade the account xxxx   changed my anniversary date from xxxxxxxx to xxxxxxxx without my consent xxxx has the recording of the agent who was misled me                                                                                                                                                                                                                                                                                                                                                                                                                                                                                                                                                                                                                                                                                                                                                                                                                                                                                                                                                                                                                                                                                                                                      \n",
       "2  chase card was reported on however fraudulent application have been submitted my identity without my consent to fraudulently obtain services do not extend credit without verifying the identity of the applicant                                                                                                                                                                                                                                                                                                                                                                                                                                                                                                                                                                                                                                                                                                                                                                                                                                                                                                                                                                                                                                                                                                                                                                                                                                                                     \n",
       "3  on while trying to book a xxxx  xxxx  ticket i came across an offer for to be applied towards the ticket if i applied for a rewards card i put in my information for the offer and within less than a minute was notified via the screen that a decision could not be made i immediately contacted xxxx and was referred to chase bank i then immediately contacted chase bank within no more than of getting the notification on the screen and i was told by the chase representative i spoke with that my application was denied but she could not state why i asked for more information about the xxxx  offer and she explained that even if i had been approved the credit offer only gets applied after the first account statement and could not be used to purchase the ticket i then explicitly told her i was glad i got denied and i was absolutely no longer interested in the account i asked that the application be withdrawn and the representative obliged this all happened no later than after putting in the application on notwithstanding my explicit request not to proceed with the application and contrary to what i was told by the chase representative chase did in fact go ahead to open a credit account in my name on this is now being reported in my credit report and chase has refused to correct this information on my credit report even though they went ahead to process an application which i did not consent to and out of their error   \n",
       "4  my grand son give me check for i deposit it into my chase account after fund clear my chase bank closed my account never paid me my money they said they need to speek with my grand son check was clear money was taking by my chase bank refuse to pay me my money my grand son called chase times they told him i should call not him to verify the check owner he is out the country most the time  date happen check number xxxx claim number is xxxx with chase                                                                                                                                                                                                                                                                                                                                                                                                                                                                                                                                                                                                                                                                                                                                                                                                                                                                                                                                                                                                                 \n",
       "\n",
       "   Topic  \n",
       "0  4      \n",
       "1  0      \n",
       "2  1      \n",
       "3  1      \n",
       "4  0      "
      ]
     },
     "execution_count": 132,
     "metadata": {},
     "output_type": "execute_result"
    }
   ],
   "source": [
    "reverse_topic_mapping = {\n",
    "    'Bank Account services' :0,\n",
    "    'Credit card or prepaid card':1,\n",
    "    'Others':2,\n",
    "    'Theft/Dispute Reporting':3,\n",
    "    'Mortgage/Loan':4\n",
    "}\n",
    "#Replace Topics with Topic Names\n",
    "training_data['Topic'] = training_data['Topic'].map(reverse_topic_mapping)\n",
    "training_data.head()"
   ]
  },
  {
   "cell_type": "code",
   "execution_count": 133,
   "id": "5c25e6fc",
   "metadata": {
    "colab": {
     "base_uri": "https://localhost:8080/",
     "height": 534
    },
    "executionInfo": {
     "elapsed": 610,
     "status": "ok",
     "timestamp": 1674530970984,
     "user": {
      "displayName": "GAURAV SINHA",
      "userId": "13858423673435577443"
     },
     "user_tz": -330
    },
    "id": "5c25e6fc",
    "outputId": "059ed023-79a5-4aeb-b755-5b82a643bcc5"
   },
   "outputs": [
    {
     "data": {
      "text/html": [
       "\n",
       "  <div id=\"df-99c3fd5d-9650-4eda-81e6-04d1b2efb94e\">\n",
       "    <div class=\"colab-df-container\">\n",
       "      <div>\n",
       "<style scoped>\n",
       "    .dataframe tbody tr th:only-of-type {\n",
       "        vertical-align: middle;\n",
       "    }\n",
       "\n",
       "    .dataframe tbody tr th {\n",
       "        vertical-align: top;\n",
       "    }\n",
       "\n",
       "    .dataframe thead th {\n",
       "        text-align: right;\n",
       "    }\n",
       "</style>\n",
       "<table border=\"1\" class=\"dataframe\">\n",
       "  <thead>\n",
       "    <tr style=\"text-align: right;\">\n",
       "      <th></th>\n",
       "      <th>complaint_text</th>\n",
       "      <th>Topic</th>\n",
       "    </tr>\n",
       "  </thead>\n",
       "  <tbody>\n",
       "    <tr>\n",
       "      <th>7</th>\n",
       "      <td>during the summer months i experience a decline income due to my employment therefore i request a one month payment extension with my auto loan company chase for the past almost fours years my request for payment extension is granted i have never been delinquent with my auto loan payment however on my request for a one month payment extension was denied this year i explained my situation to representative and the supervisor with no avail after a lengthy discussion and waiting i was informed the reason for the decline as it is not  contractual  this reason for denial baffled me and therefore i emailed the office of xxxx xxxx executive director communications jpmorgan chase  co a representative contacted me and stated chase will followup about week later a representative of xxxx xxxx xxxx xxxx office called the representative shared her role was help resolve the matter the representative via conference call contacted the department handing my request after reviewing my information my request was still denied based on  policy changes  i requested an explanation and representative stated a letter will be mailed with explanation i have received xxxx letters the reason for denial was not  policy changes  i would like cfpb help in exploring the denial of my payment extension request especially since i have been clear reason for denial</td>\n",
       "      <td>2</td>\n",
       "    </tr>\n",
       "    <tr>\n",
       "      <th>24</th>\n",
       "      <td>i made a purchase of on xxxxxxxx i made payments of on xxxxxxxx and on xxxxxxxx the minimum payment was the closing date was xxxxxxxx  please see attached statement  that statement  xxxxxxxx  shows that i had an outstanding purchase balance of on xxxxxxxx i have enclosed the previous months statement to show that there were no other purchases prior to the one on xxxxxxxx \\nhowever when i got the xxxx statement it shows that i still have a purchase balance of i have a promotional balance xxxx  in xxxx of in xxxx the promotional balance was a difference of apparently the payment  above the minimum payment required by chase  i thought would be applied to the purchase  was applied to the promotional balance first it is my understanding that once the minimum payment has been met payments in excess of the minimum would be applied to the highest interest rate balance first this is not the first time that chase has skirted us financial law to turn a larger profit i need help in rectifying this problem because my logic fell on deaf ears at chase thank you in advance for your assistance \\n\\nrespectfully xxxx xxxx xxxx</td>\n",
       "      <td>2</td>\n",
       "    </tr>\n",
       "    <tr>\n",
       "      <th>33</th>\n",
       "      <td>i recently called to ask chase bank why they reported to the credit bureau that i was days late on a payment that was already paid off when i called i got this info  they showed that on the xxxx of i was very late on my bill and owed xxxx to bring this balance down to xxxx and be finished with the bill i paid that amount on the same day the xxxx to being it to xxxx \\n\\nthey say that i tried to make another payment for later that same day and in a few days that came back as a return payment \\n\\nthe man on the phone stated to me that if the payment went through then it would have meant that i had a credit on my account for xxxx since i didnt owe anything \\n\\nthey updated my account with charges and late fees from the return payment that i had no idea of since i thought i paid off the entire amount they reported to the credit bureau that i was days late for not paying what accrued to be the guy representing chase agreed with me that they were in the wrong for charging me the fees and said they would remove them i still have in the negative that they are saying that i owe in the mobile app \\n\\nadditionally because they reported me being late my credit score dropped points when i called back to ask if they can report that they made a mistake they said i would have to do that on my own i think thats xxxx</td>\n",
       "      <td>2</td>\n",
       "    </tr>\n",
       "  </tbody>\n",
       "</table>\n",
       "</div>\n",
       "      <button class=\"colab-df-convert\" onclick=\"convertToInteractive('df-99c3fd5d-9650-4eda-81e6-04d1b2efb94e')\"\n",
       "              title=\"Convert this dataframe to an interactive table.\"\n",
       "              style=\"display:none;\">\n",
       "        \n",
       "  <svg xmlns=\"http://www.w3.org/2000/svg\" height=\"24px\"viewBox=\"0 0 24 24\"\n",
       "       width=\"24px\">\n",
       "    <path d=\"M0 0h24v24H0V0z\" fill=\"none\"/>\n",
       "    <path d=\"M18.56 5.44l.94 2.06.94-2.06 2.06-.94-2.06-.94-.94-2.06-.94 2.06-2.06.94zm-11 1L8.5 8.5l.94-2.06 2.06-.94-2.06-.94L8.5 2.5l-.94 2.06-2.06.94zm10 10l.94 2.06.94-2.06 2.06-.94-2.06-.94-.94-2.06-.94 2.06-2.06.94z\"/><path d=\"M17.41 7.96l-1.37-1.37c-.4-.4-.92-.59-1.43-.59-.52 0-1.04.2-1.43.59L10.3 9.45l-7.72 7.72c-.78.78-.78 2.05 0 2.83L4 21.41c.39.39.9.59 1.41.59.51 0 1.02-.2 1.41-.59l7.78-7.78 2.81-2.81c.8-.78.8-2.07 0-2.86zM5.41 20L4 18.59l7.72-7.72 1.47 1.35L5.41 20z\"/>\n",
       "  </svg>\n",
       "      </button>\n",
       "      \n",
       "  <style>\n",
       "    .colab-df-container {\n",
       "      display:flex;\n",
       "      flex-wrap:wrap;\n",
       "      gap: 12px;\n",
       "    }\n",
       "\n",
       "    .colab-df-convert {\n",
       "      background-color: #E8F0FE;\n",
       "      border: none;\n",
       "      border-radius: 50%;\n",
       "      cursor: pointer;\n",
       "      display: none;\n",
       "      fill: #1967D2;\n",
       "      height: 32px;\n",
       "      padding: 0 0 0 0;\n",
       "      width: 32px;\n",
       "    }\n",
       "\n",
       "    .colab-df-convert:hover {\n",
       "      background-color: #E2EBFA;\n",
       "      box-shadow: 0px 1px 2px rgba(60, 64, 67, 0.3), 0px 1px 3px 1px rgba(60, 64, 67, 0.15);\n",
       "      fill: #174EA6;\n",
       "    }\n",
       "\n",
       "    [theme=dark] .colab-df-convert {\n",
       "      background-color: #3B4455;\n",
       "      fill: #D2E3FC;\n",
       "    }\n",
       "\n",
       "    [theme=dark] .colab-df-convert:hover {\n",
       "      background-color: #434B5C;\n",
       "      box-shadow: 0px 1px 3px 1px rgba(0, 0, 0, 0.15);\n",
       "      filter: drop-shadow(0px 1px 2px rgba(0, 0, 0, 0.3));\n",
       "      fill: #FFFFFF;\n",
       "    }\n",
       "  </style>\n",
       "\n",
       "      <script>\n",
       "        const buttonEl =\n",
       "          document.querySelector('#df-99c3fd5d-9650-4eda-81e6-04d1b2efb94e button.colab-df-convert');\n",
       "        buttonEl.style.display =\n",
       "          google.colab.kernel.accessAllowed ? 'block' : 'none';\n",
       "\n",
       "        async function convertToInteractive(key) {\n",
       "          const element = document.querySelector('#df-99c3fd5d-9650-4eda-81e6-04d1b2efb94e');\n",
       "          const dataTable =\n",
       "            await google.colab.kernel.invokeFunction('convertToInteractive',\n",
       "                                                     [key], {});\n",
       "          if (!dataTable) return;\n",
       "\n",
       "          const docLinkHtml = 'Like what you see? Visit the ' +\n",
       "            '<a target=\"_blank\" href=https://colab.research.google.com/notebooks/data_table.ipynb>data table notebook</a>'\n",
       "            + ' to learn more about interactive tables.';\n",
       "          element.innerHTML = '';\n",
       "          dataTable['output_type'] = 'display_data';\n",
       "          await google.colab.output.renderOutput(dataTable, element);\n",
       "          const docLink = document.createElement('div');\n",
       "          docLink.innerHTML = docLinkHtml;\n",
       "          element.appendChild(docLink);\n",
       "        }\n",
       "      </script>\n",
       "    </div>\n",
       "  </div>\n",
       "  "
      ],
      "text/plain": [
       "                                                                                                                                                                                                                                                                                                                                                                                                                                                                                                                                                                                                                                                                                                                                                                                                                                                                                                                                                                                                                                                                                                                                                                                                                                                                                                                                                                                           complaint_text  \\\n",
       "7   during the summer months i experience a decline income due to my employment therefore i request a one month payment extension with my auto loan company chase for the past almost fours years my request for payment extension is granted i have never been delinquent with my auto loan payment however on my request for a one month payment extension was denied this year i explained my situation to representative and the supervisor with no avail after a lengthy discussion and waiting i was informed the reason for the decline as it is not  contractual  this reason for denial baffled me and therefore i emailed the office of xxxx xxxx executive director communications jpmorgan chase  co a representative contacted me and stated chase will followup about week later a representative of xxxx xxxx xxxx xxxx office called the representative shared her role was help resolve the matter the representative via conference call contacted the department handing my request after reviewing my information my request was still denied based on  policy changes  i requested an explanation and representative stated a letter will be mailed with explanation i have received xxxx letters the reason for denial was not  policy changes  i would like cfpb help in exploring the denial of my payment extension request especially since i have been clear reason for denial   \n",
       "24  i made a purchase of on xxxxxxxx i made payments of on xxxxxxxx and on xxxxxxxx the minimum payment was the closing date was xxxxxxxx  please see attached statement  that statement  xxxxxxxx  shows that i had an outstanding purchase balance of on xxxxxxxx i have enclosed the previous months statement to show that there were no other purchases prior to the one on xxxxxxxx \\nhowever when i got the xxxx statement it shows that i still have a purchase balance of i have a promotional balance xxxx  in xxxx of in xxxx the promotional balance was a difference of apparently the payment  above the minimum payment required by chase  i thought would be applied to the purchase  was applied to the promotional balance first it is my understanding that once the minimum payment has been met payments in excess of the minimum would be applied to the highest interest rate balance first this is not the first time that chase has skirted us financial law to turn a larger profit i need help in rectifying this problem because my logic fell on deaf ears at chase thank you in advance for your assistance \\n\\nrespectfully xxxx xxxx xxxx                                                                                                                                                                                                                                   \n",
       "33  i recently called to ask chase bank why they reported to the credit bureau that i was days late on a payment that was already paid off when i called i got this info  they showed that on the xxxx of i was very late on my bill and owed xxxx to bring this balance down to xxxx and be finished with the bill i paid that amount on the same day the xxxx to being it to xxxx \\n\\nthey say that i tried to make another payment for later that same day and in a few days that came back as a return payment \\n\\nthe man on the phone stated to me that if the payment went through then it would have meant that i had a credit on my account for xxxx since i didnt owe anything \\n\\nthey updated my account with charges and late fees from the return payment that i had no idea of since i thought i paid off the entire amount they reported to the credit bureau that i was days late for not paying what accrued to be the guy representing chase agreed with me that they were in the wrong for charging me the fees and said they would remove them i still have in the negative that they are saying that i owe in the mobile app \\n\\nadditionally because they reported me being late my credit score dropped points when i called back to ask if they can report that they made a mistake they said i would have to do that on my own i think thats xxxx                                 \n",
       "\n",
       "    Topic  \n",
       "7   2      \n",
       "24  2      \n",
       "33  2      "
      ]
     },
     "execution_count": 133,
     "metadata": {},
     "output_type": "execute_result"
    }
   ],
   "source": [
    "training_data[['complaint_text','Topic']][training_data.Topic==2].head(3)"
   ]
  },
  {
   "cell_type": "markdown",
   "id": "a5f83414",
   "metadata": {
    "id": "a5f83414"
   },
   "source": [
    "# Apply the supervised models on the training data created. In this process, you have to do the following:"
   ]
  },
  {
   "cell_type": "markdown",
   "id": "dc85d002",
   "metadata": {
    "id": "dc85d002"
   },
   "source": [
    "Create the vector counts using Count Vectoriser\n",
    "\n",
    "Transform the word vecotr to tf-idf\n",
    "\n",
    "Create the train & test data using the train_test_split on the tf-idf & topics"
   ]
  },
  {
   "cell_type": "markdown",
   "id": "b7d665a1",
   "metadata": {
    "id": "b7d665a1"
   },
   "source": [
    "# x - y split"
   ]
  },
  {
   "cell_type": "code",
   "execution_count": 134,
   "id": "8b499f85",
   "metadata": {
    "executionInfo": {
     "elapsed": 650,
     "status": "ok",
     "timestamp": 1674530978049,
     "user": {
      "displayName": "GAURAV SINHA",
      "userId": "13858423673435577443"
     },
     "user_tz": -330
    },
    "id": "8b499f85"
   },
   "outputs": [],
   "source": [
    "# x - y  split\n",
    "X = training_data.complaint_text\n",
    "y = training_data.Topic"
   ]
  },
  {
   "cell_type": "code",
   "execution_count": 135,
   "id": "ecb8a8f4",
   "metadata": {
    "executionInfo": {
     "elapsed": 3646,
     "status": "ok",
     "timestamp": 1674530983873,
     "user": {
      "displayName": "GAURAV SINHA",
      "userId": "13858423673435577443"
     },
     "user_tz": -330
    },
    "id": "ecb8a8f4"
   },
   "outputs": [],
   "source": [
    "#Write your code to get the Vector count \n",
    "\n",
    "# Fit transform the X\n",
    "count_vect = CountVectorizer()\n",
    "X_vect = count_vect.fit_transform(X)"
   ]
  },
  {
   "cell_type": "code",
   "execution_count": 136,
   "id": "09b78316",
   "metadata": {
    "executionInfo": {
     "elapsed": 429,
     "status": "ok",
     "timestamp": 1674530990184,
     "user": {
      "displayName": "GAURAV SINHA",
      "userId": "13858423673435577443"
     },
     "user_tz": -330
    },
    "id": "09b78316"
   },
   "outputs": [],
   "source": [
    "from sklearn.feature_extraction.text import TfidfTransformer\n",
    "#Write your code here to transform the word vector to tf-idf\n",
    "#Fit transform word vector to TF-IDF\n",
    "tfidf_transformer = TfidfTransformer()\n",
    "X_tfidf = tfidf_transformer.fit_transform(X_vect)"
   ]
  },
  {
   "cell_type": "markdown",
   "id": "0633dfc7",
   "metadata": {
    "id": "0633dfc7"
   },
   "source": [
    "# Train Test Split"
   ]
  },
  {
   "cell_type": "code",
   "execution_count": 137,
   "id": "4569b0b6",
   "metadata": {
    "executionInfo": {
     "elapsed": 475,
     "status": "ok",
     "timestamp": 1674530993323,
     "user": {
      "displayName": "GAURAV SINHA",
      "userId": "13858423673435577443"
     },
     "user_tz": -330
    },
    "id": "4569b0b6"
   },
   "outputs": [],
   "source": [
    "from sklearn.model_selection import train_test_split\n",
    "# train test split\n",
    "X_train, X_test, y_train, y_test = train_test_split(X_tfidf, y, test_size=0.25, random_state=40, stratify=y)"
   ]
  },
  {
   "cell_type": "markdown",
   "id": "501b6b53",
   "metadata": {
    "id": "501b6b53"
   },
   "source": [
    "You have to try atleast 3 models on the train & test data from these options:"
   ]
  },
  {
   "cell_type": "markdown",
   "id": "54ccc617",
   "metadata": {
    "id": "54ccc617"
   },
   "source": [
    "### We are trying the following models -\n",
    "\n",
    "Logistic regression \n",
    "\n",
    "Decision Tree \n",
    "\n",
    "Random Forest \n",
    "\n",
    "Naive Bayes (optional) "
   ]
  },
  {
   "cell_type": "markdown",
   "id": "1e89544e",
   "metadata": {
    "id": "1e89544e"
   },
   "source": [
    "### Using the required evaluation metrics judge the tried models and select the ones performing the best"
   ]
  },
  {
   "cell_type": "code",
   "execution_count": 144,
   "id": "dc2faeee",
   "metadata": {
    "executionInfo": {
     "elapsed": 622,
     "status": "ok",
     "timestamp": 1674535126468,
     "user": {
      "displayName": "GAURAV SINHA",
      "userId": "13858423673435577443"
     },
     "user_tz": -330
    },
    "id": "dc2faeee"
   },
   "outputs": [],
   "source": [
    "# Write your code here to build any 3 models and evaluate them using the required metrics\n",
    "\n",
    "from sklearn.naive_bayes import MultinomialNB \n",
    "# Important note regarding Multinomial naive bayes. The naive bayes wants your features to be stringly independent due to which \n",
    "# P(feat1,....,featn|class) = multiplication(P(feat1|class)) ----> \n",
    "# MNB works on the assumption that every P(feature|class) has multinomial distribution which works well on count based data i.e word count on text  \n",
    "from sklearn.linear_model import LogisticRegression\n",
    "from sklearn.tree import DecisionTreeClassifier\n",
    "from sklearn.ensemble import RandomForestClassifier\n",
    "\n",
    "\n",
    "from sklearn.model_selection import StratifiedKFold\n",
    "from sklearn.model_selection import cross_val_score\n",
    "from sklearn.model_selection import GridSearchCV\n",
    "\n",
    "from sklearn import metrics\n",
    "from sklearn.metrics import roc_auc_score\n",
    "from sklearn.metrics import accuracy_score\n",
    "from sklearn.metrics import precision_score\n",
    "from sklearn.metrics import recall_score\n",
    "from sklearn.metrics import precision_recall_fscore_support\n",
    "\n",
    "from sklearn.metrics import classification_report\n",
    "from sklearn.metrics import confusion_matrix\n",
    "from sklearn.metrics import ConfusionMatrixDisplay"
   ]
  },
  {
   "cell_type": "code",
   "execution_count": 145,
   "id": "f710a488",
   "metadata": {
    "executionInfo": {
     "elapsed": 1295,
     "status": "ok",
     "timestamp": 1674535131974,
     "user": {
      "displayName": "GAURAV SINHA",
      "userId": "13858423673435577443"
     },
     "user_tz": -330
    },
    "id": "f710a488"
   },
   "outputs": [],
   "source": [
    "# utlity function to display the model report\n",
    "\n",
    "def display_classification_report(model,metric):\n",
    "    \n",
    "    y_train_pred_proba = model.predict_proba(X_train)\n",
    "    y_test_pred_proba = model.predict_proba(X_test)\n",
    "    roc_auc_score_train = round(roc_auc_score(y_train, y_train_pred_proba,average='weighted',multi_class='ovr'),2)\n",
    "    roc_auc_score_test = round(roc_auc_score(y_test, y_test_pred_proba,average='weighted',multi_class='ovr'),2)\n",
    "    print(\"ROC AUC Score Train:\", roc_auc_score_train)\n",
    "    print(\"ROC AUC Score Test:\", roc_auc_score_test)\n",
    "    metric.append(roc_auc_score_train)\n",
    "    metric.append(roc_auc_score_test)\n",
    "\n",
    "    y_train_pred = model.predict(X_train)\n",
    "    y_test_pred = model.predict(X_test)\n",
    "  \n",
    "    precision_train,recall_train,fscore_train,support_train=precision_recall_fscore_support(y_train,y_train_pred,average='weighted')\n",
    "    precision_test,recall_test,fscore_test,support_test=precision_recall_fscore_support(y_test,y_test_pred,average='weighted')\n",
    "    \n",
    "    acc_score_train = round(accuracy_score(y_train,y_train_pred),2)\n",
    "    acc_score_test = round(accuracy_score(y_test,y_test_pred),2)\n",
    "    \n",
    "    metric.append(acc_score_train)\n",
    "    metric.append(acc_score_test)\n",
    "    metric.append(round(precision_train,2))\n",
    "    metric.append(round(precision_test,2))\n",
    "    metric.append(round(recall_train,2))\n",
    "    metric.append(round(recall_test,2))\n",
    "    metric.append(round(fscore_train,2))\n",
    "    metric.append(round(fscore_test,2))\n",
    "    \n",
    "    print('Train Accuracy :',acc_score_train)\n",
    "    print('Test Accuracy :',acc_score_test)\n",
    "        \n",
    "    model_report_train = classification_report(y_train,y_train_pred)\n",
    "    model_report_test = classification_report(y_test,y_test_pred)\n",
    "    \n",
    "    print('Classification Report for Train:\\n',model_report_train)\n",
    "    print('Classification Report for Test:\\n',model_report_test)\n",
    "\n",
    "\n",
    "    # Plot the confusion matrix\n",
    "    fig, ax = plt.subplots(figsize=(12, 8))\n",
    "    # Create the confusion matrix\n",
    "    cm = confusion_matrix(y_test, y_test_pred)\n",
    "    cmp = ConfusionMatrixDisplay(cm, display_labels=model.classes_)\n",
    "    cmp.plot(ax=ax)\n",
    "    plt.xticks(rotation=80)\n",
    "\n",
    "    plt.show();"
   ]
  },
  {
   "cell_type": "code",
   "execution_count": 146,
   "id": "6e443fde",
   "metadata": {
    "executionInfo": {
     "elapsed": 548,
     "status": "ok",
     "timestamp": 1674535139956,
     "user": {
      "displayName": "GAURAV SINHA",
      "userId": "13858423673435577443"
     },
     "user_tz": -330
    },
    "id": "6e443fde"
   },
   "outputs": [],
   "source": [
    "# create 5 folds\n",
    "folds = StratifiedKFold(n_splits = 5, shuffle = True, random_state = 40)"
   ]
  },
  {
   "cell_type": "code",
   "execution_count": 147,
   "id": "e0b45834",
   "metadata": {
    "executionInfo": {
     "elapsed": 3,
     "status": "ok",
     "timestamp": 1674535144707,
     "user": {
      "displayName": "GAURAV SINHA",
      "userId": "13858423673435577443"
     },
     "user_tz": -330
    },
    "id": "e0b45834"
   },
   "outputs": [],
   "source": [
    "# utility method to get the GridSearchCV object\n",
    "def grid_search(model,folds,params,scoring):\n",
    "    \n",
    "    grid_search = GridSearchCV(model,\n",
    "                                cv=folds, \n",
    "                                param_grid=params, \n",
    "                                scoring=scoring, \n",
    "                                n_jobs=-1, verbose=1)\n",
    "    return grid_search"
   ]
  },
  {
   "cell_type": "code",
   "execution_count": 148,
   "id": "00fc3bb4",
   "metadata": {
    "executionInfo": {
     "elapsed": 574,
     "status": "ok",
     "timestamp": 1674535148876,
     "user": {
      "displayName": "GAURAV SINHA",
      "userId": "13858423673435577443"
     },
     "user_tz": -330
    },
    "id": "00fc3bb4"
   },
   "outputs": [],
   "source": [
    "# utility function to display the best score and parameters of the GridSearchCV model\n",
    "def print_best_score_params(model):\n",
    "    print(\"Best Score: \", model.best_score_)\n",
    "    print(\"Best Hyperparameters: \", model.best_params_)"
   ]
  },
  {
   "cell_type": "markdown",
   "id": "cfcddc6f",
   "metadata": {
    "id": "cfcddc6f"
   },
   "source": [
    "### Multinomial Naive Bayes Classification"
   ]
  },
  {
   "cell_type": "code",
   "execution_count": 149,
   "id": "96cd2cef",
   "metadata": {
    "colab": {
     "base_uri": "https://localhost:8080/",
     "height": 1000
    },
    "executionInfo": {
     "elapsed": 1723,
     "status": "ok",
     "timestamp": 1674535153056,
     "user": {
      "displayName": "GAURAV SINHA",
      "userId": "13858423673435577443"
     },
     "user_tz": -330
    },
    "id": "96cd2cef",
    "outputId": "d389a60f-5941-4442-ab05-6f40cc8820f5"
   },
   "outputs": [
    {
     "name": "stdout",
     "output_type": "stream",
     "text": [
      "ROC AUC Score Train: 0.95\n",
      "ROC AUC Score Test: 0.93\n",
      "Train Accuracy : 0.68\n",
      "Test Accuracy : 0.64\n",
      "Classification Report for Train:\n",
      "               precision    recall  f1-score   support\n",
      "\n",
      "           0       0.57      0.95      0.71      4362\n",
      "           1       0.69      0.81      0.74      3955\n",
      "           2       0.96      0.01      0.03      1672\n",
      "           3       0.90      0.52      0.66      3031\n",
      "           4       0.88      0.67      0.76      2784\n",
      "\n",
      "    accuracy                           0.68     15804\n",
      "   macro avg       0.80      0.59      0.58     15804\n",
      "weighted avg       0.76      0.68      0.64     15804\n",
      "\n",
      "Classification Report for Test:\n",
      "               precision    recall  f1-score   support\n",
      "\n",
      "           0       0.54      0.94      0.68      1454\n",
      "           1       0.65      0.75      0.69      1318\n",
      "           2       1.00      0.01      0.01       558\n",
      "           3       0.86      0.43      0.57      1010\n",
      "           4       0.86      0.63      0.73       928\n",
      "\n",
      "    accuracy                           0.64      5268\n",
      "   macro avg       0.78      0.55      0.54      5268\n",
      "weighted avg       0.73      0.64      0.60      5268\n",
      "\n"
     ]
    },
    {
     "data": {
      "image/png": "[encoded data removed]",
      "text/plain": [
       "<Figure size 864x576 with 2 Axes>"
      ]
     },
     "metadata": {
      "needs_background": "light"
     },
     "output_type": "display_data"
    }
   ],
   "source": [
    "# Multinomial Naive Bayes Classification\n",
    "\n",
    "# create MNB model object\n",
    "mnb = MultinomialNB()\n",
    "# fit model\n",
    "mnb.fit(X_train, y_train)\n",
    "# display classification report\n",
    "metric1=[]\n",
    "display_classification_report(mnb,metric1)"
   ]
  },
  {
   "cell_type": "markdown",
   "id": "596c445d",
   "metadata": {
    "id": "596c445d"
   },
   "source": [
    "### Logistic Regression Classification"
   ]
  },
  {
   "cell_type": "code",
   "execution_count": 150,
   "id": "430cf810",
   "metadata": {
    "colab": {
     "base_uri": "https://localhost:8080/",
     "height": 1000
    },
    "executionInfo": {
     "elapsed": 4025,
     "status": "ok",
     "timestamp": 1674535163232,
     "user": {
      "displayName": "GAURAV SINHA",
      "userId": "13858423673435577443"
     },
     "user_tz": -330
    },
    "id": "430cf810",
    "outputId": "2adc0f0c-0b3e-4258-eab3-0039becd08b8"
   },
   "outputs": [
    {
     "name": "stdout",
     "output_type": "stream",
     "text": [
      "ROC AUC Score Train: 1.0\n",
      "ROC AUC Score Test: 0.99\n",
      "Train Accuracy : 0.94\n",
      "Test Accuracy : 0.9\n",
      "Classification Report for Train:\n",
      "               precision    recall  f1-score   support\n",
      "\n",
      "           0       0.93      0.96      0.95      4362\n",
      "           1       0.94      0.96      0.95      3955\n",
      "           2       0.97      0.88      0.92      1672\n",
      "           3       0.94      0.93      0.94      3031\n",
      "           4       0.95      0.94      0.95      2784\n",
      "\n",
      "    accuracy                           0.94     15804\n",
      "   macro avg       0.95      0.93      0.94     15804\n",
      "weighted avg       0.94      0.94      0.94     15804\n",
      "\n",
      "Classification Report for Test:\n",
      "               precision    recall  f1-score   support\n",
      "\n",
      "           0       0.88      0.94      0.91      1454\n",
      "           1       0.90      0.93      0.91      1318\n",
      "           2       0.95      0.80      0.87       558\n",
      "           3       0.91      0.88      0.89      1010\n",
      "           4       0.93      0.90      0.91       928\n",
      "\n",
      "    accuracy                           0.90      5268\n",
      "   macro avg       0.91      0.89      0.90      5268\n",
      "weighted avg       0.90      0.90      0.90      5268\n",
      "\n"
     ]
    },
    {
     "data": {
      "image/png": "[encoded data removed]",
      "text/plain": [
       "<Figure size 864x576 with 2 Axes>"
      ]
     },
     "metadata": {
      "needs_background": "light"
     },
     "output_type": "display_data"
    }
   ],
   "source": [
    "# Logistic Regression Classification\n",
    "log_reg = LogisticRegression(random_state=40,solver='liblinear')\n",
    "# fit model\n",
    "log_reg.fit(X_train,y_train)\n",
    "# display classification report\n",
    "metric2=[]\n",
    "display_classification_report(log_reg,metric2)"
   ]
  },
  {
   "cell_type": "markdown",
   "id": "ec3601b2",
   "metadata": {
    "id": "ec3601b2"
   },
   "source": [
    "### Decision Tree Classification"
   ]
  },
  {
   "cell_type": "code",
   "execution_count": 151,
   "id": "d2506404",
   "metadata": {
    "colab": {
     "base_uri": "https://localhost:8080/",
     "height": 1000
    },
    "executionInfo": {
     "elapsed": 18324,
     "status": "ok",
     "timestamp": 1674535188671,
     "user": {
      "displayName": "GAURAV SINHA",
      "userId": "13858423673435577443"
     },
     "user_tz": -330
    },
    "id": "d2506404",
    "outputId": "c98f6fcc-e29a-4271-b611-5d490239dc42"
   },
   "outputs": [
    {
     "name": "stdout",
     "output_type": "stream",
     "text": [
      "ROC AUC Score Train: 1.0\n",
      "ROC AUC Score Test: 0.86\n",
      "Train Accuracy : 1.0\n",
      "Test Accuracy : 0.77\n",
      "Classification Report for Train:\n",
      "               precision    recall  f1-score   support\n",
      "\n",
      "           0       1.00      1.00      1.00      4362\n",
      "           1       1.00      1.00      1.00      3955\n",
      "           2       1.00      1.00      1.00      1672\n",
      "           3       1.00      1.00      1.00      3031\n",
      "           4       1.00      1.00      1.00      2784\n",
      "\n",
      "    accuracy                           1.00     15804\n",
      "   macro avg       1.00      1.00      1.00     15804\n",
      "weighted avg       1.00      1.00      1.00     15804\n",
      "\n",
      "Classification Report for Test:\n",
      "               precision    recall  f1-score   support\n",
      "\n",
      "           0       0.79      0.80      0.79      1454\n",
      "           1       0.81      0.81      0.81      1318\n",
      "           2       0.70      0.70      0.70       558\n",
      "           3       0.72      0.74      0.73      1010\n",
      "           4       0.79      0.76      0.78       928\n",
      "\n",
      "    accuracy                           0.77      5268\n",
      "   macro avg       0.76      0.76      0.76      5268\n",
      "weighted avg       0.77      0.77      0.77      5268\n",
      "\n"
     ]
    },
    {
     "data": {
      "image/png": "[encoded data removed]",
      "text/plain": [
       "<Figure size 864x576 with 2 Axes>"
      ]
     },
     "metadata": {
      "needs_background": "light"
     },
     "output_type": "display_data"
    }
   ],
   "source": [
    "# Decision Tree Classification\n",
    "dtc = DecisionTreeClassifier(random_state=40)\n",
    "# fit model\n",
    "dtc.fit(X_train,y_train)\n",
    "# Decision Tree Classification Report\n",
    "metric3=[]\n",
    "display_classification_report(dtc,metric3)"
   ]
  },
  {
   "cell_type": "markdown",
   "id": "0caff579",
   "metadata": {
    "id": "0caff579"
   },
   "source": [
    "### Random Forest Classification"
   ]
  },
  {
   "cell_type": "code",
   "execution_count": 152,
   "id": "b9808765",
   "metadata": {
    "colab": {
     "base_uri": "https://localhost:8080/",
     "height": 1000
    },
    "executionInfo": {
     "elapsed": 163822,
     "status": "ok",
     "timestamp": 1674535374091,
     "user": {
      "displayName": "GAURAV SINHA",
      "userId": "13858423673435577443"
     },
     "user_tz": -330
    },
    "id": "b9808765",
    "outputId": "feabd5fe-c69c-47f0-b066-c0d02106a65e"
   },
   "outputs": [
    {
     "name": "stdout",
     "output_type": "stream",
     "text": [
      "OOB SCORE : 0.8078334598835738\n",
      "ROC AUC Score Train: 1.0\n",
      "ROC AUC Score Test: 0.98\n",
      "Train Accuracy : 1.0\n",
      "Test Accuracy : 0.82\n",
      "Classification Report for Train:\n",
      "               precision    recall  f1-score   support\n",
      "\n",
      "           0       1.00      1.00      1.00      4362\n",
      "           1       1.00      1.00      1.00      3955\n",
      "           2       1.00      1.00      1.00      1672\n",
      "           3       1.00      1.00      1.00      3031\n",
      "           4       1.00      1.00      1.00      2784\n",
      "\n",
      "    accuracy                           1.00     15804\n",
      "   macro avg       1.00      1.00      1.00     15804\n",
      "weighted avg       1.00      1.00      1.00     15804\n",
      "\n",
      "Classification Report for Test:\n",
      "               precision    recall  f1-score   support\n",
      "\n",
      "           0       0.76      0.93      0.84      1454\n",
      "           1       0.80      0.88      0.84      1318\n",
      "           2       0.95      0.39      0.56       558\n",
      "           3       0.86      0.79      0.82      1010\n",
      "           4       0.89      0.83      0.86       928\n",
      "\n",
      "    accuracy                           0.82      5268\n",
      "   macro avg       0.85      0.77      0.78      5268\n",
      "weighted avg       0.83      0.82      0.81      5268\n",
      "\n"
     ]
    },
    {
     "data": {
      "image/png": "[encoded data removed]",
      "text/plain": [
       "<Figure size 864x576 with 2 Axes>"
      ]
     },
     "metadata": {
      "needs_background": "light"
     },
     "output_type": "display_data"
    }
   ],
   "source": [
    "# Random Forest Classification\n",
    "\n",
    "rf = RandomForestClassifier(n_estimators = 500,random_state=40, n_jobs = -1,oob_score=True)\n",
    "# fit model\n",
    "rf.fit(X_train,y_train)\n",
    "\n",
    "# oob score\n",
    "print('OOB SCORE :',rf.oob_score_)\n",
    "\n",
    "# Random Forest Classification Report\n",
    "metric4=[]\n",
    "display_classification_report(rf,metric4)"
   ]
  },
  {
   "cell_type": "markdown",
   "id": "fdb90185",
   "metadata": {
    "id": "fdb90185"
   },
   "source": [
    "## Hyper parameter tuning with GridSearchCV\n",
    "\n",
    "### Multinomial Naive Bayes with GridSearchCV"
   ]
  },
  {
   "cell_type": "code",
   "execution_count": 153,
   "id": "a9cad103",
   "metadata": {
    "colab": {
     "base_uri": "https://localhost:8080/",
     "height": 1000
    },
    "executionInfo": {
     "elapsed": 3700,
     "status": "ok",
     "timestamp": 1674535386824,
     "user": {
      "displayName": "GAURAV SINHA",
      "userId": "13858423673435577443"
     },
     "user_tz": -330
    },
    "id": "a9cad103",
    "outputId": "caf59931-121e-44b7-fe16-8f6d6067af94"
   },
   "outputs": [
    {
     "name": "stdout",
     "output_type": "stream",
     "text": [
      "Fitting 5 folds for each of 5 candidates, totalling 25 fits\n",
      "Best Score:  0.7543020555103936\n",
      "Best Hyperparameters:  {'alpha': 0.01}\n",
      "ROC AUC Score Train: 0.99\n",
      "ROC AUC Score Test: 0.94\n",
      "Train Accuracy : 0.89\n",
      "Test Accuracy : 0.76\n",
      "Classification Report for Train:\n",
      "               precision    recall  f1-score   support\n",
      "\n",
      "           0       0.88      0.92      0.90      4362\n",
      "           1       0.87      0.90      0.89      3955\n",
      "           2       0.91      0.79      0.85      1672\n",
      "           3       0.90      0.89      0.90      3031\n",
      "           4       0.92      0.90      0.91      2784\n",
      "\n",
      "    accuracy                           0.89     15804\n",
      "   macro avg       0.90      0.88      0.89     15804\n",
      "weighted avg       0.89      0.89      0.89     15804\n",
      "\n",
      "Classification Report for Test:\n",
      "               precision    recall  f1-score   support\n",
      "\n",
      "           0       0.75      0.85      0.80      1454\n",
      "           1       0.75      0.75      0.75      1318\n",
      "           2       0.72      0.49      0.59       558\n",
      "           3       0.77      0.76      0.76      1010\n",
      "           4       0.81      0.80      0.81       928\n",
      "\n",
      "    accuracy                           0.76      5268\n",
      "   macro avg       0.76      0.73      0.74      5268\n",
      "weighted avg       0.76      0.76      0.76      5268\n",
      "\n"
     ]
    },
    {
     "data": {
      "image/png": "[encoded data removed]",
      "text/plain": [
       "<Figure size 864x576 with 2 Axes>"
      ]
     },
     "metadata": {
      "needs_background": "light"
     },
     "output_type": "display_data"
    }
   ],
   "source": [
    "# Multinomial Naive Bayes with GridSearchCV\n",
    "\n",
    "mnb = MultinomialNB()\n",
    "\n",
    "mnb_params = {  \n",
    "'alpha': (1, 0.1, 0.01, 0.001, 0.0001)  \n",
    "#Laplace smoothing is a smoothing technique that helps \n",
    "#tackle the problem of zero probability in the Naïve Bayes machine learning algorithm. \n",
    "#Using higher alpha values will push the likelihood towards a value of 0.5, i.e., \n",
    "#the probability of a word equal to 0.5 for both the positive and negative reviews\n",
    "}\n",
    "\n",
    "# create gridsearch object\n",
    "grid_search_mnb = grid_search(mnb, folds, mnb_params, scoring=None)\n",
    "\n",
    "# fit model\n",
    "grid_search_mnb.fit(X_train, y_train)\n",
    "\n",
    "# print best hyperparameters\n",
    "print_best_score_params(grid_search_mnb)\n",
    "\n",
    "# Random Forest Classification Report\n",
    "metric5=[]\n",
    "display_classification_report(grid_search_mnb,metric5)"
   ]
  },
  {
   "cell_type": "markdown",
   "id": "be6af135",
   "metadata": {
    "id": "be6af135"
   },
   "source": [
    "### Logistic Regression with GridSearchCV"
   ]
  },
  {
   "cell_type": "code",
   "execution_count": 154,
   "id": "c83c7f0a",
   "metadata": {
    "colab": {
     "base_uri": "https://localhost:8080/",
     "height": 1000
    },
    "executionInfo": {
     "elapsed": 284280,
     "status": "ok",
     "timestamp": 1674535678291,
     "user": {
      "displayName": "GAURAV SINHA",
      "userId": "13858423673435577443"
     },
     "user_tz": -330
    },
    "id": "c83c7f0a",
    "outputId": "9e7f9f2f-dec9-41f2-c8b0-79fd456c3e2f"
   },
   "outputs": [
    {
     "name": "stdout",
     "output_type": "stream",
     "text": [
      "Fitting 5 folds for each of 18 candidates, totalling 90 fits\n",
      "Best Score:  0.9243230190734385\n",
      "Best Hyperparameters:  {'C': 1, 'penalty': 'l1', 'solver': 'saga'}\n",
      "ROC AUC Score Train: 0.99\n",
      "ROC AUC Score Test: 0.99\n",
      "Train Accuracy : 0.93\n",
      "Test Accuracy : 0.93\n",
      "Classification Report for Train:\n",
      "               precision    recall  f1-score   support\n",
      "\n",
      "           0       0.93      0.95      0.94      4362\n",
      "           1       0.93      0.95      0.94      3955\n",
      "           2       0.94      0.92      0.93      1672\n",
      "           3       0.93      0.92      0.92      3031\n",
      "           4       0.95      0.93      0.94      2784\n",
      "\n",
      "    accuracy                           0.93     15804\n",
      "   macro avg       0.94      0.93      0.93     15804\n",
      "weighted avg       0.93      0.93      0.93     15804\n",
      "\n",
      "Classification Report for Test:\n",
      "               precision    recall  f1-score   support\n",
      "\n",
      "           0       0.92      0.94      0.93      1454\n",
      "           1       0.94      0.94      0.94      1318\n",
      "           2       0.94      0.91      0.93       558\n",
      "           3       0.93      0.93      0.93      1010\n",
      "           4       0.94      0.93      0.93       928\n",
      "\n",
      "    accuracy                           0.93      5268\n",
      "   macro avg       0.93      0.93      0.93      5268\n",
      "weighted avg       0.93      0.93      0.93      5268\n",
      "\n"
     ]
    },
    {
     "data": {
      "image/png": "[encoded data removed]",
      "text/plain": [
       "<Figure size 864x576 with 2 Axes>"
      ]
     },
     "metadata": {
      "needs_background": "light"
     },
     "output_type": "display_data"
    }
   ],
   "source": [
    "# Logistic Regression with GridSearchCV\n",
    "\n",
    "# logistic regression\n",
    "log_reg = LogisticRegression()\n",
    "\n",
    "# hyperparameter for Logistic Regression\n",
    "log_params = {'C': [0.01, 1, 10], \n",
    "          'penalty': ['l1', 'l2'],\n",
    "          'solver': ['liblinear','newton-cg','saga']\n",
    "         }\n",
    "\n",
    "# create gridsearch object\n",
    "grid_search_log = grid_search(log_reg, folds, log_params, scoring=None)\n",
    "\n",
    "# fit model\n",
    "grid_search_log.fit(X_train, y_train)\n",
    "\n",
    "# print best hyperparameters\n",
    "print_best_score_params(grid_search_log)\n",
    "\n",
    "# Random Forest Classification Report\n",
    "metric6=[]\n",
    "display_classification_report(grid_search_log,metric6)"
   ]
  },
  {
   "cell_type": "markdown",
   "id": "3615ecd3",
   "metadata": {
    "id": "3615ecd3"
   },
   "source": [
    "### Decision Tree Classification with GridSearchCV"
   ]
  },
  {
   "cell_type": "code",
   "execution_count": 155,
   "id": "81ad351f",
   "metadata": {
    "colab": {
     "base_uri": "https://localhost:8080/",
     "height": 1000
    },
    "executionInfo": {
     "elapsed": 217452,
     "status": "ok",
     "timestamp": 1674535906377,
     "user": {
      "displayName": "GAURAV SINHA",
      "userId": "13858423673435577443"
     },
     "user_tz": -330
    },
    "id": "81ad351f",
    "outputId": "85ab40ff-b412-42ec-e9b6-79501a722985"
   },
   "outputs": [
    {
     "name": "stdout",
     "output_type": "stream",
     "text": [
      "Fitting 5 folds for each of 16 candidates, totalling 80 fits\n",
      "Best Score:  0.9394203106219168\n",
      "Best Hyperparameters:  {'max_depth': 20, 'min_samples_leaf': 30}\n",
      "ROC AUC Score Train: 0.97\n",
      "ROC AUC Score Test: 0.94\n",
      "Train Accuracy : 0.83\n",
      "Test Accuracy : 0.79\n",
      "Classification Report for Train:\n",
      "               precision    recall  f1-score   support\n",
      "\n",
      "           0       0.81      0.85      0.83      4362\n",
      "           1       0.84      0.87      0.85      3955\n",
      "           2       0.83      0.79      0.81      1672\n",
      "           3       0.80      0.78      0.79      3031\n",
      "           4       0.86      0.81      0.84      2784\n",
      "\n",
      "    accuracy                           0.83     15804\n",
      "   macro avg       0.83      0.82      0.82     15804\n",
      "weighted avg       0.83      0.83      0.83     15804\n",
      "\n",
      "Classification Report for Test:\n",
      "               precision    recall  f1-score   support\n",
      "\n",
      "           0       0.76      0.83      0.79      1454\n",
      "           1       0.80      0.84      0.82      1318\n",
      "           2       0.79      0.72      0.76       558\n",
      "           3       0.75      0.72      0.74      1010\n",
      "           4       0.88      0.77      0.82       928\n",
      "\n",
      "    accuracy                           0.79      5268\n",
      "   macro avg       0.80      0.78      0.78      5268\n",
      "weighted avg       0.79      0.79      0.79      5268\n",
      "\n"
     ]
    },
    {
     "data": {
      "image/png": "[encoded data removed]",
      "text/plain": [
       "<Figure size 864x576 with 2 Axes>"
      ]
     },
     "metadata": {
      "needs_background": "light"
     },
     "output_type": "display_data"
    }
   ],
   "source": [
    "# Decision Tree Classification wuth GridSearchCV\n",
    "\n",
    "dtc = DecisionTreeClassifier(random_state=40)\n",
    "\n",
    "dtc_params = {\n",
    "    'max_depth': [5,10,20,30],\n",
    "    'min_samples_leaf': [5,10,20,30]\n",
    "}\n",
    "\n",
    "# create gridsearch object\n",
    "grid_search_dtc = grid_search(dtc, folds, dtc_params, scoring='roc_auc_ovr')\n",
    "\n",
    "# fit model\n",
    "grid_search_dtc.fit(X_train, y_train)\n",
    "\n",
    "# print best hyperparameters\n",
    "print_best_score_params(grid_search_dtc)\n",
    "\n",
    "# Random Forest Classification Report\n",
    "metric7=[]\n",
    "display_classification_report(grid_search_dtc,metric7)"
   ]
  },
  {
   "cell_type": "markdown",
   "id": "c684843f",
   "metadata": {
    "id": "c684843f"
   },
   "source": [
    "### Random Forest Classifier with GridSearchCV"
   ]
  },
  {
   "cell_type": "code",
   "execution_count": 156,
   "id": "34791c33",
   "metadata": {
    "colab": {
     "base_uri": "https://localhost:8080/",
     "height": 1000
    },
    "executionInfo": {
     "elapsed": 6708380,
     "status": "ok",
     "timestamp": 1674542623921,
     "user": {
      "displayName": "GAURAV SINHA",
      "userId": "13858423673435577443"
     },
     "user_tz": -330
    },
    "id": "34791c33",
    "outputId": "9d22b2a0-b9d8-4564-901e-79087be25434"
   },
   "outputs": [
    {
     "name": "stdout",
     "output_type": "stream",
     "text": [
      "Fitting 5 folds for each of 80 candidates, totalling 400 fits\n",
      "OOB SCORE : 0.7781574284991142\n",
      "Best Score:  0.9699708781411722\n",
      "Best Hyperparameters:  {'max_depth': 40, 'min_samples_leaf': 5, 'n_estimators': 700}\n",
      "ROC AUC Score Train: 0.99\n",
      "ROC AUC Score Test: 0.97\n",
      "Train Accuracy : 0.89\n",
      "Test Accuracy : 0.79\n",
      "Classification Report for Train:\n",
      "               precision    recall  f1-score   support\n",
      "\n",
      "           0       0.86      0.96      0.91      4362\n",
      "           1       0.84      0.96      0.90      3955\n",
      "           2       1.00      0.57      0.72      1672\n",
      "           3       0.95      0.89      0.92      3031\n",
      "           4       0.92      0.88      0.90      2784\n",
      "\n",
      "    accuracy                           0.89     15804\n",
      "   macro avg       0.91      0.85      0.87     15804\n",
      "weighted avg       0.90      0.89      0.89     15804\n",
      "\n",
      "Classification Report for Test:\n",
      "               precision    recall  f1-score   support\n",
      "\n",
      "           0       0.74      0.92      0.82      1454\n",
      "           1       0.74      0.88      0.81      1318\n",
      "           2       0.96      0.28      0.43       558\n",
      "           3       0.86      0.74      0.79      1010\n",
      "           4       0.87      0.79      0.83       928\n",
      "\n",
      "    accuracy                           0.79      5268\n",
      "   macro avg       0.83      0.72      0.74      5268\n",
      "weighted avg       0.81      0.79      0.77      5268\n",
      "\n"
     ]
    },
    {
     "data": {
      "image/png": "[encoded data removed]",
      "text/plain": [
       "<Figure size 864x576 with 2 Axes>"
      ]
     },
     "metadata": {
      "needs_background": "light"
     },
     "output_type": "display_data"
    }
   ],
   "source": [
    "# Random Forest Classifier with GridSearchCV\n",
    "\n",
    "rfc = RandomForestClassifier(random_state=40, n_jobs = -1,oob_score=True)\n",
    "\n",
    "# hyperparameters for Random Forest\n",
    "rfc_params = {'max_depth': [10,20,30,40],\n",
    "          'min_samples_leaf': [5,10,15,20,30],\n",
    "          'n_estimators': [100,200,500,700]\n",
    "        }\n",
    "\n",
    "# create gridsearch object\n",
    "grid_search_rfc = grid_search(rfc, folds, rfc_params, scoring='roc_auc_ovr')\n",
    "\n",
    "# fit model\n",
    "grid_search_rfc.fit(X_train, y_train)\n",
    "\n",
    "# oob score\n",
    "print('OOB SCORE :',grid_search_rfc.best_estimator_.oob_score_)\n",
    "\n",
    "# print best hyperparameters\n",
    "print_best_score_params(grid_search_rfc)\n",
    "\n",
    "# Random Forest Classification Report\n",
    "metric8=[]\n",
    "display_classification_report(grid_search_rfc,metric8)"
   ]
  },
  {
   "cell_type": "markdown",
   "id": "43e3b6fe",
   "metadata": {
    "id": "43e3b6fe"
   },
   "source": [
    "## Model inference\n",
    "### Consolidated view of all the models and their metrics"
   ]
  },
  {
   "cell_type": "code",
   "execution_count": 157,
   "id": "b963d7ee",
   "metadata": {
    "colab": {
     "base_uri": "https://localhost:8080/",
     "height": 476
    },
    "executionInfo": {
     "elapsed": 858,
     "status": "ok",
     "timestamp": 1674542796835,
     "user": {
      "displayName": "GAURAV SINHA",
      "userId": "13858423673435577443"
     },
     "user_tz": -330
    },
    "id": "b963d7ee",
    "outputId": "4ef441ca-34c9-4352-8f30-b2f3e750b017"
   },
   "outputs": [
    {
     "data": {
      "text/html": [
       "\n",
       "  <div id=\"df-1f4547bc-6458-4e2f-b960-443e9bb07c70\">\n",
       "    <div class=\"colab-df-container\">\n",
       "      <div>\n",
       "<style scoped>\n",
       "    .dataframe tbody tr th:only-of-type {\n",
       "        vertical-align: middle;\n",
       "    }\n",
       "\n",
       "    .dataframe tbody tr th {\n",
       "        vertical-align: top;\n",
       "    }\n",
       "\n",
       "    .dataframe thead th {\n",
       "        text-align: right;\n",
       "    }\n",
       "</style>\n",
       "<table border=\"1\" class=\"dataframe\">\n",
       "  <thead>\n",
       "    <tr style=\"text-align: right;\">\n",
       "      <th></th>\n",
       "      <th>Metric</th>\n",
       "      <th>Multinomial Naive Bayes</th>\n",
       "      <th>Logistic Regression</th>\n",
       "      <th>Decision Tree Classifier</th>\n",
       "      <th>Random Forest Classifier</th>\n",
       "      <th>Multinomial Naive Bayes with GridSearchCV</th>\n",
       "      <th>Logistic Regression with GridSearchCV</th>\n",
       "      <th>Decision Tree Classifier with GridSearchCV</th>\n",
       "      <th>Random Forest Classifier with GridSearchCV</th>\n",
       "    </tr>\n",
       "  </thead>\n",
       "  <tbody>\n",
       "    <tr>\n",
       "      <th>0</th>\n",
       "      <td>ROC_AUC Score(Train)</td>\n",
       "      <td>0.95</td>\n",
       "      <td>1.00</td>\n",
       "      <td>1.00</td>\n",
       "      <td>1.00</td>\n",
       "      <td>0.99</td>\n",
       "      <td>0.99</td>\n",
       "      <td>0.97</td>\n",
       "      <td>0.99</td>\n",
       "    </tr>\n",
       "    <tr>\n",
       "      <th>1</th>\n",
       "      <td>ROC_AUC Score(Test)</td>\n",
       "      <td>0.93</td>\n",
       "      <td>0.99</td>\n",
       "      <td>0.86</td>\n",
       "      <td>0.98</td>\n",
       "      <td>0.94</td>\n",
       "      <td>0.99</td>\n",
       "      <td>0.94</td>\n",
       "      <td>0.97</td>\n",
       "    </tr>\n",
       "    <tr>\n",
       "      <th>2</th>\n",
       "      <td>Accuracy(Train)</td>\n",
       "      <td>0.68</td>\n",
       "      <td>0.94</td>\n",
       "      <td>1.00</td>\n",
       "      <td>1.00</td>\n",
       "      <td>0.89</td>\n",
       "      <td>0.93</td>\n",
       "      <td>0.83</td>\n",
       "      <td>0.89</td>\n",
       "    </tr>\n",
       "    <tr>\n",
       "      <th>3</th>\n",
       "      <td>Accuracy(Test)</td>\n",
       "      <td>0.64</td>\n",
       "      <td>0.90</td>\n",
       "      <td>0.77</td>\n",
       "      <td>0.82</td>\n",
       "      <td>0.76</td>\n",
       "      <td>0.93</td>\n",
       "      <td>0.79</td>\n",
       "      <td>0.79</td>\n",
       "    </tr>\n",
       "    <tr>\n",
       "      <th>4</th>\n",
       "      <td>Precision(Train)</td>\n",
       "      <td>0.76</td>\n",
       "      <td>0.94</td>\n",
       "      <td>1.00</td>\n",
       "      <td>1.00</td>\n",
       "      <td>0.89</td>\n",
       "      <td>0.93</td>\n",
       "      <td>0.83</td>\n",
       "      <td>0.90</td>\n",
       "    </tr>\n",
       "    <tr>\n",
       "      <th>5</th>\n",
       "      <td>Precision(Test)</td>\n",
       "      <td>0.73</td>\n",
       "      <td>0.90</td>\n",
       "      <td>0.77</td>\n",
       "      <td>0.83</td>\n",
       "      <td>0.76</td>\n",
       "      <td>0.93</td>\n",
       "      <td>0.79</td>\n",
       "      <td>0.81</td>\n",
       "    </tr>\n",
       "    <tr>\n",
       "      <th>6</th>\n",
       "      <td>Recall(Train)</td>\n",
       "      <td>0.68</td>\n",
       "      <td>0.94</td>\n",
       "      <td>1.00</td>\n",
       "      <td>1.00</td>\n",
       "      <td>0.89</td>\n",
       "      <td>0.93</td>\n",
       "      <td>0.83</td>\n",
       "      <td>0.89</td>\n",
       "    </tr>\n",
       "    <tr>\n",
       "      <th>7</th>\n",
       "      <td>Recall(Test)</td>\n",
       "      <td>0.64</td>\n",
       "      <td>0.90</td>\n",
       "      <td>0.77</td>\n",
       "      <td>0.82</td>\n",
       "      <td>0.76</td>\n",
       "      <td>0.93</td>\n",
       "      <td>0.79</td>\n",
       "      <td>0.79</td>\n",
       "    </tr>\n",
       "    <tr>\n",
       "      <th>8</th>\n",
       "      <td>F1-Score(Train)</td>\n",
       "      <td>0.64</td>\n",
       "      <td>0.94</td>\n",
       "      <td>1.00</td>\n",
       "      <td>1.00</td>\n",
       "      <td>0.89</td>\n",
       "      <td>0.93</td>\n",
       "      <td>0.83</td>\n",
       "      <td>0.89</td>\n",
       "    </tr>\n",
       "    <tr>\n",
       "      <th>9</th>\n",
       "      <td>F1-Score(Test)</td>\n",
       "      <td>0.60</td>\n",
       "      <td>0.90</td>\n",
       "      <td>0.77</td>\n",
       "      <td>0.81</td>\n",
       "      <td>0.76</td>\n",
       "      <td>0.93</td>\n",
       "      <td>0.79</td>\n",
       "      <td>0.77</td>\n",
       "    </tr>\n",
       "  </tbody>\n",
       "</table>\n",
       "</div>\n",
       "      <button class=\"colab-df-convert\" onclick=\"convertToInteractive('df-1f4547bc-6458-4e2f-b960-443e9bb07c70')\"\n",
       "              title=\"Convert this dataframe to an interactive table.\"\n",
       "              style=\"display:none;\">\n",
       "        \n",
       "  <svg xmlns=\"http://www.w3.org/2000/svg\" height=\"24px\"viewBox=\"0 0 24 24\"\n",
       "       width=\"24px\">\n",
       "    <path d=\"M0 0h24v24H0V0z\" fill=\"none\"/>\n",
       "    <path d=\"M18.56 5.44l.94 2.06.94-2.06 2.06-.94-2.06-.94-.94-2.06-.94 2.06-2.06.94zm-11 1L8.5 8.5l.94-2.06 2.06-.94-2.06-.94L8.5 2.5l-.94 2.06-2.06.94zm10 10l.94 2.06.94-2.06 2.06-.94-2.06-.94-.94-2.06-.94 2.06-2.06.94z\"/><path d=\"M17.41 7.96l-1.37-1.37c-.4-.4-.92-.59-1.43-.59-.52 0-1.04.2-1.43.59L10.3 9.45l-7.72 7.72c-.78.78-.78 2.05 0 2.83L4 21.41c.39.39.9.59 1.41.59.51 0 1.02-.2 1.41-.59l7.78-7.78 2.81-2.81c.8-.78.8-2.07 0-2.86zM5.41 20L4 18.59l7.72-7.72 1.47 1.35L5.41 20z\"/>\n",
       "  </svg>\n",
       "      </button>\n",
       "      \n",
       "  <style>\n",
       "    .colab-df-container {\n",
       "      display:flex;\n",
       "      flex-wrap:wrap;\n",
       "      gap: 12px;\n",
       "    }\n",
       "\n",
       "    .colab-df-convert {\n",
       "      background-color: #E8F0FE;\n",
       "      border: none;\n",
       "      border-radius: 50%;\n",
       "      cursor: pointer;\n",
       "      display: none;\n",
       "      fill: #1967D2;\n",
       "      height: 32px;\n",
       "      padding: 0 0 0 0;\n",
       "      width: 32px;\n",
       "    }\n",
       "\n",
       "    .colab-df-convert:hover {\n",
       "      background-color: #E2EBFA;\n",
       "      box-shadow: 0px 1px 2px rgba(60, 64, 67, 0.3), 0px 1px 3px 1px rgba(60, 64, 67, 0.15);\n",
       "      fill: #174EA6;\n",
       "    }\n",
       "\n",
       "    [theme=dark] .colab-df-convert {\n",
       "      background-color: #3B4455;\n",
       "      fill: #D2E3FC;\n",
       "    }\n",
       "\n",
       "    [theme=dark] .colab-df-convert:hover {\n",
       "      background-color: #434B5C;\n",
       "      box-shadow: 0px 1px 3px 1px rgba(0, 0, 0, 0.15);\n",
       "      filter: drop-shadow(0px 1px 2px rgba(0, 0, 0, 0.3));\n",
       "      fill: #FFFFFF;\n",
       "    }\n",
       "  </style>\n",
       "\n",
       "      <script>\n",
       "        const buttonEl =\n",
       "          document.querySelector('#df-1f4547bc-6458-4e2f-b960-443e9bb07c70 button.colab-df-convert');\n",
       "        buttonEl.style.display =\n",
       "          google.colab.kernel.accessAllowed ? 'block' : 'none';\n",
       "\n",
       "        async function convertToInteractive(key) {\n",
       "          const element = document.querySelector('#df-1f4547bc-6458-4e2f-b960-443e9bb07c70');\n",
       "          const dataTable =\n",
       "            await google.colab.kernel.invokeFunction('convertToInteractive',\n",
       "                                                     [key], {});\n",
       "          if (!dataTable) return;\n",
       "\n",
       "          const docLinkHtml = 'Like what you see? Visit the ' +\n",
       "            '<a target=\"_blank\" href=https://colab.research.google.com/notebooks/data_table.ipynb>data table notebook</a>'\n",
       "            + ' to learn more about interactive tables.';\n",
       "          element.innerHTML = '';\n",
       "          dataTable['output_type'] = 'display_data';\n",
       "          await google.colab.output.renderOutput(dataTable, element);\n",
       "          const docLink = document.createElement('div');\n",
       "          docLink.innerHTML = docLinkHtml;\n",
       "          element.appendChild(docLink);\n",
       "        }\n",
       "      </script>\n",
       "    </div>\n",
       "  </div>\n",
       "  "
      ],
      "text/plain": [
       "                 Metric  Multinomial Naive Bayes  Logistic Regression  \\\n",
       "0  ROC_AUC Score(Train)  0.95                     1.00                  \n",
       "1  ROC_AUC Score(Test)   0.93                     0.99                  \n",
       "2  Accuracy(Train)       0.68                     0.94                  \n",
       "3  Accuracy(Test)        0.64                     0.90                  \n",
       "4  Precision(Train)      0.76                     0.94                  \n",
       "5  Precision(Test)       0.73                     0.90                  \n",
       "6  Recall(Train)         0.68                     0.94                  \n",
       "7  Recall(Test)          0.64                     0.90                  \n",
       "8  F1-Score(Train)       0.64                     0.94                  \n",
       "9  F1-Score(Test)        0.60                     0.90                  \n",
       "\n",
       "   Decision Tree Classifier  Random Forest Classifier  \\\n",
       "0  1.00                      1.00                       \n",
       "1  0.86                      0.98                       \n",
       "2  1.00                      1.00                       \n",
       "3  0.77                      0.82                       \n",
       "4  1.00                      1.00                       \n",
       "5  0.77                      0.83                       \n",
       "6  1.00                      1.00                       \n",
       "7  0.77                      0.82                       \n",
       "8  1.00                      1.00                       \n",
       "9  0.77                      0.81                       \n",
       "\n",
       "   Multinomial Naive Bayes with GridSearchCV  \\\n",
       "0  0.99                                        \n",
       "1  0.94                                        \n",
       "2  0.89                                        \n",
       "3  0.76                                        \n",
       "4  0.89                                        \n",
       "5  0.76                                        \n",
       "6  0.89                                        \n",
       "7  0.76                                        \n",
       "8  0.89                                        \n",
       "9  0.76                                        \n",
       "\n",
       "   Logistic Regression with GridSearchCV  \\\n",
       "0  0.99                                    \n",
       "1  0.99                                    \n",
       "2  0.93                                    \n",
       "3  0.93                                    \n",
       "4  0.93                                    \n",
       "5  0.93                                    \n",
       "6  0.93                                    \n",
       "7  0.93                                    \n",
       "8  0.93                                    \n",
       "9  0.93                                    \n",
       "\n",
       "   Decision Tree Classifier with GridSearchCV  \\\n",
       "0  0.97                                         \n",
       "1  0.94                                         \n",
       "2  0.83                                         \n",
       "3  0.79                                         \n",
       "4  0.83                                         \n",
       "5  0.79                                         \n",
       "6  0.83                                         \n",
       "7  0.79                                         \n",
       "8  0.83                                         \n",
       "9  0.79                                         \n",
       "\n",
       "   Random Forest Classifier with GridSearchCV  \n",
       "0  0.99                                        \n",
       "1  0.97                                        \n",
       "2  0.89                                        \n",
       "3  0.79                                        \n",
       "4  0.90                                        \n",
       "5  0.81                                        \n",
       "6  0.89                                        \n",
       "7  0.79                                        \n",
       "8  0.89                                        \n",
       "9  0.77                                        "
      ]
     },
     "execution_count": 157,
     "metadata": {},
     "output_type": "execute_result"
    }
   ],
   "source": [
    "table = {'Metric': ['ROC_AUC Score(Train)','ROC_AUC Score(Test)',\n",
    "                    'Accuracy(Train)','Accuracy(Test)',\n",
    "                    'Precision(Train)','Precision(Test)',\n",
    "                    'Recall(Train)','Recall(Test)',\n",
    "                    'F1-Score(Train)','F1-Score(Test)'\n",
    "                   ], \n",
    "        'Multinomial Naive Bayes': metric1\n",
    "        }\n",
    "\n",
    "mnb_metric = pd.DataFrame(table ,columns = ['Metric', 'Multinomial Naive Bayes'] )\n",
    "log_metric = pd.Series(metric2, name = 'Logistic Regression')\n",
    "dtc_metric = pd.Series(metric3, name = 'Decision Tree Classifier')\n",
    "rfc_metric = pd.Series(metric4, name = 'Random Forest Classifier')\n",
    "grid_mnb_metric = pd.Series(metric5, name = 'Multinomial Naive Bayes with GridSearchCV')\n",
    "grid_log_metric = pd.Series(metric6, name = 'Logistic Regression with GridSearchCV')\n",
    "grid_dtc_metric = pd.Series(metric7, name = 'Decision Tree Classifier with GridSearchCV')\n",
    "grid_rfc_metric = pd.Series(metric8, name = 'Random Forest Classifier with GridSearchCV')\n",
    "\n",
    "final_metric = pd.concat([mnb_metric,log_metric,dtc_metric,rfc_metric,\n",
    "                         grid_mnb_metric,grid_log_metric,grid_dtc_metric,grid_rfc_metric], axis = 1)\n",
    "\n",
    "final_metric"
   ]
  },
  {
   "cell_type": "markdown",
   "id": "54ce35f4",
   "metadata": {
    "id": "54ce35f4"
   },
   "source": [
    "## Complaint Prediction using the best model above\n",
    "## The best model looks to be Logistic Regression with GridSearchCV"
   ]
  },
  {
   "cell_type": "code",
   "execution_count": 158,
   "id": "00f6c248",
   "metadata": {
    "executionInfo": {
     "elapsed": 1849,
     "status": "ok",
     "timestamp": 1674542806398,
     "user": {
      "displayName": "GAURAV SINHA",
      "userId": "13858423673435577443"
     },
     "user_tz": -330
    },
    "id": "00f6c248"
   },
   "outputs": [],
   "source": [
    "# raw complaint text\n",
    "test_complaint= 'I tried to make a transaction at a supermarket retail store, using my chase \\\n",
    "debit/atm card, but the transaction was declined. I am still able to withdraw money out of an \\\n",
    "ATM machine using the same debit card. Please resolve this issue.'"
   ]
  },
  {
   "cell_type": "code",
   "execution_count": null,
   "id": "b7fdf22e",
   "metadata": {
    "id": "b7fdf22e"
   },
   "outputs": [],
   "source": [
    "# clean the raw text\n",
    "#test_complaint = clean_text(test_complaint)\n",
    "#test_complaint = lemmatizer(test_complaint)\n",
    "#test_complaint = extract_pos_tags(test_complaint)\n",
    "#test_complaint"
   ]
  },
  {
   "cell_type": "code",
   "execution_count": 159,
   "id": "6086c414",
   "metadata": {
    "executionInfo": {
     "elapsed": 6,
     "status": "ok",
     "timestamp": 1674542809545,
     "user": {
      "displayName": "GAURAV SINHA",
      "userId": "13858423673435577443"
     },
     "user_tz": -330
    },
    "id": "6086c414"
   },
   "outputs": [],
   "source": [
    "# vectorize and tf-idf tranform\n",
    "test = count_vect.transform([test_complaint])\n",
    "test_tfidf = tfidf_transformer.transform(test)"
   ]
  },
  {
   "cell_type": "code",
   "execution_count": 160,
   "id": "7200e3cf",
   "metadata": {
    "colab": {
     "base_uri": "https://localhost:8080/"
    },
    "executionInfo": {
     "elapsed": 1239,
     "status": "ok",
     "timestamp": 1674542812563,
     "user": {
      "displayName": "GAURAV SINHA",
      "userId": "13858423673435577443"
     },
     "user_tz": -330
    },
    "id": "7200e3cf",
    "outputId": "4724297f-2199-4423-9d5b-4c2324f5b1b5"
   },
   "outputs": [
    {
     "data": {
      "text/plain": [
       "array([0])"
      ]
     },
     "execution_count": 160,
     "metadata": {},
     "output_type": "execute_result"
    }
   ],
   "source": [
    "# predict\n",
    "prediction=grid_search_log.predict(test_tfidf)\n",
    "prediction"
   ]
  },
  {
   "cell_type": "code",
   "execution_count": 161,
   "id": "b91852c4",
   "metadata": {
    "colab": {
     "base_uri": "https://localhost:8080/",
     "height": 36
    },
    "executionInfo": {
     "elapsed": 14,
     "status": "ok",
     "timestamp": 1674542817394,
     "user": {
      "displayName": "GAURAV SINHA",
      "userId": "13858423673435577443"
     },
     "user_tz": -330
    },
    "id": "b91852c4",
    "outputId": "cd31e698-85fc-4b0e-a725-20b3b866c0cb"
   },
   "outputs": [
    {
     "data": {
      "application/vnd.google.colaboratory.intrinsic+json": {
       "type": "string"
      },
      "text/plain": [
       "'Bank Account services'"
      ]
     },
     "execution_count": 161,
     "metadata": {},
     "output_type": "execute_result"
    }
   ],
   "source": [
    "topic_mapping[prediction[0]]"
   ]
  },
  {
   "cell_type": "code",
   "execution_count": null,
   "id": "ea0b1d62",
   "metadata": {
    "id": "ea0b1d62"
   },
   "outputs": [],
   "source": []
  },
  {
   "cell_type": "code",
   "execution_count": null,
   "id": "d7447cff",
   "metadata": {
    "id": "d7447cff"
   },
   "outputs": [],
   "source": []
  }
 ],
 "metadata": {
  "accelerator": "GPU",
  "colab": {
   "provenance": []
  },
  "gpuClass": "standard",
  "kernelspec": {
   "display_name": "Python 3 (ipykernel)",
   "language": "python",
   "name": "python3"
  },
  "language_info": {
   "codemirror_mode": {
    "name": "ipython",
    "version": 3
   },
   "file_extension": ".py",
   "mimetype": "text/x-python",
   "name": "python",
   "nbconvert_exporter": "python",
   "pygments_lexer": "ipython3",
   "version": "3.9.13"
  }
 },
 "nbformat": 4,
 "nbformat_minor": 5
}
